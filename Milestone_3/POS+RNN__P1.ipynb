{
  "cells": [
    {
      "cell_type": "code",
      "execution_count": 1,
      "metadata": {
        "id": "XsGEPOCgl3It"
      },
      "outputs": [],
      "source": [
        "import pandas as pd\n",
        "import numpy as np\n",
        "from sklearn.model_selection import train_test_split"
      ]
    },
    {
      "cell_type": "markdown",
      "metadata": {
        "id": "iinACgVCl7zX"
      },
      "source": [
        "#Load Dataset"
      ]
    },
    {
      "cell_type": "code",
      "execution_count": 2,
      "metadata": {
        "id": "9gOsIi_ml5sl"
      },
      "outputs": [],
      "source": [
        "ctrl = pd.read_csv('new_ctrl.csv').astype(str)\n",
        "gpt = pd.read_csv('new_gpt.csv').astype(str)\n",
        "gpt2 = pd.read_csv('new_gpt2.csv').astype(str)\n",
        "gpt3 = pd.read_csv('new_gpt3.csv').astype(str)\n",
        "instructgpt = pd.read_csv('new_instructgpt.csv').astype(str)\n",
        "grover = pd.read_csv('new_grover.csv').astype(str)\n",
        "xlm = pd.read_csv('new_xlm.csv').astype(str)\n",
        "xlnet = pd.read_csv('new_xlnet.csv').astype(str)\n",
        "\n",
        "pplm = pd.read_csv('new_pplm.csv').astype(str)\n",
        "human = pd.read_csv('new_human.csv').astype(str)\n",
        "fair = pd.read_csv('new_fair.csv').astype(str)"
      ]
    },
    {
      "cell_type": "code",
      "execution_count": 3,
      "metadata": {
        "colab": {
          "base_uri": "https://localhost:8080/"
        },
        "id": "x1zYqxzjmAiV",
        "outputId": "3d516a00-d6fe-4e29-cefb-0c7f22572949"
      },
      "outputs": [
        {
          "output_type": "execute_result",
          "data": {
            "text/plain": [
              "Index(['Unnamed: 0', 'Generation', 'label'], dtype='object')"
            ]
          },
          "metadata": {},
          "execution_count": 3
        }
      ],
      "source": [
        "ctrl.columns"
      ]
    },
    {
      "cell_type": "markdown",
      "metadata": {
        "id": "DHnVLDhAmc-R"
      },
      "source": [
        "#Data Preparation"
      ]
    },
    {
      "cell_type": "code",
      "execution_count": 4,
      "metadata": {
        "id": "kPbqqUVNmfmK"
      },
      "outputs": [],
      "source": [
        "random_binary_t2 = pd.concat([human.sample(1066), ctrl.sample(1066), gpt.sample(1066), gpt2.sample(1066), gpt3.sample(1066), instructgpt.sample(1066), grover.sample(1066), \n",
        "                              xlm.sample(1066), xlnet.sample(1066), pplm.sample(1066), fair.sample(1066), ctrl.sample(1066), \n",
        "                              gpt.sample(1066), gpt2.sample(1066), gpt3.sample(1066), instructgpt.sample(1066), grover.sample(1066), xlm.sample(1066), xlnet.sample(1066), \n",
        "                              pplm.sample(1066), fair.sample(1066), human.sample(1066), ctrl.sample(1066), human.sample(1066), \n",
        "                              gpt2.sample(1066), gpt3.sample(1066), instructgpt.sample(1066), gpt.sample(1066), grover.sample(1066), xlm.sample(1066), xlnet.sample(1066), \n",
        "                              pplm.sample(1066), fair.sample(1066), human.sample(1066), ctrl.sample(1066), gpt.sample(1066), \n",
        "                              gpt2.sample(1066), gpt3.sample(1066), instructgpt.sample(1066), grover.sample(1066), xlm.sample(1066), xlnet.sample(1066), pplm.sample(1066), \n",
        "                              fair.sample(1066), human.sample(1066), ctrl.sample(1066), gpt.sample(1066), gpt2.sample(1066), gpt3.sample(1066), instructgpt.sample(1066), \n",
        "                              grover.sample(1066), xlm.sample(1066), xlnet.sample(1066), pplm.sample(1066), fair.sample(1066), \n",
        "                              human.sample(1066), ctrl.sample(1066), gpt.sample(1066), gpt2.sample(1066), gpt3.sample(1066), instructgpt.sample(1066), grover.sample(1066), \n",
        "                              xlm.sample(1066), xlnet.sample(1066), pplm.sample(1066), fair.sample(1066), human.sample(1066), \n",
        "                              ctrl.sample(1066), gpt.sample(1066), gpt2.sample(1066), gpt3.sample(1066), instructgpt.sample(1066), grover.sample(1066), xlm.sample(1066), xlnet.sample(1066), \n",
        "                              pplm.sample(1066), fair.sample(1066), human.sample(1066), ctrl.sample(1066), \n",
        "                          gpt.sample(1066), gpt2.sample(1066), gpt3.sample(1066), instructgpt.sample(1066), grover.sample(1066), xlm.sample(1066), xlnet.sample(1066), pplm.sample(1066), \n",
        "                              fair.sample(1066), human.sample(1066), ctrl.sample(1066), gpt.sample(1066), gpt2.sample(1066), gpt3.sample(1066), instructgpt.sample(1066), \n",
        "                              grover.sample(1066), xlm.sample(1066), xlnet.sample(1066), pplm.sample(1066), fair.sample(1066), ctrl.sample(1066), gpt.sample(1066), gpt2.sample(1066), gpt3.sample(1066), instructgpt.sample(1066), grover.sample(1066), \n",
        "                              xlm.sample(1066), xlnet.sample(1066), pplm.sample(1066), fair.sample(1066), human.sample(1066), ctrl.sample(1066), gpt.sample(1066), gpt2.sample(1066), gpt3.sample(1066), instructgpt.sample(1066), grover.sample(1066), \n",
        "                              xlm.sample(1066), xlnet.sample(1066), pplm.sample(1066), fair.sample(1066), human.sample(1066)])"
      ]
    },
    {
      "cell_type": "code",
      "execution_count": 5,
      "metadata": {
        "id": "OBXKSI_smiVG"
      },
      "outputs": [],
      "source": [
        "random_binary_t1 = pd.concat([human,human, human, human, human, human, human, human, human, human, human, ctrl, ctrl, ctrl, ctrl, ctrl, ctrl,\n",
        "                             ctrl, ctrl, ctrl, ctrl, ctrl, gpt, gpt, gpt, gpt, gpt, gpt, gpt, gpt, gpt, gpt, gpt, gpt2, gpt2, gpt2, gpt2, gpt2, gpt2,\n",
        "                             gpt2, gpt2, gpt2, gpt2, gpt2, gpt3, gpt3, gpt3, gpt3, gpt3, gpt3, gpt3, gpt3, gpt3, gpt3, gpt3, instructgpt, instructgpt, instructgpt, instructgpt, instructgpt, instructgpt, instructgpt, instructgpt, instructgpt, instructgpt, instructgpt, grover, grover, grover, grover, grover, grover, grover, grover, grover, grover, grover, xlm, xlm, \n",
        "                             xlm, xlm, xlm, xlm, xlm, xlm, xlm, xlm, xlm, xlnet, xlnet, xlnet, xlnet, xlnet, xlnet, xlnet, xlnet, xlnet, xlnet, xlnet, \n",
        "                             pplm, pplm, pplm, pplm, pplm, pplm, pplm, pplm, pplm, pplm, pplm, fair, fair, fair, fair, fair, fair, fair, fair, fair, fair, fair])"
      ]
    },
    {
      "cell_type": "code",
      "execution_count": 6,
      "metadata": {
        "colab": {
          "base_uri": "https://localhost:8080/"
        },
        "id": "SvcGXOJ-ml0h",
        "outputId": "ac46e7b6-9bb2-4bb7-c397-5d3f0731676e"
      },
      "outputs": [
        {
          "output_type": "execute_result",
          "data": {
            "text/plain": [
              "True"
            ]
          },
          "metadata": {},
          "execution_count": 6
        }
      ],
      "source": [
        "len(random_binary_t1) == len(random_binary_t2)"
      ]
    },
    {
      "cell_type": "code",
      "execution_count": 7,
      "metadata": {
        "colab": {
          "base_uri": "https://localhost:8080/"
        },
        "id": "SVWZJLyAmnq9",
        "outputId": "dfe7a4f2-c428-4a55-99da-6de64cfe62ae"
      },
      "outputs": [
        {
          "output_type": "execute_result",
          "data": {
            "text/plain": [
              "128986"
            ]
          },
          "metadata": {},
          "execution_count": 7
        }
      ],
      "source": [
        "len(random_binary_t1)"
      ]
    },
    {
      "cell_type": "code",
      "execution_count": 8,
      "metadata": {
        "colab": {
          "base_uri": "https://localhost:8080/",
          "height": 206
        },
        "id": "9aZf8IWomqgO",
        "outputId": "3f808ade-6307-4e33-fa98-69ffe83f8076"
      },
      "outputs": [
        {
          "output_type": "execute_result",
          "data": {
            "text/plain": [
              "    Unnamed: 0                                         Generation  label\n",
              "65          65  How to Watch VR in your headset... headsets ar...  human\n",
              "68          68  See the sites of the D-Day invasion in 360Â° n...  human\n",
              "549        549  This Parkville girl knows the lasting effects ...  human\n",
              "418        418  Fish oil supplements linked to lower risk of h...  human\n",
              "295        295  Bitcoin has lost 30% of its value this week ne...  human"
            ],
            "text/html": [
              "\n",
              "  <div id=\"df-f02b6c86-545d-43f9-88dd-98b904d1a90a\">\n",
              "    <div class=\"colab-df-container\">\n",
              "      <div>\n",
              "<style scoped>\n",
              "    .dataframe tbody tr th:only-of-type {\n",
              "        vertical-align: middle;\n",
              "    }\n",
              "\n",
              "    .dataframe tbody tr th {\n",
              "        vertical-align: top;\n",
              "    }\n",
              "\n",
              "    .dataframe thead th {\n",
              "        text-align: right;\n",
              "    }\n",
              "</style>\n",
              "<table border=\"1\" class=\"dataframe\">\n",
              "  <thead>\n",
              "    <tr style=\"text-align: right;\">\n",
              "      <th></th>\n",
              "      <th>Unnamed: 0</th>\n",
              "      <th>Generation</th>\n",
              "      <th>label</th>\n",
              "    </tr>\n",
              "  </thead>\n",
              "  <tbody>\n",
              "    <tr>\n",
              "      <th>65</th>\n",
              "      <td>65</td>\n",
              "      <td>How to Watch VR in your headset... headsets ar...</td>\n",
              "      <td>human</td>\n",
              "    </tr>\n",
              "    <tr>\n",
              "      <th>68</th>\n",
              "      <td>68</td>\n",
              "      <td>See the sites of the D-Day invasion in 360Â° n...</td>\n",
              "      <td>human</td>\n",
              "    </tr>\n",
              "    <tr>\n",
              "      <th>549</th>\n",
              "      <td>549</td>\n",
              "      <td>This Parkville girl knows the lasting effects ...</td>\n",
              "      <td>human</td>\n",
              "    </tr>\n",
              "    <tr>\n",
              "      <th>418</th>\n",
              "      <td>418</td>\n",
              "      <td>Fish oil supplements linked to lower risk of h...</td>\n",
              "      <td>human</td>\n",
              "    </tr>\n",
              "    <tr>\n",
              "      <th>295</th>\n",
              "      <td>295</td>\n",
              "      <td>Bitcoin has lost 30% of its value this week ne...</td>\n",
              "      <td>human</td>\n",
              "    </tr>\n",
              "  </tbody>\n",
              "</table>\n",
              "</div>\n",
              "      <button class=\"colab-df-convert\" onclick=\"convertToInteractive('df-f02b6c86-545d-43f9-88dd-98b904d1a90a')\"\n",
              "              title=\"Convert this dataframe to an interactive table.\"\n",
              "              style=\"display:none;\">\n",
              "        \n",
              "  <svg xmlns=\"http://www.w3.org/2000/svg\" height=\"24px\"viewBox=\"0 0 24 24\"\n",
              "       width=\"24px\">\n",
              "    <path d=\"M0 0h24v24H0V0z\" fill=\"none\"/>\n",
              "    <path d=\"M18.56 5.44l.94 2.06.94-2.06 2.06-.94-2.06-.94-.94-2.06-.94 2.06-2.06.94zm-11 1L8.5 8.5l.94-2.06 2.06-.94-2.06-.94L8.5 2.5l-.94 2.06-2.06.94zm10 10l.94 2.06.94-2.06 2.06-.94-2.06-.94-.94-2.06-.94 2.06-2.06.94z\"/><path d=\"M17.41 7.96l-1.37-1.37c-.4-.4-.92-.59-1.43-.59-.52 0-1.04.2-1.43.59L10.3 9.45l-7.72 7.72c-.78.78-.78 2.05 0 2.83L4 21.41c.39.39.9.59 1.41.59.51 0 1.02-.2 1.41-.59l7.78-7.78 2.81-2.81c.8-.78.8-2.07 0-2.86zM5.41 20L4 18.59l7.72-7.72 1.47 1.35L5.41 20z\"/>\n",
              "  </svg>\n",
              "      </button>\n",
              "      \n",
              "  <style>\n",
              "    .colab-df-container {\n",
              "      display:flex;\n",
              "      flex-wrap:wrap;\n",
              "      gap: 12px;\n",
              "    }\n",
              "\n",
              "    .colab-df-convert {\n",
              "      background-color: #E8F0FE;\n",
              "      border: none;\n",
              "      border-radius: 50%;\n",
              "      cursor: pointer;\n",
              "      display: none;\n",
              "      fill: #1967D2;\n",
              "      height: 32px;\n",
              "      padding: 0 0 0 0;\n",
              "      width: 32px;\n",
              "    }\n",
              "\n",
              "    .colab-df-convert:hover {\n",
              "      background-color: #E2EBFA;\n",
              "      box-shadow: 0px 1px 2px rgba(60, 64, 67, 0.3), 0px 1px 3px 1px rgba(60, 64, 67, 0.15);\n",
              "      fill: #174EA6;\n",
              "    }\n",
              "\n",
              "    [theme=dark] .colab-df-convert {\n",
              "      background-color: #3B4455;\n",
              "      fill: #D2E3FC;\n",
              "    }\n",
              "\n",
              "    [theme=dark] .colab-df-convert:hover {\n",
              "      background-color: #434B5C;\n",
              "      box-shadow: 0px 1px 3px 1px rgba(0, 0, 0, 0.15);\n",
              "      filter: drop-shadow(0px 1px 2px rgba(0, 0, 0, 0.3));\n",
              "      fill: #FFFFFF;\n",
              "    }\n",
              "  </style>\n",
              "\n",
              "      <script>\n",
              "        const buttonEl =\n",
              "          document.querySelector('#df-f02b6c86-545d-43f9-88dd-98b904d1a90a button.colab-df-convert');\n",
              "        buttonEl.style.display =\n",
              "          google.colab.kernel.accessAllowed ? 'block' : 'none';\n",
              "\n",
              "        async function convertToInteractive(key) {\n",
              "          const element = document.querySelector('#df-f02b6c86-545d-43f9-88dd-98b904d1a90a');\n",
              "          const dataTable =\n",
              "            await google.colab.kernel.invokeFunction('convertToInteractive',\n",
              "                                                     [key], {});\n",
              "          if (!dataTable) return;\n",
              "\n",
              "          const docLinkHtml = 'Like what you see? Visit the ' +\n",
              "            '<a target=\"_blank\" href=https://colab.research.google.com/notebooks/data_table.ipynb>data table notebook</a>'\n",
              "            + ' to learn more about interactive tables.';\n",
              "          element.innerHTML = '';\n",
              "          dataTable['output_type'] = 'display_data';\n",
              "          await google.colab.output.renderOutput(dataTable, element);\n",
              "          const docLink = document.createElement('div');\n",
              "          docLink.innerHTML = docLinkHtml;\n",
              "          element.appendChild(docLink);\n",
              "        }\n",
              "      </script>\n",
              "    </div>\n",
              "  </div>\n",
              "  "
            ]
          },
          "metadata": {},
          "execution_count": 8
        }
      ],
      "source": [
        "random_binary_t2.head()"
      ]
    },
    {
      "cell_type": "code",
      "execution_count": 9,
      "metadata": {
        "id": "NrWIDJNkmza7"
      },
      "outputs": [],
      "source": [
        "new_label = [np.ones(len(human)), \n",
        "             np.zeros(10 * 1066), \n",
        "             np.ones(len(ctrl)), \n",
        "             np.zeros(13 * 1066), \n",
        "             np.ones(len(gpt)), \n",
        "             np.zeros(10 * 1066),\n",
        "             np.ones(len(gpt2)),\n",
        "             np.zeros(11 * 1066),\n",
        "             np.ones(len(gpt3)),\n",
        "             np.zeros(11 * 1066),\n",
        "             np.ones(len(instructgpt)),\n",
        "             np.zeros(11 * 1066),\n",
        "             np.ones(len(grover)),\n",
        "             np.zeros(11 * 1066),\n",
        "             np.ones(len(xlm)),\n",
        "             np.zeros(11 * 1066),\n",
        "             np.ones(len(xlnet)),\n",
        "             np.zeros(11 * 1066),\n",
        "             np.ones(len(pplm)),\n",
        "             np.zeros(11 * 1066),\n",
        "             np.ones(len(fair))\n",
        "            ]"
      ]
    },
    {
      "cell_type": "code",
      "execution_count": 10,
      "metadata": {
        "id": "Qj0rkVPQm1oc"
      },
      "outputs": [],
      "source": [
        "flat_list = [item for sublist in new_label for item in sublist]"
      ]
    },
    {
      "cell_type": "code",
      "execution_count": 11,
      "metadata": {
        "colab": {
          "base_uri": "https://localhost:8080/"
        },
        "id": "gj_ZN08Im3hL",
        "outputId": "532c92f9-887a-43b2-fb42-a808f33fb205"
      },
      "outputs": [
        {
          "output_type": "execute_result",
          "data": {
            "text/plain": [
              "128986"
            ]
          },
          "metadata": {},
          "execution_count": 11
        }
      ],
      "source": [
        "len(flat_list)"
      ]
    },
    {
      "cell_type": "code",
      "execution_count": 12,
      "metadata": {
        "colab": {
          "base_uri": "https://localhost:8080/"
        },
        "id": "oTpRT_O0m47K",
        "outputId": "9855c689-2c6d-451e-b55a-0b26029d2aab"
      },
      "outputs": [
        {
          "output_type": "execute_result",
          "data": {
            "text/plain": [
              "128986"
            ]
          },
          "metadata": {},
          "execution_count": 12
        }
      ],
      "source": [
        "len(random_binary_t1)"
      ]
    },
    {
      "cell_type": "code",
      "execution_count": 13,
      "metadata": {
        "colab": {
          "base_uri": "https://localhost:8080/"
        },
        "id": "9BEsS44fm7Az",
        "outputId": "ac73d9af-0506-48a9-912b-9759d240d56f"
      },
      "outputs": [
        {
          "output_type": "execute_result",
          "data": {
            "text/plain": [
              "128986"
            ]
          },
          "metadata": {},
          "execution_count": 13
        }
      ],
      "source": [
        "len(random_binary_t2)"
      ]
    },
    {
      "cell_type": "code",
      "execution_count": 14,
      "metadata": {
        "id": "agnfOTJ1m8is"
      },
      "outputs": [],
      "source": [
        "binary_random = pd.DataFrame({'T1': list(random_binary_t1['Generation']), 'T2': list(random_binary_t2['Generation']), 'class': flat_list})"
      ]
    },
    {
      "cell_type": "code",
      "execution_count": 15,
      "metadata": {
        "id": "zRbUd_kDm-Nl"
      },
      "outputs": [],
      "source": [
        "binary_random.to_csv('binary_random.csv')"
      ]
    },
    {
      "cell_type": "markdown",
      "metadata": {
        "id": "wPFeKBzIv377"
      },
      "source": [
        "#Create A Balanced Dataset"
      ]
    },
    {
      "cell_type": "code",
      "execution_count": 16,
      "metadata": {
        "id": "T3jx-NnBv8Wm"
      },
      "outputs": [],
      "source": [
        "balance_T1 = pd.concat([human.sample(1066), ctrl.sample(106), pplm.sample(106), gpt.sample(106), gpt2.sample(106), gpt3.sample(107), instructgpt.sample(107), grover.sample(107), \n",
        "                     xlm.sample(107), xlnet.sample(107), fair.sample(107), \n",
        "                       ctrl.sample(106), pplm.sample(106), gpt.sample(106), gpt2.sample(106), gpt3.sample(107), instructgpt.sample(107), grover.sample(107), \n",
        "                     xlm.sample(107), xlnet.sample(107), fair.sample(107), human.sample(1066)])\n",
        "balance_T2 = pd.concat([human, human, ctrl.sample(106), pplm.sample(106), gpt.sample(106), gpt2.sample(106), gpt3.sample(107), instructgpt.sample(107), grover.sample(107), \n",
        "                     xlm.sample(107), xlnet.sample(107), fair.sample(107), \n",
        "                       ctrl.sample(106), pplm.sample(106), gpt.sample(106), gpt2.sample(106), gpt3.sample(107), instructgpt.sample(107), grover.sample(107), \n",
        "                     xlm.sample(107), xlnet.sample(107), fair.sample(107)])"
      ]
    },
    {
      "cell_type": "code",
      "execution_count": 17,
      "metadata": {
        "colab": {
          "base_uri": "https://localhost:8080/",
          "height": 206
        },
        "id": "oM7eZJ--v-6G",
        "outputId": "4a9cb9cd-bfed-4508-da06-dca2f1a2aa23"
      },
      "outputs": [
        {
          "output_type": "execute_result",
          "data": {
            "text/plain": [
              "  Unnamed: 0                                         Generation  label\n",
              "0          0  Latest Headlines on CNN Business the great shu...  human\n",
              "1          1  China wants to take a victory lap over its han...  human\n",
              "2          2  Coronavirus disinformation creates challenges ...  human\n",
              "3          3  China coronavirus: Eating wild animals made il...  human\n",
              "4          4  China's economy could shrink for the first tim...  human"
            ],
            "text/html": [
              "\n",
              "  <div id=\"df-0f63ea45-dc12-43ec-a2ca-dc6a316e15bd\">\n",
              "    <div class=\"colab-df-container\">\n",
              "      <div>\n",
              "<style scoped>\n",
              "    .dataframe tbody tr th:only-of-type {\n",
              "        vertical-align: middle;\n",
              "    }\n",
              "\n",
              "    .dataframe tbody tr th {\n",
              "        vertical-align: top;\n",
              "    }\n",
              "\n",
              "    .dataframe thead th {\n",
              "        text-align: right;\n",
              "    }\n",
              "</style>\n",
              "<table border=\"1\" class=\"dataframe\">\n",
              "  <thead>\n",
              "    <tr style=\"text-align: right;\">\n",
              "      <th></th>\n",
              "      <th>Unnamed: 0</th>\n",
              "      <th>Generation</th>\n",
              "      <th>label</th>\n",
              "    </tr>\n",
              "  </thead>\n",
              "  <tbody>\n",
              "    <tr>\n",
              "      <th>0</th>\n",
              "      <td>0</td>\n",
              "      <td>Latest Headlines on CNN Business the great shu...</td>\n",
              "      <td>human</td>\n",
              "    </tr>\n",
              "    <tr>\n",
              "      <th>1</th>\n",
              "      <td>1</td>\n",
              "      <td>China wants to take a victory lap over its han...</td>\n",
              "      <td>human</td>\n",
              "    </tr>\n",
              "    <tr>\n",
              "      <th>2</th>\n",
              "      <td>2</td>\n",
              "      <td>Coronavirus disinformation creates challenges ...</td>\n",
              "      <td>human</td>\n",
              "    </tr>\n",
              "    <tr>\n",
              "      <th>3</th>\n",
              "      <td>3</td>\n",
              "      <td>China coronavirus: Eating wild animals made il...</td>\n",
              "      <td>human</td>\n",
              "    </tr>\n",
              "    <tr>\n",
              "      <th>4</th>\n",
              "      <td>4</td>\n",
              "      <td>China's economy could shrink for the first tim...</td>\n",
              "      <td>human</td>\n",
              "    </tr>\n",
              "  </tbody>\n",
              "</table>\n",
              "</div>\n",
              "      <button class=\"colab-df-convert\" onclick=\"convertToInteractive('df-0f63ea45-dc12-43ec-a2ca-dc6a316e15bd')\"\n",
              "              title=\"Convert this dataframe to an interactive table.\"\n",
              "              style=\"display:none;\">\n",
              "        \n",
              "  <svg xmlns=\"http://www.w3.org/2000/svg\" height=\"24px\"viewBox=\"0 0 24 24\"\n",
              "       width=\"24px\">\n",
              "    <path d=\"M0 0h24v24H0V0z\" fill=\"none\"/>\n",
              "    <path d=\"M18.56 5.44l.94 2.06.94-2.06 2.06-.94-2.06-.94-.94-2.06-.94 2.06-2.06.94zm-11 1L8.5 8.5l.94-2.06 2.06-.94-2.06-.94L8.5 2.5l-.94 2.06-2.06.94zm10 10l.94 2.06.94-2.06 2.06-.94-2.06-.94-.94-2.06-.94 2.06-2.06.94z\"/><path d=\"M17.41 7.96l-1.37-1.37c-.4-.4-.92-.59-1.43-.59-.52 0-1.04.2-1.43.59L10.3 9.45l-7.72 7.72c-.78.78-.78 2.05 0 2.83L4 21.41c.39.39.9.59 1.41.59.51 0 1.02-.2 1.41-.59l7.78-7.78 2.81-2.81c.8-.78.8-2.07 0-2.86zM5.41 20L4 18.59l7.72-7.72 1.47 1.35L5.41 20z\"/>\n",
              "  </svg>\n",
              "      </button>\n",
              "      \n",
              "  <style>\n",
              "    .colab-df-container {\n",
              "      display:flex;\n",
              "      flex-wrap:wrap;\n",
              "      gap: 12px;\n",
              "    }\n",
              "\n",
              "    .colab-df-convert {\n",
              "      background-color: #E8F0FE;\n",
              "      border: none;\n",
              "      border-radius: 50%;\n",
              "      cursor: pointer;\n",
              "      display: none;\n",
              "      fill: #1967D2;\n",
              "      height: 32px;\n",
              "      padding: 0 0 0 0;\n",
              "      width: 32px;\n",
              "    }\n",
              "\n",
              "    .colab-df-convert:hover {\n",
              "      background-color: #E2EBFA;\n",
              "      box-shadow: 0px 1px 2px rgba(60, 64, 67, 0.3), 0px 1px 3px 1px rgba(60, 64, 67, 0.15);\n",
              "      fill: #174EA6;\n",
              "    }\n",
              "\n",
              "    [theme=dark] .colab-df-convert {\n",
              "      background-color: #3B4455;\n",
              "      fill: #D2E3FC;\n",
              "    }\n",
              "\n",
              "    [theme=dark] .colab-df-convert:hover {\n",
              "      background-color: #434B5C;\n",
              "      box-shadow: 0px 1px 3px 1px rgba(0, 0, 0, 0.15);\n",
              "      filter: drop-shadow(0px 1px 2px rgba(0, 0, 0, 0.3));\n",
              "      fill: #FFFFFF;\n",
              "    }\n",
              "  </style>\n",
              "\n",
              "      <script>\n",
              "        const buttonEl =\n",
              "          document.querySelector('#df-0f63ea45-dc12-43ec-a2ca-dc6a316e15bd button.colab-df-convert');\n",
              "        buttonEl.style.display =\n",
              "          google.colab.kernel.accessAllowed ? 'block' : 'none';\n",
              "\n",
              "        async function convertToInteractive(key) {\n",
              "          const element = document.querySelector('#df-0f63ea45-dc12-43ec-a2ca-dc6a316e15bd');\n",
              "          const dataTable =\n",
              "            await google.colab.kernel.invokeFunction('convertToInteractive',\n",
              "                                                     [key], {});\n",
              "          if (!dataTable) return;\n",
              "\n",
              "          const docLinkHtml = 'Like what you see? Visit the ' +\n",
              "            '<a target=\"_blank\" href=https://colab.research.google.com/notebooks/data_table.ipynb>data table notebook</a>'\n",
              "            + ' to learn more about interactive tables.';\n",
              "          element.innerHTML = '';\n",
              "          dataTable['output_type'] = 'display_data';\n",
              "          await google.colab.output.renderOutput(dataTable, element);\n",
              "          const docLink = document.createElement('div');\n",
              "          docLink.innerHTML = docLinkHtml;\n",
              "          element.appendChild(docLink);\n",
              "        }\n",
              "      </script>\n",
              "    </div>\n",
              "  </div>\n",
              "  "
            ]
          },
          "metadata": {},
          "execution_count": 17
        }
      ],
      "source": [
        "balance_T2.head()"
      ]
    },
    {
      "cell_type": "code",
      "execution_count": 18,
      "metadata": {
        "id": "vYSjYIlSwBie"
      },
      "outputs": [],
      "source": [
        "balance_label = [np.ones(1066),\n",
        "                 np.zeros(1066), \n",
        "                 np.ones(1066), \n",
        "                np.zeros(1066)]"
      ]
    },
    {
      "cell_type": "code",
      "execution_count": 19,
      "metadata": {
        "id": "XTOECZwcwD-H"
      },
      "outputs": [],
      "source": [
        "balance_label = [item for sublist in balance_label for item in sublist]"
      ]
    },
    {
      "cell_type": "code",
      "execution_count": 20,
      "metadata": {
        "id": "9LTEzJ6jwEEP"
      },
      "outputs": [],
      "source": [
        "balanced_p1 = pd.DataFrame({'T1': list(balance_T1['Generation']), 'T2': list(balance_T2['Generation']), 'class': balance_label})"
      ]
    },
    {
      "cell_type": "code",
      "execution_count": 21,
      "metadata": {
        "id": "iL0FqOZTwJ74"
      },
      "outputs": [],
      "source": [
        "balanced_p1.to_csv('balanced_p1.csv')"
      ]
    },
    {
      "cell_type": "markdown",
      "metadata": {
        "id": "MWwVI5jkh9Ij"
      },
      "source": [
        "#RNN"
      ]
    },
    {
      "cell_type": "code",
      "execution_count": 22,
      "metadata": {
        "id": "4HaqELrMFZtS"
      },
      "outputs": [],
      "source": [
        "X_train, X_test, y_train, y_test = train_test_split(balanced_p1['T1']+ balanced_p1['T2'], balanced_p1['class'], test_size=0.2, random_state=42)\n",
        "# X_train, X_val, y_train, y_val = train_test_split(X_train, y_train, test_size=0.2, random_state=42)"
      ]
    },
    {
      "cell_type": "code",
      "execution_count": 23,
      "metadata": {
        "id": "sNF351IJodT3"
      },
      "outputs": [],
      "source": [
        "import numpy as np\n",
        "import pandas as pd\n",
        "from sklearn.model_selection import train_test_split\n",
        "from tensorflow.keras.preprocessing.text import Tokenizer\n",
        "from tensorflow.keras.preprocessing.sequence import pad_sequences\n",
        "from tensorflow.keras.models import Sequential\n",
        "from tensorflow.keras.layers import Bidirectional, Embedding, SimpleRNN, Dense, Dropout, Conv1D, MaxPooling1D, Flatten, GlobalMaxPooling1D, Attention\n",
        "from tensorflow.keras.callbacks import EarlyStopping\n",
        "# from gensim.models import KeyedVectors\n",
        "\n",
        "# Load the pre-trained word embeddings\n",
        "# word_vectors = KeyedVectors.load_word2vec_format('word2vec.bin', binary=True)"
      ]
    },
    {
      "cell_type": "code",
      "execution_count": 24,
      "metadata": {
        "colab": {
          "base_uri": "https://localhost:8080/"
        },
        "id": "At8czt2togH5",
        "outputId": "d4b6eb32-c154-4057-f5d0-7038910e528b"
      },
      "outputs": [
        {
          "output_type": "stream",
          "name": "stderr",
          "text": [
            "[nltk_data] Downloading package punkt to /root/nltk_data...\n",
            "[nltk_data]   Unzipping tokenizers/punkt.zip.\n",
            "[nltk_data] Downloading package averaged_perceptron_tagger to\n",
            "[nltk_data]     /root/nltk_data...\n",
            "[nltk_data]   Unzipping taggers/averaged_perceptron_tagger.zip.\n"
          ]
        },
        {
          "output_type": "execute_result",
          "data": {
            "text/plain": [
              "True"
            ]
          },
          "metadata": {},
          "execution_count": 24
        }
      ],
      "source": [
        "import nltk\n",
        "from nltk.tokenize import word_tokenize\n",
        "from nltk import pos_tag\n",
        "nltk.download('punkt')\n",
        "nltk.download('averaged_perceptron_tagger')"
      ]
    },
    {
      "cell_type": "code",
      "execution_count": 25,
      "metadata": {
        "id": "wE9rtzAaoi8e"
      },
      "outputs": [],
      "source": [
        "X_train_tagged_texts = []\n",
        "for text in X_train:\n",
        "    tokens = word_tokenize(text)\n",
        "    tags = pos_tag(tokens)\n",
        "    X_train_tagged_texts.append(tags)\n",
        "X_test_tagged_texts = []\n",
        "for text in X_test:\n",
        "    tokens = word_tokenize(text)\n",
        "    tags = pos_tag(tokens)\n",
        "    X_test_tagged_texts.append(tags)\n",
        "# Map POS tags to integers using NLTK's tagset\n",
        "tagset = {\"CC\": 1, \"CD\": 2, \"DT\": 3, \"EX\": 4, \"FW\": 5, \"IN\": 6, \"JJ\": 7, \"JJR\": 8, \"JJS\": 9, \"LS\": 10, \"MD\": 11,\n",
        "          \"NN\": 12, \"NNS\": 13, \"NNP\": 14, \"NNPS\": 15, \"PDT\": 16, \"POS\": 17, \"PRP\": 18, \"PRP$\": 19, \"RB\": 20,\n",
        "          \"RBR\": 21, \"RBS\": 22, \"RP\": 23, \"SYM\": 24, \"TO\": 25, \"UH\": 26, \"VB\": 27, \"VBD\": 28, \"VBG\": 29,\n",
        "          \"VBN\": 30, \"VBP\": 31, \"VBZ\": 32, \"WDT\": 33, \"WP\": 34, \"WP$\": 35, \"WRB\": 36}\n",
        "X_train_tagged = []\n",
        "for tagged_text in X_train_tagged_texts:\n",
        "    tagged_text_int = []\n",
        "    for word, tag in tagged_text:\n",
        "        if tag in tagset:\n",
        "            tagged_text_int.append(tagset[tag])\n",
        "    X_train_tagged.append(tagged_text_int)\n",
        "\n",
        "X_test_tagged = []\n",
        "for tagged_text in X_test_tagged_texts:\n",
        "    tagged_text_int = []\n",
        "    for word, tag in tagged_text:\n",
        "        if tag in tagset:\n",
        "            tagged_text_int.append(tagset[tag])\n",
        "    X_test_tagged.append(tagged_text_int)\n",
        "\n",
        "\n",
        "max_length = max([len(seq) for seq in X_train_tagged])\n",
        "max_length = max([len(seq) for seq in X_test_tagged])\n",
        "# Pad sequences to a fixed length\n",
        "# max_length = 12270\n",
        "X_train_padded = pad_sequences(X_train_tagged, maxlen=max_length, padding='post')\n",
        "X_test_padded = pad_sequences(X_test_tagged, maxlen=max_length, padding='post')"
      ]
    },
    {
      "cell_type": "code",
      "execution_count": 26,
      "metadata": {
        "colab": {
          "base_uri": "https://localhost:8080/"
        },
        "id": "bCUjdfrsiBsn",
        "outputId": "c51eae8b-b917-4646-bc5d-559fa979cc10"
      },
      "outputs": [
        {
          "output_type": "stream",
          "name": "stdout",
          "text": [
            "Epoch 1/15\n",
            "107/107 [==============================] - 177s 2s/step - loss: 0.7020 - accuracy: 0.5016\n",
            "Epoch 2/15\n",
            "107/107 [==============================] - 161s 2s/step - loss: 0.7005 - accuracy: 0.4993\n",
            "Epoch 3/15\n",
            "107/107 [==============================] - 161s 2s/step - loss: 0.6999 - accuracy: 0.4993\n",
            "Epoch 4/15\n",
            "107/107 [==============================] - 162s 2s/step - loss: 0.6976 - accuracy: 0.5022\n",
            "Epoch 5/15\n",
            "107/107 [==============================] - 161s 2s/step - loss: 0.7007 - accuracy: 0.4831\n",
            "Epoch 6/15\n",
            "107/107 [==============================] - 162s 2s/step - loss: 0.6973 - accuracy: 0.5045\n",
            "Epoch 7/15\n",
            "107/107 [==============================] - 162s 2s/step - loss: 0.6979 - accuracy: 0.4946\n",
            "Epoch 8/15\n",
            "107/107 [==============================] - 164s 2s/step - loss: 0.6975 - accuracy: 0.4990\n",
            "Epoch 9/15\n",
            "107/107 [==============================] - 164s 2s/step - loss: 0.6969 - accuracy: 0.5019\n",
            "Epoch 10/15\n",
            "107/107 [==============================] - 165s 2s/step - loss: 0.6977 - accuracy: 0.5051\n",
            "Epoch 11/15\n",
            "107/107 [==============================] - 162s 2s/step - loss: 0.6959 - accuracy: 0.5136\n",
            "Epoch 12/15\n",
            "107/107 [==============================] - 162s 2s/step - loss: 0.6937 - accuracy: 0.5086\n",
            "Epoch 13/15\n",
            "107/107 [==============================] - 162s 2s/step - loss: 0.6948 - accuracy: 0.4999\n",
            "Epoch 14/15\n",
            "107/107 [==============================] - 162s 2s/step - loss: 0.6937 - accuracy: 0.5104\n",
            "Epoch 15/15\n",
            "107/107 [==============================] - 162s 2s/step - loss: 0.6970 - accuracy: 0.5025\n"
          ]
        },
        {
          "output_type": "execute_result",
          "data": {
            "text/plain": [
              "<keras.callbacks.History at 0x7fadfe40fc70>"
            ]
          },
          "metadata": {},
          "execution_count": 26
        }
      ],
      "source": [
        "\n",
        "# LSTM model\n",
        "model = Sequential()\n",
        "model.add(Embedding(input_dim=len(tagset)+1, output_dim=300, input_length=max_length))\n",
        "model.add(Conv1D(64, kernel_size=3, padding='same', activation='relu'))\n",
        "model.add(MaxPooling1D(pool_size=3))\n",
        "model.add(Conv1D(32, kernel_size=3, padding='same', activation='relu'))\n",
        "model.add(MaxPooling1D(pool_size=3))\n",
        "model.add(SimpleRNN(64, return_sequences=True))\n",
        "model.add(Dropout(0.2))\n",
        "model.add(SimpleRNN(32, return_sequences=True))\n",
        "model.add(Dropout(0.2))\n",
        "model.add(MaxPooling1D(pool_size=5))\n",
        "model.add(Dense(64, activation='tanh'))\n",
        "model.add(GlobalMaxPooling1D())\n",
        "model.add(Dense(2, activation='softmax'))  # 2 classes: generated by same method or not\n",
        "model.compile(loss='sparse_categorical_crossentropy', optimizer='adam', metrics=['accuracy'])\n",
        "\n",
        "# early_stop = EarlyStopping(monitor='loss', patience=3, verbose=1)\n",
        "# train the model\n",
        "model.fit(X_train_padded, y_train, epochs=15, batch_size=32)\n"
      ]
    },
    {
      "cell_type": "code",
      "execution_count": 27,
      "metadata": {
        "colab": {
          "base_uri": "https://localhost:8080/"
        },
        "id": "gOnaFT0AFC38",
        "outputId": "b3c82ae8-33d9-4ba8-fb6f-b76dc85b704d"
      },
      "outputs": [
        {
          "output_type": "stream",
          "name": "stdout",
          "text": [
            "27/27 [==============================] - 4s 148ms/step - loss: 0.6915 - accuracy: 0.5182\n"
          ]
        }
      ],
      "source": [
        "loss, acc = model.evaluate(X_test_padded, y_test)"
      ]
    },
    {
      "cell_type": "code",
      "execution_count": 28,
      "metadata": {
        "colab": {
          "base_uri": "https://localhost:8080/"
        },
        "id": "1Vf_Ej8dFWpg",
        "outputId": "53d0ce8b-18d4-4458-b3bb-67928a52cc05"
      },
      "outputs": [
        {
          "output_type": "stream",
          "name": "stdout",
          "text": [
            "27/27 [==============================] - 4s 137ms/step\n"
          ]
        },
        {
          "output_type": "execute_result",
          "data": {
            "text/plain": [
              "array([0.4765653 , 0.52343476], dtype=float32)"
            ]
          },
          "metadata": {},
          "execution_count": 28
        }
      ],
      "source": [
        "preds = model.predict(X_test_padded)\n",
        "# preds = np.argmax(preds, axis=-1)\n",
        "preds[1]\n"
      ]
    },
    {
      "cell_type": "code",
      "execution_count": 29,
      "metadata": {
        "id": "mou5pqmVd8Bz"
      },
      "outputs": [],
      "source": [
        "preds_new = []\n",
        "for i in preds:\n",
        "  if(i[0]>i[1]):\n",
        "    preds_new.append(1.0)\n",
        "  else:\n",
        "    preds_new.append(0.0)"
      ]
    },
    {
      "cell_type": "code",
      "execution_count": 30,
      "metadata": {
        "colab": {
          "base_uri": "https://localhost:8080/"
        },
        "id": "AGtIBnQad_cc",
        "outputId": "6a479dcb-7e83-4531-f210-bb7513592944"
      },
      "outputs": [
        {
          "output_type": "execute_result",
          "data": {
            "text/plain": [
              "1.0"
            ]
          },
          "metadata": {},
          "execution_count": 30
        }
      ],
      "source": [
        "y_test_array = np.array(y_test)\n",
        "y_test_array[1]"
      ]
    },
    {
      "cell_type": "code",
      "execution_count": 31,
      "metadata": {
        "id": "A-N1J9T3eBX9",
        "colab": {
          "base_uri": "https://localhost:8080/"
        },
        "outputId": "209347f7-3bd4-409c-9f46-6afb2f386a8e"
      },
      "outputs": [
        {
          "output_type": "stream",
          "name": "stdout",
          "text": [
            "F1 score =  0.5959780621572213\n",
            "Precision =  0.4872944693572496\n",
            "Recall =  0.7670588235294118\n"
          ]
        }
      ],
      "source": [
        "from sklearn.metrics import f1_score,precision_score, recall_score\n",
        "f1 = f1_score(y_test, preds_new)\n",
        "print(\"F1 score = \",f1)\n",
        "precision = precision_score(y_test, preds_new)\n",
        "recall = recall_score(y_test, preds_new)\n",
        "print(\"Precision = \", precision)\n",
        "print(\"Recall = \", recall)"
      ]
    },
    {
      "cell_type": "code",
      "execution_count": 31,
      "metadata": {
        "id": "cCqBY3YrwQ1p"
      },
      "outputs": [],
      "source": []
    }
  ],
  "metadata": {
    "colab": {
      "machine_shape": "hm",
      "provenance": [],
      "gpuType": "T4"
    },
    "gpuClass": "premium",
    "kernelspec": {
      "display_name": "Python 3",
      "name": "python3"
    },
    "language_info": {
      "name": "python"
    },
    "accelerator": "GPU"
  },
  "nbformat": 4,
  "nbformat_minor": 0
}