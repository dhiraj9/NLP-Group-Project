{
  "nbformat": 4,
  "nbformat_minor": 0,
  "metadata": {
    "colab": {
      "provenance": [],
      "machine_shape": "hm"
    },
    "kernelspec": {
      "name": "python3",
      "display_name": "Python 3"
    },
    "language_info": {
      "name": "python"
    },
    "gpuClass": "premium"
  },
  "cells": [
    {
      "cell_type": "code",
      "source": [
        "import numpy as np\n",
        "import pandas as pd\n",
        "from sklearn.model_selection import train_test_split"
      ],
      "metadata": {
        "id": "HsHgGCU84pDj"
      },
      "execution_count": null,
      "outputs": []
    },
    {
      "cell_type": "code",
      "source": [
        "train = pd.read_csv('p2_train.csv')\n",
        "test = pd.read_csv('p2_test.csv')"
      ],
      "metadata": {
        "id": "Nf7IFQ908Rr8"
      },
      "execution_count": null,
      "outputs": []
    },
    {
      "cell_type": "code",
      "source": [
        "train.head()"
      ],
      "metadata": {
        "colab": {
          "base_uri": "https://localhost:8080/",
          "height": 206
        },
        "id": "MXnA_x-18s6E",
        "outputId": "a135e52b-0f09-4584-dd4c-278b5a8323c2"
      },
      "execution_count": null,
      "outputs": [
        {
          "output_type": "execute_result",
          "data": {
            "text/plain": [
              "   Unnamed: 0                                               text  label\n",
              "0        7744  longlost pictur archiv celebr glamour seneg wr...      0\n",
              "1       10536  advanc understand natur world respons current ...      1\n",
              "2        7043  itali test western economi bear almost total s...      1\n",
              "3        5930  south africa box granni juke jab way healthier...      1\n",
              "4       11660  coronaviru pandem nation tragedi hundr thousan...      1"
            ],
            "text/html": [
              "\n",
              "  <div id=\"df-a09de08a-8caa-4cd4-89af-598250744e6c\">\n",
              "    <div class=\"colab-df-container\">\n",
              "      <div>\n",
              "<style scoped>\n",
              "    .dataframe tbody tr th:only-of-type {\n",
              "        vertical-align: middle;\n",
              "    }\n",
              "\n",
              "    .dataframe tbody tr th {\n",
              "        vertical-align: top;\n",
              "    }\n",
              "\n",
              "    .dataframe thead th {\n",
              "        text-align: right;\n",
              "    }\n",
              "</style>\n",
              "<table border=\"1\" class=\"dataframe\">\n",
              "  <thead>\n",
              "    <tr style=\"text-align: right;\">\n",
              "      <th></th>\n",
              "      <th>Unnamed: 0</th>\n",
              "      <th>text</th>\n",
              "      <th>label</th>\n",
              "    </tr>\n",
              "  </thead>\n",
              "  <tbody>\n",
              "    <tr>\n",
              "      <th>0</th>\n",
              "      <td>7744</td>\n",
              "      <td>longlost pictur archiv celebr glamour seneg wr...</td>\n",
              "      <td>0</td>\n",
              "    </tr>\n",
              "    <tr>\n",
              "      <th>1</th>\n",
              "      <td>10536</td>\n",
              "      <td>advanc understand natur world respons current ...</td>\n",
              "      <td>1</td>\n",
              "    </tr>\n",
              "    <tr>\n",
              "      <th>2</th>\n",
              "      <td>7043</td>\n",
              "      <td>itali test western economi bear almost total s...</td>\n",
              "      <td>1</td>\n",
              "    </tr>\n",
              "    <tr>\n",
              "      <th>3</th>\n",
              "      <td>5930</td>\n",
              "      <td>south africa box granni juke jab way healthier...</td>\n",
              "      <td>1</td>\n",
              "    </tr>\n",
              "    <tr>\n",
              "      <th>4</th>\n",
              "      <td>11660</td>\n",
              "      <td>coronaviru pandem nation tragedi hundr thousan...</td>\n",
              "      <td>1</td>\n",
              "    </tr>\n",
              "  </tbody>\n",
              "</table>\n",
              "</div>\n",
              "      <button class=\"colab-df-convert\" onclick=\"convertToInteractive('df-a09de08a-8caa-4cd4-89af-598250744e6c')\"\n",
              "              title=\"Convert this dataframe to an interactive table.\"\n",
              "              style=\"display:none;\">\n",
              "        \n",
              "  <svg xmlns=\"http://www.w3.org/2000/svg\" height=\"24px\"viewBox=\"0 0 24 24\"\n",
              "       width=\"24px\">\n",
              "    <path d=\"M0 0h24v24H0V0z\" fill=\"none\"/>\n",
              "    <path d=\"M18.56 5.44l.94 2.06.94-2.06 2.06-.94-2.06-.94-.94-2.06-.94 2.06-2.06.94zm-11 1L8.5 8.5l.94-2.06 2.06-.94-2.06-.94L8.5 2.5l-.94 2.06-2.06.94zm10 10l.94 2.06.94-2.06 2.06-.94-2.06-.94-.94-2.06-.94 2.06-2.06.94z\"/><path d=\"M17.41 7.96l-1.37-1.37c-.4-.4-.92-.59-1.43-.59-.52 0-1.04.2-1.43.59L10.3 9.45l-7.72 7.72c-.78.78-.78 2.05 0 2.83L4 21.41c.39.39.9.59 1.41.59.51 0 1.02-.2 1.41-.59l7.78-7.78 2.81-2.81c.8-.78.8-2.07 0-2.86zM5.41 20L4 18.59l7.72-7.72 1.47 1.35L5.41 20z\"/>\n",
              "  </svg>\n",
              "      </button>\n",
              "      \n",
              "  <style>\n",
              "    .colab-df-container {\n",
              "      display:flex;\n",
              "      flex-wrap:wrap;\n",
              "      gap: 12px;\n",
              "    }\n",
              "\n",
              "    .colab-df-convert {\n",
              "      background-color: #E8F0FE;\n",
              "      border: none;\n",
              "      border-radius: 50%;\n",
              "      cursor: pointer;\n",
              "      display: none;\n",
              "      fill: #1967D2;\n",
              "      height: 32px;\n",
              "      padding: 0 0 0 0;\n",
              "      width: 32px;\n",
              "    }\n",
              "\n",
              "    .colab-df-convert:hover {\n",
              "      background-color: #E2EBFA;\n",
              "      box-shadow: 0px 1px 2px rgba(60, 64, 67, 0.3), 0px 1px 3px 1px rgba(60, 64, 67, 0.15);\n",
              "      fill: #174EA6;\n",
              "    }\n",
              "\n",
              "    [theme=dark] .colab-df-convert {\n",
              "      background-color: #3B4455;\n",
              "      fill: #D2E3FC;\n",
              "    }\n",
              "\n",
              "    [theme=dark] .colab-df-convert:hover {\n",
              "      background-color: #434B5C;\n",
              "      box-shadow: 0px 1px 3px 1px rgba(0, 0, 0, 0.15);\n",
              "      filter: drop-shadow(0px 1px 2px rgba(0, 0, 0, 0.3));\n",
              "      fill: #FFFFFF;\n",
              "    }\n",
              "  </style>\n",
              "\n",
              "      <script>\n",
              "        const buttonEl =\n",
              "          document.querySelector('#df-a09de08a-8caa-4cd4-89af-598250744e6c button.colab-df-convert');\n",
              "        buttonEl.style.display =\n",
              "          google.colab.kernel.accessAllowed ? 'block' : 'none';\n",
              "\n",
              "        async function convertToInteractive(key) {\n",
              "          const element = document.querySelector('#df-a09de08a-8caa-4cd4-89af-598250744e6c');\n",
              "          const dataTable =\n",
              "            await google.colab.kernel.invokeFunction('convertToInteractive',\n",
              "                                                     [key], {});\n",
              "          if (!dataTable) return;\n",
              "\n",
              "          const docLinkHtml = 'Like what you see? Visit the ' +\n",
              "            '<a target=\"_blank\" href=https://colab.research.google.com/notebooks/data_table.ipynb>data table notebook</a>'\n",
              "            + ' to learn more about interactive tables.';\n",
              "          element.innerHTML = '';\n",
              "          dataTable['output_type'] = 'display_data';\n",
              "          await google.colab.output.renderOutput(dataTable, element);\n",
              "          const docLink = document.createElement('div');\n",
              "          docLink.innerHTML = docLinkHtml;\n",
              "          element.appendChild(docLink);\n",
              "        }\n",
              "      </script>\n",
              "    </div>\n",
              "  </div>\n",
              "  "
            ]
          },
          "metadata": {},
          "execution_count": 3
        }
      ]
    },
    {
      "cell_type": "code",
      "source": [
        "X_train, X_test, y_train, y_test = train_test_split(train['text'], train['label'], test_size=0.2, random_state=42)\n",
        "# X_train, X_val, y_train, y_val = train_test_split(X_train, y_train, test_size=0.2, random_state=42)"
      ],
      "metadata": {
        "id": "SoiT1IA8Gu-k"
      },
      "execution_count": null,
      "outputs": []
    },
    {
      "cell_type": "code",
      "execution_count": null,
      "metadata": {
        "id": "EkIVTgsTzCqA"
      },
      "outputs": [],
      "source": [
        "import numpy as np\n",
        "import pandas as pd\n",
        "from sklearn.model_selection import train_test_split\n",
        "from tensorflow.keras.preprocessing.text import Tokenizer\n",
        "from tensorflow.keras.preprocessing.sequence import pad_sequences\n",
        "from tensorflow.keras.models import Sequential\n",
        "from tensorflow.keras.layers import Bidirectional, Embedding, SimpleRNN, Dense, Dropout, Conv1D, MaxPooling1D, Flatten, GlobalMaxPooling1D, Attention\n",
        "from tensorflow.keras.callbacks import EarlyStopping\n",
        "# from gensim.models import KeyedVectors\n",
        "\n",
        "# Load the pre-trained word embeddings\n",
        "# word_vectors = KeyedVectors.load_word2vec_format('word2vec.bin', binary=True)"
      ]
    },
    {
      "cell_type": "code",
      "source": [
        "import nltk\n",
        "from nltk.tokenize import word_tokenize\n",
        "from nltk import pos_tag\n",
        "nltk.download('punkt')\n",
        "nltk.download('averaged_perceptron_tagger')"
      ],
      "metadata": {
        "colab": {
          "base_uri": "https://localhost:8080/"
        },
        "id": "ztf-JH2Mv0_I",
        "outputId": "6e17d401-1830-45fe-b136-31d755b8ac11"
      },
      "execution_count": null,
      "outputs": [
        {
          "output_type": "stream",
          "name": "stderr",
          "text": [
            "[nltk_data] Downloading package punkt to /root/nltk_data...\n",
            "[nltk_data]   Unzipping tokenizers/punkt.zip.\n",
            "[nltk_data] Downloading package averaged_perceptron_tagger to\n",
            "[nltk_data]     /root/nltk_data...\n",
            "[nltk_data]   Unzipping taggers/averaged_perceptron_tagger.zip.\n"
          ]
        },
        {
          "output_type": "execute_result",
          "data": {
            "text/plain": [
              "True"
            ]
          },
          "metadata": {},
          "execution_count": 6
        }
      ]
    },
    {
      "cell_type": "code",
      "source": [
        "X_train_tagged_texts = []\n",
        "for text in X_train:\n",
        "    tokens = word_tokenize(text)\n",
        "    tags = pos_tag(tokens)\n",
        "    X_train_tagged_texts.append(tags)\n",
        "X_test_tagged_texts = []\n",
        "for text in X_test:\n",
        "    tokens = word_tokenize(text)\n",
        "    tags = pos_tag(tokens)\n",
        "    X_test_tagged_texts.append(tags)\n",
        "# Map POS tags to integers using NLTK's tagset\n",
        "tagset = {\"CC\": 1, \"CD\": 2, \"DT\": 3, \"EX\": 4, \"FW\": 5, \"IN\": 6, \"JJ\": 7, \"JJR\": 8, \"JJS\": 9, \"LS\": 10, \"MD\": 11,\n",
        "          \"NN\": 12, \"NNS\": 13, \"NNP\": 14, \"NNPS\": 15, \"PDT\": 16, \"POS\": 17, \"PRP\": 18, \"PRP$\": 19, \"RB\": 20,\n",
        "          \"RBR\": 21, \"RBS\": 22, \"RP\": 23, \"SYM\": 24, \"TO\": 25, \"UH\": 26, \"VB\": 27, \"VBD\": 28, \"VBG\": 29,\n",
        "          \"VBN\": 30, \"VBP\": 31, \"VBZ\": 32, \"WDT\": 33, \"WP\": 34, \"WP$\": 35, \"WRB\": 36}\n",
        "X_train_tagged = []\n",
        "for tagged_text in X_train_tagged_texts:\n",
        "    tagged_text_int = []\n",
        "    for word, tag in tagged_text:\n",
        "        if tag in tagset:\n",
        "            tagged_text_int.append(tagset[tag])\n",
        "    X_train_tagged.append(tagged_text_int)\n",
        "\n",
        "X_test_tagged = []\n",
        "for tagged_text in X_test_tagged_texts:\n",
        "    tagged_text_int = []\n",
        "    for word, tag in tagged_text:\n",
        "        if tag in tagset:\n",
        "            tagged_text_int.append(tagset[tag])\n",
        "    X_test_tagged.append(tagged_text_int)\n",
        "\n",
        "\n",
        "max_length = max([len(seq) for seq in X_train_tagged])\n",
        "max_length = max([len(seq) for seq in X_test_tagged])\n",
        "# Pad sequences to a fixed length\n",
        "# max_length = 12270\n",
        "X_train_padded = pad_sequences(X_train_tagged, maxlen=max_length, padding='post')\n",
        "X_test_padded = pad_sequences(X_test_tagged, maxlen=max_length, padding='post')"
      ],
      "metadata": {
        "id": "AVk5Kbl_Jmy-"
      },
      "execution_count": null,
      "outputs": []
    },
    {
      "cell_type": "code",
      "source": [
        "\n",
        "# LSTM model\n",
        "model = Sequential()\n",
        "model.add(Embedding(input_dim=len(tagset)+1, output_dim=300, input_length=max_length))\n",
        "model.add(Conv1D(64, kernel_size=3, padding='same', activation='relu'))\n",
        "model.add(MaxPooling1D(pool_size=3))\n",
        "model.add(Conv1D(32, kernel_size=3, padding='same', activation='relu'))\n",
        "model.add(MaxPooling1D(pool_size=3))\n",
        "model.add(SimpleRNN(64, return_sequences=True))\n",
        "model.add(Dropout(0.2))\n",
        "model.add(SimpleRNN(32, return_sequences=True))\n",
        "model.add(Dropout(0.2))\n",
        "model.add(MaxPooling1D(pool_size=5))\n",
        "model.add(Dense(64, activation='tanh'))\n",
        "model.add(GlobalMaxPooling1D())\n",
        "model.add(Dense(2, activation='softmax'))  # 2 classes: generated by same method or not\n",
        "model.compile(loss='sparse_categorical_crossentropy', optimizer='adam', metrics=['accuracy'])\n",
        "\n",
        "# early_stop = EarlyStopping(monitor='loss', patience=3, verbose=1)\n",
        "# train the model\n",
        "model.fit(X_train_padded, y_train, epochs=15, batch_size=32)\n"
      ],
      "metadata": {
        "colab": {
          "base_uri": "https://localhost:8080/"
        },
        "id": "G9Y_MQ2Lv7kC",
        "outputId": "d3778ba4-2a49-4316-c907-1172bff96ef2"
      },
      "execution_count": null,
      "outputs": [
        {
          "output_type": "stream",
          "name": "stdout",
          "text": [
            "Epoch 1/15\n",
            "43/43 [==============================] - 74s 2s/step - loss: 0.6984 - accuracy: 0.4978\n",
            "Epoch 2/15\n",
            "43/43 [==============================] - 70s 2s/step - loss: 0.7073 - accuracy: 0.5095\n",
            "Epoch 3/15\n",
            "43/43 [==============================] - 69s 2s/step - loss: 0.7048 - accuracy: 0.5095\n",
            "Epoch 4/15\n",
            "43/43 [==============================] - 69s 2s/step - loss: 0.6895 - accuracy: 0.5352\n",
            "Epoch 5/15\n",
            "43/43 [==============================] - 69s 2s/step - loss: 0.6900 - accuracy: 0.5469\n",
            "Epoch 6/15\n",
            "43/43 [==============================] - 69s 2s/step - loss: 0.6843 - accuracy: 0.5469\n",
            "Epoch 7/15\n",
            "43/43 [==============================] - 69s 2s/step - loss: 0.6794 - accuracy: 0.5462\n",
            "Epoch 8/15\n",
            "43/43 [==============================] - 69s 2s/step - loss: 0.6764 - accuracy: 0.5748\n",
            "Epoch 9/15\n",
            "43/43 [==============================] - 68s 2s/step - loss: 0.6768 - accuracy: 0.5601\n",
            "Epoch 10/15\n",
            "43/43 [==============================] - 69s 2s/step - loss: 0.6705 - accuracy: 0.5674\n",
            "Epoch 11/15\n",
            "43/43 [==============================] - 69s 2s/step - loss: 0.6627 - accuracy: 0.5916\n",
            "Epoch 12/15\n",
            "43/43 [==============================] - 69s 2s/step - loss: 0.6616 - accuracy: 0.5777\n",
            "Epoch 13/15\n",
            "43/43 [==============================] - 68s 2s/step - loss: 0.6599 - accuracy: 0.5784\n",
            "Epoch 14/15\n",
            "43/43 [==============================] - 69s 2s/step - loss: 0.6603 - accuracy: 0.6048\n",
            "Epoch 15/15\n",
            "43/43 [==============================] - 68s 2s/step - loss: 0.6438 - accuracy: 0.6173\n"
          ]
        },
        {
          "output_type": "execute_result",
          "data": {
            "text/plain": [
              "<keras.callbacks.History at 0x7f51301b3e20>"
            ]
          },
          "metadata": {},
          "execution_count": 8
        }
      ]
    },
    {
      "cell_type": "code",
      "source": [
        "preds = model.predict(X_test_padded)\n",
        "# preds = np.argmax(preds, axis=-1)\n",
        "preds[0]"
      ],
      "metadata": {
        "id": "LbovfFnXKGnU",
        "colab": {
          "base_uri": "https://localhost:8080/"
        },
        "outputId": "7f50945d-ef44-4c55-b668-002200b343ab"
      },
      "execution_count": null,
      "outputs": [
        {
          "output_type": "stream",
          "name": "stdout",
          "text": [
            "11/11 [==============================] - 5s 384ms/step\n"
          ]
        },
        {
          "output_type": "execute_result",
          "data": {
            "text/plain": [
              "array([0.7573866 , 0.24261332], dtype=float32)"
            ]
          },
          "metadata": {},
          "execution_count": 9
        }
      ]
    },
    {
      "cell_type": "code",
      "source": [
        "preds_new = []\n",
        "for i in preds:\n",
        "  if(i[0]>i[1]):\n",
        "    preds_new.append(1.0)\n",
        "  else:\n",
        "    preds_new.append(0.0)"
      ],
      "metadata": {
        "id": "C9CxajO9DusW"
      },
      "execution_count": null,
      "outputs": []
    },
    {
      "cell_type": "code",
      "source": [
        "preds_new[1]"
      ],
      "metadata": {
        "colab": {
          "base_uri": "https://localhost:8080/"
        },
        "id": "5yy3cd9ZD4e0",
        "outputId": "656bb384-e486-49f6-c334-af1285fe683f"
      },
      "execution_count": null,
      "outputs": [
        {
          "output_type": "execute_result",
          "data": {
            "text/plain": [
              "1.0"
            ]
          },
          "metadata": {},
          "execution_count": 11
        }
      ]
    },
    {
      "cell_type": "code",
      "source": [
        "y_test_array = np.array(y_test)\n",
        "y_test_array[1]"
      ],
      "metadata": {
        "colab": {
          "base_uri": "https://localhost:8080/"
        },
        "id": "E4zeUcrPD51U",
        "outputId": "282b104f-6eaf-4b32-9901-55ca581c65ce"
      },
      "execution_count": null,
      "outputs": [
        {
          "output_type": "execute_result",
          "data": {
            "text/plain": [
              "1"
            ]
          },
          "metadata": {},
          "execution_count": 12
        }
      ]
    },
    {
      "cell_type": "code",
      "source": [
        "from sklearn.metrics import f1_score,precision_score, recall_score, accuracy_score\n",
        "f1 = f1_score(y_test, preds_new)\n",
        "print(\"F1 score = \",f1)\n",
        "precision = precision_score(y_test, preds_new)\n",
        "recall = recall_score(y_test, preds_new)\n",
        "print(\"Precision = \", precision)\n",
        "print(\"Recall = \", recall)\n",
        "print(\"Accuracy = \", accuracy_score(y_test, preds_new))"
      ],
      "metadata": {
        "id": "A-ZVgA4vsu4D",
        "colab": {
          "base_uri": "https://localhost:8080/"
        },
        "outputId": "ce02bef9-419c-4805-c7bc-3677c470c416"
      },
      "execution_count": null,
      "outputs": [
        {
          "output_type": "stream",
          "name": "stdout",
          "text": [
            "F1 score =  0.6774193548387096\n",
            "Precision =  0.5217391304347826\n",
            "Recall =  0.9655172413793104\n",
            "Accuracy =  0.530791788856305\n"
          ]
        }
      ]
    },
    {
      "cell_type": "code",
      "source": [],
      "metadata": {
        "id": "GE6Szz_MGbMm"
      },
      "execution_count": null,
      "outputs": []
    }
  ]
}