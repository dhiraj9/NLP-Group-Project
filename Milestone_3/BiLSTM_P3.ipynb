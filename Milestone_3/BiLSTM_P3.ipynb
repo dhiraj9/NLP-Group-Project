{
  "cells": [
    {
      "cell_type": "code",
      "execution_count": 1,
      "metadata": {
        "id": "Y9iZ3b5Y97qs"
      },
      "outputs": [],
      "source": [
        "import numpy as np\n",
        "import pandas as pd\n",
        "from sklearn.model_selection import train_test_split"
      ]
    },
    {
      "cell_type": "code",
      "execution_count": 2,
      "metadata": {
        "id": "GvO0K-gV-EK5"
      },
      "outputs": [],
      "source": [
        "train = pd.read_csv('p3_train.csv')\n",
        "test = pd.read_csv('p3_test.csv')"
      ]
    },
    {
      "cell_type": "code",
      "execution_count": 3,
      "metadata": {
        "id": "KHvq_AqrLBB6"
      },
      "outputs": [],
      "source": [
        "X_train, X_test, y_train, y_test = train_test_split(train['text'], train['label'], test_size=0.2, random_state=42)\n",
        "# X_train, X_val, y_train, y_val = train_test_split(X_train, y_train, test_size=0.2, random_state=42)"
      ]
    },
    {
      "cell_type": "code",
      "execution_count": 4,
      "metadata": {
        "colab": {
          "base_uri": "https://localhost:8080/"
        },
        "id": "uQnEyKThLGMp",
        "outputId": "9e57b905-5a89-4309-ac96-73cb1264f664"
      },
      "outputs": [
        {
          "name": "stdout",
          "output_type": "stream",
          "text": [
            "Epoch 1/15\n",
            "238/238 [==============================] - 75s 245ms/step - loss: 1.7959 - accuracy: 0.3579\n",
            "Epoch 2/15\n",
            "238/238 [==============================] - 50s 208ms/step - loss: 1.0329 - accuracy: 0.6061\n",
            "Epoch 3/15\n",
            "238/238 [==============================] - 42s 175ms/step - loss: 0.7864 - accuracy: 0.6845\n",
            "Epoch 4/15\n",
            "238/238 [==============================] - 38s 160ms/step - loss: 0.6149 - accuracy: 0.7613\n",
            "Epoch 5/15\n",
            "238/238 [==============================] - 34s 140ms/step - loss: 0.4656 - accuracy: 0.8272\n",
            "Epoch 6/15\n",
            "238/238 [==============================] - 33s 140ms/step - loss: 0.3499 - accuracy: 0.8814\n",
            "Epoch 7/15\n",
            "238/238 [==============================] - 30s 128ms/step - loss: 0.2849 - accuracy: 0.9059\n",
            "Epoch 8/15\n",
            "238/238 [==============================] - 29s 120ms/step - loss: 0.2116 - accuracy: 0.9391\n",
            "Epoch 9/15\n",
            "238/238 [==============================] - 27s 114ms/step - loss: 0.1575 - accuracy: 0.9532\n",
            "Epoch 10/15\n",
            "238/238 [==============================] - 26s 109ms/step - loss: 0.1298 - accuracy: 0.9645\n",
            "Epoch 11/15\n",
            "238/238 [==============================] - 25s 107ms/step - loss: 0.0917 - accuracy: 0.9771\n",
            "Epoch 12/15\n",
            "238/238 [==============================] - 23s 97ms/step - loss: 0.0868 - accuracy: 0.9759\n",
            "Epoch 13/15\n",
            "238/238 [==============================] - 24s 99ms/step - loss: 0.0652 - accuracy: 0.9852\n",
            "Epoch 14/15\n",
            "238/238 [==============================] - 24s 99ms/step - loss: 0.0679 - accuracy: 0.9835\n",
            "Epoch 15/15\n",
            "238/238 [==============================] - 22s 92ms/step - loss: 0.0596 - accuracy: 0.9837\n"
          ]
        },
        {
          "data": {
            "text/plain": [
              "<keras.callbacks.History at 0x7f6bf0167c10>"
            ]
          },
          "execution_count": 4,
          "metadata": {},
          "output_type": "execute_result"
        }
      ],
      "source": [
        "import numpy as np\n",
        "import pandas as pd\n",
        "from sklearn.model_selection import train_test_split\n",
        "from tensorflow.keras.preprocessing.text import Tokenizer\n",
        "from tensorflow.keras.preprocessing.sequence import pad_sequences\n",
        "from tensorflow.keras.models import Sequential\n",
        "from tensorflow.keras.layers import Bidirectional, Embedding, LSTM, Dense, Dropout, Conv1D, MaxPooling1D, GlobalMaxPooling1D\n",
        "\n",
        "# tokenization and padding\n",
        "tokenizer = Tokenizer()\n",
        "tokenizer.fit_on_texts(X_train)\n",
        "X_train_seq = tokenizer.texts_to_sequences(X_train)\n",
        "X_test_seq = tokenizer.texts_to_sequences(X_test)\n",
        "max_length = max([len(seq) for seq in X_train_seq])\n",
        "max_length = max([len(seq) for seq in X_test_seq])\n",
        "X_train_padded = pad_sequences(X_train_seq, maxlen=max_length, padding='post')\n",
        "X_test_padded = pad_sequences(X_test_seq, maxlen=max_length, padding='post')\n",
        "\n",
        "# LSTM model\n",
        "model = Sequential()\n",
        "model.add(Embedding(input_dim=len(tokenizer.word_index)+1, output_dim=32, input_length=max_length))\n",
        "model.add(Conv1D(64, kernel_size=5, padding='same', activation='relu'))\n",
        "model.add(MaxPooling1D(pool_size=3))\n",
        "model.add(Conv1D(32, kernel_size=5, padding='same', activation='relu'))\n",
        "model.add(MaxPooling1D(pool_size=3))\n",
        "model.add(Bidirectional(LSTM(64, return_sequences=True)))\n",
        "model.add(Dropout(0.2))\n",
        "model.add(Bidirectional(LSTM(32, return_sequences = True)))\n",
        "model.add(Dropout(0.2))\n",
        "model.add(MaxPooling1D(pool_size=3))\n",
        "model.add(Dense(32, activation='tanh'))\n",
        "model.add(GlobalMaxPooling1D())\n",
        "model.add(Dense(11, activation='softmax'))  # 2 classes: generated by same method or not\n",
        "model.compile(loss='sparse_categorical_crossentropy', optimizer='adam', metrics=['accuracy'])\n",
        "\n",
        "# train the model\n",
        "model.fit(X_train_padded, y_train, epochs=15, batch_size=32)\n"
      ]
    },
    {
      "cell_type": "code",
      "execution_count": 5,
      "metadata": {
        "colab": {
          "base_uri": "https://localhost:8080/"
        },
        "id": "PpI6pNjsLesP",
        "outputId": "0040d0fa-510d-40a1-e096-b5c6c54324af"
      },
      "outputs": [
        {
          "name": "stdout",
          "output_type": "stream",
          "text": [
            "60/60 [==============================] - 3s 36ms/step - loss: 1.3701 - accuracy: 0.6992\n"
          ]
        }
      ],
      "source": [
        "tokenizer.fit_on_texts(X_test)\n",
        "loss, acc = model.evaluate(X_test_padded, y_test)"
      ]
    },
    {
      "cell_type": "code",
      "execution_count": 6,
      "metadata": {
        "colab": {
          "base_uri": "https://localhost:8080/"
        },
        "id": "5wK7iu8dBcnd",
        "outputId": "92439bdf-2eca-4ff7-b4a4-065c59d2ad63"
      },
      "outputs": [
        {
          "name": "stdout",
          "output_type": "stream",
          "text": [
            "60/60 [==============================] - 4s 35ms/step\n"
          ]
        }
      ],
      "source": [
        "preds = model.predict(X_test_padded)"
      ]
    },
    {
      "cell_type": "code",
      "execution_count": 7,
      "metadata": {
        "colab": {
          "base_uri": "https://localhost:8080/"
        },
        "id": "pki2sUEOBesM",
        "outputId": "fd4b7595-3b13-4e05-9e5b-8e2bcb1d6876"
      },
      "outputs": [
        {
          "data": {
            "text/plain": [
              "array([2.8556437e-04, 9.9842405e-01, 7.7309691e-05, 4.8316002e-04,\n",
              "       9.0253081e-05, 1.5668813e-04, 3.3997372e-04, 1.5556836e-05,\n",
              "       1.8358913e-05, 7.4950804e-06, 1.0159880e-04], dtype=float32)"
            ]
          },
          "execution_count": 7,
          "metadata": {},
          "output_type": "execute_result"
        }
      ],
      "source": [
        "preds[0]"
      ]
    },
    {
      "cell_type": "code",
      "execution_count": 8,
      "metadata": {
        "id": "4HH629fZBfSC"
      },
      "outputs": [],
      "source": [
        "preds_new = np.argmax(preds, axis = 1)"
      ]
    },
    {
      "cell_type": "code",
      "execution_count": 9,
      "metadata": {
        "id": "9C-fpfL7BfUp"
      },
      "outputs": [],
      "source": [
        "preds_new = np.array(preds_new)"
      ]
    },
    {
      "cell_type": "code",
      "execution_count": 10,
      "metadata": {
        "colab": {
          "base_uri": "https://localhost:8080/"
        },
        "id": "xFBMThzhBfYB",
        "outputId": "cdb309f7-5950-40f6-dad6-9472b4470048"
      },
      "outputs": [
        {
          "data": {
            "text/plain": [
              "1"
            ]
          },
          "execution_count": 10,
          "metadata": {},
          "output_type": "execute_result"
        }
      ],
      "source": [
        "preds_new[0]"
      ]
    },
    {
      "cell_type": "code",
      "execution_count": 11,
      "metadata": {
        "colab": {
          "base_uri": "https://localhost:8080/"
        },
        "id": "za-d3iyIBmiG",
        "outputId": "fb5ac451-f428-4115-d0aa-e78722b8ccbe"
      },
      "outputs": [
        {
          "name": "stdout",
          "output_type": "stream",
          "text": [
            "F1 score =  0.7025498683136416\n",
            "Precision =  0.720090965335583\n",
            "Recall =  0.699286615345787\n",
            "Accuracy =  0.6991570073761855\n"
          ]
        }
      ],
      "source": [
        "from sklearn.metrics import f1_score,precision_score, recall_score, accuracy_score\n",
        "f1 = f1_score(y_test, preds_new, average='macro')\n",
        "print(\"F1 score = \",f1)\n",
        "precision = precision_score(y_test, preds_new, average='macro')\n",
        "recall = recall_score(y_test, preds_new, average='macro')\n",
        "print(\"Precision = \", precision)\n",
        "print(\"Recall = \", recall)\n",
        "print(\"Accuracy = \", accuracy_score(y_test, preds_new))"
      ]
    },
    {
      "cell_type": "code",
      "execution_count": 12,
      "metadata": {
        "colab": {
          "base_uri": "https://localhost:8080/"
        },
        "id": "huxARdmlB_oK",
        "outputId": "03178822-eada-4dbd-fbc7-6aa084058c33"
      },
      "outputs": [
        {
          "name": "stdout",
          "output_type": "stream",
          "text": [
            "              precision    recall  f1-score   support\n",
            "\n",
            "           0     0.9737    0.8916    0.9308       166\n",
            "           1     0.9465    0.9888    0.9672       179\n",
            "           2     0.4248    0.3757    0.3988       173\n",
            "\n",
            "   micro avg     0.7927    0.7529    0.7723       518\n",
            "   macro avg     0.7817    0.7520    0.7656       518\n",
            "weighted avg     0.7810    0.7529    0.7657       518\n",
            "\n",
            "confusion matrix:  [0.97368421 0.99438202 0.97014925]\n"
          ]
        }
      ],
      "source": [
        "from sklearn.metrics import classification_report, roc_curve, auc, f1_score, accuracy_score, confusion_matrix\n",
        "matrix = confusion_matrix(y_test, preds_new, labels = [0, 1, 2])\n",
        "mat = matrix.diagonal()/matrix.sum(axis=1)\n",
        "print(classification_report(y_test, preds_new, labels = [0, 1, 2],digits=4))\n",
        "print('confusion matrix: ', mat)"
      ]
    }
  ],
  "metadata": {
    "accelerator": "GPU",
    "colab": {
      "gpuType": "T4",
      "machine_shape": "hm",
      "provenance": []
    },
    "gpuClass": "standard",
    "kernelspec": {
      "display_name": "Python 3",
      "name": "python3"
    },
    "language_info": {
      "name": "python"
    }
  },
  "nbformat": 4,
  "nbformat_minor": 0
}
