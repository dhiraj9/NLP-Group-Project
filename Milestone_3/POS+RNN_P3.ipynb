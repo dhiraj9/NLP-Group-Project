{
  "cells": [
    {
      "cell_type": "code",
      "execution_count": 11,
      "metadata": {
        "id": "Y9iZ3b5Y97qs"
      },
      "outputs": [],
      "source": [
        "import numpy as np\n",
        "import pandas as pd\n",
        "from sklearn.model_selection import train_test_split"
      ]
    },
    {
      "cell_type": "code",
      "execution_count": 12,
      "metadata": {
        "id": "GvO0K-gV-EK5"
      },
      "outputs": [],
      "source": [
        "train = pd.read_csv('p3_train.csv')\n",
        "test = pd.read_csv('p3_test.csv')"
      ]
    },
    {
      "cell_type": "code",
      "execution_count": 13,
      "metadata": {
        "id": "KHvq_AqrLBB6"
      },
      "outputs": [],
      "source": [
        "X_train, X_test, y_train, y_test = train_test_split(train['text'], train['label'], test_size=0.2, random_state=42)\n",
        "# X_train, X_val, y_train, y_val = train_test_split(X_train, y_train, test_size=0.2, random_state=42)"
      ]
    },
    {
      "cell_type": "code",
      "execution_count": null,
      "metadata": {},
      "outputs": [],
      "source": [
        "import nltk\n",
        "from nltk.tokenize import word_tokenize\n",
        "from nltk import pos_tag\n",
        "nltk.download('punkt')\n",
        "nltk.download('averaged_perceptron_tagger')"
      ]
    },
    {
      "cell_type": "code",
      "execution_count": null,
      "metadata": {},
      "outputs": [],
      "source": [
        "X_train_tagged_texts = []\n",
        "for text in X_train:\n",
        "    tokens = word_tokenize(text)\n",
        "    tags = pos_tag(tokens)\n",
        "    X_train_tagged_texts.append(tags)\n",
        "X_test_tagged_texts = []\n",
        "for text in X_test:\n",
        "    tokens = word_tokenize(text)\n",
        "    tags = pos_tag(tokens)\n",
        "    X_test_tagged_texts.append(tags)\n",
        "# Map POS tags to integers using NLTK's tagset\n",
        "tagset = {\"CC\": 1, \"CD\": 2, \"DT\": 3, \"EX\": 4, \"FW\": 5, \"IN\": 6, \"JJ\": 7, \"JJR\": 8, \"JJS\": 9, \"LS\": 10, \"MD\": 11,\n",
        "          \"NN\": 12, \"NNS\": 13, \"NNP\": 14, \"NNPS\": 15, \"PDT\": 16, \"POS\": 17, \"PRP\": 18, \"PRP$\": 19, \"RB\": 20,\n",
        "          \"RBR\": 21, \"RBS\": 22, \"RP\": 23, \"SYM\": 24, \"TO\": 25, \"UH\": 26, \"VB\": 27, \"VBD\": 28, \"VBG\": 29,\n",
        "          \"VBN\": 30, \"VBP\": 31, \"VBZ\": 32, \"WDT\": 33, \"WP\": 34, \"WP$\": 35, \"WRB\": 36}\n",
        "X_train_tagged = []\n",
        "for tagged_text in X_train_tagged_texts:\n",
        "    tagged_text_int = []\n",
        "    for word, tag in tagged_text:\n",
        "        if tag in tagset:\n",
        "            tagged_text_int.append(tagset[tag])\n",
        "    X_train_tagged.append(tagged_text_int)\n",
        "\n",
        "X_test_tagged = []\n",
        "for tagged_text in X_test_tagged_texts:\n",
        "    tagged_text_int = []\n",
        "    for word, tag in tagged_text:\n",
        "        if tag in tagset:\n",
        "            tagged_text_int.append(tagset[tag])\n",
        "    X_test_tagged.append(tagged_text_int)\n",
        "\n",
        "\n",
        "max_length = max([len(seq) for seq in X_train_tagged])\n",
        "max_length = max([len(seq) for seq in X_test_tagged])\n",
        "# Pad sequences to a fixed length\n",
        "# max_length = 12270\n",
        "X_train_padded = pad_sequences(X_train_tagged, maxlen=max_length, padding='post')\n",
        "X_test_padded = pad_sequences(X_test_tagged, maxlen=max_length, padding='post')"
      ]
    },
    {
      "cell_type": "code",
      "execution_count": 17,
      "metadata": {
        "colab": {
          "base_uri": "https://localhost:8080/"
        },
        "id": "uQnEyKThLGMp",
        "outputId": "15699dd0-2de1-4fa8-9350-f3af02b23b28"
      },
      "outputs": [
        {
          "name": "stdout",
          "output_type": "stream",
          "text": [
            "Model: \"sequential_1\"\n",
            "_________________________________________________________________\n",
            " Layer (type)                Output Shape              Param #   \n",
            "=================================================================\n",
            " embedding_1 (Embedding)     (None, 5777, 32)          1406304   \n",
            "                                                                 \n",
            " conv1d_2 (Conv1D)           (None, 5777, 64)          6208      \n",
            "                                                                 \n",
            " max_pooling1d_3 (MaxPooling  (None, 1925, 64)         0         \n",
            " 1D)                                                             \n",
            "                                                                 \n",
            " conv1d_3 (Conv1D)           (None, 1925, 32)          6176      \n",
            "                                                                 \n",
            " max_pooling1d_4 (MaxPooling  (None, 641, 32)          0         \n",
            " 1D)                                                             \n",
            "                                                                 \n",
            " simple_rnn_2 (SimpleRNN)    (None, 641, 64)           6208      \n",
            "                                                                 \n",
            " dropout_2 (Dropout)         (None, 641, 64)           0         \n",
            "                                                                 \n",
            " simple_rnn_3 (SimpleRNN)    (None, 641, 32)           3104      \n",
            "                                                                 \n",
            " dropout_3 (Dropout)         (None, 641, 32)           0         \n",
            "                                                                 \n",
            " dense_2 (Dense)             (None, 641, 32)           1056      \n",
            "                                                                 \n",
            " global_max_pooling1d_1 (Glo  (None, 32)               0         \n",
            " balMaxPooling1D)                                                \n",
            "                                                                 \n",
            " dense_3 (Dense)             (None, 11)                363       \n",
            "                                                                 \n",
            "=================================================================\n",
            "Total params: 1,429,419\n",
            "Trainable params: 1,429,419\n",
            "Non-trainable params: 0\n",
            "_________________________________________________________________\n",
            "Epoch 1/15\n",
            "238/238 [==============================] - 282s 1s/step - loss: 2.2157 - accuracy: 0.1719\n",
            "Epoch 2/15\n",
            "238/238 [==============================] - 267s 1s/step - loss: 1.6222 - accuracy: 0.3358\n",
            "Epoch 3/15\n",
            "238/238 [==============================] - 264s 1s/step - loss: 1.2047 - accuracy: 0.5096\n",
            "Epoch 4/15\n",
            "238/238 [==============================] - 256s 1s/step - loss: 0.9009 - accuracy: 0.6340\n",
            "Epoch 5/15\n",
            "238/238 [==============================] - 255s 1s/step - loss: 0.6922 - accuracy: 0.7178\n",
            "Epoch 6/15\n",
            "238/238 [==============================] - 254s 1s/step - loss: 0.5847 - accuracy: 0.7599\n",
            "Epoch 7/15\n",
            "238/238 [==============================] - 255s 1s/step - loss: 0.4908 - accuracy: 0.7976\n",
            "Epoch 8/15\n",
            "238/238 [==============================] - 253s 1s/step - loss: 0.4164 - accuracy: 0.8324\n",
            "Epoch 9/15\n",
            "238/238 [==============================] - 251s 1s/step - loss: 0.3461 - accuracy: 0.8726\n",
            "Epoch 10/15\n",
            "238/238 [==============================] - 251s 1s/step - loss: 0.3495 - accuracy: 0.8799\n",
            "Epoch 11/15\n",
            "238/238 [==============================] - 250s 1s/step - loss: 0.2826 - accuracy: 0.9033\n",
            "Epoch 12/15\n",
            "238/238 [==============================] - 245s 1s/step - loss: 0.1902 - accuracy: 0.9448\n",
            "Epoch 13/15\n",
            "238/238 [==============================] - 244s 1s/step - loss: 0.1608 - accuracy: 0.9576\n",
            "Epoch 14/15\n",
            "238/238 [==============================] - 248s 1s/step - loss: 0.1166 - accuracy: 0.9713\n",
            "Epoch 15/15\n",
            "238/238 [==============================] - 247s 1s/step - loss: 0.1158 - accuracy: 0.9714\n"
          ]
        },
        {
          "data": {
            "text/plain": [
              "<keras.callbacks.History at 0x7fa04197c550>"
            ]
          },
          "execution_count": 17,
          "metadata": {},
          "output_type": "execute_result"
        }
      ],
      "source": [
        "import numpy as np\n",
        "import pandas as pd\n",
        "from sklearn.model_selection import train_test_split\n",
        "from tensorflow.keras.preprocessing.text import Tokenizer\n",
        "from tensorflow.keras.preprocessing.sequence import pad_sequences\n",
        "from tensorflow.keras.models import Sequential\n",
        "from tensorflow.keras.layers import Bidirectional, Embedding, SimpleRNN, Dense, Dropout, Conv1D, MaxPooling1D, GlobalMaxPooling1D\n",
        "\n",
        "# RNN model\n",
        "embedding_dim = 300\n",
        "model = Sequential()\n",
        "model.add(Embedding(input_dim=len(tagset)+1, output_dim=300, input_length=max_length))\n",
        "model.add(Conv1D(64, kernel_size=3, padding='same', activation='relu'))\n",
        "model.add(MaxPooling1D(pool_size=3))\n",
        "model.add(Conv1D(32, kernel_size=3, padding='same', activation='relu'))\n",
        "model.add(MaxPooling1D(pool_size=3))\n",
        "model.add(SimpleRNN(64, return_sequences=True))\n",
        "model.add(Dropout(0.2))\n",
        "model.add(SimpleRNN(32, return_sequences=True))\n",
        "model.add(Dropout(0.2))\n",
        "model.add(MaxPooling1D(pool_size=3))\n",
        "model.add(Dense(32, activation='tanh'))\n",
        "model.add(GlobalMaxPooling1D())\n",
        "model.add(Dense(11, activation='softmax'))\n",
        "model.compile(optimizer='adam', loss='sparse_categorical_crossentropy', metrics=['accuracy'])\n",
        "model.summary()\n",
        "\n",
        "\n",
        "# train the model\n",
        "model.fit(X_train_padded, y_train, epochs=15, batch_size=32)\n"
      ]
    },
    {
      "cell_type": "code",
      "execution_count": 18,
      "metadata": {
        "colab": {
          "base_uri": "https://localhost:8080/"
        },
        "id": "PpI6pNjsLesP",
        "outputId": "1acc79c6-e794-4e39-b88f-53ed4eb6e30f"
      },
      "outputs": [
        {
          "name": "stdout",
          "output_type": "stream",
          "text": [
            "60/60 [==============================] - 6s 96ms/step - loss: 1.6491 - accuracy: 0.6486\n"
          ]
        }
      ],
      "source": [
        "# tokenizer.fit_on_texts(X_test)\n",
        "loss, acc = model.evaluate(X_test_padded, y_test)"
      ]
    },
    {
      "cell_type": "code",
      "execution_count": 19,
      "metadata": {
        "colab": {
          "base_uri": "https://localhost:8080/"
        },
        "id": "fZ11zLATqMk2",
        "outputId": "a21a5530-b1e5-4684-b529-700191cf0ba5"
      },
      "outputs": [
        {
          "name": "stdout",
          "output_type": "stream",
          "text": [
            "60/60 [==============================] - 6s 93ms/step\n"
          ]
        }
      ],
      "source": [
        "preds = model.predict(X_test_padded)"
      ]
    },
    {
      "cell_type": "code",
      "execution_count": 20,
      "metadata": {
        "colab": {
          "base_uri": "https://localhost:8080/"
        },
        "id": "IcdbUZOxqMqk",
        "outputId": "e3415bee-7979-41a8-9cc7-8e16bd95ee33"
      },
      "outputs": [
        {
          "data": {
            "text/plain": [
              "array([2.8149372e-03, 9.9429697e-01, 4.5813277e-11, 1.0549176e-04,\n",
              "       2.7363331e-03, 4.9322665e-07, 1.5290649e-08, 4.5729081e-05,\n",
              "       2.6765791e-08, 2.4716111e-18, 2.1701979e-13], dtype=float32)"
            ]
          },
          "execution_count": 20,
          "metadata": {},
          "output_type": "execute_result"
        }
      ],
      "source": [
        "preds[0]"
      ]
    },
    {
      "cell_type": "code",
      "execution_count": 21,
      "metadata": {
        "id": "to_Wbg7V0lLp"
      },
      "outputs": [],
      "source": [
        "preds_new = np.argmax(preds, axis = 1)"
      ]
    },
    {
      "cell_type": "code",
      "execution_count": 22,
      "metadata": {
        "id": "u_j86SYI0wZX"
      },
      "outputs": [],
      "source": [
        "preds_new = np.array(preds_new)"
      ]
    },
    {
      "cell_type": "code",
      "execution_count": 23,
      "metadata": {
        "colab": {
          "base_uri": "https://localhost:8080/"
        },
        "id": "GU4rdPJ_0z6r",
        "outputId": "5b71b8ec-333c-49c9-937c-5143f10e92ec"
      },
      "outputs": [
        {
          "data": {
            "text/plain": [
              "1"
            ]
          },
          "execution_count": 23,
          "metadata": {},
          "output_type": "execute_result"
        }
      ],
      "source": [
        "preds_new[0]"
      ]
    },
    {
      "cell_type": "code",
      "execution_count": 24,
      "metadata": {
        "colab": {
          "base_uri": "https://localhost:8080/"
        },
        "id": "sHfIoqaA066N",
        "outputId": "71c6f7d0-94ee-43f8-c92a-57bb228d90e1"
      },
      "outputs": [
        {
          "name": "stdout",
          "output_type": "stream",
          "text": [
            "F1 score =  0.6420385229243185\n",
            "Precision =  0.6467518319811617\n",
            "Recall =  0.6486292336253565\n",
            "Accuracy =  0.6485774499473129\n"
          ]
        }
      ],
      "source": [
        "from sklearn.metrics import f1_score,precision_score, recall_score, accuracy_score\n",
        "f1 = f1_score(y_test, preds_new, average = 'macro')\n",
        "print(\"F1 score = \",f1)\n",
        "precision = precision_score(y_test, preds_new, average = 'macro')\n",
        "recall = recall_score(y_test, preds_new, average = 'macro')\n",
        "print(\"Precision = \", precision)\n",
        "print(\"Recall = \", recall)\n",
        "print(\"Accuracy = \", accuracy_score(y_test, preds_new))"
      ]
    },
    {
      "cell_type": "code",
      "execution_count": 25,
      "metadata": {
        "colab": {
          "base_uri": "https://localhost:8080/"
        },
        "id": "9jscN7-aXTEW",
        "outputId": "24a7fd9a-1ce4-489f-c1ba-14237973445b"
      },
      "outputs": [
        {
          "name": "stdout",
          "output_type": "stream",
          "text": [
            "              precision    recall  f1-score   support\n",
            "\n",
            "           0     0.8160    0.8012    0.8085       166\n",
            "           1     0.8883    0.8883    0.8883       179\n",
            "           2     0.3750    0.3642    0.3695       173\n",
            "\n",
            "   micro avg     0.6961    0.6853    0.6907       518\n",
            "   macro avg     0.6931    0.6845    0.6888       518\n",
            "weighted avg     0.6937    0.6853    0.6895       518\n",
            "\n",
            "confusion matrix:  [0.89261745 0.95209581 0.96923077]\n"
          ]
        }
      ],
      "source": [
        "from sklearn.metrics import classification_report, roc_curve, auc, f1_score, accuracy_score, confusion_matrix\n",
        "matrix = confusion_matrix(y_test, preds_new, labels = [0, 1, 2])\n",
        "mat = matrix.diagonal()/matrix.sum(axis=1)\n",
        "print(classification_report(y_test, preds_new, labels = [0, 1, 2],digits=4))\n",
        "print('confusion matrix: ', mat)"
      ]
    }
  ],
  "metadata": {
    "accelerator": "GPU",
    "colab": {
      "gpuType": "T4",
      "machine_shape": "hm",
      "provenance": []
    },
    "gpuClass": "standard",
    "kernelspec": {
      "display_name": "Python 3",
      "name": "python3"
    },
    "language_info": {
      "name": "python"
    }
  },
  "nbformat": 4,
  "nbformat_minor": 0
}
