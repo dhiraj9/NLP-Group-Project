{
  "cells": [
    {
      "cell_type": "code",
      "execution_count": 2,
      "metadata": {
        "id": "XsGEPOCgl3It"
      },
      "outputs": [],
      "source": [
        "import pandas as pd\n",
        "import numpy as np"
      ]
    },
    {
      "attachments": {},
      "cell_type": "markdown",
      "metadata": {
        "id": "iinACgVCl7zX"
      },
      "source": [
        "#Load Dataset"
      ]
    },
    {
      "cell_type": "code",
      "execution_count": 3,
      "metadata": {
        "id": "dSdufw81n5qi"
      },
      "outputs": [],
      "source": [
        "balanced_p1 = pd.read_csv('/content/balanced_p1_reddit.csv')\n",
        "random = pd.read_csv('/content/binary_random_reddit.csv')"
      ]
    },
    {
      "attachments": {},
      "cell_type": "markdown",
      "metadata": {
        "id": "MWwVI5jkh9Ij"
      },
      "source": [
        "#LSTM"
      ]
    },
    {
      "cell_type": "code",
      "execution_count": 4,
      "metadata": {
        "colab": {
          "base_uri": "https://localhost:8080/",
          "height": 206
        },
        "id": "unmj0nXyoCW9",
        "outputId": "a175ae9b-bc47-43e3-8e02-41cd398cd1bd"
      },
      "outputs": [
        {
          "data": {
            "text/html": [
              "\n",
              "  <div id=\"df-c9bb7428-fa99-4636-a1a7-81e8fbf91e9d\">\n",
              "    <div class=\"colab-df-container\">\n",
              "      <div>\n",
              "<style scoped>\n",
              "    .dataframe tbody tr th:only-of-type {\n",
              "        vertical-align: middle;\n",
              "    }\n",
              "\n",
              "    .dataframe tbody tr th {\n",
              "        vertical-align: top;\n",
              "    }\n",
              "\n",
              "    .dataframe thead th {\n",
              "        text-align: right;\n",
              "    }\n",
              "</style>\n",
              "<table border=\"1\" class=\"dataframe\">\n",
              "  <thead>\n",
              "    <tr style=\"text-align: right;\">\n",
              "      <th></th>\n",
              "      <th>Unnamed: 0</th>\n",
              "      <th>T1</th>\n",
              "      <th>T2</th>\n",
              "      <th>class</th>\n",
              "    </tr>\n",
              "  </thead>\n",
              "  <tbody>\n",
              "    <tr>\n",
              "      <th>0</th>\n",
              "      <td>0</td>\n",
              "      <td>I am not for or against any of the ideologies....</td>\n",
              "      <td>Child poverty causes a number of problems for ...</td>\n",
              "      <td>1.0</td>\n",
              "    </tr>\n",
              "    <tr>\n",
              "      <th>1</th>\n",
              "      <td>1</td>\n",
              "      <td>The Green and Libertarian parties have complet...</td>\n",
              "      <td>I am German and my opinion is based on the fla...</td>\n",
              "      <td>1.0</td>\n",
              "    </tr>\n",
              "    <tr>\n",
              "      <th>2</th>\n",
              "      <td>2</td>\n",
              "      <td>As a Libertarian, I'm a firm believer that eve...</td>\n",
              "      <td>Today is Australia's National Holiday, celebra...</td>\n",
              "      <td>1.0</td>\n",
              "    </tr>\n",
              "    <tr>\n",
              "      <th>3</th>\n",
              "      <td>3</td>\n",
              "      <td>I am a young person (&amp;lt;30 years) who has bee...</td>\n",
              "      <td>Abortion, gun safety laws, school shootings, r...</td>\n",
              "      <td>1.0</td>\n",
              "    </tr>\n",
              "    <tr>\n",
              "      <th>4</th>\n",
              "      <td>4</td>\n",
              "      <td>Let me start by saying, I was once just like y...</td>\n",
              "      <td>Now, he's a great guy, but politically... let'...</td>\n",
              "      <td>1.0</td>\n",
              "    </tr>\n",
              "  </tbody>\n",
              "</table>\n",
              "</div>\n",
              "      <button class=\"colab-df-convert\" onclick=\"convertToInteractive('df-c9bb7428-fa99-4636-a1a7-81e8fbf91e9d')\"\n",
              "              title=\"Convert this dataframe to an interactive table.\"\n",
              "              style=\"display:none;\">\n",
              "        \n",
              "  <svg xmlns=\"http://www.w3.org/2000/svg\" height=\"24px\"viewBox=\"0 0 24 24\"\n",
              "       width=\"24px\">\n",
              "    <path d=\"M0 0h24v24H0V0z\" fill=\"none\"/>\n",
              "    <path d=\"M18.56 5.44l.94 2.06.94-2.06 2.06-.94-2.06-.94-.94-2.06-.94 2.06-2.06.94zm-11 1L8.5 8.5l.94-2.06 2.06-.94-2.06-.94L8.5 2.5l-.94 2.06-2.06.94zm10 10l.94 2.06.94-2.06 2.06-.94-2.06-.94-.94-2.06-.94 2.06-2.06.94z\"/><path d=\"M17.41 7.96l-1.37-1.37c-.4-.4-.92-.59-1.43-.59-.52 0-1.04.2-1.43.59L10.3 9.45l-7.72 7.72c-.78.78-.78 2.05 0 2.83L4 21.41c.39.39.9.59 1.41.59.51 0 1.02-.2 1.41-.59l7.78-7.78 2.81-2.81c.8-.78.8-2.07 0-2.86zM5.41 20L4 18.59l7.72-7.72 1.47 1.35L5.41 20z\"/>\n",
              "  </svg>\n",
              "      </button>\n",
              "      \n",
              "  <style>\n",
              "    .colab-df-container {\n",
              "      display:flex;\n",
              "      flex-wrap:wrap;\n",
              "      gap: 12px;\n",
              "    }\n",
              "\n",
              "    .colab-df-convert {\n",
              "      background-color: #E8F0FE;\n",
              "      border: none;\n",
              "      border-radius: 50%;\n",
              "      cursor: pointer;\n",
              "      display: none;\n",
              "      fill: #1967D2;\n",
              "      height: 32px;\n",
              "      padding: 0 0 0 0;\n",
              "      width: 32px;\n",
              "    }\n",
              "\n",
              "    .colab-df-convert:hover {\n",
              "      background-color: #E2EBFA;\n",
              "      box-shadow: 0px 1px 2px rgba(60, 64, 67, 0.3), 0px 1px 3px 1px rgba(60, 64, 67, 0.15);\n",
              "      fill: #174EA6;\n",
              "    }\n",
              "\n",
              "    [theme=dark] .colab-df-convert {\n",
              "      background-color: #3B4455;\n",
              "      fill: #D2E3FC;\n",
              "    }\n",
              "\n",
              "    [theme=dark] .colab-df-convert:hover {\n",
              "      background-color: #434B5C;\n",
              "      box-shadow: 0px 1px 3px 1px rgba(0, 0, 0, 0.15);\n",
              "      filter: drop-shadow(0px 1px 2px rgba(0, 0, 0, 0.3));\n",
              "      fill: #FFFFFF;\n",
              "    }\n",
              "  </style>\n",
              "\n",
              "      <script>\n",
              "        const buttonEl =\n",
              "          document.querySelector('#df-c9bb7428-fa99-4636-a1a7-81e8fbf91e9d button.colab-df-convert');\n",
              "        buttonEl.style.display =\n",
              "          google.colab.kernel.accessAllowed ? 'block' : 'none';\n",
              "\n",
              "        async function convertToInteractive(key) {\n",
              "          const element = document.querySelector('#df-c9bb7428-fa99-4636-a1a7-81e8fbf91e9d');\n",
              "          const dataTable =\n",
              "            await google.colab.kernel.invokeFunction('convertToInteractive',\n",
              "                                                     [key], {});\n",
              "          if (!dataTable) return;\n",
              "\n",
              "          const docLinkHtml = 'Like what you see? Visit the ' +\n",
              "            '<a target=\"_blank\" href=https://colab.research.google.com/notebooks/data_table.ipynb>data table notebook</a>'\n",
              "            + ' to learn more about interactive tables.';\n",
              "          element.innerHTML = '';\n",
              "          dataTable['output_type'] = 'display_data';\n",
              "          await google.colab.output.renderOutput(dataTable, element);\n",
              "          const docLink = document.createElement('div');\n",
              "          docLink.innerHTML = docLinkHtml;\n",
              "          element.appendChild(docLink);\n",
              "        }\n",
              "      </script>\n",
              "    </div>\n",
              "  </div>\n",
              "  "
            ],
            "text/plain": [
              "   Unnamed: 0                                                 T1  \\\n",
              "0           0  I am not for or against any of the ideologies....   \n",
              "1           1  The Green and Libertarian parties have complet...   \n",
              "2           2  As a Libertarian, I'm a firm believer that eve...   \n",
              "3           3  I am a young person (&lt;30 years) who has bee...   \n",
              "4           4  Let me start by saying, I was once just like y...   \n",
              "\n",
              "                                                  T2  class  \n",
              "0  Child poverty causes a number of problems for ...    1.0  \n",
              "1  I am German and my opinion is based on the fla...    1.0  \n",
              "2  Today is Australia's National Holiday, celebra...    1.0  \n",
              "3  Abortion, gun safety laws, school shootings, r...    1.0  \n",
              "4  Now, he's a great guy, but politically... let'...    1.0  "
            ]
          },
          "execution_count": 4,
          "metadata": {},
          "output_type": "execute_result"
        }
      ],
      "source": [
        "balanced_p1.head()"
      ]
    },
    {
      "cell_type": "code",
      "execution_count": 6,
      "metadata": {
        "id": "4HaqELrMFZtS"
      },
      "outputs": [],
      "source": [
        "from sklearn.model_selection import train_test_split\n",
        "\n",
        "X_train, X_test, y_train, y_test = train_test_split(balanced_p1['T1']+ balanced_p1['T2'], balanced_p1['class'], test_size=0.2, random_state=42)\n"
      ]
    },
    {
      "cell_type": "code",
      "execution_count": 9,
      "metadata": {
        "id": "lG8BBBPUCYiM"
      },
      "outputs": [],
      "source": [
        "import numpy as np\n",
        "import pandas as pd\n",
        "from sklearn.model_selection import train_test_split\n",
        "from tensorflow.keras.preprocessing.text import Tokenizer\n",
        "from tensorflow.keras.preprocessing.sequence import pad_sequences\n",
        "from tensorflow.keras.models import Sequential\n",
        "from tensorflow.keras.layers import Bidirectional, Embedding, LSTM, Dense, Dropout, Conv1D, MaxPooling1D, GlobalMaxPooling1D"
      ]
    },
    {
      "cell_type": "code",
      "execution_count": 11,
      "metadata": {
        "colab": {
          "base_uri": "https://localhost:8080/"
        },
        "id": "xZy_W3Z3Cb71",
        "outputId": "dd618d86-f877-4300-fbb4-66f721dbf80e"
      },
      "outputs": [
        {
          "name": "stdout",
          "output_type": "stream",
          "text": [
            "3530\n"
          ]
        }
      ],
      "source": [
        "# tokenization and padding\n",
        "tokenizer = Tokenizer()\n",
        "tokenizer.fit_on_texts(X_train)\n",
        "X_train_seq = tokenizer.texts_to_sequences(X_train)\n",
        "X_test_seq = tokenizer.texts_to_sequences(X_test)\n",
        "max_length = max([len(seq) for seq in X_train_seq])\n",
        "max_length = max([len(seq) for seq in X_test_seq])\n",
        "X_train_padded = pad_sequences(X_train_seq, maxlen=max_length, padding='post')\n",
        "X_test_padded = pad_sequences(X_test_seq, maxlen=max_length, padding='post')"
      ]
    },
    {
      "cell_type": "code",
      "execution_count": 17,
      "metadata": {
        "colab": {
          "base_uri": "https://localhost:8080/"
        },
        "id": "bCUjdfrsiBsn",
        "outputId": "0ce5ff44-0a3c-40ff-adb5-7a21b0e03974"
      },
      "outputs": [
        {
          "name": "stdout",
          "output_type": "stream",
          "text": [
            "Epoch 1/15\n",
            "48/48 [==============================] - 20s 267ms/step - loss: 0.6903 - accuracy: 0.5553\n",
            "Epoch 2/15\n",
            "48/48 [==============================] - 13s 272ms/step - loss: 0.6166 - accuracy: 0.6678\n",
            "Epoch 3/15\n",
            "48/48 [==============================] - 12s 244ms/step - loss: 0.4947 - accuracy: 0.7592\n",
            "Epoch 4/15\n",
            "48/48 [==============================] - 11s 224ms/step - loss: 0.4033 - accuracy: 0.8066\n",
            "Epoch 5/15\n",
            "48/48 [==============================] - 11s 237ms/step - loss: 0.3899 - accuracy: 0.8309\n",
            "Epoch 6/15\n",
            "48/48 [==============================] - 11s 223ms/step - loss: 0.3113 - accuracy: 0.8632\n",
            "Epoch 7/15\n",
            "48/48 [==============================] - 11s 224ms/step - loss: 0.2438 - accuracy: 0.9086\n",
            "Epoch 8/15\n",
            "48/48 [==============================] - 10s 211ms/step - loss: 0.2394 - accuracy: 0.9138\n",
            "Epoch 9/15\n",
            "48/48 [==============================] - 10s 212ms/step - loss: 0.2155 - accuracy: 0.9211\n",
            "Epoch 10/15\n",
            "48/48 [==============================] - 9s 194ms/step - loss: 0.1520 - accuracy: 0.9520\n",
            "Epoch 11/15\n",
            "48/48 [==============================] - 10s 215ms/step - loss: 0.1073 - accuracy: 0.9691\n",
            "Epoch 12/15\n",
            "48/48 [==============================] - 8s 164ms/step - loss: 0.1000 - accuracy: 0.9671\n",
            "Epoch 13/15\n",
            "48/48 [==============================] - 10s 197ms/step - loss: 0.0944 - accuracy: 0.9684\n",
            "Epoch 14/15\n",
            "48/48 [==============================] - 9s 180ms/step - loss: 0.2543 - accuracy: 0.9092\n",
            "Epoch 15/15\n",
            "48/48 [==============================] - 8s 167ms/step - loss: 0.1054 - accuracy: 0.9632\n"
          ]
        },
        {
          "data": {
            "text/plain": [
              "<keras.callbacks.History at 0x7f5ed1218340>"
            ]
          },
          "execution_count": 17,
          "metadata": {},
          "output_type": "execute_result"
        }
      ],
      "source": [
        "\n",
        "# LSTM model\n",
        "model = Sequential()\n",
        "model.add(Embedding(input_dim=len(tokenizer.word_index)+1, output_dim=32, input_length=max_length))\n",
        "model.add(Conv1D(64, kernel_size=3, padding='same', activation='relu'))\n",
        "model.add(MaxPooling1D(pool_size=3))\n",
        "model.add(Conv1D(32, kernel_size=3, padding='same', activation='relu'))\n",
        "model.add(MaxPooling1D(pool_size=3))\n",
        "model.add(Bidirectional(LSTM(64, return_sequences=True)))\n",
        "model.add(Dropout(0.2))\n",
        "model.add(Bidirectional(LSTM(32, return_sequences = True)))\n",
        "model.add(Dropout(0.2))\n",
        "model.add(MaxPooling1D(pool_size=5))\n",
        "model.add(Dense(32, activation='tanh'))\n",
        "model.add(GlobalMaxPooling1D())\n",
        "model.add(Dense(2, activation='softmax'))  # 2 classes: generated by same method or not\n",
        "model.compile(loss='sparse_categorical_crossentropy', optimizer='adam', metrics=['accuracy'])\n",
        "\n",
        "# train the model\n",
        "model.fit(X_train_padded, y_train, epochs=15, batch_size=32)\n"
      ]
    },
    {
      "cell_type": "code",
      "execution_count": 18,
      "metadata": {
        "colab": {
          "base_uri": "https://localhost:8080/"
        },
        "id": "gOnaFT0AFC38",
        "outputId": "9fa54608-1925-4d3d-f288-1e7ae542676f"
      },
      "outputs": [
        {
          "name": "stdout",
          "output_type": "stream",
          "text": [
            "12/12 [==============================] - 2s 24ms/step - loss: 0.4732 - accuracy: 0.8158\n"
          ]
        }
      ],
      "source": [
        "# tokenizer = Tokenizer()\n",
        "tokenizer.fit_on_texts(X_test)\n",
        "loss, acc = model.evaluate(X_test_padded, y_test)"
      ]
    },
    {
      "cell_type": "code",
      "execution_count": 19,
      "metadata": {
        "colab": {
          "base_uri": "https://localhost:8080/"
        },
        "id": "kZrGHs4TnomH",
        "outputId": "b27c1625-7d8e-406c-a1c1-87b9d6e89339"
      },
      "outputs": [
        {
          "data": {
            "text/plain": [
              "(380, 3530)"
            ]
          },
          "execution_count": 19,
          "metadata": {},
          "output_type": "execute_result"
        }
      ],
      "source": [
        "X_test_padded.shape"
      ]
    },
    {
      "cell_type": "code",
      "execution_count": 20,
      "metadata": {
        "colab": {
          "base_uri": "https://localhost:8080/"
        },
        "id": "HISJLY9uogVa",
        "outputId": "6d9a11ba-3132-4f99-edd2-ce2ec7862264"
      },
      "outputs": [
        {
          "data": {
            "text/plain": [
              "(1520, 3530)"
            ]
          },
          "execution_count": 20,
          "metadata": {},
          "output_type": "execute_result"
        }
      ],
      "source": [
        "X_train_padded.shape"
      ]
    },
    {
      "cell_type": "code",
      "execution_count": 21,
      "metadata": {
        "colab": {
          "base_uri": "https://localhost:8080/"
        },
        "id": "1Vf_Ej8dFWpg",
        "outputId": "5f41e5d5-1629-49cf-b6ce-f5823c82c7c9"
      },
      "outputs": [
        {
          "name": "stdout",
          "output_type": "stream",
          "text": [
            "12/12 [==============================] - 2s 34ms/step\n"
          ]
        },
        {
          "data": {
            "text/plain": [
              "array([0.10229696, 0.8977031 ], dtype=float32)"
            ]
          },
          "execution_count": 21,
          "metadata": {},
          "output_type": "execute_result"
        }
      ],
      "source": [
        "preds = model.predict(X_test_padded)\n",
        "preds[1]\n"
      ]
    },
    {
      "cell_type": "code",
      "execution_count": 22,
      "metadata": {
        "id": "yvuoNoUkyPpc"
      },
      "outputs": [],
      "source": [
        "preds_new = []\n",
        "for i in preds:\n",
        "  if(i[0]>i[1]):\n",
        "    preds_new.append(0.0)\n",
        "  else:\n",
        "    preds_new.append(1.0)"
      ]
    },
    {
      "cell_type": "code",
      "execution_count": 23,
      "metadata": {
        "colab": {
          "base_uri": "https://localhost:8080/"
        },
        "id": "mbKcq43Q6jQE",
        "outputId": "965b35e3-adeb-49b8-87dc-0f58caed6da6"
      },
      "outputs": [
        {
          "data": {
            "text/plain": [
              "1.0"
            ]
          },
          "execution_count": 23,
          "metadata": {},
          "output_type": "execute_result"
        }
      ],
      "source": [
        "preds_new[1]"
      ]
    },
    {
      "cell_type": "code",
      "execution_count": 24,
      "metadata": {
        "colab": {
          "base_uri": "https://localhost:8080/"
        },
        "id": "sd9zXib2yTdo",
        "outputId": "cae1fdc8-1521-4dbc-91f0-9b392de15608"
      },
      "outputs": [
        {
          "data": {
            "text/plain": [
              "1.0"
            ]
          },
          "execution_count": 24,
          "metadata": {},
          "output_type": "execute_result"
        }
      ],
      "source": [
        "y_test_array = np.array(y_test)\n",
        "y_test_array[1]"
      ]
    },
    {
      "cell_type": "code",
      "execution_count": 26,
      "metadata": {
        "colab": {
          "base_uri": "https://localhost:8080/"
        },
        "id": "eScS8WbRLrmD",
        "outputId": "dc61cc5f-db4b-4e27-f362-56b1feeb23c7"
      },
      "outputs": [
        {
          "name": "stdout",
          "output_type": "stream",
          "text": [
            "Balanced Scores\n",
            "F1 score =  0.7941176470588235\n",
            "Precision =  0.8709677419354839\n",
            "Recall =  0.7297297297297297\n",
            "Accuracy =  0.8157894736842105\n"
          ]
        }
      ],
      "source": [
        "from sklearn.metrics import f1_score,precision_score, recall_score, accuracy_score\n",
        "f1 = f1_score(y_test, preds_new)\n",
        "print(\"Balanced Scores\")\n",
        "print(\"F1 score = \",f1)\n",
        "precision = precision_score(y_test, preds_new)\n",
        "recall = recall_score(y_test, preds_new)\n",
        "print(\"Precision = \", precision)\n",
        "print(\"Recall = \", recall)\n",
        "print(\"Accuracy = \", accuracy_score(y_test, preds_new))"
      ]
    },
    {
      "cell_type": "code",
      "execution_count": null,
      "metadata": {
        "id": "BaNoA8OMYwgV"
      },
      "outputs": [],
      "source": []
    }
  ],
  "metadata": {
    "accelerator": "GPU",
    "colab": {
      "gpuType": "T4",
      "machine_shape": "hm",
      "provenance": []
    },
    "gpuClass": "standard",
    "kernelspec": {
      "display_name": "Python 3",
      "name": "python3"
    },
    "language_info": {
      "name": "python"
    }
  },
  "nbformat": 4,
  "nbformat_minor": 0
}
