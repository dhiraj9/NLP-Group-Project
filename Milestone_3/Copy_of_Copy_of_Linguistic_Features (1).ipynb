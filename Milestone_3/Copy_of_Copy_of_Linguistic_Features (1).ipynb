{
  "cells": [
    {
      "cell_type": "code",
      "execution_count": null,
      "metadata": {
        "id": "0bZ4o4gS6tjg"
      },
      "outputs": [],
      "source": [
        "#BEGIN"
      ],
      "id": "0bZ4o4gS6tjg"
    },
    {
      "cell_type": "code",
      "execution_count": null,
      "metadata": {
        "colab": {
          "base_uri": "https://localhost:8080/"
        },
        "id": "a610df20",
        "outputId": "c70f84b3-9d42-4a04-d362-0bb793d750a5"
      },
      "outputs": [
        {
          "name": "stdout",
          "output_type": "stream",
          "text": [
            "Mounted at /content/drive\n",
            "drive  sample_data\n"
          ]
        }
      ],
      "source": [
        "from google.colab import drive\n",
        "drive.mount('/content/drive')\n",
        "!ls"
      ],
      "id": "a610df20"
    },
    {
      "cell_type": "code",
      "execution_count": null,
      "metadata": {
        "colab": {
          "base_uri": "https://localhost:8080/"
        },
        "id": "IdD9w5gf7CSt",
        "outputId": "5b3ae5d0-2589-44c0-ccba-f53fac68d470"
      },
      "outputs": [
        {
          "name": "stdout",
          "output_type": "stream",
          "text": [
            "Looking in indexes: https://pypi.org/simple, https://us-python.pkg.dev/colab-wheels/public/simple/\n",
            "Collecting simpletransformers\n",
            "  Downloading simpletransformers-0.63.11-py3-none-any.whl (250 kB)\n",
            "\u001b[2K     \u001b[90m━━━━━━━━━━━━━━━━━━━━━━━━━━━━━━━━━━━━━━\u001b[0m \u001b[32m250.7/250.7 kB\u001b[0m \u001b[31m21.5 MB/s\u001b[0m eta \u001b[36m0:00:00\u001b[0m\n",
            "\u001b[?25hRequirement already satisfied: numpy in /usr/local/lib/python3.10/dist-packages (from simpletransformers) (1.22.4)\n",
            "Requirement already satisfied: requests in /usr/local/lib/python3.10/dist-packages (from simpletransformers) (2.27.1)\n",
            "Requirement already satisfied: tqdm>=4.47.0 in /usr/local/lib/python3.10/dist-packages (from simpletransformers) (4.65.0)\n",
            "Requirement already satisfied: regex in /usr/local/lib/python3.10/dist-packages (from simpletransformers) (2022.10.31)\n",
            "Collecting transformers>=4.6.0 (from simpletransformers)\n",
            "  Downloading transformers-4.29.0-py3-none-any.whl (7.1 MB)\n",
            "\u001b[2K     \u001b[90m━━━━━━━━━━━━━━━━━━━━━━━━━━━━━━━━━━━━━━━━\u001b[0m \u001b[32m7.1/7.1 MB\u001b[0m \u001b[31m90.9 MB/s\u001b[0m eta \u001b[36m0:00:00\u001b[0m\n",
            "\u001b[?25hCollecting datasets (from simpletransformers)\n",
            "  Downloading datasets-2.12.0-py3-none-any.whl (474 kB)\n",
            "\u001b[2K     \u001b[90m━━━━━━━━━━━━━━━━━━━━━━━━━━━━━━━━━━━━━━\u001b[0m \u001b[32m474.6/474.6 kB\u001b[0m \u001b[31m43.6 MB/s\u001b[0m eta \u001b[36m0:00:00\u001b[0m\n",
            "\u001b[?25hRequirement already satisfied: scipy in /usr/local/lib/python3.10/dist-packages (from simpletransformers) (1.10.1)\n",
            "Requirement already satisfied: scikit-learn in /usr/local/lib/python3.10/dist-packages (from simpletransformers) (1.2.2)\n",
            "Collecting seqeval (from simpletransformers)\n",
            "  Downloading seqeval-1.2.2.tar.gz (43 kB)\n",
            "\u001b[2K     \u001b[90m━━━━━━━━━━━━━━━━━━━━━━━━━━━━━━━━━━━━━━━━\u001b[0m \u001b[32m43.6/43.6 kB\u001b[0m \u001b[31m6.2 MB/s\u001b[0m eta \u001b[36m0:00:00\u001b[0m\n",
            "\u001b[?25h  Preparing metadata (setup.py) ... \u001b[?25l\u001b[?25hdone\n",
            "Requirement already satisfied: tensorboard in /usr/local/lib/python3.10/dist-packages (from simpletransformers) (2.12.2)\n",
            "Requirement already satisfied: pandas in /usr/local/lib/python3.10/dist-packages (from simpletransformers) (1.5.3)\n",
            "Collecting tokenizers (from simpletransformers)\n",
            "  Downloading tokenizers-0.13.3-cp310-cp310-manylinux_2_17_x86_64.manylinux2014_x86_64.whl (7.8 MB)\n",
            "\u001b[2K     \u001b[90m━━━━━━━━━━━━━━━━━━━━━━━━━━━━━━━━━━━━━━━━\u001b[0m \u001b[32m7.8/7.8 MB\u001b[0m \u001b[31m86.8 MB/s\u001b[0m eta \u001b[36m0:00:00\u001b[0m\n",
            "\u001b[?25hCollecting wandb>=0.10.32 (from simpletransformers)\n",
            "  Downloading wandb-0.15.2-py3-none-any.whl (2.0 MB)\n",
            "\u001b[2K     \u001b[90m━━━━━━━━━━━━━━━━━━━━━━━━━━━━━━━━━━━━━━━━\u001b[0m \u001b[32m2.0/2.0 MB\u001b[0m \u001b[31m97.8 MB/s\u001b[0m eta \u001b[36m0:00:00\u001b[0m\n",
            "\u001b[?25hCollecting streamlit (from simpletransformers)\n",
            "  Downloading streamlit-1.22.0-py2.py3-none-any.whl (8.9 MB)\n",
            "\u001b[2K     \u001b[90m━━━━━━━━━━━━━━━━━━━━━━━━━━━━━━━━━━━━━━━━\u001b[0m \u001b[32m8.9/8.9 MB\u001b[0m \u001b[31m113.3 MB/s\u001b[0m eta \u001b[36m0:00:00\u001b[0m\n",
            "\u001b[?25hCollecting sentencepiece (from simpletransformers)\n",
            "  Downloading sentencepiece-0.1.99-cp310-cp310-manylinux_2_17_x86_64.manylinux2014_x86_64.whl (1.3 MB)\n",
            "\u001b[2K     \u001b[90m━━━━━━━━━━━━━━━━━━━━━━━━━━━━━━━━━━━━━━━━\u001b[0m \u001b[32m1.3/1.3 MB\u001b[0m \u001b[31m86.9 MB/s\u001b[0m eta \u001b[36m0:00:00\u001b[0m\n",
            "\u001b[?25hRequirement already satisfied: filelock in /usr/local/lib/python3.10/dist-packages (from transformers>=4.6.0->simpletransformers) (3.12.0)\n",
            "Collecting huggingface-hub<1.0,>=0.11.0 (from transformers>=4.6.0->simpletransformers)\n",
            "  Downloading huggingface_hub-0.14.1-py3-none-any.whl (224 kB)\n",
            "\u001b[2K     \u001b[90m━━━━━━━━━━━━━━━━━━━━━━━━━━━━━━━━━━━━━━\u001b[0m \u001b[32m224.5/224.5 kB\u001b[0m \u001b[31m29.2 MB/s\u001b[0m eta \u001b[36m0:00:00\u001b[0m\n",
            "\u001b[?25hRequirement already satisfied: packaging>=20.0 in /usr/local/lib/python3.10/dist-packages (from transformers>=4.6.0->simpletransformers) (23.1)\n",
            "Requirement already satisfied: pyyaml>=5.1 in /usr/local/lib/python3.10/dist-packages (from transformers>=4.6.0->simpletransformers) (6.0)\n",
            "Requirement already satisfied: Click!=8.0.0,>=7.0 in /usr/local/lib/python3.10/dist-packages (from wandb>=0.10.32->simpletransformers) (8.1.3)\n",
            "Collecting GitPython!=3.1.29,>=1.0.0 (from wandb>=0.10.32->simpletransformers)\n",
            "  Downloading GitPython-3.1.31-py3-none-any.whl (184 kB)\n",
            "\u001b[2K     \u001b[90m━━━━━━━━━━━━━━━━━━━━━━━━━━━━━━━━━━━━━━\u001b[0m \u001b[32m184.3/184.3 kB\u001b[0m \u001b[31m26.6 MB/s\u001b[0m eta \u001b[36m0:00:00\u001b[0m\n",
            "\u001b[?25hRequirement already satisfied: psutil>=5.0.0 in /usr/local/lib/python3.10/dist-packages (from wandb>=0.10.32->simpletransformers) (5.9.5)\n",
            "Collecting sentry-sdk>=1.0.0 (from wandb>=0.10.32->simpletransformers)\n",
            "  Downloading sentry_sdk-1.22.2-py2.py3-none-any.whl (203 kB)\n",
            "\u001b[2K     \u001b[90m━━━━━━━━━━━━━━━━━━━━━━━━━━━━━━━━━━━━━━\u001b[0m \u001b[32m203.3/203.3 kB\u001b[0m \u001b[31m26.5 MB/s\u001b[0m eta \u001b[36m0:00:00\u001b[0m\n",
            "\u001b[?25hCollecting docker-pycreds>=0.4.0 (from wandb>=0.10.32->simpletransformers)\n",
            "  Downloading docker_pycreds-0.4.0-py2.py3-none-any.whl (9.0 kB)\n",
            "Collecting pathtools (from wandb>=0.10.32->simpletransformers)\n",
            "  Downloading pathtools-0.1.2.tar.gz (11 kB)\n",
            "  Preparing metadata (setup.py) ... \u001b[?25l\u001b[?25hdone\n",
            "Collecting setproctitle (from wandb>=0.10.32->simpletransformers)\n",
            "  Downloading setproctitle-1.3.2-cp310-cp310-manylinux_2_5_x86_64.manylinux1_x86_64.manylinux_2_17_x86_64.manylinux2014_x86_64.whl (30 kB)\n",
            "Requirement already satisfied: setuptools in /usr/local/lib/python3.10/dist-packages (from wandb>=0.10.32->simpletransformers) (67.7.2)\n",
            "Requirement already satisfied: appdirs>=1.4.3 in /usr/local/lib/python3.10/dist-packages (from wandb>=0.10.32->simpletransformers) (1.4.4)\n",
            "Requirement already satisfied: protobuf!=4.21.0,<5,>=3.19.0 in /usr/local/lib/python3.10/dist-packages (from wandb>=0.10.32->simpletransformers) (3.20.3)\n",
            "Requirement already satisfied: urllib3<1.27,>=1.21.1 in /usr/local/lib/python3.10/dist-packages (from requests->simpletransformers) (1.26.15)\n",
            "Requirement already satisfied: certifi>=2017.4.17 in /usr/local/lib/python3.10/dist-packages (from requests->simpletransformers) (2022.12.7)\n",
            "Requirement already satisfied: charset-normalizer~=2.0.0 in /usr/local/lib/python3.10/dist-packages (from requests->simpletransformers) (2.0.12)\n",
            "Requirement already satisfied: idna<4,>=2.5 in /usr/local/lib/python3.10/dist-packages (from requests->simpletransformers) (3.4)\n",
            "Requirement already satisfied: pyarrow>=8.0.0 in /usr/local/lib/python3.10/dist-packages (from datasets->simpletransformers) (9.0.0)\n",
            "Collecting dill<0.3.7,>=0.3.0 (from datasets->simpletransformers)\n",
            "  Downloading dill-0.3.6-py3-none-any.whl (110 kB)\n",
            "\u001b[2K     \u001b[90m━━━━━━━━━━━━━━━━━━━━━━━━━━━━━━━━━━━━━━\u001b[0m \u001b[32m110.5/110.5 kB\u001b[0m \u001b[31m15.0 MB/s\u001b[0m eta \u001b[36m0:00:00\u001b[0m\n",
            "\u001b[?25hCollecting xxhash (from datasets->simpletransformers)\n",
            "  Downloading xxhash-3.2.0-cp310-cp310-manylinux_2_17_x86_64.manylinux2014_x86_64.whl (212 kB)\n",
            "\u001b[2K     \u001b[90m━━━━━━━━━━━━━━━━━━━━━━━━━━━━━━━━━━━━━━\u001b[0m \u001b[32m212.5/212.5 kB\u001b[0m \u001b[31m24.5 MB/s\u001b[0m eta \u001b[36m0:00:00\u001b[0m\n",
            "\u001b[?25hCollecting multiprocess (from datasets->simpletransformers)\n",
            "  Downloading multiprocess-0.70.14-py310-none-any.whl (134 kB)\n",
            "\u001b[2K     \u001b[90m━━━━━━━━━━━━━━━━━━━━━━━━━━━━━━━━━━━━━━\u001b[0m \u001b[32m134.3/134.3 kB\u001b[0m \u001b[31m18.6 MB/s\u001b[0m eta \u001b[36m0:00:00\u001b[0m\n",
            "\u001b[?25hRequirement already satisfied: fsspec[http]>=2021.11.1 in /usr/local/lib/python3.10/dist-packages (from datasets->simpletransformers) (2023.4.0)\n",
            "Collecting aiohttp (from datasets->simpletransformers)\n",
            "  Downloading aiohttp-3.8.4-cp310-cp310-manylinux_2_17_x86_64.manylinux2014_x86_64.whl (1.0 MB)\n",
            "\u001b[2K     \u001b[90m━━━━━━━━━━━━━━━━━━━━━━━━━━━━━━━━━━━━━━━━\u001b[0m \u001b[32m1.0/1.0 MB\u001b[0m \u001b[31m39.1 MB/s\u001b[0m eta \u001b[36m0:00:00\u001b[0m\n",
            "\u001b[?25hCollecting responses<0.19 (from datasets->simpletransformers)\n",
            "  Downloading responses-0.18.0-py3-none-any.whl (38 kB)\n",
            "Requirement already satisfied: python-dateutil>=2.8.1 in /usr/local/lib/python3.10/dist-packages (from pandas->simpletransformers) (2.8.2)\n",
            "Requirement already satisfied: pytz>=2020.1 in /usr/local/lib/python3.10/dist-packages (from pandas->simpletransformers) (2022.7.1)\n",
            "Requirement already satisfied: joblib>=1.1.1 in /usr/local/lib/python3.10/dist-packages (from scikit-learn->simpletransformers) (1.2.0)\n",
            "Requirement already satisfied: threadpoolctl>=2.0.0 in /usr/local/lib/python3.10/dist-packages (from scikit-learn->simpletransformers) (3.1.0)\n",
            "Requirement already satisfied: altair<5,>=3.2.0 in /usr/local/lib/python3.10/dist-packages (from streamlit->simpletransformers) (4.2.2)\n",
            "Collecting blinker>=1.0.0 (from streamlit->simpletransformers)\n",
            "  Downloading blinker-1.6.2-py3-none-any.whl (13 kB)\n",
            "Requirement already satisfied: cachetools>=4.0 in /usr/local/lib/python3.10/dist-packages (from streamlit->simpletransformers) (5.3.0)\n",
            "Collecting importlib-metadata>=1.4 (from streamlit->simpletransformers)\n",
            "  Downloading importlib_metadata-6.6.0-py3-none-any.whl (22 kB)\n",
            "Requirement already satisfied: pillow>=6.2.0 in /usr/local/lib/python3.10/dist-packages (from streamlit->simpletransformers) (8.4.0)\n",
            "Collecting pympler>=0.9 (from streamlit->simpletransformers)\n",
            "  Downloading Pympler-1.0.1-py3-none-any.whl (164 kB)\n",
            "\u001b[2K     \u001b[90m━━━━━━━━━━━━━━━━━━━━━━━━━━━━━━━━━━━━━━\u001b[0m \u001b[32m164.8/164.8 kB\u001b[0m \u001b[31m16.5 MB/s\u001b[0m eta \u001b[36m0:00:00\u001b[0m\n",
            "\u001b[?25hRequirement already satisfied: rich>=10.11.0 in /usr/local/lib/python3.10/dist-packages (from streamlit->simpletransformers) (13.3.4)\n",
            "Requirement already satisfied: tenacity<9,>=8.0.0 in /usr/local/lib/python3.10/dist-packages (from streamlit->simpletransformers) (8.2.2)\n",
            "Requirement already satisfied: toml in /usr/local/lib/python3.10/dist-packages (from streamlit->simpletransformers) (0.10.2)\n",
            "Requirement already satisfied: typing-extensions>=3.10.0.0 in /usr/local/lib/python3.10/dist-packages (from streamlit->simpletransformers) (4.5.0)\n",
            "Requirement already satisfied: tzlocal>=1.1 in /usr/local/lib/python3.10/dist-packages (from streamlit->simpletransformers) (4.3)\n",
            "Collecting validators>=0.2 (from streamlit->simpletransformers)\n",
            "  Downloading validators-0.20.0.tar.gz (30 kB)\n",
            "  Preparing metadata (setup.py) ... \u001b[?25l\u001b[?25hdone\n",
            "Collecting pydeck>=0.1.dev5 (from streamlit->simpletransformers)\n",
            "  Downloading pydeck-0.8.1b0-py2.py3-none-any.whl (4.8 MB)\n",
            "\u001b[2K     \u001b[90m━━━━━━━━━━━━━━━━━━━━━━━━━━━━━━━━━━━━━━━━\u001b[0m \u001b[32m4.8/4.8 MB\u001b[0m \u001b[31m38.4 MB/s\u001b[0m eta \u001b[36m0:00:00\u001b[0m\n",
            "\u001b[?25hRequirement already satisfied: tornado>=6.0.3 in /usr/local/lib/python3.10/dist-packages (from streamlit->simpletransformers) (6.2)\n",
            "Collecting watchdog (from streamlit->simpletransformers)\n",
            "  Downloading watchdog-3.0.0-py3-none-manylinux2014_x86_64.whl (82 kB)\n",
            "\u001b[2K     \u001b[90m━━━━━━━━━━━━━━━━━━━━━━━━━━━━━━━━━━━━━━━━\u001b[0m \u001b[32m82.1/82.1 kB\u001b[0m \u001b[31m10.2 MB/s\u001b[0m eta \u001b[36m0:00:00\u001b[0m\n",
            "\u001b[?25hRequirement already satisfied: absl-py>=0.4 in /usr/local/lib/python3.10/dist-packages (from tensorboard->simpletransformers) (1.4.0)\n",
            "Requirement already satisfied: grpcio>=1.48.2 in /usr/local/lib/python3.10/dist-packages (from tensorboard->simpletransformers) (1.54.0)\n",
            "Requirement already satisfied: google-auth<3,>=1.6.3 in /usr/local/lib/python3.10/dist-packages (from tensorboard->simpletransformers) (2.17.3)\n",
            "Requirement already satisfied: google-auth-oauthlib<1.1,>=0.5 in /usr/local/lib/python3.10/dist-packages (from tensorboard->simpletransformers) (1.0.0)\n",
            "Requirement already satisfied: markdown>=2.6.8 in /usr/local/lib/python3.10/dist-packages (from tensorboard->simpletransformers) (3.4.3)\n",
            "Requirement already satisfied: tensorboard-data-server<0.8.0,>=0.7.0 in /usr/local/lib/python3.10/dist-packages (from tensorboard->simpletransformers) (0.7.0)\n",
            "Requirement already satisfied: tensorboard-plugin-wit>=1.6.0 in /usr/local/lib/python3.10/dist-packages (from tensorboard->simpletransformers) (1.8.1)\n",
            "Requirement already satisfied: werkzeug>=1.0.1 in /usr/local/lib/python3.10/dist-packages (from tensorboard->simpletransformers) (2.3.0)\n",
            "Requirement already satisfied: wheel>=0.26 in /usr/local/lib/python3.10/dist-packages (from tensorboard->simpletransformers) (0.40.0)\n",
            "Requirement already satisfied: entrypoints in /usr/local/lib/python3.10/dist-packages (from altair<5,>=3.2.0->streamlit->simpletransformers) (0.4)\n",
            "Requirement already satisfied: jinja2 in /usr/local/lib/python3.10/dist-packages (from altair<5,>=3.2.0->streamlit->simpletransformers) (3.1.2)\n",
            "Requirement already satisfied: jsonschema>=3.0 in /usr/local/lib/python3.10/dist-packages (from altair<5,>=3.2.0->streamlit->simpletransformers) (4.3.3)\n",
            "Requirement already satisfied: toolz in /usr/local/lib/python3.10/dist-packages (from altair<5,>=3.2.0->streamlit->simpletransformers) (0.12.0)\n",
            "Requirement already satisfied: six>=1.4.0 in /usr/local/lib/python3.10/dist-packages (from docker-pycreds>=0.4.0->wandb>=0.10.32->simpletransformers) (1.16.0)\n",
            "Requirement already satisfied: attrs>=17.3.0 in /usr/local/lib/python3.10/dist-packages (from aiohttp->datasets->simpletransformers) (23.1.0)\n",
            "Collecting multidict<7.0,>=4.5 (from aiohttp->datasets->simpletransformers)\n",
            "  Downloading multidict-6.0.4-cp310-cp310-manylinux_2_17_x86_64.manylinux2014_x86_64.whl (114 kB)\n",
            "\u001b[2K     \u001b[90m━━━━━━━━━━━━━━━━━━━━━━━━━━━━━━━━━━━━━━\u001b[0m \u001b[32m114.5/114.5 kB\u001b[0m \u001b[31m15.4 MB/s\u001b[0m eta \u001b[36m0:00:00\u001b[0m\n",
            "\u001b[?25hCollecting async-timeout<5.0,>=4.0.0a3 (from aiohttp->datasets->simpletransformers)\n",
            "  Downloading async_timeout-4.0.2-py3-none-any.whl (5.8 kB)\n",
            "Collecting yarl<2.0,>=1.0 (from aiohttp->datasets->simpletransformers)\n",
            "  Downloading yarl-1.9.2-cp310-cp310-manylinux_2_17_x86_64.manylinux2014_x86_64.whl (268 kB)\n",
            "\u001b[2K     \u001b[90m━━━━━━━━━━━━━━━━━━━━━━━━━━━━━━━━━━━━━━━\u001b[0m \u001b[32m268.8/268.8 kB\u001b[0m \u001b[31m2.5 MB/s\u001b[0m eta \u001b[36m0:00:00\u001b[0m\n",
            "\u001b[?25hCollecting frozenlist>=1.1.1 (from aiohttp->datasets->simpletransformers)\n",
            "  Downloading frozenlist-1.3.3-cp310-cp310-manylinux_2_5_x86_64.manylinux1_x86_64.manylinux_2_17_x86_64.manylinux2014_x86_64.whl (149 kB)\n",
            "\u001b[2K     \u001b[90m━━━━━━━━━━━━━━━━━━━━━━━━━━━━━━━━━━━━━━\u001b[0m \u001b[32m149.6/149.6 kB\u001b[0m \u001b[31m22.1 MB/s\u001b[0m eta \u001b[36m0:00:00\u001b[0m\n",
            "\u001b[?25hCollecting aiosignal>=1.1.2 (from aiohttp->datasets->simpletransformers)\n",
            "  Downloading aiosignal-1.3.1-py3-none-any.whl (7.6 kB)\n",
            "Collecting gitdb<5,>=4.0.1 (from GitPython!=3.1.29,>=1.0.0->wandb>=0.10.32->simpletransformers)\n",
            "  Downloading gitdb-4.0.10-py3-none-any.whl (62 kB)\n",
            "\u001b[2K     \u001b[90m━━━━━━━━━━━━━━━━━━━━━━━━━━━━━━━━━━━━━━━━\u001b[0m \u001b[32m62.7/62.7 kB\u001b[0m \u001b[31m9.4 MB/s\u001b[0m eta \u001b[36m0:00:00\u001b[0m\n",
            "\u001b[?25hRequirement already satisfied: pyasn1-modules>=0.2.1 in /usr/local/lib/python3.10/dist-packages (from google-auth<3,>=1.6.3->tensorboard->simpletransformers) (0.3.0)\n",
            "Requirement already satisfied: rsa<5,>=3.1.4 in /usr/local/lib/python3.10/dist-packages (from google-auth<3,>=1.6.3->tensorboard->simpletransformers) (4.9)\n",
            "Requirement already satisfied: requests-oauthlib>=0.7.0 in /usr/local/lib/python3.10/dist-packages (from google-auth-oauthlib<1.1,>=0.5->tensorboard->simpletransformers) (1.3.1)\n",
            "Requirement already satisfied: zipp>=0.5 in /usr/local/lib/python3.10/dist-packages (from importlib-metadata>=1.4->streamlit->simpletransformers) (3.15.0)\n",
            "Requirement already satisfied: markdown-it-py<3.0.0,>=2.2.0 in /usr/local/lib/python3.10/dist-packages (from rich>=10.11.0->streamlit->simpletransformers) (2.2.0)\n",
            "Requirement already satisfied: pygments<3.0.0,>=2.13.0 in /usr/local/lib/python3.10/dist-packages (from rich>=10.11.0->streamlit->simpletransformers) (2.14.0)\n",
            "Requirement already satisfied: pytz-deprecation-shim in /usr/local/lib/python3.10/dist-packages (from tzlocal>=1.1->streamlit->simpletransformers) (0.1.0.post0)\n",
            "Requirement already satisfied: decorator>=3.4.0 in /usr/local/lib/python3.10/dist-packages (from validators>=0.2->streamlit->simpletransformers) (4.4.2)\n",
            "Requirement already satisfied: MarkupSafe>=2.1.1 in /usr/local/lib/python3.10/dist-packages (from werkzeug>=1.0.1->tensorboard->simpletransformers) (2.1.2)\n",
            "Collecting smmap<6,>=3.0.1 (from gitdb<5,>=4.0.1->GitPython!=3.1.29,>=1.0.0->wandb>=0.10.32->simpletransformers)\n",
            "  Downloading smmap-5.0.0-py3-none-any.whl (24 kB)\n",
            "Requirement already satisfied: pyrsistent!=0.17.0,!=0.17.1,!=0.17.2,>=0.14.0 in /usr/local/lib/python3.10/dist-packages (from jsonschema>=3.0->altair<5,>=3.2.0->streamlit->simpletransformers) (0.19.3)\n",
            "Requirement already satisfied: mdurl~=0.1 in /usr/local/lib/python3.10/dist-packages (from markdown-it-py<3.0.0,>=2.2.0->rich>=10.11.0->streamlit->simpletransformers) (0.1.2)\n",
            "Requirement already satisfied: pyasn1<0.6.0,>=0.4.6 in /usr/local/lib/python3.10/dist-packages (from pyasn1-modules>=0.2.1->google-auth<3,>=1.6.3->tensorboard->simpletransformers) (0.5.0)\n",
            "Requirement already satisfied: oauthlib>=3.0.0 in /usr/local/lib/python3.10/dist-packages (from requests-oauthlib>=0.7.0->google-auth-oauthlib<1.1,>=0.5->tensorboard->simpletransformers) (3.2.2)\n",
            "Requirement already satisfied: tzdata in /usr/local/lib/python3.10/dist-packages (from pytz-deprecation-shim->tzlocal>=1.1->streamlit->simpletransformers) (2023.3)\n",
            "Building wheels for collected packages: seqeval, validators, pathtools\n",
            "  Building wheel for seqeval (setup.py) ... \u001b[?25l\u001b[?25hdone\n",
            "  Created wheel for seqeval: filename=seqeval-1.2.2-py3-none-any.whl size=16165 sha256=37e61b3e25d1fafceda626d8a38485e0f55b78d536c79cff4749983ade986fe8\n",
            "  Stored in directory: /root/.cache/pip/wheels/1a/67/4a/ad4082dd7dfc30f2abfe4d80a2ed5926a506eb8a972b4767fa\n",
            "  Building wheel for validators (setup.py) ... \u001b[?25l\u001b[?25hdone\n",
            "  Created wheel for validators: filename=validators-0.20.0-py3-none-any.whl size=19579 sha256=aca4861d8de7f0024eef671cda0ef416bbe0e924fb31ba29deb0282a9b1333d7\n",
            "  Stored in directory: /root/.cache/pip/wheels/f2/ed/dd/d3a556ad245ef9dc570c6bcd2f22886d17b0b408dd3bbb9ac3\n",
            "  Building wheel for pathtools (setup.py) ... \u001b[?25l\u001b[?25hdone\n",
            "  Created wheel for pathtools: filename=pathtools-0.1.2-py3-none-any.whl size=8791 sha256=ba87c25103c640d62129ce65d7b54335c17598d0de40af141c92fe03da85078e\n",
            "  Stored in directory: /root/.cache/pip/wheels/e7/f3/22/152153d6eb222ee7a56ff8617d80ee5207207a8c00a7aab794\n",
            "Successfully built seqeval validators pathtools\n",
            "Installing collected packages: tokenizers, sentencepiece, pathtools, xxhash, watchdog, validators, smmap, setproctitle, sentry-sdk, pympler, multidict, importlib-metadata, frozenlist, docker-pycreds, dill, blinker, async-timeout, yarl, responses, pydeck, multiprocess, huggingface-hub, gitdb, aiosignal, transformers, seqeval, GitPython, aiohttp, wandb, streamlit, datasets, simpletransformers\n",
            "Successfully installed GitPython-3.1.31 aiohttp-3.8.4 aiosignal-1.3.1 async-timeout-4.0.2 blinker-1.6.2 datasets-2.12.0 dill-0.3.6 docker-pycreds-0.4.0 frozenlist-1.3.3 gitdb-4.0.10 huggingface-hub-0.14.1 importlib-metadata-6.6.0 multidict-6.0.4 multiprocess-0.70.14 pathtools-0.1.2 pydeck-0.8.1b0 pympler-1.0.1 responses-0.18.0 sentencepiece-0.1.99 sentry-sdk-1.22.2 seqeval-1.2.2 setproctitle-1.3.2 simpletransformers-0.63.11 smmap-5.0.0 streamlit-1.22.0 tokenizers-0.13.3 transformers-4.29.0 validators-0.20.0 wandb-0.15.2 watchdog-3.0.0 xxhash-3.2.0 yarl-1.9.2\n"
          ]
        }
      ],
      "source": [
        "!pip install simpletransformers"
      ],
      "id": "IdD9w5gf7CSt"
    },
    {
      "cell_type": "code",
      "execution_count": null,
      "metadata": {
        "colab": {
          "base_uri": "https://localhost:8080/"
        },
        "id": "xe_RecRs6902",
        "outputId": "656feafd-f53f-4df1-c4ba-290499597447"
      },
      "outputs": [
        {
          "name": "stderr",
          "output_type": "stream",
          "text": [
            "[nltk_data] Downloading package stopwords to /root/nltk_data...\n",
            "[nltk_data]   Unzipping corpora/stopwords.zip.\n",
            "[nltk_data] Downloading package punkt to /root/nltk_data...\n",
            "[nltk_data]   Unzipping tokenizers/punkt.zip.\n"
          ]
        },
        {
          "name": "stdout",
          "output_type": "stream",
          "text": [
            "Looking in indexes: https://pypi.org/simple, https://us-python.pkg.dev/colab-wheels/public/simple/\n",
            "Collecting pandarallel\n",
            "  Downloading pandarallel-1.6.5.tar.gz (14 kB)\n",
            "  Preparing metadata (setup.py) ... \u001b[?25l\u001b[?25hdone\n",
            "Requirement already satisfied: dill>=0.3.1 in /usr/local/lib/python3.10/dist-packages (from pandarallel) (0.3.6)\n",
            "Requirement already satisfied: pandas>=1 in /usr/local/lib/python3.10/dist-packages (from pandarallel) (1.5.3)\n",
            "Requirement already satisfied: psutil in /usr/local/lib/python3.10/dist-packages (from pandarallel) (5.9.5)\n",
            "Requirement already satisfied: python-dateutil>=2.8.1 in /usr/local/lib/python3.10/dist-packages (from pandas>=1->pandarallel) (2.8.2)\n",
            "Requirement already satisfied: pytz>=2020.1 in /usr/local/lib/python3.10/dist-packages (from pandas>=1->pandarallel) (2022.7.1)\n",
            "Requirement already satisfied: numpy>=1.21.0 in /usr/local/lib/python3.10/dist-packages (from pandas>=1->pandarallel) (1.22.4)\n",
            "Requirement already satisfied: six>=1.5 in /usr/local/lib/python3.10/dist-packages (from python-dateutil>=2.8.1->pandas>=1->pandarallel) (1.16.0)\n",
            "Building wheels for collected packages: pandarallel\n",
            "  Building wheel for pandarallel (setup.py) ... \u001b[?25l\u001b[?25hdone\n",
            "  Created wheel for pandarallel: filename=pandarallel-1.6.5-py3-none-any.whl size=16677 sha256=63da04eaf292216e43ebbb6ea6c1bcb3525ddceb164824fe2226205e406270df\n",
            "  Stored in directory: /root/.cache/pip/wheels/50/4f/1e/34e057bb868842209f1623f195b74fd7eda229308a7352d47f\n",
            "Successfully built pandarallel\n",
            "Installing collected packages: pandarallel\n",
            "Successfully installed pandarallel-1.6.5\n",
            "INFO: Pandarallel will run on 1 workers.\n",
            "INFO: Pandarallel will use Memory file system to transfer data between the main process and workers.\n"
          ]
        }
      ],
      "source": [
        "# General\n",
        "import numpy as np\n",
        "import pandas as pd\n",
        "import matplotlib.pyplot as plt\n",
        "import pickle\n",
        "import itertools\n",
        "from pandas import DataFrame\n",
        "\n",
        "# Visualization\n",
        "import matplotlib.font_manager as fm\n",
        "from matplotlib.collections import QuadMesh\n",
        "import seaborn as sn\n",
        "import plotly.express as px\n",
        "\n",
        "# Feature extraction approach\n",
        "from sklearn.feature_extraction.text import TfidfVectorizer\n",
        "from string import punctuation\n",
        "from nltk.stem import PorterStemmer \n",
        "from nltk.tokenize import word_tokenize \n",
        "import nltk\n",
        "from nltk.corpus import stopwords\n",
        "nltk.download('stopwords')\n",
        "nltk.download('punkt')\n",
        "\n",
        "# Classification\n",
        "import xgboost as xgb\n",
        "import lightgbm as lgbm\n",
        "from sklearn.svm import SVC\n",
        "from sklearn.linear_model import LogisticRegression\n",
        "from sklearn.ensemble import RandomForestClassifier\n",
        "\n",
        "from simpletransformers.classification import ClassificationModel\n",
        "import torch\n",
        "\n",
        "# Parallelize apply on Pandas\n",
        "!pip install pandarallel\n",
        "from pandarallel import pandarallel\n",
        "pandarallel.initialize()\n",
        "\n",
        "# Evaluation\n",
        "from sklearn.metrics import accuracy_score\n",
        "from sklearn.metrics import f1_score\n",
        "from sklearn.model_selection import train_test_split\n",
        "from sklearn.metrics import confusion_matrix \n",
        "from sklearn.svm import SVC\n",
        "from sklearn.naive_bayes import BernoulliNB\n",
        "\n",
        "import nltk\n",
        "from nltk.util import ngrams\n",
        "from collections import Counter\n",
        "import heapq"
      ],
      "id": "xe_RecRs6902"
    },
    {
      "cell_type": "code",
      "execution_count": null,
      "metadata": {
        "id": "HzU5hd8i6ezt"
      },
      "outputs": [],
      "source": [
        "# path  = '/content/drive/My Drive/CS_635/temp/'\n",
        "path  = '/content/gdrive/MyDrive/'"
      ],
      "id": "HzU5hd8i6ezt"
    },
    {
      "cell_type": "code",
      "execution_count": null,
      "metadata": {
        "id": "7df81ff6"
      },
      "outputs": [],
      "source": [
        "# train = pd.read_csv(path+'train_att1.csv')\n",
        "# test = pd.read_csv(path+'test_att1.csv')\n",
        "# val = pd.read_csv(path+'val_att1.csv')"
      ],
      "id": "7df81ff6"
    },
    {
      "cell_type": "code",
      "execution_count": null,
      "metadata": {
        "id": "a8ecbd97"
      },
      "outputs": [],
      "source": [
        "# train = train.drop(['Unnamed: 0'], axis=1)\n",
        "# test = test.drop(['Unnamed: 0'], axis=1)\n",
        "# val = val.drop(['Unnamed: 0'], axis=1)"
      ],
      "id": "a8ecbd97"
    },
    {
      "cell_type": "code",
      "execution_count": null,
      "metadata": {
        "id": "baeda830"
      },
      "outputs": [],
      "source": [
        "# def label_change(data):\n",
        "#     for i in range(len(data)):\n",
        "#         if data['label'][i] == 'HUMAN':\n",
        "#             data['label'][i] = 0\n",
        "#         elif data['label'][i] == 'GROVER':\n",
        "#             data['label'][i] = 1\n",
        "#         elif data['label'][i] == 'GPT2':\n",
        "#             data['label'][i] = 2\n",
        "#         elif data['label'][i] == 'GPT-j-6B':\n",
        "#             data['label'][i] = 3\n",
        "#     return data\n",
        "\n",
        "# import re\n",
        "# def clean_df(df):\n",
        "#     for i in range(len(df)):\n",
        "#         df['text'].loc[i] = re.sub('\\s+', ' ', df['text'].iloc[i])\n",
        "#     return df"
      ],
      "id": "baeda830"
    },
    {
      "cell_type": "code",
      "execution_count": null,
      "metadata": {
        "id": "w26mBJwXz0Cw"
      },
      "outputs": [],
      "source": [
        "# def label_change(data):\n",
        "#     for i in range(len(data)):\n",
        "#         if data['label'][i] == 'HUMAN':\n",
        "#             data['label'][i] = 0\n",
        "#         elif data['label'][i] == 'GROVER':\n",
        "#             data['label'][i] = 1\n",
        "#         elif data['label'][i] == 'GPT2':\n",
        "#             data['label'][i] = 2\n",
        "#         elif data['label'][i] == 'GPT-j-6B':\n",
        "#             data['label'][i] = 3\n",
        "#     return data"
      ],
      "id": "w26mBJwXz0Cw"
    },
    {
      "cell_type": "code",
      "execution_count": null,
      "metadata": {
        "colab": {
          "base_uri": "https://localhost:8080/"
        },
        "id": "1uZWGzFDXubg",
        "outputId": "c4c5995a-2d24-4750-9c9b-c4ed61b02306"
      },
      "outputs": [
        {
          "name": "stdout",
          "output_type": "stream",
          "text": [
            "Mounted at /content/gdrive/\n"
          ]
        }
      ],
      "source": [
        "drive.mount('/content/gdrive/', force_remount=True)\n",
        "\n",
        "data_dir = '/content/gdrive/MyDrive'\n",
        "filename = 'balanced_p1.csv'\n",
        "# test_filename = 'p2_test.csv'\n",
        "!cp $data_dir/$filename ."
      ],
      "id": "1uZWGzFDXubg"
    },
    {
      "cell_type": "code",
      "execution_count": null,
      "metadata": {
        "id": "PrG2NnWFyg1B"
      },
      "outputs": [],
      "source": [
        "# data = pd.read_csv(path+'p2_dataset.csv')\n",
        "data1 = pd.read_csv(f'{data_dir}/{filename}')\n",
        "# data2 = pd.read_csv(f'{data_dir}/{test_filename}')"
      ],
      "id": "PrG2NnWFyg1B"
    },
    {
      "cell_type": "code",
      "execution_count": null,
      "metadata": {
        "id": "ffbc60fc"
      },
      "outputs": [],
      "source": [
        "# train = label_change(train)\n",
        "# test = label_change(test)\n",
        "# val = label_change(val)\n",
        "\n",
        "# train = clean_df(train)\n",
        "# test = clean_df(test)\n",
        "# val = clean_df(val)"
      ],
      "id": "ffbc60fc"
    },
    {
      "cell_type": "code",
      "execution_count": null,
      "metadata": {
        "id": "bf61c9c8"
      },
      "outputs": [],
      "source": [
        "# Text pre-processing as required to compare the content of different authors\n",
        "def fil_sent(sent):\n",
        "    \"\"\"\n",
        "    Filter stopwords\n",
        "    \"\"\"\n",
        "    filtered_sentence = ' '.join([w for w in sent.split() if not w in stop_words])\n",
        "    filtered_sentence = ''.join([w for w in filtered_sentence if w not in list(punctuation)])\n",
        "    filtered_sentence = filtered_sentence.strip()\n",
        "    filtered_sentence = filtered_sentence.split()\n",
        "    return filtered_sentence\n",
        "\n",
        "def process(sent):\n",
        "    \"\"\"\n",
        "    Apply stemming\n",
        "    \"\"\"\n",
        "    sent = str(sent)\n",
        "    return fil_sent(' '.join([ps.stem(str(x).lower()) for x in word_tokenize(sent)]))\n",
        "\n",
        "stop_words = set(stopwords.words('english'))\n",
        "ps = PorterStemmer() "
      ],
      "id": "bf61c9c8"
    },
    {
      "cell_type": "code",
      "execution_count": null,
      "metadata": {
        "id": "b503ef35"
      },
      "outputs": [],
      "source": [
        "# Similarity between two authors' content\n",
        "def jaccard_similarity(list1, list2):\n",
        "\n",
        "    list1 = list1[:512]\n",
        "    list2 = list2[:512]\n",
        "    \n",
        "    intersection = len(list(set(list1).intersection(list2)))\n",
        "    union = (len(list1) + len(list2)) - intersection\n",
        "\n",
        "    if union > 0:\n",
        "      return float(intersection) / union\n",
        "    else:\n",
        "      return 0"
      ],
      "id": "b503ef35"
    },
    {
      "cell_type": "code",
      "execution_count": null,
      "metadata": {
        "id": "c37f43b2"
      },
      "outputs": [],
      "source": [
        "# Computes the relative hardness\n",
        "def rel_hardness(df, col_id, col_text):\n",
        "\n",
        "  n_labels = len(list(set(df[col_text].values)))\n",
        "  return 1/(n_labels * (n_labels - 1) * 0.5) * sum([jaccard_similarity(x[0], x[1]) for x in itertools.combinations(all_text_all_category(df, col_id, col_text), 2) if x[0] != x[1]])"
      ],
      "id": "c37f43b2"
    },
    {
      "cell_type": "code",
      "execution_count": null,
      "metadata": {
        "id": "36283dd7"
      },
      "outputs": [],
      "source": [
        "def fil_sent(sent):\n",
        "  \"\"\"\n",
        "  Filter stopwords\n",
        "  \"\"\"\n",
        "\n",
        "  filtered_sentence = ' '.join([w for w in sent.split() if not w in stop_words])\n",
        "  return filtered_sentence\n",
        "\n",
        "def process(sent):\n",
        "  \"\"\"\n",
        "  Apply stemming\n",
        "  \"\"\"\n",
        "\n",
        "  sent = str(sent)\n",
        "  return fil_sent(' '.join([ps.stem(str(x).lower()) for x in word_tokenize(sent)]))\n",
        "\n",
        "stop_words = set(stopwords.words('english'))\n",
        "ps = PorterStemmer() \n",
        "\n",
        "def extract_style(text):\n",
        "    \"\"\"\n",
        "    Extracting stylometric features of a text\n",
        "    \"\"\"\n",
        "\n",
        "    text = str(text)\n",
        "    len_text = len(text)\n",
        "    len_words = len(text.split())\n",
        "    avg_len = np.mean([len(t) for t in text.split()])\n",
        "    num_short_w = len([t for t in text.split() if len(t) < 3])\n",
        "    per_digit = sum(t.isdigit() for t in text)/len(text)\n",
        "    per_cap = sum(1 for t in text if t.isupper())/len(text)\n",
        "    f_a = sum(1 for t in text if t.lower() == \"a\")/len(text)\n",
        "    f_b = sum(1 for t in text if t.lower() == \"b\")/len(text)\n",
        "    f_c = sum(1 for t in text if t.lower() == \"c\")/len(text)\n",
        "    f_d = sum(1 for t in text if t.lower() == \"d\")/len(text)\n",
        "    f_e = sum(1 for t in text if t.lower() == \"e\")/len(text)\n",
        "    f_f = sum(1 for t in text if t.lower() == \"f\")/len(text)\n",
        "    f_g = sum(1 for t in text if t.lower() == \"g\")/len(text)\n",
        "    f_h = sum(1 for t in text if t.lower() == \"h\")/len(text)\n",
        "    f_i = sum(1 for t in text if t.lower() == \"i\")/len(text)\n",
        "    f_j = sum(1 for t in text if t.lower() == \"j\")/len(text)\n",
        "    f_k = sum(1 for t in text if t.lower() == \"k\")/len(text)\n",
        "    f_l = sum(1 for t in text if t.lower() == \"l\")/len(text)\n",
        "    f_m = sum(1 for t in text if t.lower() == \"m\")/len(text)\n",
        "    f_n = sum(1 for t in text if t.lower() == \"n\")/len(text)\n",
        "    f_o = sum(1 for t in text if t.lower() == \"o\")/len(text)\n",
        "    f_p = sum(1 for t in text if t.lower() == \"p\")/len(text)\n",
        "    f_q = sum(1 for t in text if t.lower() == \"q\")/len(text)\n",
        "    f_r = sum(1 for t in text if t.lower() == \"r\")/len(text)\n",
        "    f_s = sum(1 for t in text if t.lower() == \"s\")/len(text)\n",
        "    f_t = sum(1 for t in text if t.lower() == \"t\")/len(text)\n",
        "    f_u = sum(1 for t in text if t.lower() == \"u\")/len(text)\n",
        "    f_v = sum(1 for t in text if t.lower() == \"v\")/len(text)\n",
        "    f_w = sum(1 for t in text if t.lower() == \"w\")/len(text)\n",
        "    f_x = sum(1 for t in text if t.lower() == \"x\")/len(text)\n",
        "    f_y = sum(1 for t in text if t.lower() == \"y\")/len(text)\n",
        "    f_z = sum(1 for t in text if t.lower() == \"z\")/len(text)\n",
        "    f_1 = sum(1 for t in text if t.lower() == \"1\")/len(text)\n",
        "    f_2 = sum(1 for t in text if t.lower() == \"2\")/len(text)\n",
        "    f_3 = sum(1 for t in text if t.lower() == \"3\")/len(text)\n",
        "    f_4 = sum(1 for t in text if t.lower() == \"4\")/len(text)\n",
        "    f_5 = sum(1 for t in text if t.lower() == \"5\")/len(text)\n",
        "    f_6 = sum(1 for t in text if t.lower() == \"6\")/len(text)\n",
        "    f_7 = sum(1 for t in text if t.lower() == \"7\")/len(text)\n",
        "    f_8 = sum(1 for t in text if t.lower() == \"8\")/len(text)\n",
        "    f_9 = sum(1 for t in text if t.lower() == \"9\")/len(text)\n",
        "    f_0 = sum(1 for t in text if t.lower() == \"0\")/len(text)\n",
        "    f_e_0 = sum(1 for t in text if t.lower() == \"!\")/len(text)\n",
        "    f_e_1 = sum(1 for t in text if t.lower() == \"-\")/len(text)\n",
        "    f_e_2 = sum(1 for t in text if t.lower() == \":\")/len(text)\n",
        "    f_e_3 = sum(1 for t in text if t.lower() == \"?\")/len(text)\n",
        "    f_e_4 = sum(1 for t in text if t.lower() == \".\")/len(text)\n",
        "    f_e_5 = sum(1 for t in text if t.lower() == \",\")/len(text)\n",
        "    f_e_6 = sum(1 for t in text if t.lower() == \";\")/len(text)\n",
        "    f_e_7 = sum(1 for t in text if t.lower() == \"'\")/len(text)\n",
        "    f_e_8 = sum(1 for t in text if t.lower() == \"/\")/len(text)\n",
        "    f_e_9 = sum(1 for t in text if t.lower() == \"(\")/len(text)\n",
        "    f_e_10 = sum(1 for t in text if t.lower() == \")\")/len(text)\n",
        "    f_e_11 = sum(1 for t in text if t.lower() == \"&\")/len(text)\n",
        "    richness = len(list(set(text.split())))/len(text.split())\n",
        "\n",
        "    return pd.Series([avg_len, len_text, len_words, num_short_w, per_digit, per_cap, f_a, f_b, f_c, f_d, f_e, f_f, f_g, f_h, f_i, f_j, f_k, f_l, f_m, f_n, f_o, f_p, f_q, f_r, f_s, f_t, f_u, f_v, f_w, f_x, f_y, f_z, f_0, f_1, f_2, f_3, f_4, f_5, f_6, f_7, f_8, f_9, f_e_0, f_e_1, f_e_2, f_e_3, f_e_4, f_e_5, f_e_6, f_e_7, f_e_8, f_e_9, f_e_10, f_e_11, richness])\n",
        "\n",
        "def return_best_bi_grams(text):\n",
        "  bigrams = ngrams(text,2)\n",
        "\n",
        "  data = dict(Counter(bigrams))\n",
        "  list_ngrams = heapq.nlargest(100, data.keys(), key=lambda k: data[k])\n",
        "  return list_ngrams\n",
        "\n",
        "def return_best_tri_grams(text):\n",
        "  trigrams = ngrams(text,3)\n",
        "\n",
        "  data = dict(Counter(trigrams))\n",
        "  list_ngrams = heapq.nlargest(100, data.keys(), key=lambda k: data[k])\n",
        "  return list_ngrams\n",
        "\n",
        "def find_freq_n_gram_in_txt(text, list_bigram, list_trigram):\n",
        "\n",
        "  to_ret = []\n",
        "\n",
        "  num_bigrams = len(Counter(zip(text,text[1:])))\n",
        "  num_trigrams = len(Counter(zip(text,text[1:],text[2:])))\n",
        "\n",
        "  for n_gram in list_bigram: \n",
        "      to_ret.append(text.count(''.join(n_gram))/num_bigrams)\n",
        "\n",
        "  for n_gram in list_trigram: \n",
        "      to_ret.append(text.count(''.join(n_gram))/num_trigrams)\n",
        "\n",
        "  return to_ret"
      ],
      "id": "36283dd7"
    },
    {
      "cell_type": "code",
      "execution_count": null,
      "metadata": {
        "colab": {
          "base_uri": "https://localhost:8080/"
        },
        "id": "DTwSGrHVwv1-",
        "outputId": "70455ade-240a-44f8-9bb8-7c38ba11ce9b"
      },
      "outputs": [
        {
          "name": "stderr",
          "output_type": "stream",
          "text": [
            "[nltk_data] Downloading package universal_tagset to /root/nltk_data...\n",
            "[nltk_data]   Unzipping taggers/universal_tagset.zip.\n",
            "[nltk_data] Downloading package averaged_perceptron_tagger to\n",
            "[nltk_data]     /root/nltk_data...\n",
            "[nltk_data]   Unzipping taggers/averaged_perceptron_tagger.zip.\n"
          ]
        }
      ],
      "source": [
        "import nltk\n",
        "nltk.download('universal_tagset')\n",
        "nltk.download('averaged_perceptron_tagger')\n",
        "from nltk import word_tokenize\n",
        "def extract_pos(text):\n",
        "  text = str(text)\n",
        "  tokens = word_tokenize(text)\n",
        "  tags = nltk.pos_tag(tokens, tagset = \"universal\")\n",
        "  CC = sum(1 for word, tag in tags if tag == 'CC')/len(text),\n",
        "  CD = sum(1 for word, tag in tags if tag == 'CD')/len(text),\n",
        "  DT = sum(1 for word, tag in tags if tag == 'DT')/len(text),\n",
        "  EX = sum(1 for word, tag in tags if tag == 'EX')/len(text),\n",
        "  FW = sum(1 for word, tag in tags if tag == 'FW')/len(text),\n",
        "  IN = sum(1 for word, tag in tags if tag == 'IN')/len(text),\n",
        "  JJ = sum(1 for word, tag in tags if tag == 'JJ')/len(text),\n",
        "  JJR = sum(1 for word, tag in tags if tag == 'JJR')/len(text),\n",
        "  JJS = sum(1 for word, tag in tags if tag == 'JJS')/len(text),\n",
        "  LS = sum(1 for word, tag in tags if tag == 'LS')/len(text),\n",
        "  MD = sum(1 for word, tag in tags if tag == 'MD')/len(text),\n",
        "  NN = sum(1 for word, tag in tags if tag == 'NN')/len(text),\n",
        "  NNS = sum(1 for word, tag in tags if tag == 'NNS')/len(text),\n",
        "  NNP = sum(1 for word, tag in tags if tag == 'NNP')/len(text),\n",
        "  PDT = sum(1 for word, tag in tags if tag == 'PDT')/len(text),\n",
        "  POS = sum(1 for word, tag in tags if tag == 'POS')/len(text),\n",
        "  PRP = sum(1 for word, tag in tags if tag == 'PRP')/len(text),\n",
        "  PRPs = sum(1 for word, tag in tags if tag == 'PRP$')/len(text),\n",
        "  RB = sum(1 for word, tag in tags if tag == 'RB')/len(text),\n",
        "  RBR = sum(1 for word, tag in tags if tag == 'RBR')/len(text),\n",
        "  RBS = sum(1 for word, tag in tags if tag == 'RBS')/len(text),\n",
        "  RP = sum(1 for word, tag in tags if tag == 'RP')/len(text),\n",
        "  SYM = sum(1 for word, tag in tags if tag == 'SYM')/len(text),\n",
        "  TO = sum(1 for word, tag in tags if tag == 'TO')/len(text),\n",
        "  UH = sum(1 for word, tag in tags if tag == 'UH')/len(text),\n",
        "  VB = sum(1 for word, tag in tags if tag == 'VB')/len(text),\n",
        "  VBD = sum(1 for word, tag in tags if tag == 'VBD')/len(text),\n",
        "  VBG = sum(1 for word, tag in tags if tag == 'VBG')/len(text),\n",
        "  VBN = sum(1 for word, tag in tags if tag == 'VBN')/len(text),\n",
        "  VBP = sum(1 for word, tag in tags if tag == 'VBP')/len(text),\n",
        "  VBZ = sum(1 for word, tag in tags if tag == 'VBZ')/len(text),\n",
        "  WDT = sum(1 for word, tag in tags if tag == 'WDT')/len(text),\n",
        "  WP = sum(1 for word, tag in tags if tag == 'WP')/len(text),\n",
        "  WPs = sum(1 for word, tag in tags if tag == 'WP$')/len(text),\n",
        "  WRB = sum(1 for word, tag in tags if tag == 'WRB')/len(text),\n",
        "\n",
        "  return pd.Series([CC[0], CD[0], DT[0], EX[0], FW[0], IN[0], JJ[0], JJR[0], JJS[0], LS[0], MD[0], NN[0], NNS[0], NNP[0], PDT[0], POS[0], PRP[0], PRPs[0], RB[0], RBR[0], RBS[0], RP[0], SYM[0], TO[0], UH[0], VB[0], VBD[0], VBG[0], VBN[0], VBP[0], VBZ[0], WDT[0], WP[0], WPs[0], WRB[0]])\n",
        "\n",
        "\n",
        "  # return pd.Series([CC, CD, DT, EX, FW, IN, JJ, JJR, JJS, LS, MD, NN, NNS, NNP, PDT, POS, PRP, PRPs, RB, RBR, RBS, RP, SYM, TO, UH, VB, VBD, VBG, VBN, VBP, VBZ, WDT, WP, WPs, WRB])\n",
        "\n"
      ],
      "id": "DTwSGrHVwv1-"
    },
    {
      "cell_type": "code",
      "execution_count": null,
      "metadata": {
        "id": "0HjFHA90x4dR"
      },
      "outputs": [],
      "source": [
        "# import nltk\n",
        "# from collections import Counter\n",
        "# nltk.download('averaged_perceptron_tagger')\n",
        "# nltk.download('universal_tagset')\n",
        "# from nltk import word_tokenize\n",
        "# text = 'This is a sentence'\n",
        "# text = str(text)\n",
        "# tokens = word_tokenize(text)\n",
        "# tags = nltk.pos_tag(tokens, tagset = \"universal\")\n",
        "# d = Counter(tags)\n"
      ],
      "id": "0HjFHA90x4dR"
    },
    {
      "cell_type": "code",
      "execution_count": null,
      "metadata": {
        "id": "ScbxstvNyp-a"
      },
      "outputs": [],
      "source": [
        "# len(tags)"
      ],
      "id": "ScbxstvNyp-a"
    },
    {
      "cell_type": "code",
      "execution_count": null,
      "metadata": {
        "id": "db720065"
      },
      "outputs": [],
      "source": [
        "# df = pd.concat([train, test, val])\n",
        "df = pd.concat([data1])\n",
        "df['text_tfidf'] = df['T1'].parallel_apply(lambda x: process(x))\n",
        "df[[\"avg_len\", \"len_text\", \"len_words\", \"num_short_w\", \"per_digit\", \"per_cap\", \"f_a\", \"f_b\", \"f_c\", \"f_d\", \"f_e\", \"f_f\", \"f_g\", \"f_h\", \"f_i\", \"f_j\", \"f_k\", \"f_l\", \"f_m\", \"f_n\", \"f_o\", \"f_p\", \"f_q\", \"f_r\", \"f_s\", \"f_t\", \"f_u\", \"f_v\", \"f_w\", \"f_x\", \"f_y\", \"f_z\", \"f_0\", \"f_1\", \"f_2\", \"f_3\", \"f_4\", \"f_5\", \"f_6\", \"f_7\", \"f_8\", \"f_9\",  \"f_e_0\", \"f_e_1\", \"f_e_2\", \"f_e_3\", \"f_e_4\", \"f_e_5\", \"f_e_6\", \"f_e_7\", \"f_e_8\", \"f_e_9\", \"f_e_10\", \"f_e_11\", \"richness\"]] = df['T1'].parallel_apply(lambda x: extract_style(x))\n",
        "df['text_tfidf'] = df['T2'].parallel_apply(lambda x: process(x))\n",
        "df[[\"avg_len\", \"len_text\", \"len_words\", \"num_short_w\", \"per_digit\", \"per_cap\", \"f_a\", \"f_b\", \"f_c\", \"f_d\", \"f_e\", \"f_f\", \"f_g\", \"f_h\", \"f_i\", \"f_j\", \"f_k\", \"f_l\", \"f_m\", \"f_n\", \"f_o\", \"f_p\", \"f_q\", \"f_r\", \"f_s\", \"f_t\", \"f_u\", \"f_v\", \"f_w\", \"f_x\", \"f_y\", \"f_z\", \"f_0\", \"f_1\", \"f_2\", \"f_3\", \"f_4\", \"f_5\", \"f_6\", \"f_7\", \"f_8\", \"f_9\",  \"f_e_0\", \"f_e_1\", \"f_e_2\", \"f_e_3\", \"f_e_4\", \"f_e_5\", \"f_e_6\", \"f_e_7\", \"f_e_8\", \"f_e_9\", \"f_e_10\", \"f_e_11\", \"richness\"]] = df['T2'].parallel_apply(lambda x: extract_style(x))\n",
        "# df[['CC', 'CD', 'DT', 'EX', 'FW', 'IN', 'JJ', 'JJR', 'JJS', 'LS', 'MD', 'NN', 'NNS', 'NNP', 'PDT', 'POS', 'PRP', 'PRPs', 'RB', 'RBR', 'RBS', 'RP', 'SYM', 'TO', 'UH', 'VB', 'VBD', 'VBG', 'VBN', 'VBP', 'VBZ', 'WDT', 'WP', 'WPs', 'WRB']] = df['text'].parallel_apply(lambda x: extract_pos(x))"
      ],
      "id": "db720065"
    },
    {
      "cell_type": "code",
      "execution_count": null,
      "metadata": {
        "id": "bhHf7b_jm_9F"
      },
      "outputs": [],
      "source": [
        "# df[['CC', 'CD', 'DT', 'EX', 'FW', 'IN', 'JJ', 'JJR', 'JJS', 'LS', 'MD', 'NN', 'NNS', 'NNP', 'PDT', 'POS', 'PRP', 'PRPs', 'RB', 'RBR', 'RBS', 'RP', 'SYM', 'TO', 'UH', 'VB', 'VBD', 'VBG', 'VBN', 'VBP', 'VBZ', 'WDT', 'WP', 'WPs', 'WRB']] = df['text'].parallel_apply(lambda x: extract_pos(x))"
      ],
      "id": "bhHf7b_jm_9F"
    },
    {
      "cell_type": "code",
      "execution_count": null,
      "metadata": {
        "id": "b0ced57e"
      },
      "outputs": [],
      "source": [
        "## Heading"
      ],
      "id": "b0ced57e"
    },
    {
      "cell_type": "code",
      "execution_count": null,
      "metadata": {
        "colab": {
          "base_uri": "https://localhost:8080/",
          "height": 1000
        },
        "id": "a5257f6b",
        "outputId": "eaa42d6d-d065-4ef9-80ef-08c93545d48c",
        "scrolled": true
      },
      "outputs": [
        {
          "data": {
            "text/html": [
              "\n",
              "  <div id=\"df-07e6365d-8df6-4103-a1b2-7b3b5fda8ec5\">\n",
              "    <div class=\"colab-df-container\">\n",
              "      <div>\n",
              "<style scoped>\n",
              "    .dataframe tbody tr th:only-of-type {\n",
              "        vertical-align: middle;\n",
              "    }\n",
              "\n",
              "    .dataframe tbody tr th {\n",
              "        vertical-align: top;\n",
              "    }\n",
              "\n",
              "    .dataframe thead th {\n",
              "        text-align: right;\n",
              "    }\n",
              "</style>\n",
              "<table border=\"1\" class=\"dataframe\">\n",
              "  <thead>\n",
              "    <tr style=\"text-align: right;\">\n",
              "      <th></th>\n",
              "      <th>Unnamed: 0</th>\n",
              "      <th>T1</th>\n",
              "      <th>T2</th>\n",
              "      <th>class</th>\n",
              "      <th>text_tfidf</th>\n",
              "      <th>avg_len</th>\n",
              "      <th>len_text</th>\n",
              "      <th>len_words</th>\n",
              "      <th>num_short_w</th>\n",
              "      <th>per_digit</th>\n",
              "      <th>...</th>\n",
              "      <th>f_e_3</th>\n",
              "      <th>f_e_4</th>\n",
              "      <th>f_e_5</th>\n",
              "      <th>f_e_6</th>\n",
              "      <th>f_e_7</th>\n",
              "      <th>f_e_8</th>\n",
              "      <th>f_e_9</th>\n",
              "      <th>f_e_10</th>\n",
              "      <th>f_e_11</th>\n",
              "      <th>richness</th>\n",
              "    </tr>\n",
              "  </thead>\n",
              "  <tbody>\n",
              "    <tr>\n",
              "      <th>0</th>\n",
              "      <td>0</td>\n",
              "      <td>Super Tuesday: BBC finds Bloomberg campaign of...</td>\n",
              "      <td>Latest Headlines on CNN Business the great shu...</td>\n",
              "      <td>1.0</td>\n",
              "      <td>latest headlin cnn busi great shutdown 2020 : ...</td>\n",
              "      <td>5.352941</td>\n",
              "      <td>107.0</td>\n",
              "      <td>17.0</td>\n",
              "      <td>2.0</td>\n",
              "      <td>0.037383</td>\n",
              "      <td>...</td>\n",
              "      <td>0.000000</td>\n",
              "      <td>0.000000</td>\n",
              "      <td>0.000000</td>\n",
              "      <td>0.000000</td>\n",
              "      <td>0.000000</td>\n",
              "      <td>0.0</td>\n",
              "      <td>0.000000</td>\n",
              "      <td>0.000000</td>\n",
              "      <td>0.0</td>\n",
              "      <td>1.000000</td>\n",
              "    </tr>\n",
              "    <tr>\n",
              "      <th>1</th>\n",
              "      <td>1</td>\n",
              "      <td>Newsbeat have your say</td>\n",
              "      <td>China wants to take a victory lap over its han...</td>\n",
              "      <td>1.0</td>\n",
              "      <td>china want take victori lap handl coronaviru o...</td>\n",
              "      <td>5.071491</td>\n",
              "      <td>6963.0</td>\n",
              "      <td>1147.0</td>\n",
              "      <td>225.0</td>\n",
              "      <td>0.002011</td>\n",
              "      <td>...</td>\n",
              "      <td>0.000000</td>\n",
              "      <td>0.005170</td>\n",
              "      <td>0.009335</td>\n",
              "      <td>0.000000</td>\n",
              "      <td>0.002298</td>\n",
              "      <td>0.0</td>\n",
              "      <td>0.000718</td>\n",
              "      <td>0.000718</td>\n",
              "      <td>0.0</td>\n",
              "      <td>0.482127</td>\n",
              "    </tr>\n",
              "    <tr>\n",
              "      <th>2</th>\n",
              "      <td>2</td>\n",
              "      <td>Worst-Case Estimates for U.S. Coronavirus Deat...</td>\n",
              "      <td>Coronavirus disinformation creates challenges ...</td>\n",
              "      <td>1.0</td>\n",
              "      <td>coronaviru disinform creat challeng china 's g...</td>\n",
              "      <td>5.089168</td>\n",
              "      <td>9218.0</td>\n",
              "      <td>1514.0</td>\n",
              "      <td>285.0</td>\n",
              "      <td>0.003146</td>\n",
              "      <td>...</td>\n",
              "      <td>0.000325</td>\n",
              "      <td>0.006075</td>\n",
              "      <td>0.008679</td>\n",
              "      <td>0.000434</td>\n",
              "      <td>0.000868</td>\n",
              "      <td>0.0</td>\n",
              "      <td>0.000217</td>\n",
              "      <td>0.000217</td>\n",
              "      <td>0.0</td>\n",
              "      <td>0.459709</td>\n",
              "    </tr>\n",
              "    <tr>\n",
              "      <th>3</th>\n",
              "      <td>3</td>\n",
              "      <td>Latest Headlines on CNN Business the great shu...</td>\n",
              "      <td>China coronavirus: Eating wild animals made il...</td>\n",
              "      <td>1.0</td>\n",
              "      <td>china coronaviru : eat wild anim made illeg en...</td>\n",
              "      <td>5.052421</td>\n",
              "      <td>12122.0</td>\n",
              "      <td>2003.0</td>\n",
              "      <td>359.0</td>\n",
              "      <td>0.007342</td>\n",
              "      <td>...</td>\n",
              "      <td>0.000495</td>\n",
              "      <td>0.007754</td>\n",
              "      <td>0.007837</td>\n",
              "      <td>0.000000</td>\n",
              "      <td>0.002310</td>\n",
              "      <td>0.0</td>\n",
              "      <td>0.000577</td>\n",
              "      <td>0.000577</td>\n",
              "      <td>0.0</td>\n",
              "      <td>0.406890</td>\n",
              "    </tr>\n",
              "    <tr>\n",
              "      <th>4</th>\n",
              "      <td>4</td>\n",
              "      <td>Pentagon Asks to Reconsider Awarding Huge Clou...</td>\n",
              "      <td>China's economy could shrink for the first tim...</td>\n",
              "      <td>1.0</td>\n",
              "      <td>china 's economi could shrink first time decad...</td>\n",
              "      <td>5.137004</td>\n",
              "      <td>4792.0</td>\n",
              "      <td>781.0</td>\n",
              "      <td>133.0</td>\n",
              "      <td>0.010643</td>\n",
              "      <td>...</td>\n",
              "      <td>0.000000</td>\n",
              "      <td>0.007304</td>\n",
              "      <td>0.007095</td>\n",
              "      <td>0.000000</td>\n",
              "      <td>0.003756</td>\n",
              "      <td>0.0</td>\n",
              "      <td>0.000417</td>\n",
              "      <td>0.000417</td>\n",
              "      <td>0.0</td>\n",
              "      <td>0.542894</td>\n",
              "    </tr>\n",
              "    <tr>\n",
              "      <th>...</th>\n",
              "      <td>...</td>\n",
              "      <td>...</td>\n",
              "      <td>...</td>\n",
              "      <td>...</td>\n",
              "      <td>...</td>\n",
              "      <td>...</td>\n",
              "      <td>...</td>\n",
              "      <td>...</td>\n",
              "      <td>...</td>\n",
              "      <td>...</td>\n",
              "      <td>...</td>\n",
              "      <td>...</td>\n",
              "      <td>...</td>\n",
              "      <td>...</td>\n",
              "      <td>...</td>\n",
              "      <td>...</td>\n",
              "      <td>...</td>\n",
              "      <td>...</td>\n",
              "      <td>...</td>\n",
              "      <td>...</td>\n",
              "      <td>...</td>\n",
              "    </tr>\n",
              "    <tr>\n",
              "      <th>4259</th>\n",
              "      <td>4259</td>\n",
              "      <td>Will warmer weather help fight the coronavirus...</td>\n",
              "      <td>why the black press is more relevant than ever...</td>\n",
              "      <td>0.0</td>\n",
              "      <td>whi black press relev ever global affair black...</td>\n",
              "      <td>4.600467</td>\n",
              "      <td>2396.0</td>\n",
              "      <td>428.0</td>\n",
              "      <td>86.0</td>\n",
              "      <td>0.002087</td>\n",
              "      <td>...</td>\n",
              "      <td>0.000000</td>\n",
              "      <td>0.010851</td>\n",
              "      <td>0.007513</td>\n",
              "      <td>0.000000</td>\n",
              "      <td>0.002504</td>\n",
              "      <td>0.0</td>\n",
              "      <td>0.000000</td>\n",
              "      <td>0.000000</td>\n",
              "      <td>0.0</td>\n",
              "      <td>0.443925</td>\n",
              "    </tr>\n",
              "    <tr>\n",
              "      <th>4260</th>\n",
              "      <td>4260</td>\n",
              "      <td>Iran to temporarily free 54,000 prisoners as c...</td>\n",
              "      <td>fish oil supplements linked to lower risk of h...</td>\n",
              "      <td>0.0</td>\n",
              "      <td>fish oil supplement link lower risk heart dise...</td>\n",
              "      <td>4.668407</td>\n",
              "      <td>2170.0</td>\n",
              "      <td>383.0</td>\n",
              "      <td>71.0</td>\n",
              "      <td>0.006452</td>\n",
              "      <td>...</td>\n",
              "      <td>0.000000</td>\n",
              "      <td>0.006912</td>\n",
              "      <td>0.010138</td>\n",
              "      <td>0.000000</td>\n",
              "      <td>0.000461</td>\n",
              "      <td>0.0</td>\n",
              "      <td>0.000461</td>\n",
              "      <td>0.000461</td>\n",
              "      <td>0.0</td>\n",
              "      <td>0.514360</td>\n",
              "    </tr>\n",
              "    <tr>\n",
              "      <th>4261</th>\n",
              "      <td>4261</td>\n",
              "      <td>An Australian man dies in alleged ax attack ne...</td>\n",
              "      <td>expert view: seven leading african photographe...</td>\n",
              "      <td>0.0</td>\n",
              "      <td>expert view : seven lead african photograph ac...</td>\n",
              "      <td>4.565934</td>\n",
              "      <td>2025.0</td>\n",
              "      <td>364.0</td>\n",
              "      <td>126.0</td>\n",
              "      <td>0.078519</td>\n",
              "      <td>...</td>\n",
              "      <td>0.000494</td>\n",
              "      <td>0.001481</td>\n",
              "      <td>0.033580</td>\n",
              "      <td>0.000000</td>\n",
              "      <td>0.000000</td>\n",
              "      <td>0.0</td>\n",
              "      <td>0.000000</td>\n",
              "      <td>0.000000</td>\n",
              "      <td>0.0</td>\n",
              "      <td>0.247253</td>\n",
              "    </tr>\n",
              "    <tr>\n",
              "      <th>4262</th>\n",
              "      <td>4262</td>\n",
              "      <td>Here's what Trump's coronavirus emergency decl...</td>\n",
              "      <td>players react to ncaa canceling march madness ...</td>\n",
              "      <td>0.0</td>\n",
              "      <td>player react ncaa cancel march mad amid corona...</td>\n",
              "      <td>4.808786</td>\n",
              "      <td>2247.0</td>\n",
              "      <td>387.0</td>\n",
              "      <td>65.0</td>\n",
              "      <td>0.006231</td>\n",
              "      <td>...</td>\n",
              "      <td>0.000000</td>\n",
              "      <td>0.009346</td>\n",
              "      <td>0.004895</td>\n",
              "      <td>0.000000</td>\n",
              "      <td>0.001780</td>\n",
              "      <td>0.0</td>\n",
              "      <td>0.000445</td>\n",
              "      <td>0.000445</td>\n",
              "      <td>0.0</td>\n",
              "      <td>0.511628</td>\n",
              "    </tr>\n",
              "    <tr>\n",
              "      <th>4263</th>\n",
              "      <td>4263</td>\n",
              "      <td>How architect Mariam Kamara is masterminding a...</td>\n",
              "      <td>saudi arabia detains senior members of its roy...</td>\n",
              "      <td>0.0</td>\n",
              "      <td>saudi arabia detain senior member royal famili...</td>\n",
              "      <td>5.017544</td>\n",
              "      <td>2400.0</td>\n",
              "      <td>399.0</td>\n",
              "      <td>63.0</td>\n",
              "      <td>0.001667</td>\n",
              "      <td>...</td>\n",
              "      <td>0.000000</td>\n",
              "      <td>0.006667</td>\n",
              "      <td>0.008750</td>\n",
              "      <td>0.000000</td>\n",
              "      <td>0.001250</td>\n",
              "      <td>0.0</td>\n",
              "      <td>0.000000</td>\n",
              "      <td>0.000000</td>\n",
              "      <td>0.0</td>\n",
              "      <td>0.526316</td>\n",
              "    </tr>\n",
              "  </tbody>\n",
              "</table>\n",
              "<p>4264 rows × 60 columns</p>\n",
              "</div>\n",
              "      <button class=\"colab-df-convert\" onclick=\"convertToInteractive('df-07e6365d-8df6-4103-a1b2-7b3b5fda8ec5')\"\n",
              "              title=\"Convert this dataframe to an interactive table.\"\n",
              "              style=\"display:none;\">\n",
              "        \n",
              "  <svg xmlns=\"http://www.w3.org/2000/svg\" height=\"24px\"viewBox=\"0 0 24 24\"\n",
              "       width=\"24px\">\n",
              "    <path d=\"M0 0h24v24H0V0z\" fill=\"none\"/>\n",
              "    <path d=\"M18.56 5.44l.94 2.06.94-2.06 2.06-.94-2.06-.94-.94-2.06-.94 2.06-2.06.94zm-11 1L8.5 8.5l.94-2.06 2.06-.94-2.06-.94L8.5 2.5l-.94 2.06-2.06.94zm10 10l.94 2.06.94-2.06 2.06-.94-2.06-.94-.94-2.06-.94 2.06-2.06.94z\"/><path d=\"M17.41 7.96l-1.37-1.37c-.4-.4-.92-.59-1.43-.59-.52 0-1.04.2-1.43.59L10.3 9.45l-7.72 7.72c-.78.78-.78 2.05 0 2.83L4 21.41c.39.39.9.59 1.41.59.51 0 1.02-.2 1.41-.59l7.78-7.78 2.81-2.81c.8-.78.8-2.07 0-2.86zM5.41 20L4 18.59l7.72-7.72 1.47 1.35L5.41 20z\"/>\n",
              "  </svg>\n",
              "      </button>\n",
              "      \n",
              "  <style>\n",
              "    .colab-df-container {\n",
              "      display:flex;\n",
              "      flex-wrap:wrap;\n",
              "      gap: 12px;\n",
              "    }\n",
              "\n",
              "    .colab-df-convert {\n",
              "      background-color: #E8F0FE;\n",
              "      border: none;\n",
              "      border-radius: 50%;\n",
              "      cursor: pointer;\n",
              "      display: none;\n",
              "      fill: #1967D2;\n",
              "      height: 32px;\n",
              "      padding: 0 0 0 0;\n",
              "      width: 32px;\n",
              "    }\n",
              "\n",
              "    .colab-df-convert:hover {\n",
              "      background-color: #E2EBFA;\n",
              "      box-shadow: 0px 1px 2px rgba(60, 64, 67, 0.3), 0px 1px 3px 1px rgba(60, 64, 67, 0.15);\n",
              "      fill: #174EA6;\n",
              "    }\n",
              "\n",
              "    [theme=dark] .colab-df-convert {\n",
              "      background-color: #3B4455;\n",
              "      fill: #D2E3FC;\n",
              "    }\n",
              "\n",
              "    [theme=dark] .colab-df-convert:hover {\n",
              "      background-color: #434B5C;\n",
              "      box-shadow: 0px 1px 3px 1px rgba(0, 0, 0, 0.15);\n",
              "      filter: drop-shadow(0px 1px 2px rgba(0, 0, 0, 0.3));\n",
              "      fill: #FFFFFF;\n",
              "    }\n",
              "  </style>\n",
              "\n",
              "      <script>\n",
              "        const buttonEl =\n",
              "          document.querySelector('#df-07e6365d-8df6-4103-a1b2-7b3b5fda8ec5 button.colab-df-convert');\n",
              "        buttonEl.style.display =\n",
              "          google.colab.kernel.accessAllowed ? 'block' : 'none';\n",
              "\n",
              "        async function convertToInteractive(key) {\n",
              "          const element = document.querySelector('#df-07e6365d-8df6-4103-a1b2-7b3b5fda8ec5');\n",
              "          const dataTable =\n",
              "            await google.colab.kernel.invokeFunction('convertToInteractive',\n",
              "                                                     [key], {});\n",
              "          if (!dataTable) return;\n",
              "\n",
              "          const docLinkHtml = 'Like what you see? Visit the ' +\n",
              "            '<a target=\"_blank\" href=https://colab.research.google.com/notebooks/data_table.ipynb>data table notebook</a>'\n",
              "            + ' to learn more about interactive tables.';\n",
              "          element.innerHTML = '';\n",
              "          dataTable['output_type'] = 'display_data';\n",
              "          await google.colab.output.renderOutput(dataTable, element);\n",
              "          const docLink = document.createElement('div');\n",
              "          docLink.innerHTML = docLinkHtml;\n",
              "          element.appendChild(docLink);\n",
              "        }\n",
              "      </script>\n",
              "    </div>\n",
              "  </div>\n",
              "  "
            ],
            "text/plain": [
              "      Unnamed: 0                                                 T1  \\\n",
              "0              0  Super Tuesday: BBC finds Bloomberg campaign of...   \n",
              "1              1                             Newsbeat have your say   \n",
              "2              2  Worst-Case Estimates for U.S. Coronavirus Deat...   \n",
              "3              3  Latest Headlines on CNN Business the great shu...   \n",
              "4              4  Pentagon Asks to Reconsider Awarding Huge Clou...   \n",
              "...          ...                                                ...   \n",
              "4259        4259  Will warmer weather help fight the coronavirus...   \n",
              "4260        4260  Iran to temporarily free 54,000 prisoners as c...   \n",
              "4261        4261  An Australian man dies in alleged ax attack ne...   \n",
              "4262        4262  Here's what Trump's coronavirus emergency decl...   \n",
              "4263        4263  How architect Mariam Kamara is masterminding a...   \n",
              "\n",
              "                                                     T2  class  \\\n",
              "0     Latest Headlines on CNN Business the great shu...    1.0   \n",
              "1     China wants to take a victory lap over its han...    1.0   \n",
              "2     Coronavirus disinformation creates challenges ...    1.0   \n",
              "3     China coronavirus: Eating wild animals made il...    1.0   \n",
              "4     China's economy could shrink for the first tim...    1.0   \n",
              "...                                                 ...    ...   \n",
              "4259  why the black press is more relevant than ever...    0.0   \n",
              "4260  fish oil supplements linked to lower risk of h...    0.0   \n",
              "4261  expert view: seven leading african photographe...    0.0   \n",
              "4262  players react to ncaa canceling march madness ...    0.0   \n",
              "4263  saudi arabia detains senior members of its roy...    0.0   \n",
              "\n",
              "                                             text_tfidf   avg_len  len_text  \\\n",
              "0     latest headlin cnn busi great shutdown 2020 : ...  5.352941     107.0   \n",
              "1     china want take victori lap handl coronaviru o...  5.071491    6963.0   \n",
              "2     coronaviru disinform creat challeng china 's g...  5.089168    9218.0   \n",
              "3     china coronaviru : eat wild anim made illeg en...  5.052421   12122.0   \n",
              "4     china 's economi could shrink first time decad...  5.137004    4792.0   \n",
              "...                                                 ...       ...       ...   \n",
              "4259  whi black press relev ever global affair black...  4.600467    2396.0   \n",
              "4260  fish oil supplement link lower risk heart dise...  4.668407    2170.0   \n",
              "4261  expert view : seven lead african photograph ac...  4.565934    2025.0   \n",
              "4262  player react ncaa cancel march mad amid corona...  4.808786    2247.0   \n",
              "4263  saudi arabia detain senior member royal famili...  5.017544    2400.0   \n",
              "\n",
              "      len_words  num_short_w  per_digit  ...     f_e_3     f_e_4     f_e_5  \\\n",
              "0          17.0          2.0   0.037383  ...  0.000000  0.000000  0.000000   \n",
              "1        1147.0        225.0   0.002011  ...  0.000000  0.005170  0.009335   \n",
              "2        1514.0        285.0   0.003146  ...  0.000325  0.006075  0.008679   \n",
              "3        2003.0        359.0   0.007342  ...  0.000495  0.007754  0.007837   \n",
              "4         781.0        133.0   0.010643  ...  0.000000  0.007304  0.007095   \n",
              "...         ...          ...        ...  ...       ...       ...       ...   \n",
              "4259      428.0         86.0   0.002087  ...  0.000000  0.010851  0.007513   \n",
              "4260      383.0         71.0   0.006452  ...  0.000000  0.006912  0.010138   \n",
              "4261      364.0        126.0   0.078519  ...  0.000494  0.001481  0.033580   \n",
              "4262      387.0         65.0   0.006231  ...  0.000000  0.009346  0.004895   \n",
              "4263      399.0         63.0   0.001667  ...  0.000000  0.006667  0.008750   \n",
              "\n",
              "         f_e_6     f_e_7  f_e_8     f_e_9    f_e_10  f_e_11  richness  \n",
              "0     0.000000  0.000000    0.0  0.000000  0.000000     0.0  1.000000  \n",
              "1     0.000000  0.002298    0.0  0.000718  0.000718     0.0  0.482127  \n",
              "2     0.000434  0.000868    0.0  0.000217  0.000217     0.0  0.459709  \n",
              "3     0.000000  0.002310    0.0  0.000577  0.000577     0.0  0.406890  \n",
              "4     0.000000  0.003756    0.0  0.000417  0.000417     0.0  0.542894  \n",
              "...        ...       ...    ...       ...       ...     ...       ...  \n",
              "4259  0.000000  0.002504    0.0  0.000000  0.000000     0.0  0.443925  \n",
              "4260  0.000000  0.000461    0.0  0.000461  0.000461     0.0  0.514360  \n",
              "4261  0.000000  0.000000    0.0  0.000000  0.000000     0.0  0.247253  \n",
              "4262  0.000000  0.001780    0.0  0.000445  0.000445     0.0  0.511628  \n",
              "4263  0.000000  0.001250    0.0  0.000000  0.000000     0.0  0.526316  \n",
              "\n",
              "[4264 rows x 60 columns]"
            ]
          },
          "execution_count": 13,
          "metadata": {},
          "output_type": "execute_result"
        }
      ],
      "source": [
        "df"
      ],
      "id": "a5257f6b"
    },
    {
      "cell_type": "code",
      "execution_count": null,
      "metadata": {
        "colab": {
          "base_uri": "https://localhost:8080/"
        },
        "id": "811c69cb",
        "outputId": "d293f4ac-4112-4301-d247-a3117c116ced"
      },
      "outputs": [
        {
          "data": {
            "text/plain": [
              "(4262, 60)"
            ]
          },
          "execution_count": 14,
          "metadata": {},
          "output_type": "execute_result"
        }
      ],
      "source": [
        "df = df.dropna()\n",
        "df.shape"
      ],
      "id": "811c69cb"
    },
    {
      "cell_type": "code",
      "execution_count": null,
      "metadata": {
        "id": "3ALfrSDbcG8j"
      },
      "outputs": [],
      "source": [
        "T1 = ' '.join(df['T1'].values)\n",
        "list_bigram = return_best_bi_grams(T1)\n",
        "list_trigram = return_best_tri_grams(T1)\n",
        "T2 = ' '.join(df['T2'].values)\n",
        "list_bigram = return_best_bi_grams(T2)\n",
        "list_trigram = return_best_tri_grams(T2)"
      ],
      "id": "3ALfrSDbcG8j"
    },
    {
      "cell_type": "code",
      "execution_count": null,
      "metadata": {
        "id": "6f2ac538"
      },
      "outputs": [],
      "source": [
        "ind = train_test_split(df[['T1', 'T2', 'class']], test_size=0.2, stratify=df['class'])\n",
        "ind_train = list(ind[0].index)\n",
        "ind_test = list(ind[1].index)"
      ],
      "id": "6f2ac538"
    },
    {
      "cell_type": "code",
      "execution_count": null,
      "metadata": {
        "id": "f53cafdc"
      },
      "outputs": [],
      "source": [
        "nlp_train = df.loc[ind_train]\n",
        "nlp_test = df.loc[ind_test]"
      ],
      "id": "f53cafdc"
    },
    {
      "cell_type": "code",
      "execution_count": null,
      "metadata": {
        "id": "7272d81d"
      },
      "outputs": [],
      "source": [
        "# Training TF-IDF"
      ],
      "id": "7272d81d"
    },
    {
      "cell_type": "code",
      "execution_count": null,
      "metadata": {
        "colab": {
          "base_uri": "https://localhost:8080/"
        },
        "id": "2911a349",
        "outputId": "01c46820-9246-41aa-aa9f-1f6d0018d259",
        "scrolled": true
      },
      "outputs": [
        {
          "name": "stdout",
          "output_type": "stream",
          "text": [
            "Training done, accuracy is :  0.2708089097303634\n",
            "Training done, f1-score is :  0.2705191662541935\n"
          ]
        },
        {
          "data": {
            "text/plain": [
              "array([[107, 320],\n",
              "       [302, 124]])"
            ]
          },
          "execution_count": 19,
          "metadata": {},
          "output_type": "execute_result"
        }
      ],
      "source": [
        "vectorize = TfidfVectorizer()\n",
        "X_train = vectorize.fit_transform(nlp_train['text_tfidf'])\n",
        "X_test = vectorize.transform(nlp_test['text_tfidf'])\n",
        "\n",
        "clf = LogisticRegression(random_state=0).fit(X_train, nlp_train['class'].astype('int'))\n",
        "y_pred = clf.predict(X_test)\n",
        "\n",
        "score_lr = accuracy_score(nlp_test['class'].astype('int'), y_pred)\n",
        "f1_lr = f1_score(nlp_test['class'].astype('int'), y_pred, average=\"macro\")\n",
        "\n",
        "# plot_confusion_matrix_from_data(nlp_test['label'].astype('int'), y_pred)\n",
        "\n",
        "print(\"Training done, accuracy is : \", score_lr)\n",
        "print(\"Training done, f1-score is : \", f1_lr)\n",
        "confusion_matrix(nlp_test['class'].astype('int'), y_pred)"
      ],
      "id": "2911a349"
    },
    {
      "cell_type": "code",
      "execution_count": null,
      "metadata": {
        "id": "fd39ebce"
      },
      "outputs": [],
      "source": [
        "# def plot_confusion_matrix_from_data(y_test, predictions, columns=None, annot=True, cmap=\"Oranges\",\n",
        "#       fmt='.2f', fz=11, lw=0.5, cbar=False, figsize=[8,8], show_null_values=0, pred_val_axis='lin'):\n",
        "#     \"\"\"\n",
        "#         plot confusion matrix function with y_test (actual values) and predictions (predic),\n",
        "#         whitout a confusion matrix yet\n",
        "#     \"\"\"\n",
        "#     from sklearn.metrics import confusion_matrix\n",
        "#     from pandas import DataFrame\n",
        "\n",
        "#     #data\n",
        "#     if(not columns):\n",
        "#         #labels axis integer:\n",
        "#         ##columns = range(1, len(np.unique(y_test))+1)\n",
        "#         #labels axis string:\n",
        "#         from string import ascii_uppercase\n",
        "#         columns = ['class %s' %(i) for i in list(ascii_uppercase)[0:len(np.unique(y_test))]]"
      ],
      "id": "fd39ebce"
    },
    {
      "cell_type": "code",
      "execution_count": null,
      "metadata": {
        "id": "3jEmSJg78MqW"
      },
      "outputs": [],
      "source": [
        "#Training Random Forest"
      ],
      "id": "3jEmSJg78MqW"
    },
    {
      "cell_type": "code",
      "execution_count": null,
      "metadata": {
        "colab": {
          "background_save": true
        },
        "id": "a4479507",
        "outputId": "75bf4521-8438-4134-ae00-946805f332ee"
      },
      "outputs": [
        {
          "name": "stdout",
          "output_type": "stream",
          "text": [
            "Training done, accuracy is :  0.2696365767878077\n",
            "Training done, f1-score is :  0.26915042117930205\n"
          ]
        },
        {
          "data": {
            "text/plain": [
              "array([[126, 301],\n",
              "       [322, 104]])"
            ]
          },
          "execution_count": 22,
          "metadata": {},
          "output_type": "execute_result"
        }
      ],
      "source": [
        "clf = RandomForestClassifier(random_state=42,n_estimators=150,n_jobs=-1).fit(X_train, nlp_train['class'].astype('int'))\n",
        "y_pred = clf.predict(X_test)\n",
        "\n",
        "score_lr = accuracy_score(nlp_test['class'].astype('int'), y_pred)\n",
        "f1_lr = f1_score(nlp_test['class'].astype('int'), y_pred, average=\"macro\")\n",
        "\n",
        "# plot_confusion_matrix_from_data(nlp_test['label'].astype('int'), y_pred)\n",
        "\n",
        "print(\"Training done, accuracy is : \", score_lr)\n",
        "print(\"Training done, f1-score is : \", f1_lr)\n",
        "confusion_matrix(nlp_test['class'].astype('int'), y_pred)"
      ],
      "id": "a4479507"
    },
    {
      "cell_type": "code",
      "execution_count": null,
      "metadata": {
        "colab": {
          "background_save": true
        },
        "id": "m6z7cK1uPmhk",
        "outputId": "6a4363bb-2e89-4724-ba03-a1489b3f7fc4"
      },
      "outputs": [
        {
          "name": "stdout",
          "output_type": "stream",
          "text": [
            "Training done, accuracy is :  0.25908558030480655\n",
            "Training done, f1-score is :  0.2588563949715693\n"
          ]
        }
      ],
      "source": [
        "clf = xgb.XGBClassifier().fit(X_train, nlp_train['class'].astype('int'))\n",
        "y_pred = clf.predict(X_test)\n",
        "\n",
        "score_lr = accuracy_score(nlp_test['class'].astype('int'), y_pred)\n",
        "f1_lr = f1_score(nlp_test['class'].astype('int'), y_pred, average=\"macro\")\n",
        "\n",
        "# plot_confusion_matrix_from_data(nlp_test['class'].astype('int'), y_pred)\n",
        "\n",
        "print(\"Training done, accuracy is : \", score_lr)\n",
        "print(\"Training done, f1-score is : \", f1_lr)\n",
        "# confusion_matrix(nlp_test['class'].astype('int'), y_pred)"
      ],
      "id": "m6z7cK1uPmhk"
    },
    {
      "cell_type": "code",
      "execution_count": null,
      "metadata": {
        "colab": {
          "background_save": true
        },
        "id": "KANnJhdAPmYE",
        "outputId": "37771fc2-f77b-420f-aae6-6dbe7333342c"
      },
      "outputs": [
        {
          "name": "stdout",
          "output_type": "stream",
          "text": [
            "Training done, accuracy is :  0.25791324736225085\n",
            "Training done, f1-score is :  0.25771329354850686\n"
          ]
        },
        {
          "data": {
            "text/plain": [
              "array([[117, 310],\n",
              "       [323, 103]])"
            ]
          },
          "execution_count": 24,
          "metadata": {},
          "output_type": "execute_result"
        }
      ],
      "source": [
        "from sklearn.svm import SVC\n",
        "clf = SVC().fit(X_train, nlp_train['class'].astype('int'))\n",
        "y_pred = clf.predict(X_test)\n",
        "\n",
        "score_lr = accuracy_score(nlp_test['class'].astype('int'), y_pred)\n",
        "f1_lr = f1_score(nlp_test['class'].astype('int'), y_pred, average=\"macro\")\n",
        "\n",
        "# plot_confusion_matrix_from_data(nlp_test['label'].astype('int'), y_pred)\n",
        "\n",
        "print(\"Training done, accuracy is : \", score_lr)\n",
        "print(\"Training done, f1-score is : \", f1_lr)\n",
        "confusion_matrix(nlp_test['class'].astype('int'), y_pred)"
      ],
      "id": "KANnJhdAPmYE"
    },
    {
      "cell_type": "code",
      "execution_count": null,
      "metadata": {
        "id": "WxxhljitPmO7"
      },
      "outputs": [],
      "source": [
        "from sklearn.naive_bayes import BernoulliNB\n",
        "clf = SVC().fit(X_train, nlp_train['class'].astype('int'))\n",
        "y_pred = clf.predict(X_test)\n",
        "\n",
        "score_lr = accuracy_score(nlp_test['class'].astype('int'), y_pred)\n",
        "f1_lr = f1_score(nlp_test['class'].astype('int'), y_pred, average=\"macro\")\n",
        "\n",
        "# plot_confusion_matrix_from_data(nlp_test['class'].astype('int'), y_pred)\n",
        "\n",
        "print(\"Training done, accuracy is : \", score_lr)\n",
        "print(\"Training done, f1-score is : \", f1_lr)\n",
        "confusion_matrix(nlp_test['class'].astype('int'), y_pred)"
      ],
      "id": "WxxhljitPmO7"
    },
    {
      "cell_type": "code",
      "execution_count": null,
      "metadata": {
        "colab": {
          "background_save": true
        },
        "id": "332db84f"
      },
      "outputs": [],
      "source": [
        "# Training BERT"
      ],
      "id": "332db84f"
    },
    {
      "cell_type": "code",
      "execution_count": null,
      "metadata": {
        "id": "89cf32bd"
      },
      "outputs": [],
      "source": [
        "model = ClassificationModel('bert', 'bert-base-cased', num_labels=2, args={'reprocess_input_data': True, 'overwrite_output_dir': True,  'num_train_epochs' : 15}, use_cuda=True) \n",
        "model.train_model(nlp_train[['T1', 'class']])\n",
        "model.train_model(nlp_train[['T2', 'class']])\n",
        "predictions_T1, raw_outputs_T1 = model.predict(list(nlp_test['T1']))\n",
        "predictions_T2, raw_outputs_T2 = model.predict(list(nlp_test['T2']))\n",
        "score_bert = accuracy_score(predictions_T1, nlp_test['class'])\n",
        "f1_bert = f1_score(predictions_T1, nlp_test['class'], average=\"macro\")\n",
        "predictions, raw_out_train = model.predict(list(nlp_train['text']))\n",
        "print(\"Training done, accuracy is : \", score_bert)\n",
        "print(\"Training done, f1-score is : \", f1_bert)\n",
        "score_bert = accuracy_score(predictions, nlp_test['label'])\n",
        "f1_bert = f1_score(predictions, nlp_test['label'], average=\"macro\")\n",
        "predictions, raw_out_train = model.predict(list(nlp_train['text']))\n",
        "print(\"Training done, accuracy is : \", score_bert)\n",
        "print(\"Training done, f1-score is : \", f1_bert)"
      ],
      "id": "89cf32bd"
    },
    {
      "cell_type": "code",
      "execution_count": null,
      "metadata": {
        "colab": {
          "base_uri": "https://localhost:8080/",
          "height": 180,
          "referenced_widgets": [
            "a58b5421a1904984b1ab79881c5910de",
            "b0584970dc4a4d4d85bfbb7f7f98be7f",
            "39091543f5c74f70a1d136f3b92f748d",
            "d7aa137e166749a1a2667a4d8db31bfd",
            "4e607b3f956848959460ce2b0ff0024e",
            "b78e90af287c4c8d8b5a920c524cadf6",
            "c78bf9280e3246989fceb2e0318fe6f6",
            "fe9d755378764c169bfacfe052865091",
            "469674f781ee4c018cb61ac11739e89b",
            "187e2f3faef74cde9e928e373d3e0669",
            "5af8966b25e64c99a4cd7f958fac9934",
            "086f5eab14084dd3bd33da254dba8c32",
            "791345879a854932b946e422b27f8bb5",
            "95e9f3fbae69440c906eeebe734de0f5",
            "95d0a1c87bf64b29bd2c35fdb6326ba3",
            "c63ea518779448d7bc1acb3a8c86cc06",
            "87686d27055744c6a963aef365af32ee",
            "fa8d60db1237460498902c5a59cb1603",
            "fb88c447bebd482a8a2415c0b0fcaf75",
            "7e4841c9a5db4f9fb02bc03d9a08bc2a",
            "b1066874cb9f4995ad693a99bee2bbbf",
            "cea2490f130945d0b3c4efbd401fce31",
            "73146dca060b4d8d96b979a79919d6a5",
            "5de36bf6f72a4672b2171a57c74b3985",
            "ecc050d12033459d830c74c11fdd1325",
            "4f2d2c1224304849acaeff126d079bff",
            "7ab80aed016d41af86f981c066afde35",
            "d8a92a89eb1d49698b818f7bb2551648",
            "b5315b42ecbf41af968dc34cfa3e7b5e",
            "2f2599564ff24be3b5abcf8a8f7c6c7b",
            "7f688ea1bba24c6db7c08ccfd2b9397d",
            "02e2f078758d46e79d47cea0aa56542d",
            "04d2789b4ff24fad8a63862fbc297961",
            "c4a3655d387d466c83ce3859bc79bdf3",
            "332380e37d3b4bd3b69906d7cb1728cb",
            "9de44592800b45e19b3756cd010d7aa2",
            "b7fac714c61f49219cb77d04574b2b65",
            "94ed874aecfb48949877409fab493f80",
            "1ef0d40aedba43b68bdd3f9e7e0d972e",
            "d97e7589599e4678b18eab8cc3bc7b34",
            "246a242a236e4a1db04a6c78e41cf765",
            "c711c280e562452f9fc33ce882c30047",
            "5e5a225a0dde4ce2940e558d0cae4e76",
            "1a4790763c8a44e4bdb5864839b1ca39"
          ]
        },
        "id": "01710eb8",
        "outputId": "8b656146-315c-4f5d-b111-3667e9b106a0"
      },
      "outputs": [
        {
          "data": {
            "application/vnd.jupyter.widget-view+json": {
              "model_id": "a58b5421a1904984b1ab79881c5910de",
              "version_major": 2,
              "version_minor": 0
            },
            "text/plain": [
              "  0%|          | 0/594 [00:00<?, ?it/s]"
            ]
          },
          "metadata": {},
          "output_type": "display_data"
        },
        {
          "data": {
            "application/vnd.jupyter.widget-view+json": {
              "model_id": "086f5eab14084dd3bd33da254dba8c32",
              "version_major": 2,
              "version_minor": 0
            },
            "text/plain": [
              "  0%|          | 0/75 [00:00<?, ?it/s]"
            ]
          },
          "metadata": {},
          "output_type": "display_data"
        },
        {
          "data": {
            "application/vnd.jupyter.widget-view+json": {
              "model_id": "73146dca060b4d8d96b979a79919d6a5",
              "version_major": 2,
              "version_minor": 0
            },
            "text/plain": [
              "  0%|          | 0/2389 [00:00<?, ?it/s]"
            ]
          },
          "metadata": {},
          "output_type": "display_data"
        },
        {
          "data": {
            "application/vnd.jupyter.widget-view+json": {
              "model_id": "c4a3655d387d466c83ce3859bc79bdf3",
              "version_major": 2,
              "version_minor": 0
            },
            "text/plain": [
              "  0%|          | 0/299 [00:00<?, ?it/s]"
            ]
          },
          "metadata": {},
          "output_type": "display_data"
        },
        {
          "name": "stdout",
          "output_type": "stream",
          "text": [
            "Training done, accuracy is :  0.9393939393939394\n",
            "Training done, f1-score is :  0.9393602540834847\n"
          ]
        }
      ],
      "source": [
        "predictions, raw_outputs = model.predict(list(nlp_test['text']))\n",
        "score_bert = accuracy_score(predictions, nlp_test['label'])\n",
        "f1_bert = f1_score(predictions, nlp_test['label'], average=\"macro\")\n",
        "predictions, raw_out_train = model.predict(list(nlp_train['text']))\n",
        "print(\"Training done, accuracy is : \", score_bert)\n",
        "print(\"Training done, f1-score is : \", f1_bert)"
      ],
      "id": "01710eb8"
    },
    {
      "cell_type": "code",
      "execution_count": null,
      "metadata": {
        "id": "8fadfb4a"
      },
      "outputs": [],
      "source": [
        "#Training Style Classifier"
      ],
      "id": "8fadfb4a"
    },
    {
      "cell_type": "code",
      "execution_count": null,
      "metadata": {
        "colab": {
          "base_uri": "https://localhost:8080/"
        },
        "id": "721c1f39",
        "outputId": "1c2d9893-039c-45a4-c7f0-4786c0eeef6b"
      },
      "outputs": [
        {
          "name": "stdout",
          "output_type": "stream",
          "text": [
            "Training done, accuracy is :  0.28722157092614303\n",
            "Training done, f1-score is :  0.2871970796499098\n"
          ]
        },
        {
          "data": {
            "text/plain": [
              "array([[125, 302],\n",
              "       [306, 120]])"
            ]
          },
          "execution_count": 24,
          "metadata": {},
          "output_type": "execute_result"
        }
      ],
      "source": [
        "X_style_train = nlp_train[[\"avg_len\", \"num_short_w\", \"per_digit\", \"per_cap\", \"f_a\", \"f_b\", \"f_c\", \"f_d\", \"f_e\", \"f_f\", \"f_g\", \"f_h\", \"f_i\", \"f_j\", \"f_k\", \"f_l\", \"f_m\", \"f_n\", \"f_o\", \"f_p\", \"f_q\", \"f_r\", \"f_s\", \"f_t\", \"f_u\", \"f_v\", \"f_w\", \"f_x\", \"f_y\", \"f_z\", \"f_0\", \"f_1\", \"f_2\", \"f_3\", \"f_4\", \"f_5\", \"f_6\", \"f_7\", \"f_8\", \"f_9\", \"f_e_0\", \"f_e_1\", \"f_e_2\", \"f_e_3\", \"f_e_4\", \"f_e_5\", \"f_e_6\", \"f_e_7\", \"f_e_8\", \"f_e_9\", \"f_e_10\", \"f_e_11\", \"richness\",]]# \"CC\", \"CD\", \"DT\", \"EX\", \"FW\", \"IN\", \"JJ\", \"JJR\", \"JJS\", \"LS\", \"MD\", \"NN\", \"NNS\", \"NNP\", \"PDT\", \"POS\", \"PRP\", \"PRPs\", \"RB\", \"RBR\", \"RBS\", \"RP\", \"SYM\", \"TO\", \"UH\", \"VB\", \"VBD\", \"VBG\", \"VBN\", \"VBP\", \"VBZ\", \"WDT\", \"WP\", \"WPs\", \"WRB\",  ]]\n",
        "X_style_test = nlp_test[[\"avg_len\", \"num_short_w\", \"per_digit\", \"per_cap\", \"f_a\", \"f_b\", \"f_c\", \"f_d\", \"f_e\", \"f_f\", \"f_g\", \"f_h\", \"f_i\", \"f_j\", \"f_k\", \"f_l\", \"f_m\", \"f_n\", \"f_o\", \"f_p\", \"f_q\", \"f_r\", \"f_s\", \"f_t\", \"f_u\", \"f_v\", \"f_w\", \"f_x\", \"f_y\", \"f_z\", \"f_0\", \"f_1\", \"f_2\", \"f_3\", \"f_4\", \"f_5\", \"f_6\", \"f_7\", \"f_8\", \"f_9\", \"f_e_0\", \"f_e_1\", \"f_e_2\", \"f_e_3\", \"f_e_4\", \"f_e_5\", \"f_e_6\", \"f_e_7\", \"f_e_8\", \"f_e_9\", \"f_e_10\", \"f_e_11\", \"richness\",]]# \"CC\", \"CD\", \"DT\", \"EX\", \"FW\", \"IN\", \"JJ\", \"JJR\", \"JJS\", \"LS\", \"MD\", \"NN\", \"NNS\", \"NNP\", \"PDT\", \"POS\", \"PRP\", \"PRPs\", \"RB\", \"RBR\", \"RBS\", \"RP\", \"SYM\", \"TO\", \"UH\", \"VB\", \"VBD\", \"VBG\", \"VBN\", \"VBP\", \"VBZ\", \"WDT\", \"WP\", \"WPs\", \"WRB\", ]]\n",
        "\n",
        "clf = xgb.XGBClassifier().fit(X_style_train, nlp_train['class'])\n",
        "# clf = LogisticRegression(random_state=0).fit(X_style_train, nlp_train['class'])\n",
        "y_pred = clf.predict(X_style_test)\n",
        "y_proba = clf.predict_proba(X_style_test)\n",
        "y_proba_train = clf.predict_proba(X_style_train)\n",
        "score_style = accuracy_score(nlp_test['class'], y_pred)\n",
        "f1_style = f1_score(nlp_test['class'], y_pred, average=\"macro\")\n",
        "\n",
        "print(\"Training done, accuracy is : \", score_style)\n",
        "print(\"Training done, f1-score is : \", f1_style)\n",
        "confusion_matrix(nlp_test['class'], y_pred)"
      ],
      "id": "721c1f39"
    },
    {
      "cell_type": "code",
      "execution_count": null,
      "metadata": {
        "id": "ff9wRchIT4qV"
      },
      "outputs": [],
      "source": [
        "#Model Combination"
      ],
      "id": "ff9wRchIT4qV"
    },
    {
      "cell_type": "code",
      "execution_count": null,
      "metadata": {
        "colab": {
          "base_uri": "https://localhost:8080/"
        },
        "id": "LRuO7R7ta98Q",
        "outputId": "b19dadcb-821d-4706-ca0f-e03e3c71ac7e"
      },
      "outputs": [
        {
          "name": "stdout",
          "output_type": "stream",
          "text": [
            "Training done, accuracy is :  0.9393939393939394\n",
            "Training done, f1-score is :  0.9393602540834847\n"
          ]
        },
        {
          "data": {
            "text/plain": [
              "array([[272,  24],\n",
              "       [ 12, 286]])"
            ]
          },
          "execution_count": 27,
          "metadata": {},
          "output_type": "execute_result"
        }
      ],
      "source": [
        "feat_for_BERT_LR_train = np.concatenate([raw_out_train, y_proba_train], axis=1)\n",
        "feat_for_BERT_LR_test = np.concatenate([raw_outputs, y_proba], axis=1)\n",
        "\n",
        "# clf = LogisticRegression(random_state=0).fit(feat_for_BERT_LR_train, nlp_train['label'])\n",
        "clf = xgb.XGBClassifier().fit(feat_for_BERT_LR_train, nlp_train['label'])\n",
        "\n",
        "y_pred = clf.predict(feat_for_BERT_LR_test)\n",
        "score_comb = accuracy_score(nlp_test['label'], y_pred)\n",
        "f1_comb = f1_score(nlp_test['label'], y_pred, average=\"macro\")\n",
        "\n",
        "print(\"Training done, accuracy is : \", score_comb)\n",
        "print(\"Training done, f1-score is : \", f1_comb)\n",
        "confusion_matrix(nlp_test['label'], y_pred)\n",
        "\n",
        "# plot_confusion_matrix_from_data(nlp_test['Target'], y_pred)"
      ],
      "id": "LRuO7R7ta98Q"
    },
    {
      "cell_type": "code",
      "execution_count": null,
      "metadata": {
        "id": "ttvUVAfhbPrj"
      },
      "outputs": [],
      "source": [
        "#Character n-gram"
      ],
      "id": "ttvUVAfhbPrj"
    },
    {
      "cell_type": "code",
      "execution_count": null,
      "metadata": {
        "colab": {
          "base_uri": "https://localhost:8080/"
        },
        "id": "1oFR_rG_bYwc",
        "outputId": "ebe5bcd8-e03b-42ff-a70a-cf4cd5c2c721"
      },
      "outputs": [
        {
          "name": "stdout",
          "output_type": "stream",
          "text": [
            "Training done, accuracy is :  0.9006734006734006\n",
            "Training done, f1-score is :  0.9005919778072143\n"
          ]
        },
        {
          "data": {
            "text/plain": [
              "array([[259,  37],\n",
              "       [ 22, 276]])"
            ]
          },
          "execution_count": 28,
          "metadata": {},
          "output_type": "execute_result"
        }
      ],
      "source": [
        "feats_train = nlp_train['text'].apply(lambda x: find_freq_n_gram_in_txt(x, list_bigram, list_trigram)).values\n",
        "feats_test = nlp_test['text'].apply(lambda x: find_freq_n_gram_in_txt(x, list_bigram, list_trigram)).values\n",
        "\n",
        "feats_train = pd.DataFrame(feats_train)[0].apply(lambda x: pd.Series(x))\n",
        "feats_test = pd.DataFrame(feats_test)[0].apply(lambda x: pd.Series(x))\n",
        "\n",
        "clf_char = xgb.XGBClassifier().fit(feats_train, nlp_train['label'])\n",
        "# clf_char = LogisticRegression(random_state=0).fit(feats_train, nlp_train['label'])\n",
        "y_pred = clf_char.predict(feats_test)\n",
        "y_proba = clf_char.predict_proba(feats_test)\n",
        "y_proba_train = clf_char.predict_proba(feats_train)\n",
        "\n",
        "score_char = accuracy_score(nlp_test['label'], y_pred)\n",
        "f1_char = f1_score(nlp_test['label'], y_pred, average=\"macro\")\n",
        "\n",
        "print(\"Training done, accuracy is : \", score_char)\n",
        "print(\"Training done, f1-score is : \", f1_char)\n",
        "confusion_matrix(nlp_test['label'], y_pred)"
      ],
      "id": "1oFR_rG_bYwc"
    },
    {
      "cell_type": "code",
      "execution_count": null,
      "metadata": {
        "id": "9sbNgbZnbhwn"
      },
      "outputs": [],
      "source": [
        "#BERT + Style + Char N-gram"
      ],
      "id": "9sbNgbZnbhwn"
    },
    {
      "cell_type": "code",
      "execution_count": null,
      "metadata": {
        "colab": {
          "base_uri": "https://localhost:8080/"
        },
        "id": "rmy19sBmeUiK",
        "outputId": "8bfacaed-b840-4f98-926b-d961b6798785"
      },
      "outputs": [
        {
          "name": "stdout",
          "output_type": "stream",
          "text": [
            "Training done, accuracy is :  0.9393939393939394\n",
            "Training done, f1-score is :  0.9393602540834847\n"
          ]
        }
      ],
      "source": [
        "feat_for_BERT_full_train = np.concatenate([feat_for_BERT_LR_train, y_proba_train], axis=1)\n",
        "feat_for_BERT_full_test = np.concatenate([feat_for_BERT_LR_test, y_proba], axis=1)\n",
        "\n",
        "clf = xgb.XGBClassifier().fit(feat_for_BERT_full_train, nlp_train['label'])\n",
        "# clf = LogisticRegression(random_state=0).fit(feat_for_BERT_full_train, nlp_train['label'])\n",
        "\n",
        "y_pred = clf.predict(feat_for_BERT_full_test)\n",
        "score_comb_fin = accuracy_score(nlp_test['label'], y_pred)\n",
        "f1_comb_fin = f1_score(nlp_test['label'], y_pred, average=\"macro\")\n",
        "print(\"Training done, accuracy is : \", score_comb_fin)\n",
        "print(\"Training done, f1-score is : \", f1_comb_fin)\n",
        "confusion_matrix(nlp_test['label'], y_pred)\n",
        "\n",
        "list_scores, list_f1 = [] , []\n",
        "list_scores.append([score_lr, score_bert, score_style, score_comb])\n",
        "list_f1.append([f1_lr, f1_bert, f1_style, f1_comb])\n"
      ],
      "id": "rmy19sBmeUiK"
    },
    {
      "cell_type": "code",
      "execution_count": null,
      "metadata": {
        "colab": {
          "base_uri": "https://localhost:8080/"
        },
        "id": "efiC_0y9esr3",
        "outputId": "ba025195-de1c-4b92-de45-b631fa07fcea"
      },
      "outputs": [
        {
          "data": {
            "text/plain": [
              "array([[272,  24],\n",
              "       [ 12, 286]])"
            ]
          },
          "execution_count": 30,
          "metadata": {},
          "output_type": "execute_result"
        }
      ],
      "source": [
        "confusion_matrix(nlp_test['label'], y_pred)"
      ],
      "id": "efiC_0y9esr3"
    },
    {
      "cell_type": "code",
      "execution_count": null,
      "metadata": {
        "colab": {
          "base_uri": "https://localhost:8080/"
        },
        "id": "3D-nm1rs1_YV",
        "outputId": "7ea9d191-b3d4-468d-bf68-1738f6d9757d"
      },
      "outputs": [
        {
          "data": {
            "text/plain": [
              "array([[-5.46875   ,  6.22265625],\n",
              "       [ 5.17578125, -5.83203125],\n",
              "       [ 5.03125   , -5.99609375],\n",
              "       ...,\n",
              "       [-5.4765625 ,  6.21875   ],\n",
              "       [ 5.171875  , -5.91796875],\n",
              "       [-5.47265625,  6.23046875]])"
            ]
          },
          "execution_count": 31,
          "metadata": {},
          "output_type": "execute_result"
        }
      ],
      "source": [
        "raw_out_train"
      ],
      "id": "3D-nm1rs1_YV"
    },
    {
      "cell_type": "code",
      "execution_count": null,
      "metadata": {
        "colab": {
          "base_uri": "https://localhost:8080/"
        },
        "id": "63zhyM88OQNt",
        "outputId": "ca518513-f66d-4be0-84b0-a610dd5249e1"
      },
      "outputs": [
        {
          "data": {
            "text/plain": [
              "array([[-5.296875  ,  6.03125   ],\n",
              "       [-5.484375  ,  6.22265625],\n",
              "       [ 5.07421875, -5.984375  ],\n",
              "       ...,\n",
              "       [-5.48828125,  6.21484375],\n",
              "       [ 5.15234375, -5.96875   ],\n",
              "       [-5.46875   ,  6.23046875]])"
            ]
          },
          "execution_count": 32,
          "metadata": {},
          "output_type": "execute_result"
        }
      ],
      "source": [
        "raw_outputs"
      ],
      "id": "63zhyM88OQNt"
    },
    {
      "cell_type": "code",
      "execution_count": null,
      "metadata": {
        "id": "CccE4J5zOUxb"
      },
      "outputs": [],
      "source": [
        "np.save(path+'raw_outputs_bert_p2.npy', raw_outputs)"
      ],
      "id": "CccE4J5zOUxb"
    },
    {
      "cell_type": "code",
      "execution_count": null,
      "metadata": {
        "id": "aEiVBrwFSJo2"
      },
      "outputs": [],
      "source": [
        "np.save(path+'raw_out_train_bert_p2.npy', raw_out_train)"
      ],
      "id": "aEiVBrwFSJo2"
    },
    {
      "cell_type": "code",
      "execution_count": null,
      "metadata": {
        "id": "YLldVn55SPeG"
      },
      "outputs": [],
      "source": [
        "# df.to_csv('p2_ling.csv')"
      ],
      "id": "YLldVn55SPeG"
    },
    {
      "cell_type": "code",
      "execution_count": null,
      "metadata": {
        "id": "ysYCMSl4bSbH"
      },
      "outputs": [],
      "source": [],
      "id": "ysYCMSl4bSbH"
    }
  ],
  "metadata": {
    "accelerator": "GPU",
    "colab": {
      "provenance": []
    },
    "gpuClass": "standard",
    "kernelspec": {
      "display_name": "Python 3 (ipykernel)",
      "language": "python",
      "name": "python3"
    },
    "language_info": {
      "codemirror_mode": {
        "name": "ipython",
        "version": 3
      },
      "file_extension": ".py",
      "mimetype": "text/x-python",
      "name": "python",
      "nbconvert_exporter": "python",
      "pygments_lexer": "ipython3",
      "version": "3.8.10"
    },
    "widgets": {
      "application/vnd.jupyter.widget-state+json": {
        "02e2f078758d46e79d47cea0aa56542d": {
          "model_module": "@jupyter-widgets/base",
          "model_module_version": "1.2.0",
          "model_name": "LayoutModel",
          "state": {
            "_model_module": "@jupyter-widgets/base",
            "_model_module_version": "1.2.0",
            "_model_name": "LayoutModel",
            "_view_count": null,
            "_view_module": "@jupyter-widgets/base",
            "_view_module_version": "1.2.0",
            "_view_name": "LayoutView",
            "align_content": null,
            "align_items": null,
            "align_self": null,
            "border": null,
            "bottom": null,
            "display": null,
            "flex": null,
            "flex_flow": null,
            "grid_area": null,
            "grid_auto_columns": null,
            "grid_auto_flow": null,
            "grid_auto_rows": null,
            "grid_column": null,
            "grid_gap": null,
            "grid_row": null,
            "grid_template_areas": null,
            "grid_template_columns": null,
            "grid_template_rows": null,
            "height": null,
            "justify_content": null,
            "justify_items": null,
            "left": null,
            "margin": null,
            "max_height": null,
            "max_width": null,
            "min_height": null,
            "min_width": null,
            "object_fit": null,
            "object_position": null,
            "order": null,
            "overflow": null,
            "overflow_x": null,
            "overflow_y": null,
            "padding": null,
            "right": null,
            "top": null,
            "visibility": null,
            "width": null
          }
        },
        "04d2789b4ff24fad8a63862fbc297961": {
          "model_module": "@jupyter-widgets/controls",
          "model_module_version": "1.5.0",
          "model_name": "DescriptionStyleModel",
          "state": {
            "_model_module": "@jupyter-widgets/controls",
            "_model_module_version": "1.5.0",
            "_model_name": "DescriptionStyleModel",
            "_view_count": null,
            "_view_module": "@jupyter-widgets/base",
            "_view_module_version": "1.2.0",
            "_view_name": "StyleView",
            "description_width": ""
          }
        },
        "086f5eab14084dd3bd33da254dba8c32": {
          "model_module": "@jupyter-widgets/controls",
          "model_module_version": "1.5.0",
          "model_name": "HBoxModel",
          "state": {
            "_dom_classes": [],
            "_model_module": "@jupyter-widgets/controls",
            "_model_module_version": "1.5.0",
            "_model_name": "HBoxModel",
            "_view_count": null,
            "_view_module": "@jupyter-widgets/controls",
            "_view_module_version": "1.5.0",
            "_view_name": "HBoxView",
            "box_style": "",
            "children": [
              "IPY_MODEL_791345879a854932b946e422b27f8bb5",
              "IPY_MODEL_95e9f3fbae69440c906eeebe734de0f5",
              "IPY_MODEL_95d0a1c87bf64b29bd2c35fdb6326ba3"
            ],
            "layout": "IPY_MODEL_c63ea518779448d7bc1acb3a8c86cc06"
          }
        },
        "187e2f3faef74cde9e928e373d3e0669": {
          "model_module": "@jupyter-widgets/base",
          "model_module_version": "1.2.0",
          "model_name": "LayoutModel",
          "state": {
            "_model_module": "@jupyter-widgets/base",
            "_model_module_version": "1.2.0",
            "_model_name": "LayoutModel",
            "_view_count": null,
            "_view_module": "@jupyter-widgets/base",
            "_view_module_version": "1.2.0",
            "_view_name": "LayoutView",
            "align_content": null,
            "align_items": null,
            "align_self": null,
            "border": null,
            "bottom": null,
            "display": null,
            "flex": null,
            "flex_flow": null,
            "grid_area": null,
            "grid_auto_columns": null,
            "grid_auto_flow": null,
            "grid_auto_rows": null,
            "grid_column": null,
            "grid_gap": null,
            "grid_row": null,
            "grid_template_areas": null,
            "grid_template_columns": null,
            "grid_template_rows": null,
            "height": null,
            "justify_content": null,
            "justify_items": null,
            "left": null,
            "margin": null,
            "max_height": null,
            "max_width": null,
            "min_height": null,
            "min_width": null,
            "object_fit": null,
            "object_position": null,
            "order": null,
            "overflow": null,
            "overflow_x": null,
            "overflow_y": null,
            "padding": null,
            "right": null,
            "top": null,
            "visibility": null,
            "width": null
          }
        },
        "1a4790763c8a44e4bdb5864839b1ca39": {
          "model_module": "@jupyter-widgets/controls",
          "model_module_version": "1.5.0",
          "model_name": "DescriptionStyleModel",
          "state": {
            "_model_module": "@jupyter-widgets/controls",
            "_model_module_version": "1.5.0",
            "_model_name": "DescriptionStyleModel",
            "_view_count": null,
            "_view_module": "@jupyter-widgets/base",
            "_view_module_version": "1.2.0",
            "_view_name": "StyleView",
            "description_width": ""
          }
        },
        "1ef0d40aedba43b68bdd3f9e7e0d972e": {
          "model_module": "@jupyter-widgets/base",
          "model_module_version": "1.2.0",
          "model_name": "LayoutModel",
          "state": {
            "_model_module": "@jupyter-widgets/base",
            "_model_module_version": "1.2.0",
            "_model_name": "LayoutModel",
            "_view_count": null,
            "_view_module": "@jupyter-widgets/base",
            "_view_module_version": "1.2.0",
            "_view_name": "LayoutView",
            "align_content": null,
            "align_items": null,
            "align_self": null,
            "border": null,
            "bottom": null,
            "display": null,
            "flex": null,
            "flex_flow": null,
            "grid_area": null,
            "grid_auto_columns": null,
            "grid_auto_flow": null,
            "grid_auto_rows": null,
            "grid_column": null,
            "grid_gap": null,
            "grid_row": null,
            "grid_template_areas": null,
            "grid_template_columns": null,
            "grid_template_rows": null,
            "height": null,
            "justify_content": null,
            "justify_items": null,
            "left": null,
            "margin": null,
            "max_height": null,
            "max_width": null,
            "min_height": null,
            "min_width": null,
            "object_fit": null,
            "object_position": null,
            "order": null,
            "overflow": null,
            "overflow_x": null,
            "overflow_y": null,
            "padding": null,
            "right": null,
            "top": null,
            "visibility": null,
            "width": null
          }
        },
        "246a242a236e4a1db04a6c78e41cf765": {
          "model_module": "@jupyter-widgets/base",
          "model_module_version": "1.2.0",
          "model_name": "LayoutModel",
          "state": {
            "_model_module": "@jupyter-widgets/base",
            "_model_module_version": "1.2.0",
            "_model_name": "LayoutModel",
            "_view_count": null,
            "_view_module": "@jupyter-widgets/base",
            "_view_module_version": "1.2.0",
            "_view_name": "LayoutView",
            "align_content": null,
            "align_items": null,
            "align_self": null,
            "border": null,
            "bottom": null,
            "display": null,
            "flex": null,
            "flex_flow": null,
            "grid_area": null,
            "grid_auto_columns": null,
            "grid_auto_flow": null,
            "grid_auto_rows": null,
            "grid_column": null,
            "grid_gap": null,
            "grid_row": null,
            "grid_template_areas": null,
            "grid_template_columns": null,
            "grid_template_rows": null,
            "height": null,
            "justify_content": null,
            "justify_items": null,
            "left": null,
            "margin": null,
            "max_height": null,
            "max_width": null,
            "min_height": null,
            "min_width": null,
            "object_fit": null,
            "object_position": null,
            "order": null,
            "overflow": null,
            "overflow_x": null,
            "overflow_y": null,
            "padding": null,
            "right": null,
            "top": null,
            "visibility": null,
            "width": null
          }
        },
        "2f2599564ff24be3b5abcf8a8f7c6c7b": {
          "model_module": "@jupyter-widgets/base",
          "model_module_version": "1.2.0",
          "model_name": "LayoutModel",
          "state": {
            "_model_module": "@jupyter-widgets/base",
            "_model_module_version": "1.2.0",
            "_model_name": "LayoutModel",
            "_view_count": null,
            "_view_module": "@jupyter-widgets/base",
            "_view_module_version": "1.2.0",
            "_view_name": "LayoutView",
            "align_content": null,
            "align_items": null,
            "align_self": null,
            "border": null,
            "bottom": null,
            "display": null,
            "flex": null,
            "flex_flow": null,
            "grid_area": null,
            "grid_auto_columns": null,
            "grid_auto_flow": null,
            "grid_auto_rows": null,
            "grid_column": null,
            "grid_gap": null,
            "grid_row": null,
            "grid_template_areas": null,
            "grid_template_columns": null,
            "grid_template_rows": null,
            "height": null,
            "justify_content": null,
            "justify_items": null,
            "left": null,
            "margin": null,
            "max_height": null,
            "max_width": null,
            "min_height": null,
            "min_width": null,
            "object_fit": null,
            "object_position": null,
            "order": null,
            "overflow": null,
            "overflow_x": null,
            "overflow_y": null,
            "padding": null,
            "right": null,
            "top": null,
            "visibility": null,
            "width": null
          }
        },
        "332380e37d3b4bd3b69906d7cb1728cb": {
          "model_module": "@jupyter-widgets/controls",
          "model_module_version": "1.5.0",
          "model_name": "HTMLModel",
          "state": {
            "_dom_classes": [],
            "_model_module": "@jupyter-widgets/controls",
            "_model_module_version": "1.5.0",
            "_model_name": "HTMLModel",
            "_view_count": null,
            "_view_module": "@jupyter-widgets/controls",
            "_view_module_version": "1.5.0",
            "_view_name": "HTMLView",
            "description": "",
            "description_tooltip": null,
            "layout": "IPY_MODEL_1ef0d40aedba43b68bdd3f9e7e0d972e",
            "placeholder": "​",
            "style": "IPY_MODEL_d97e7589599e4678b18eab8cc3bc7b34",
            "value": "100%"
          }
        },
        "39091543f5c74f70a1d136f3b92f748d": {
          "model_module": "@jupyter-widgets/controls",
          "model_module_version": "1.5.0",
          "model_name": "FloatProgressModel",
          "state": {
            "_dom_classes": [],
            "_model_module": "@jupyter-widgets/controls",
            "_model_module_version": "1.5.0",
            "_model_name": "FloatProgressModel",
            "_view_count": null,
            "_view_module": "@jupyter-widgets/controls",
            "_view_module_version": "1.5.0",
            "_view_name": "ProgressView",
            "bar_style": "danger",
            "description": "",
            "description_tooltip": null,
            "layout": "IPY_MODEL_fe9d755378764c169bfacfe052865091",
            "max": 594,
            "min": 0,
            "orientation": "horizontal",
            "style": "IPY_MODEL_469674f781ee4c018cb61ac11739e89b",
            "value": 2
          }
        },
        "469674f781ee4c018cb61ac11739e89b": {
          "model_module": "@jupyter-widgets/controls",
          "model_module_version": "1.5.0",
          "model_name": "ProgressStyleModel",
          "state": {
            "_model_module": "@jupyter-widgets/controls",
            "_model_module_version": "1.5.0",
            "_model_name": "ProgressStyleModel",
            "_view_count": null,
            "_view_module": "@jupyter-widgets/base",
            "_view_module_version": "1.2.0",
            "_view_name": "StyleView",
            "bar_color": null,
            "description_width": ""
          }
        },
        "4e607b3f956848959460ce2b0ff0024e": {
          "model_module": "@jupyter-widgets/base",
          "model_module_version": "1.2.0",
          "model_name": "LayoutModel",
          "state": {
            "_model_module": "@jupyter-widgets/base",
            "_model_module_version": "1.2.0",
            "_model_name": "LayoutModel",
            "_view_count": null,
            "_view_module": "@jupyter-widgets/base",
            "_view_module_version": "1.2.0",
            "_view_name": "LayoutView",
            "align_content": null,
            "align_items": null,
            "align_self": null,
            "border": null,
            "bottom": null,
            "display": null,
            "flex": null,
            "flex_flow": null,
            "grid_area": null,
            "grid_auto_columns": null,
            "grid_auto_flow": null,
            "grid_auto_rows": null,
            "grid_column": null,
            "grid_gap": null,
            "grid_row": null,
            "grid_template_areas": null,
            "grid_template_columns": null,
            "grid_template_rows": null,
            "height": null,
            "justify_content": null,
            "justify_items": null,
            "left": null,
            "margin": null,
            "max_height": null,
            "max_width": null,
            "min_height": null,
            "min_width": null,
            "object_fit": null,
            "object_position": null,
            "order": null,
            "overflow": null,
            "overflow_x": null,
            "overflow_y": null,
            "padding": null,
            "right": null,
            "top": null,
            "visibility": null,
            "width": null
          }
        },
        "4f2d2c1224304849acaeff126d079bff": {
          "model_module": "@jupyter-widgets/controls",
          "model_module_version": "1.5.0",
          "model_name": "HTMLModel",
          "state": {
            "_dom_classes": [],
            "_model_module": "@jupyter-widgets/controls",
            "_model_module_version": "1.5.0",
            "_model_name": "HTMLModel",
            "_view_count": null,
            "_view_module": "@jupyter-widgets/controls",
            "_view_module_version": "1.5.0",
            "_view_name": "HTMLView",
            "description": "",
            "description_tooltip": null,
            "layout": "IPY_MODEL_02e2f078758d46e79d47cea0aa56542d",
            "placeholder": "​",
            "style": "IPY_MODEL_04d2789b4ff24fad8a63862fbc297961",
            "value": " 5/2389 [00:05&lt;38:19,  1.04it/s]"
          }
        },
        "5af8966b25e64c99a4cd7f958fac9934": {
          "model_module": "@jupyter-widgets/controls",
          "model_module_version": "1.5.0",
          "model_name": "DescriptionStyleModel",
          "state": {
            "_model_module": "@jupyter-widgets/controls",
            "_model_module_version": "1.5.0",
            "_model_name": "DescriptionStyleModel",
            "_view_count": null,
            "_view_module": "@jupyter-widgets/base",
            "_view_module_version": "1.2.0",
            "_view_name": "StyleView",
            "description_width": ""
          }
        },
        "5de36bf6f72a4672b2171a57c74b3985": {
          "model_module": "@jupyter-widgets/controls",
          "model_module_version": "1.5.0",
          "model_name": "HTMLModel",
          "state": {
            "_dom_classes": [],
            "_model_module": "@jupyter-widgets/controls",
            "_model_module_version": "1.5.0",
            "_model_name": "HTMLModel",
            "_view_count": null,
            "_view_module": "@jupyter-widgets/controls",
            "_view_module_version": "1.5.0",
            "_view_name": "HTMLView",
            "description": "",
            "description_tooltip": null,
            "layout": "IPY_MODEL_d8a92a89eb1d49698b818f7bb2551648",
            "placeholder": "​",
            "style": "IPY_MODEL_b5315b42ecbf41af968dc34cfa3e7b5e",
            "value": "  0%"
          }
        },
        "5e5a225a0dde4ce2940e558d0cae4e76": {
          "model_module": "@jupyter-widgets/base",
          "model_module_version": "1.2.0",
          "model_name": "LayoutModel",
          "state": {
            "_model_module": "@jupyter-widgets/base",
            "_model_module_version": "1.2.0",
            "_model_name": "LayoutModel",
            "_view_count": null,
            "_view_module": "@jupyter-widgets/base",
            "_view_module_version": "1.2.0",
            "_view_name": "LayoutView",
            "align_content": null,
            "align_items": null,
            "align_self": null,
            "border": null,
            "bottom": null,
            "display": null,
            "flex": null,
            "flex_flow": null,
            "grid_area": null,
            "grid_auto_columns": null,
            "grid_auto_flow": null,
            "grid_auto_rows": null,
            "grid_column": null,
            "grid_gap": null,
            "grid_row": null,
            "grid_template_areas": null,
            "grid_template_columns": null,
            "grid_template_rows": null,
            "height": null,
            "justify_content": null,
            "justify_items": null,
            "left": null,
            "margin": null,
            "max_height": null,
            "max_width": null,
            "min_height": null,
            "min_width": null,
            "object_fit": null,
            "object_position": null,
            "order": null,
            "overflow": null,
            "overflow_x": null,
            "overflow_y": null,
            "padding": null,
            "right": null,
            "top": null,
            "visibility": null,
            "width": null
          }
        },
        "73146dca060b4d8d96b979a79919d6a5": {
          "model_module": "@jupyter-widgets/controls",
          "model_module_version": "1.5.0",
          "model_name": "HBoxModel",
          "state": {
            "_dom_classes": [],
            "_model_module": "@jupyter-widgets/controls",
            "_model_module_version": "1.5.0",
            "_model_name": "HBoxModel",
            "_view_count": null,
            "_view_module": "@jupyter-widgets/controls",
            "_view_module_version": "1.5.0",
            "_view_name": "HBoxView",
            "box_style": "",
            "children": [
              "IPY_MODEL_5de36bf6f72a4672b2171a57c74b3985",
              "IPY_MODEL_ecc050d12033459d830c74c11fdd1325",
              "IPY_MODEL_4f2d2c1224304849acaeff126d079bff"
            ],
            "layout": "IPY_MODEL_7ab80aed016d41af86f981c066afde35"
          }
        },
        "791345879a854932b946e422b27f8bb5": {
          "model_module": "@jupyter-widgets/controls",
          "model_module_version": "1.5.0",
          "model_name": "HTMLModel",
          "state": {
            "_dom_classes": [],
            "_model_module": "@jupyter-widgets/controls",
            "_model_module_version": "1.5.0",
            "_model_name": "HTMLModel",
            "_view_count": null,
            "_view_module": "@jupyter-widgets/controls",
            "_view_module_version": "1.5.0",
            "_view_name": "HTMLView",
            "description": "",
            "description_tooltip": null,
            "layout": "IPY_MODEL_87686d27055744c6a963aef365af32ee",
            "placeholder": "​",
            "style": "IPY_MODEL_fa8d60db1237460498902c5a59cb1603",
            "value": "100%"
          }
        },
        "7ab80aed016d41af86f981c066afde35": {
          "model_module": "@jupyter-widgets/base",
          "model_module_version": "1.2.0",
          "model_name": "LayoutModel",
          "state": {
            "_model_module": "@jupyter-widgets/base",
            "_model_module_version": "1.2.0",
            "_model_name": "LayoutModel",
            "_view_count": null,
            "_view_module": "@jupyter-widgets/base",
            "_view_module_version": "1.2.0",
            "_view_name": "LayoutView",
            "align_content": null,
            "align_items": null,
            "align_self": null,
            "border": null,
            "bottom": null,
            "display": null,
            "flex": null,
            "flex_flow": null,
            "grid_area": null,
            "grid_auto_columns": null,
            "grid_auto_flow": null,
            "grid_auto_rows": null,
            "grid_column": null,
            "grid_gap": null,
            "grid_row": null,
            "grid_template_areas": null,
            "grid_template_columns": null,
            "grid_template_rows": null,
            "height": null,
            "justify_content": null,
            "justify_items": null,
            "left": null,
            "margin": null,
            "max_height": null,
            "max_width": null,
            "min_height": null,
            "min_width": null,
            "object_fit": null,
            "object_position": null,
            "order": null,
            "overflow": null,
            "overflow_x": null,
            "overflow_y": null,
            "padding": null,
            "right": null,
            "top": null,
            "visibility": null,
            "width": null
          }
        },
        "7e4841c9a5db4f9fb02bc03d9a08bc2a": {
          "model_module": "@jupyter-widgets/controls",
          "model_module_version": "1.5.0",
          "model_name": "ProgressStyleModel",
          "state": {
            "_model_module": "@jupyter-widgets/controls",
            "_model_module_version": "1.5.0",
            "_model_name": "ProgressStyleModel",
            "_view_count": null,
            "_view_module": "@jupyter-widgets/base",
            "_view_module_version": "1.2.0",
            "_view_name": "StyleView",
            "bar_color": null,
            "description_width": ""
          }
        },
        "7f688ea1bba24c6db7c08ccfd2b9397d": {
          "model_module": "@jupyter-widgets/controls",
          "model_module_version": "1.5.0",
          "model_name": "ProgressStyleModel",
          "state": {
            "_model_module": "@jupyter-widgets/controls",
            "_model_module_version": "1.5.0",
            "_model_name": "ProgressStyleModel",
            "_view_count": null,
            "_view_module": "@jupyter-widgets/base",
            "_view_module_version": "1.2.0",
            "_view_name": "StyleView",
            "bar_color": null,
            "description_width": ""
          }
        },
        "87686d27055744c6a963aef365af32ee": {
          "model_module": "@jupyter-widgets/base",
          "model_module_version": "1.2.0",
          "model_name": "LayoutModel",
          "state": {
            "_model_module": "@jupyter-widgets/base",
            "_model_module_version": "1.2.0",
            "_model_name": "LayoutModel",
            "_view_count": null,
            "_view_module": "@jupyter-widgets/base",
            "_view_module_version": "1.2.0",
            "_view_name": "LayoutView",
            "align_content": null,
            "align_items": null,
            "align_self": null,
            "border": null,
            "bottom": null,
            "display": null,
            "flex": null,
            "flex_flow": null,
            "grid_area": null,
            "grid_auto_columns": null,
            "grid_auto_flow": null,
            "grid_auto_rows": null,
            "grid_column": null,
            "grid_gap": null,
            "grid_row": null,
            "grid_template_areas": null,
            "grid_template_columns": null,
            "grid_template_rows": null,
            "height": null,
            "justify_content": null,
            "justify_items": null,
            "left": null,
            "margin": null,
            "max_height": null,
            "max_width": null,
            "min_height": null,
            "min_width": null,
            "object_fit": null,
            "object_position": null,
            "order": null,
            "overflow": null,
            "overflow_x": null,
            "overflow_y": null,
            "padding": null,
            "right": null,
            "top": null,
            "visibility": null,
            "width": null
          }
        },
        "94ed874aecfb48949877409fab493f80": {
          "model_module": "@jupyter-widgets/base",
          "model_module_version": "1.2.0",
          "model_name": "LayoutModel",
          "state": {
            "_model_module": "@jupyter-widgets/base",
            "_model_module_version": "1.2.0",
            "_model_name": "LayoutModel",
            "_view_count": null,
            "_view_module": "@jupyter-widgets/base",
            "_view_module_version": "1.2.0",
            "_view_name": "LayoutView",
            "align_content": null,
            "align_items": null,
            "align_self": null,
            "border": null,
            "bottom": null,
            "display": null,
            "flex": null,
            "flex_flow": null,
            "grid_area": null,
            "grid_auto_columns": null,
            "grid_auto_flow": null,
            "grid_auto_rows": null,
            "grid_column": null,
            "grid_gap": null,
            "grid_row": null,
            "grid_template_areas": null,
            "grid_template_columns": null,
            "grid_template_rows": null,
            "height": null,
            "justify_content": null,
            "justify_items": null,
            "left": null,
            "margin": null,
            "max_height": null,
            "max_width": null,
            "min_height": null,
            "min_width": null,
            "object_fit": null,
            "object_position": null,
            "order": null,
            "overflow": null,
            "overflow_x": null,
            "overflow_y": null,
            "padding": null,
            "right": null,
            "top": null,
            "visibility": null,
            "width": null
          }
        },
        "95d0a1c87bf64b29bd2c35fdb6326ba3": {
          "model_module": "@jupyter-widgets/controls",
          "model_module_version": "1.5.0",
          "model_name": "HTMLModel",
          "state": {
            "_dom_classes": [],
            "_model_module": "@jupyter-widgets/controls",
            "_model_module_version": "1.5.0",
            "_model_name": "HTMLModel",
            "_view_count": null,
            "_view_module": "@jupyter-widgets/controls",
            "_view_module_version": "1.5.0",
            "_view_name": "HTMLView",
            "description": "",
            "description_tooltip": null,
            "layout": "IPY_MODEL_b1066874cb9f4995ad693a99bee2bbbf",
            "placeholder": "​",
            "style": "IPY_MODEL_cea2490f130945d0b3c4efbd401fce31",
            "value": " 75/75 [00:01&lt;00:00, 44.86it/s]"
          }
        },
        "95e9f3fbae69440c906eeebe734de0f5": {
          "model_module": "@jupyter-widgets/controls",
          "model_module_version": "1.5.0",
          "model_name": "FloatProgressModel",
          "state": {
            "_dom_classes": [],
            "_model_module": "@jupyter-widgets/controls",
            "_model_module_version": "1.5.0",
            "_model_name": "FloatProgressModel",
            "_view_count": null,
            "_view_module": "@jupyter-widgets/controls",
            "_view_module_version": "1.5.0",
            "_view_name": "ProgressView",
            "bar_style": "success",
            "description": "",
            "description_tooltip": null,
            "layout": "IPY_MODEL_fb88c447bebd482a8a2415c0b0fcaf75",
            "max": 75,
            "min": 0,
            "orientation": "horizontal",
            "style": "IPY_MODEL_7e4841c9a5db4f9fb02bc03d9a08bc2a",
            "value": 75
          }
        },
        "9de44592800b45e19b3756cd010d7aa2": {
          "model_module": "@jupyter-widgets/controls",
          "model_module_version": "1.5.0",
          "model_name": "FloatProgressModel",
          "state": {
            "_dom_classes": [],
            "_model_module": "@jupyter-widgets/controls",
            "_model_module_version": "1.5.0",
            "_model_name": "FloatProgressModel",
            "_view_count": null,
            "_view_module": "@jupyter-widgets/controls",
            "_view_module_version": "1.5.0",
            "_view_name": "ProgressView",
            "bar_style": "success",
            "description": "",
            "description_tooltip": null,
            "layout": "IPY_MODEL_246a242a236e4a1db04a6c78e41cf765",
            "max": 299,
            "min": 0,
            "orientation": "horizontal",
            "style": "IPY_MODEL_c711c280e562452f9fc33ce882c30047",
            "value": 299
          }
        },
        "a58b5421a1904984b1ab79881c5910de": {
          "model_module": "@jupyter-widgets/controls",
          "model_module_version": "1.5.0",
          "model_name": "HBoxModel",
          "state": {
            "_dom_classes": [],
            "_model_module": "@jupyter-widgets/controls",
            "_model_module_version": "1.5.0",
            "_model_name": "HBoxModel",
            "_view_count": null,
            "_view_module": "@jupyter-widgets/controls",
            "_view_module_version": "1.5.0",
            "_view_name": "HBoxView",
            "box_style": "",
            "children": [
              "IPY_MODEL_b0584970dc4a4d4d85bfbb7f7f98be7f",
              "IPY_MODEL_39091543f5c74f70a1d136f3b92f748d",
              "IPY_MODEL_d7aa137e166749a1a2667a4d8db31bfd"
            ],
            "layout": "IPY_MODEL_4e607b3f956848959460ce2b0ff0024e"
          }
        },
        "b0584970dc4a4d4d85bfbb7f7f98be7f": {
          "model_module": "@jupyter-widgets/controls",
          "model_module_version": "1.5.0",
          "model_name": "HTMLModel",
          "state": {
            "_dom_classes": [],
            "_model_module": "@jupyter-widgets/controls",
            "_model_module_version": "1.5.0",
            "_model_name": "HTMLModel",
            "_view_count": null,
            "_view_module": "@jupyter-widgets/controls",
            "_view_module_version": "1.5.0",
            "_view_name": "HTMLView",
            "description": "",
            "description_tooltip": null,
            "layout": "IPY_MODEL_b78e90af287c4c8d8b5a920c524cadf6",
            "placeholder": "​",
            "style": "IPY_MODEL_c78bf9280e3246989fceb2e0318fe6f6",
            "value": "  0%"
          }
        },
        "b1066874cb9f4995ad693a99bee2bbbf": {
          "model_module": "@jupyter-widgets/base",
          "model_module_version": "1.2.0",
          "model_name": "LayoutModel",
          "state": {
            "_model_module": "@jupyter-widgets/base",
            "_model_module_version": "1.2.0",
            "_model_name": "LayoutModel",
            "_view_count": null,
            "_view_module": "@jupyter-widgets/base",
            "_view_module_version": "1.2.0",
            "_view_name": "LayoutView",
            "align_content": null,
            "align_items": null,
            "align_self": null,
            "border": null,
            "bottom": null,
            "display": null,
            "flex": null,
            "flex_flow": null,
            "grid_area": null,
            "grid_auto_columns": null,
            "grid_auto_flow": null,
            "grid_auto_rows": null,
            "grid_column": null,
            "grid_gap": null,
            "grid_row": null,
            "grid_template_areas": null,
            "grid_template_columns": null,
            "grid_template_rows": null,
            "height": null,
            "justify_content": null,
            "justify_items": null,
            "left": null,
            "margin": null,
            "max_height": null,
            "max_width": null,
            "min_height": null,
            "min_width": null,
            "object_fit": null,
            "object_position": null,
            "order": null,
            "overflow": null,
            "overflow_x": null,
            "overflow_y": null,
            "padding": null,
            "right": null,
            "top": null,
            "visibility": null,
            "width": null
          }
        },
        "b5315b42ecbf41af968dc34cfa3e7b5e": {
          "model_module": "@jupyter-widgets/controls",
          "model_module_version": "1.5.0",
          "model_name": "DescriptionStyleModel",
          "state": {
            "_model_module": "@jupyter-widgets/controls",
            "_model_module_version": "1.5.0",
            "_model_name": "DescriptionStyleModel",
            "_view_count": null,
            "_view_module": "@jupyter-widgets/base",
            "_view_module_version": "1.2.0",
            "_view_name": "StyleView",
            "description_width": ""
          }
        },
        "b78e90af287c4c8d8b5a920c524cadf6": {
          "model_module": "@jupyter-widgets/base",
          "model_module_version": "1.2.0",
          "model_name": "LayoutModel",
          "state": {
            "_model_module": "@jupyter-widgets/base",
            "_model_module_version": "1.2.0",
            "_model_name": "LayoutModel",
            "_view_count": null,
            "_view_module": "@jupyter-widgets/base",
            "_view_module_version": "1.2.0",
            "_view_name": "LayoutView",
            "align_content": null,
            "align_items": null,
            "align_self": null,
            "border": null,
            "bottom": null,
            "display": null,
            "flex": null,
            "flex_flow": null,
            "grid_area": null,
            "grid_auto_columns": null,
            "grid_auto_flow": null,
            "grid_auto_rows": null,
            "grid_column": null,
            "grid_gap": null,
            "grid_row": null,
            "grid_template_areas": null,
            "grid_template_columns": null,
            "grid_template_rows": null,
            "height": null,
            "justify_content": null,
            "justify_items": null,
            "left": null,
            "margin": null,
            "max_height": null,
            "max_width": null,
            "min_height": null,
            "min_width": null,
            "object_fit": null,
            "object_position": null,
            "order": null,
            "overflow": null,
            "overflow_x": null,
            "overflow_y": null,
            "padding": null,
            "right": null,
            "top": null,
            "visibility": null,
            "width": null
          }
        },
        "b7fac714c61f49219cb77d04574b2b65": {
          "model_module": "@jupyter-widgets/controls",
          "model_module_version": "1.5.0",
          "model_name": "HTMLModel",
          "state": {
            "_dom_classes": [],
            "_model_module": "@jupyter-widgets/controls",
            "_model_module_version": "1.5.0",
            "_model_name": "HTMLModel",
            "_view_count": null,
            "_view_module": "@jupyter-widgets/controls",
            "_view_module_version": "1.5.0",
            "_view_name": "HTMLView",
            "description": "",
            "description_tooltip": null,
            "layout": "IPY_MODEL_5e5a225a0dde4ce2940e558d0cae4e76",
            "placeholder": "​",
            "style": "IPY_MODEL_1a4790763c8a44e4bdb5864839b1ca39",
            "value": " 299/299 [00:06&lt;00:00, 49.02it/s]"
          }
        },
        "c4a3655d387d466c83ce3859bc79bdf3": {
          "model_module": "@jupyter-widgets/controls",
          "model_module_version": "1.5.0",
          "model_name": "HBoxModel",
          "state": {
            "_dom_classes": [],
            "_model_module": "@jupyter-widgets/controls",
            "_model_module_version": "1.5.0",
            "_model_name": "HBoxModel",
            "_view_count": null,
            "_view_module": "@jupyter-widgets/controls",
            "_view_module_version": "1.5.0",
            "_view_name": "HBoxView",
            "box_style": "",
            "children": [
              "IPY_MODEL_332380e37d3b4bd3b69906d7cb1728cb",
              "IPY_MODEL_9de44592800b45e19b3756cd010d7aa2",
              "IPY_MODEL_b7fac714c61f49219cb77d04574b2b65"
            ],
            "layout": "IPY_MODEL_94ed874aecfb48949877409fab493f80"
          }
        },
        "c63ea518779448d7bc1acb3a8c86cc06": {
          "model_module": "@jupyter-widgets/base",
          "model_module_version": "1.2.0",
          "model_name": "LayoutModel",
          "state": {
            "_model_module": "@jupyter-widgets/base",
            "_model_module_version": "1.2.0",
            "_model_name": "LayoutModel",
            "_view_count": null,
            "_view_module": "@jupyter-widgets/base",
            "_view_module_version": "1.2.0",
            "_view_name": "LayoutView",
            "align_content": null,
            "align_items": null,
            "align_self": null,
            "border": null,
            "bottom": null,
            "display": null,
            "flex": null,
            "flex_flow": null,
            "grid_area": null,
            "grid_auto_columns": null,
            "grid_auto_flow": null,
            "grid_auto_rows": null,
            "grid_column": null,
            "grid_gap": null,
            "grid_row": null,
            "grid_template_areas": null,
            "grid_template_columns": null,
            "grid_template_rows": null,
            "height": null,
            "justify_content": null,
            "justify_items": null,
            "left": null,
            "margin": null,
            "max_height": null,
            "max_width": null,
            "min_height": null,
            "min_width": null,
            "object_fit": null,
            "object_position": null,
            "order": null,
            "overflow": null,
            "overflow_x": null,
            "overflow_y": null,
            "padding": null,
            "right": null,
            "top": null,
            "visibility": null,
            "width": null
          }
        },
        "c711c280e562452f9fc33ce882c30047": {
          "model_module": "@jupyter-widgets/controls",
          "model_module_version": "1.5.0",
          "model_name": "ProgressStyleModel",
          "state": {
            "_model_module": "@jupyter-widgets/controls",
            "_model_module_version": "1.5.0",
            "_model_name": "ProgressStyleModel",
            "_view_count": null,
            "_view_module": "@jupyter-widgets/base",
            "_view_module_version": "1.2.0",
            "_view_name": "StyleView",
            "bar_color": null,
            "description_width": ""
          }
        },
        "c78bf9280e3246989fceb2e0318fe6f6": {
          "model_module": "@jupyter-widgets/controls",
          "model_module_version": "1.5.0",
          "model_name": "DescriptionStyleModel",
          "state": {
            "_model_module": "@jupyter-widgets/controls",
            "_model_module_version": "1.5.0",
            "_model_name": "DescriptionStyleModel",
            "_view_count": null,
            "_view_module": "@jupyter-widgets/base",
            "_view_module_version": "1.2.0",
            "_view_name": "StyleView",
            "description_width": ""
          }
        },
        "cea2490f130945d0b3c4efbd401fce31": {
          "model_module": "@jupyter-widgets/controls",
          "model_module_version": "1.5.0",
          "model_name": "DescriptionStyleModel",
          "state": {
            "_model_module": "@jupyter-widgets/controls",
            "_model_module_version": "1.5.0",
            "_model_name": "DescriptionStyleModel",
            "_view_count": null,
            "_view_module": "@jupyter-widgets/base",
            "_view_module_version": "1.2.0",
            "_view_name": "StyleView",
            "description_width": ""
          }
        },
        "d7aa137e166749a1a2667a4d8db31bfd": {
          "model_module": "@jupyter-widgets/controls",
          "model_module_version": "1.5.0",
          "model_name": "HTMLModel",
          "state": {
            "_dom_classes": [],
            "_model_module": "@jupyter-widgets/controls",
            "_model_module_version": "1.5.0",
            "_model_name": "HTMLModel",
            "_view_count": null,
            "_view_module": "@jupyter-widgets/controls",
            "_view_module_version": "1.5.0",
            "_view_name": "HTMLView",
            "description": "",
            "description_tooltip": null,
            "layout": "IPY_MODEL_187e2f3faef74cde9e928e373d3e0669",
            "placeholder": "​",
            "style": "IPY_MODEL_5af8966b25e64c99a4cd7f958fac9934",
            "value": " 2/594 [00:01&lt;10:46,  1.09s/it]"
          }
        },
        "d8a92a89eb1d49698b818f7bb2551648": {
          "model_module": "@jupyter-widgets/base",
          "model_module_version": "1.2.0",
          "model_name": "LayoutModel",
          "state": {
            "_model_module": "@jupyter-widgets/base",
            "_model_module_version": "1.2.0",
            "_model_name": "LayoutModel",
            "_view_count": null,
            "_view_module": "@jupyter-widgets/base",
            "_view_module_version": "1.2.0",
            "_view_name": "LayoutView",
            "align_content": null,
            "align_items": null,
            "align_self": null,
            "border": null,
            "bottom": null,
            "display": null,
            "flex": null,
            "flex_flow": null,
            "grid_area": null,
            "grid_auto_columns": null,
            "grid_auto_flow": null,
            "grid_auto_rows": null,
            "grid_column": null,
            "grid_gap": null,
            "grid_row": null,
            "grid_template_areas": null,
            "grid_template_columns": null,
            "grid_template_rows": null,
            "height": null,
            "justify_content": null,
            "justify_items": null,
            "left": null,
            "margin": null,
            "max_height": null,
            "max_width": null,
            "min_height": null,
            "min_width": null,
            "object_fit": null,
            "object_position": null,
            "order": null,
            "overflow": null,
            "overflow_x": null,
            "overflow_y": null,
            "padding": null,
            "right": null,
            "top": null,
            "visibility": null,
            "width": null
          }
        },
        "d97e7589599e4678b18eab8cc3bc7b34": {
          "model_module": "@jupyter-widgets/controls",
          "model_module_version": "1.5.0",
          "model_name": "DescriptionStyleModel",
          "state": {
            "_model_module": "@jupyter-widgets/controls",
            "_model_module_version": "1.5.0",
            "_model_name": "DescriptionStyleModel",
            "_view_count": null,
            "_view_module": "@jupyter-widgets/base",
            "_view_module_version": "1.2.0",
            "_view_name": "StyleView",
            "description_width": ""
          }
        },
        "ecc050d12033459d830c74c11fdd1325": {
          "model_module": "@jupyter-widgets/controls",
          "model_module_version": "1.5.0",
          "model_name": "FloatProgressModel",
          "state": {
            "_dom_classes": [],
            "_model_module": "@jupyter-widgets/controls",
            "_model_module_version": "1.5.0",
            "_model_name": "FloatProgressModel",
            "_view_count": null,
            "_view_module": "@jupyter-widgets/controls",
            "_view_module_version": "1.5.0",
            "_view_name": "ProgressView",
            "bar_style": "danger",
            "description": "",
            "description_tooltip": null,
            "layout": "IPY_MODEL_2f2599564ff24be3b5abcf8a8f7c6c7b",
            "max": 2389,
            "min": 0,
            "orientation": "horizontal",
            "style": "IPY_MODEL_7f688ea1bba24c6db7c08ccfd2b9397d",
            "value": 5
          }
        },
        "fa8d60db1237460498902c5a59cb1603": {
          "model_module": "@jupyter-widgets/controls",
          "model_module_version": "1.5.0",
          "model_name": "DescriptionStyleModel",
          "state": {
            "_model_module": "@jupyter-widgets/controls",
            "_model_module_version": "1.5.0",
            "_model_name": "DescriptionStyleModel",
            "_view_count": null,
            "_view_module": "@jupyter-widgets/base",
            "_view_module_version": "1.2.0",
            "_view_name": "StyleView",
            "description_width": ""
          }
        },
        "fb88c447bebd482a8a2415c0b0fcaf75": {
          "model_module": "@jupyter-widgets/base",
          "model_module_version": "1.2.0",
          "model_name": "LayoutModel",
          "state": {
            "_model_module": "@jupyter-widgets/base",
            "_model_module_version": "1.2.0",
            "_model_name": "LayoutModel",
            "_view_count": null,
            "_view_module": "@jupyter-widgets/base",
            "_view_module_version": "1.2.0",
            "_view_name": "LayoutView",
            "align_content": null,
            "align_items": null,
            "align_self": null,
            "border": null,
            "bottom": null,
            "display": null,
            "flex": null,
            "flex_flow": null,
            "grid_area": null,
            "grid_auto_columns": null,
            "grid_auto_flow": null,
            "grid_auto_rows": null,
            "grid_column": null,
            "grid_gap": null,
            "grid_row": null,
            "grid_template_areas": null,
            "grid_template_columns": null,
            "grid_template_rows": null,
            "height": null,
            "justify_content": null,
            "justify_items": null,
            "left": null,
            "margin": null,
            "max_height": null,
            "max_width": null,
            "min_height": null,
            "min_width": null,
            "object_fit": null,
            "object_position": null,
            "order": null,
            "overflow": null,
            "overflow_x": null,
            "overflow_y": null,
            "padding": null,
            "right": null,
            "top": null,
            "visibility": null,
            "width": null
          }
        },
        "fe9d755378764c169bfacfe052865091": {
          "model_module": "@jupyter-widgets/base",
          "model_module_version": "1.2.0",
          "model_name": "LayoutModel",
          "state": {
            "_model_module": "@jupyter-widgets/base",
            "_model_module_version": "1.2.0",
            "_model_name": "LayoutModel",
            "_view_count": null,
            "_view_module": "@jupyter-widgets/base",
            "_view_module_version": "1.2.0",
            "_view_name": "LayoutView",
            "align_content": null,
            "align_items": null,
            "align_self": null,
            "border": null,
            "bottom": null,
            "display": null,
            "flex": null,
            "flex_flow": null,
            "grid_area": null,
            "grid_auto_columns": null,
            "grid_auto_flow": null,
            "grid_auto_rows": null,
            "grid_column": null,
            "grid_gap": null,
            "grid_row": null,
            "grid_template_areas": null,
            "grid_template_columns": null,
            "grid_template_rows": null,
            "height": null,
            "justify_content": null,
            "justify_items": null,
            "left": null,
            "margin": null,
            "max_height": null,
            "max_width": null,
            "min_height": null,
            "min_width": null,
            "object_fit": null,
            "object_position": null,
            "order": null,
            "overflow": null,
            "overflow_x": null,
            "overflow_y": null,
            "padding": null,
            "right": null,
            "top": null,
            "visibility": null,
            "width": null
          }
        }
      }
    }
  },
  "nbformat": 4,
  "nbformat_minor": 5
}