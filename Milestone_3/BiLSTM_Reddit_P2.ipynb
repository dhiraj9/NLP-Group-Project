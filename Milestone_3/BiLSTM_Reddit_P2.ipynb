{
  "cells": [
    {
      "cell_type": "code",
      "execution_count": 1,
      "metadata": {
        "id": "Db4-kFAgbOAe"
      },
      "outputs": [],
      "source": [
        "import numpy as np\n",
        "import pandas as pd\n",
        "from sklearn.model_selection import train_test_split"
      ]
    },
    {
      "cell_type": "code",
      "execution_count": 2,
      "metadata": {
        "id": "ehQ08h2jbehW"
      },
      "outputs": [],
      "source": [
        "data = pd.read_csv('p2_reddit.csv')"
      ]
    },
    {
      "cell_type": "code",
      "execution_count": 3,
      "metadata": {
        "colab": {
          "base_uri": "https://localhost:8080/",
          "height": 206
        },
        "id": "DRPfj1Q4bziQ",
        "outputId": "19096a50-bb33-477c-8dac-65123b409cbe"
      },
      "outputs": [
        {
          "data": {
            "text/html": [
              "\n",
              "  <div id=\"df-c099a48b-4063-43c6-9802-2b015c314637\">\n",
              "    <div class=\"colab-df-container\">\n",
              "      <div>\n",
              "<style scoped>\n",
              "    .dataframe tbody tr th:only-of-type {\n",
              "        vertical-align: middle;\n",
              "    }\n",
              "\n",
              "    .dataframe tbody tr th {\n",
              "        vertical-align: top;\n",
              "    }\n",
              "\n",
              "    .dataframe thead th {\n",
              "        text-align: right;\n",
              "    }\n",
              "</style>\n",
              "<table border=\"1\" class=\"dataframe\">\n",
              "  <thead>\n",
              "    <tr style=\"text-align: right;\">\n",
              "      <th></th>\n",
              "      <th>Unnamed: 0</th>\n",
              "      <th>text</th>\n",
              "      <th>label</th>\n",
              "    </tr>\n",
              "  </thead>\n",
              "  <tbody>\n",
              "    <tr>\n",
              "      <th>0</th>\n",
              "      <td>0</td>\n",
              "      <td>alway taught peopl like jordan peterson matt w...</td>\n",
              "      <td>0</td>\n",
              "    </tr>\n",
              "    <tr>\n",
              "      <th>1</th>\n",
              "      <td>1</td>\n",
              "      <td>don’t actual know qanon hundr leagu past stand...</td>\n",
              "      <td>0</td>\n",
              "    </tr>\n",
              "    <tr>\n",
              "      <th>2</th>\n",
              "      <td>2</td>\n",
              "      <td>f becom concern cousin’ f well relationship cl...</td>\n",
              "      <td>0</td>\n",
              "    </tr>\n",
              "    <tr>\n",
              "      <th>3</th>\n",
              "      <td>3</td>\n",
              "      <td>marri narcissist man littl decad final let go ...</td>\n",
              "      <td>0</td>\n",
              "    </tr>\n",
              "    <tr>\n",
              "      <th>4</th>\n",
              "      <td>4</td>\n",
              "      <td>f brotherinlaw alway total jackass marri siste...</td>\n",
              "      <td>0</td>\n",
              "    </tr>\n",
              "  </tbody>\n",
              "</table>\n",
              "</div>\n",
              "      <button class=\"colab-df-convert\" onclick=\"convertToInteractive('df-c099a48b-4063-43c6-9802-2b015c314637')\"\n",
              "              title=\"Convert this dataframe to an interactive table.\"\n",
              "              style=\"display:none;\">\n",
              "        \n",
              "  <svg xmlns=\"http://www.w3.org/2000/svg\" height=\"24px\"viewBox=\"0 0 24 24\"\n",
              "       width=\"24px\">\n",
              "    <path d=\"M0 0h24v24H0V0z\" fill=\"none\"/>\n",
              "    <path d=\"M18.56 5.44l.94 2.06.94-2.06 2.06-.94-2.06-.94-.94-2.06-.94 2.06-2.06.94zm-11 1L8.5 8.5l.94-2.06 2.06-.94-2.06-.94L8.5 2.5l-.94 2.06-2.06.94zm10 10l.94 2.06.94-2.06 2.06-.94-2.06-.94-.94-2.06-.94 2.06-2.06.94z\"/><path d=\"M17.41 7.96l-1.37-1.37c-.4-.4-.92-.59-1.43-.59-.52 0-1.04.2-1.43.59L10.3 9.45l-7.72 7.72c-.78.78-.78 2.05 0 2.83L4 21.41c.39.39.9.59 1.41.59.51 0 1.02-.2 1.41-.59l7.78-7.78 2.81-2.81c.8-.78.8-2.07 0-2.86zM5.41 20L4 18.59l7.72-7.72 1.47 1.35L5.41 20z\"/>\n",
              "  </svg>\n",
              "      </button>\n",
              "      \n",
              "  <style>\n",
              "    .colab-df-container {\n",
              "      display:flex;\n",
              "      flex-wrap:wrap;\n",
              "      gap: 12px;\n",
              "    }\n",
              "\n",
              "    .colab-df-convert {\n",
              "      background-color: #E8F0FE;\n",
              "      border: none;\n",
              "      border-radius: 50%;\n",
              "      cursor: pointer;\n",
              "      display: none;\n",
              "      fill: #1967D2;\n",
              "      height: 32px;\n",
              "      padding: 0 0 0 0;\n",
              "      width: 32px;\n",
              "    }\n",
              "\n",
              "    .colab-df-convert:hover {\n",
              "      background-color: #E2EBFA;\n",
              "      box-shadow: 0px 1px 2px rgba(60, 64, 67, 0.3), 0px 1px 3px 1px rgba(60, 64, 67, 0.15);\n",
              "      fill: #174EA6;\n",
              "    }\n",
              "\n",
              "    [theme=dark] .colab-df-convert {\n",
              "      background-color: #3B4455;\n",
              "      fill: #D2E3FC;\n",
              "    }\n",
              "\n",
              "    [theme=dark] .colab-df-convert:hover {\n",
              "      background-color: #434B5C;\n",
              "      box-shadow: 0px 1px 3px 1px rgba(0, 0, 0, 0.15);\n",
              "      filter: drop-shadow(0px 1px 2px rgba(0, 0, 0, 0.3));\n",
              "      fill: #FFFFFF;\n",
              "    }\n",
              "  </style>\n",
              "\n",
              "      <script>\n",
              "        const buttonEl =\n",
              "          document.querySelector('#df-c099a48b-4063-43c6-9802-2b015c314637 button.colab-df-convert');\n",
              "        buttonEl.style.display =\n",
              "          google.colab.kernel.accessAllowed ? 'block' : 'none';\n",
              "\n",
              "        async function convertToInteractive(key) {\n",
              "          const element = document.querySelector('#df-c099a48b-4063-43c6-9802-2b015c314637');\n",
              "          const dataTable =\n",
              "            await google.colab.kernel.invokeFunction('convertToInteractive',\n",
              "                                                     [key], {});\n",
              "          if (!dataTable) return;\n",
              "\n",
              "          const docLinkHtml = 'Like what you see? Visit the ' +\n",
              "            '<a target=\"_blank\" href=https://colab.research.google.com/notebooks/data_table.ipynb>data table notebook</a>'\n",
              "            + ' to learn more about interactive tables.';\n",
              "          element.innerHTML = '';\n",
              "          dataTable['output_type'] = 'display_data';\n",
              "          await google.colab.output.renderOutput(dataTable, element);\n",
              "          const docLink = document.createElement('div');\n",
              "          docLink.innerHTML = docLinkHtml;\n",
              "          element.appendChild(docLink);\n",
              "        }\n",
              "      </script>\n",
              "    </div>\n",
              "  </div>\n",
              "  "
            ],
            "text/plain": [
              "   Unnamed: 0                                               text  label\n",
              "0           0  alway taught peopl like jordan peterson matt w...      0\n",
              "1           1  don’t actual know qanon hundr leagu past stand...      0\n",
              "2           2  f becom concern cousin’ f well relationship cl...      0\n",
              "3           3  marri narcissist man littl decad final let go ...      0\n",
              "4           4  f brotherinlaw alway total jackass marri siste...      0"
            ]
          },
          "execution_count": 3,
          "metadata": {},
          "output_type": "execute_result"
        }
      ],
      "source": [
        "data.head()"
      ]
    },
    {
      "cell_type": "code",
      "execution_count": 4,
      "metadata": {
        "id": "FK_EZIvIcFB0"
      },
      "outputs": [],
      "source": [
        "X_train, X_test, y_train, y_test = train_test_split(data['text'], data['label'], test_size=0.2, random_state=42)\n",
        "X_train = X_train.astype(str)\n",
        "X_test = X_test.astype(str)"
      ]
    },
    {
      "cell_type": "code",
      "execution_count": 5,
      "metadata": {
        "id": "8f9hwqMvdrK_"
      },
      "outputs": [],
      "source": [
        "import numpy as np\n",
        "import pandas as pd\n",
        "from sklearn.model_selection import train_test_split\n",
        "from tensorflow.keras.preprocessing.text import Tokenizer\n",
        "from tensorflow.keras.preprocessing.sequence import pad_sequences\n",
        "from tensorflow.keras.models import Sequential\n",
        "from tensorflow.keras.layers import Bidirectional, Embedding, LSTM, Dense, Dropout, Conv1D, MaxPooling1D, Flatten, GlobalMaxPooling1D, Attention\n",
        "from tensorflow.keras.callbacks import EarlyStopping"
      ]
    },
    {
      "cell_type": "code",
      "execution_count": 6,
      "metadata": {
        "colab": {
          "base_uri": "https://localhost:8080/"
        },
        "id": "5GDPme2ytfJn",
        "outputId": "f3e230c1-9141-4910-9511-fb53f3c3961a"
      },
      "outputs": [
        {
          "name": "stderr",
          "output_type": "stream",
          "text": [
            "[nltk_data] Downloading package punkt to /root/nltk_data...\n",
            "[nltk_data]   Unzipping tokenizers/punkt.zip.\n",
            "[nltk_data] Downloading package averaged_perceptron_tagger to\n",
            "[nltk_data]     /root/nltk_data...\n",
            "[nltk_data]   Unzipping taggers/averaged_perceptron_tagger.zip.\n"
          ]
        },
        {
          "data": {
            "text/plain": [
              "True"
            ]
          },
          "execution_count": 6,
          "metadata": {},
          "output_type": "execute_result"
        }
      ],
      "source": [
        "import nltk\n",
        "from nltk.tokenize import word_tokenize\n",
        "from nltk import pos_tag\n",
        "nltk.download('punkt')\n",
        "nltk.download('averaged_perceptron_tagger')"
      ]
    },
    {
      "cell_type": "code",
      "execution_count": 7,
      "metadata": {
        "id": "BbTKDVNJtjdx"
      },
      "outputs": [],
      "source": [
        "X_train_tagged_texts = []\n",
        "for text in X_train:\n",
        "    tokens = word_tokenize(text)\n",
        "    tags = pos_tag(tokens)\n",
        "    X_train_tagged_texts.append(tags)\n",
        "X_test_tagged_texts = []\n",
        "for text in X_test:\n",
        "    tokens = word_tokenize(text)\n",
        "    tags = pos_tag(tokens)\n",
        "    X_test_tagged_texts.append(tags)\n",
        "# Map POS tags to integers using NLTK's tagset\n",
        "tagset = {\"CC\": 1, \"CD\": 2, \"DT\": 3, \"EX\": 4, \"FW\": 5, \"IN\": 6, \"JJ\": 7, \"JJR\": 8, \"JJS\": 9, \"LS\": 10, \"MD\": 11,\n",
        "          \"NN\": 12, \"NNS\": 13, \"NNP\": 14, \"NNPS\": 15, \"PDT\": 16, \"POS\": 17, \"PRP\": 18, \"PRP$\": 19, \"RB\": 20,\n",
        "          \"RBR\": 21, \"RBS\": 22, \"RP\": 23, \"SYM\": 24, \"TO\": 25, \"UH\": 26, \"VB\": 27, \"VBD\": 28, \"VBG\": 29,\n",
        "          \"VBN\": 30, \"VBP\": 31, \"VBZ\": 32, \"WDT\": 33, \"WP\": 34, \"WP$\": 35, \"WRB\": 36}\n",
        "X_train_tagged = []\n",
        "for tagged_text in X_train_tagged_texts:\n",
        "    tagged_text_int = []\n",
        "    for word, tag in tagged_text:\n",
        "        if tag in tagset:\n",
        "            tagged_text_int.append(tagset[tag])\n",
        "    X_train_tagged.append(tagged_text_int)\n",
        "\n",
        "X_test_tagged = []\n",
        "for tagged_text in X_test_tagged_texts:\n",
        "    tagged_text_int = []\n",
        "    for word, tag in tagged_text:\n",
        "        if tag in tagset:\n",
        "            tagged_text_int.append(tagset[tag])\n",
        "    X_test_tagged.append(tagged_text_int)\n",
        "\n",
        "\n",
        "max_length = max([len(seq) for seq in X_train_tagged])\n",
        "max_length = max([len(seq) for seq in X_test_tagged])\n",
        "# Pad sequences to a fixed length\n",
        "# max_length = 12270\n",
        "X_train_padded = pad_sequences(X_train_tagged, maxlen=max_length, padding='post')\n",
        "X_test_padded = pad_sequences(X_test_tagged, maxlen=max_length, padding='post')"
      ]
    },
    {
      "cell_type": "code",
      "execution_count": 8,
      "metadata": {
        "colab": {
          "base_uri": "https://localhost:8080/"
        },
        "id": "xVe6hyNltlZo",
        "outputId": "50149e38-21f4-48de-b6ae-bdcd1a1d6913"
      },
      "outputs": [
        {
          "name": "stdout",
          "output_type": "stream",
          "text": [
            "Epoch 1/15\n",
            "26/26 [==============================] - 21s 527ms/step - loss: 0.3966 - accuracy: 0.7710\n",
            "Epoch 2/15\n",
            "26/26 [==============================] - 13s 516ms/step - loss: 0.1776 - accuracy: 0.9282\n",
            "Epoch 3/15\n",
            "26/26 [==============================] - 13s 505ms/step - loss: 0.1662 - accuracy: 0.9332\n",
            "Epoch 4/15\n",
            "26/26 [==============================] - 13s 505ms/step - loss: 0.1597 - accuracy: 0.9381\n",
            "Epoch 5/15\n",
            "26/26 [==============================] - 13s 509ms/step - loss: 0.1424 - accuracy: 0.9431\n",
            "Epoch 6/15\n",
            "26/26 [==============================] - 13s 509ms/step - loss: 0.1440 - accuracy: 0.9443\n",
            "Epoch 7/15\n",
            "26/26 [==============================] - 13s 512ms/step - loss: 0.1315 - accuracy: 0.9505\n",
            "Epoch 8/15\n",
            "26/26 [==============================] - 13s 516ms/step - loss: 0.1354 - accuracy: 0.9443\n",
            "Epoch 9/15\n",
            "26/26 [==============================] - 13s 514ms/step - loss: 0.1180 - accuracy: 0.9542\n",
            "Epoch 10/15\n",
            "26/26 [==============================] - 13s 516ms/step - loss: 0.1057 - accuracy: 0.9592\n",
            "Epoch 11/15\n",
            "26/26 [==============================] - 13s 510ms/step - loss: 0.0894 - accuracy: 0.9703\n",
            "Epoch 12/15\n",
            "26/26 [==============================] - 13s 517ms/step - loss: 0.0912 - accuracy: 0.9653\n",
            "Epoch 13/15\n",
            "26/26 [==============================] - 14s 528ms/step - loss: 0.0689 - accuracy: 0.9728\n",
            "Epoch 14/15\n",
            "26/26 [==============================] - 13s 508ms/step - loss: 0.0668 - accuracy: 0.9765\n",
            "Epoch 15/15\n",
            "26/26 [==============================] - 13s 509ms/step - loss: 0.0427 - accuracy: 0.9876\n"
          ]
        },
        {
          "data": {
            "text/plain": [
              "<keras.callbacks.History at 0x7f327410fa90>"
            ]
          },
          "execution_count": 8,
          "metadata": {},
          "output_type": "execute_result"
        }
      ],
      "source": [
        "\n",
        "# LSTM model\n",
        "model = Sequential()\n",
        "model.add(Embedding(input_dim=len(tagset)+1, output_dim=300, input_length=max_length))\n",
        "model.add(Conv1D(64, kernel_size=3, padding='same', activation='relu'))\n",
        "model.add(MaxPooling1D(pool_size=3))\n",
        "model.add(Conv1D(32, kernel_size=3, padding='same', activation='relu'))\n",
        "model.add(MaxPooling1D(pool_size=3))\n",
        "model.add(Bidirectional(LSTM(64, return_sequences=True)))\n",
        "model.add(Dropout(0.2))\n",
        "model.add(Bidirectional(LSTM(32, return_sequences = True)))\n",
        "model.add(Dropout(0.2))\n",
        "model.add(MaxPooling1D(pool_size=5))\n",
        "model.add(Dense(64, activation='tanh'))\n",
        "model.add(GlobalMaxPooling1D())\n",
        "model.add(Dense(2, activation='softmax'))  # 2 classes: generated by same method or not\n",
        "model.compile(loss='sparse_categorical_crossentropy', optimizer='adam', metrics=['accuracy'])\n",
        "\n",
        "# early_stop = EarlyStopping(monitor='loss', patience=3, verbose=1)\n",
        "# train the model\n",
        "model.fit(X_train_padded, y_train, epochs=15, batch_size=32)\n"
      ]
    },
    {
      "cell_type": "code",
      "execution_count": 9,
      "metadata": {
        "colab": {
          "base_uri": "https://localhost:8080/"
        },
        "id": "cmiUVhRadtXD",
        "outputId": "292fa81a-581d-496b-8005-c35fc25bdc3b"
      },
      "outputs": [
        {
          "name": "stdout",
          "output_type": "stream",
          "text": [
            "7/7 [==============================] - 3s 113ms/step - loss: 0.1989 - accuracy: 0.9554\n"
          ]
        }
      ],
      "source": [
        "# tokenizer.fit_on_texts(X_test)\n",
        "loss, acc = model.evaluate(X_test_padded, y_test)"
      ]
    },
    {
      "cell_type": "code",
      "execution_count": 10,
      "metadata": {
        "colab": {
          "base_uri": "https://localhost:8080/"
        },
        "id": "s33KVKhxduBq",
        "outputId": "3d6f5809-8798-47f3-a383-dc53348dd51e"
      },
      "outputs": [
        {
          "name": "stdout",
          "output_type": "stream",
          "text": [
            "7/7 [==============================] - 2s 116ms/step\n"
          ]
        }
      ],
      "source": [
        "preds = model.predict(X_test_padded)"
      ]
    },
    {
      "cell_type": "code",
      "execution_count": 11,
      "metadata": {
        "colab": {
          "base_uri": "https://localhost:8080/"
        },
        "id": "MIjctKj5dwKk",
        "outputId": "4a201c0a-a075-4bd2-fc83-40a38e03e8db"
      },
      "outputs": [
        {
          "data": {
            "text/plain": [
              "array([0.00153447, 0.9984655 ], dtype=float32)"
            ]
          },
          "execution_count": 11,
          "metadata": {},
          "output_type": "execute_result"
        }
      ],
      "source": [
        "preds[0]"
      ]
    },
    {
      "cell_type": "code",
      "execution_count": 12,
      "metadata": {
        "id": "EnGelyt5dxaP"
      },
      "outputs": [],
      "source": [
        "preds_new = []\n",
        "for i in preds:\n",
        "  if(i[0]>i[1]):\n",
        "    preds_new.append(0.0)\n",
        "  else:\n",
        "    preds_new.append(1.0)"
      ]
    },
    {
      "cell_type": "code",
      "execution_count": 13,
      "metadata": {
        "colab": {
          "base_uri": "https://localhost:8080/"
        },
        "id": "juILnpCEdz1I",
        "outputId": "215e6ba3-b9fd-4047-8d3b-0233f81c4f8f"
      },
      "outputs": [
        {
          "data": {
            "text/plain": [
              "1.0"
            ]
          },
          "execution_count": 13,
          "metadata": {},
          "output_type": "execute_result"
        }
      ],
      "source": [
        "preds_new[1]"
      ]
    },
    {
      "cell_type": "code",
      "execution_count": 14,
      "metadata": {
        "colab": {
          "base_uri": "https://localhost:8080/"
        },
        "id": "lbdkQCW8d1Pv",
        "outputId": "e4e030b6-1289-4f7d-bdf4-699cac64ca99"
      },
      "outputs": [
        {
          "data": {
            "text/plain": [
              "1"
            ]
          },
          "execution_count": 14,
          "metadata": {},
          "output_type": "execute_result"
        }
      ],
      "source": [
        "y_test_array = np.array(y_test)\n",
        "y_test_array[1]"
      ]
    },
    {
      "cell_type": "code",
      "execution_count": 15,
      "metadata": {
        "colab": {
          "base_uri": "https://localhost:8080/"
        },
        "id": "6lmH8mX3d2pw",
        "outputId": "da3efbeb-35ec-40f1-9850-4e3ca3506311"
      },
      "outputs": [
        {
          "name": "stdout",
          "output_type": "stream",
          "text": [
            "F1 score =  0.9552238805970149\n",
            "Precision =  0.96\n",
            "Recall =  0.9504950495049505\n",
            "Accuracy =  0.9554455445544554\n"
          ]
        }
      ],
      "source": [
        "from sklearn.metrics import f1_score,precision_score, recall_score, accuracy_score\n",
        "f1 = f1_score(y_test, preds_new)\n",
        "print(\"F1 score = \",f1)\n",
        "precision = precision_score(y_test, preds_new)\n",
        "recall = recall_score(y_test, preds_new)\n",
        "print(\"Precision = \", precision)\n",
        "print(\"Recall = \", recall)\n",
        "print(\"Accuracy = \", accuracy_score(y_test, preds_new))"
      ]
    },
    {
      "cell_type": "code",
      "execution_count": null,
      "metadata": {
        "id": "qQkx8rTku1jJ"
      },
      "outputs": [],
      "source": []
    }
  ],
  "metadata": {
    "colab": {
      "machine_shape": "hm",
      "provenance": []
    },
    "gpuClass": "standard",
    "kernelspec": {
      "display_name": "Python 3",
      "name": "python3"
    },
    "language_info": {
      "name": "python"
    }
  },
  "nbformat": 4,
  "nbformat_minor": 0
}
