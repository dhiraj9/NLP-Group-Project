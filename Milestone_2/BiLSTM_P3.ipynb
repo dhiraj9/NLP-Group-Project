{
  "cells": [
    {
      "cell_type": "code",
      "execution_count": 1,
      "metadata": {
        "id": "Y9iZ3b5Y97qs"
      },
      "outputs": [],
      "source": [
        "import numpy as np\n",
        "import pandas as pd\n",
        "from sklearn.model_selection import train_test_split"
      ]
    },
    {
      "cell_type": "code",
      "execution_count": 2,
      "metadata": {
        "id": "GvO0K-gV-EK5"
      },
      "outputs": [],
      "source": [
        "train = pd.read_csv('p3_train.csv')\n",
        "test = pd.read_csv('p3_test.csv')"
      ]
    },
    {
      "cell_type": "code",
      "execution_count": 3,
      "metadata": {
        "id": "KHvq_AqrLBB6"
      },
      "outputs": [],
      "source": [
        "from sklearn.model_selection import train_test_split\n",
        "X_train, X_test, y_train, y_test = train_test_split(train['text'], train['label'], test_size=0.2, random_state=42)"
      ]
    },
    {
      "cell_type": "code",
      "execution_count": 5,
      "metadata": {
        "colab": {
          "base_uri": "https://localhost:8080/"
        },
        "id": "uQnEyKThLGMp",
        "outputId": "5c39b7b6-5df6-404a-cb42-734e695f392b"
      },
      "outputs": [
        {
          "output_type": "stream",
          "name": "stdout",
          "text": [
            "Model: \"sequential_1\"\n",
            "_________________________________________________________________\n",
            " Layer (type)                Output Shape              Param #   \n",
            "=================================================================\n",
            " embedding_1 (Embedding)     (None, 5777, 32)          1406304   \n",
            "                                                                 \n",
            " bidirectional_2 (Bidirectio  (None, 5777, 128)        49664     \n",
            " nal)                                                            \n",
            "                                                                 \n",
            " dropout_2 (Dropout)         (None, 5777, 128)         0         \n",
            "                                                                 \n",
            " bidirectional_3 (Bidirectio  (None, 64)               41216     \n",
            " nal)                                                            \n",
            "                                                                 \n",
            " dropout_3 (Dropout)         (None, 64)                0         \n",
            "                                                                 \n",
            " dense_2 (Dense)             (None, 32)                2080      \n",
            "                                                                 \n",
            " dense_3 (Dense)             (None, 11)                363       \n",
            "                                                                 \n",
            "=================================================================\n",
            "Total params: 1,499,627\n",
            "Trainable params: 1,499,627\n",
            "Non-trainable params: 0\n",
            "_________________________________________________________________\n",
            "Epoch 1/10\n",
            "238/238 [==============================] - 164s 641ms/step - loss: 2.1887 - accuracy: 0.1682\n",
            "Epoch 2/10\n",
            "238/238 [==============================] - 144s 606ms/step - loss: 1.6883 - accuracy: 0.3115\n",
            "Epoch 3/10\n",
            "238/238 [==============================] - 138s 580ms/step - loss: 1.2985 - accuracy: 0.4533\n",
            "Epoch 4/10\n",
            "238/238 [==============================] - 131s 550ms/step - loss: 1.1639 - accuracy: 0.5152\n",
            "Epoch 5/10\n",
            "238/238 [==============================] - 130s 545ms/step - loss: 0.9855 - accuracy: 0.5916\n",
            "Epoch 6/10\n",
            "238/238 [==============================] - 128s 537ms/step - loss: 0.8890 - accuracy: 0.6310\n",
            "Epoch 7/10\n",
            "238/238 [==============================] - 123s 516ms/step - loss: 0.7849 - accuracy: 0.6746\n",
            "Epoch 8/10\n",
            "238/238 [==============================] - 124s 522ms/step - loss: 0.7908 - accuracy: 0.6903\n",
            "Epoch 9/10\n",
            "238/238 [==============================] - 123s 518ms/step - loss: 0.6179 - accuracy: 0.7474\n",
            "Epoch 10/10\n",
            "238/238 [==============================] - 121s 510ms/step - loss: 0.5873 - accuracy: 0.7695\n"
          ]
        },
        {
          "output_type": "execute_result",
          "data": {
            "text/plain": [
              "<keras.callbacks.History at 0x7fe1f01b3dc0>"
            ]
          },
          "metadata": {},
          "execution_count": 5
        }
      ],
      "source": [
        "from tensorflow.keras.preprocessing.text import Tokenizer\n",
        "from tensorflow.keras.preprocessing.sequence import pad_sequences\n",
        "from tensorflow.keras.models import Sequential\n",
        "from tensorflow.keras.layers import Bidirectional, Embedding, LSTM, Dense, Dropout\n",
        "\n",
        "# create a dataset with 1020 rows of T1 and T2\n",
        "# T1 = [\"The cat is sitting on the mat\", \"The dog is chasing the cat\", \"The bird is flying in the sky\"] # list of T1 texts\n",
        "# T2 = [\"A feline is seated on the mat\", \"A canine is pursuing the feline\", \"A feathered creature is soaring in the heavens\"] # list of T2 texts\n",
        "# labels = np.array([1,1,0])\n",
        "\n",
        "# split the data into training and validation sets\n",
        "# X_train, X_val, y_train, y_val = train_test_split(train['text'], train['label'], test_size=0.2, random_state=42)\n",
        "\n",
        "# tokenization and padding\n",
        "tokenizer = Tokenizer()\n",
        "tokenizer.fit_on_texts(X_train)\n",
        "X_train_seq = tokenizer.texts_to_sequences(X_train)\n",
        "X_test_seq = tokenizer.texts_to_sequences(X_test)\n",
        "max_length = max([len(seq) for seq in X_train_seq])\n",
        "max_length = max([len(seq) for seq in X_test_seq])\n",
        "X_train_padded = pad_sequences(X_train_seq, maxlen=max_length, padding='post')\n",
        "X_test_padded = pad_sequences(X_test_seq, maxlen=max_length, padding='post')\n",
        "\n",
        "# LSTM model\n",
        "model = Sequential()\n",
        "model.add(Embedding(input_dim=len(tokenizer.word_index)+1, output_dim=32, input_length=max_length))\n",
        "model.add(Bidirectional(LSTM(64, return_sequences=True)))\n",
        "model.add(Dropout(0.3))\n",
        "model.add(Bidirectional(LSTM(32)))\n",
        "model.add(Dropout(0.3))\n",
        "model.add(Dense(32, activation='relu'))\n",
        "model.add(Dense(11, activation='softmax'))\n",
        "model.compile(optimizer='adam', loss='sparse_categorical_crossentropy', metrics=['accuracy'])\n",
        "model.summary()\n",
        "\n",
        "# train the model\n",
        "model.fit(X_train_padded, y_train, epochs=10, batch_size=32)\n"
      ]
    },
    {
      "cell_type": "code",
      "execution_count": 6,
      "metadata": {
        "id": "PpI6pNjsLesP",
        "colab": {
          "base_uri": "https://localhost:8080/"
        },
        "outputId": "fc011741-d2bf-404e-ab0c-38d7658292a9"
      },
      "outputs": [
        {
          "output_type": "stream",
          "name": "stdout",
          "text": [
            "60/60 [==============================] - 14s 208ms/step - loss: 1.5694 - accuracy: 0.5411\n"
          ]
        }
      ],
      "source": [
        "tokenizer.fit_on_texts(X_test)\n",
        "loss, acc = model.evaluate(X_test_padded, y_test)"
      ]
    },
    {
      "cell_type": "code",
      "execution_count": 7,
      "metadata": {
        "colab": {
          "base_uri": "https://localhost:8080/"
        },
        "id": "YyGlrR0cmbwI",
        "outputId": "79675ec0-29db-466f-a116-90921648379a"
      },
      "outputs": [
        {
          "output_type": "stream",
          "name": "stdout",
          "text": [
            "60/60 [==============================] - 14s 207ms/step\n"
          ]
        }
      ],
      "source": [
        "preds = model.predict(X_test_padded)"
      ]
    },
    {
      "cell_type": "code",
      "execution_count": 8,
      "metadata": {
        "id": "brgD18G7mbwI"
      },
      "outputs": [],
      "source": [
        "preds_new = np.argmax(preds, axis = 1)"
      ]
    },
    {
      "cell_type": "code",
      "execution_count": 9,
      "metadata": {
        "id": "9kWMB6bBmbwJ"
      },
      "outputs": [],
      "source": [
        "preds_new = np.array(preds_new)"
      ]
    },
    {
      "cell_type": "code",
      "execution_count": 10,
      "metadata": {
        "colab": {
          "base_uri": "https://localhost:8080/"
        },
        "id": "kmUZBR17mbwJ",
        "outputId": "bc49d7d6-e294-4e5a-d97c-c4cda78391dc"
      },
      "outputs": [
        {
          "output_type": "stream",
          "name": "stdout",
          "text": [
            "F1 score =  0.5424972325968332\n",
            "Precision =  0.5610062033439046\n",
            "Recall =  0.5386181447666818\n",
            "Accuracy =  0.541095890410959\n"
          ]
        }
      ],
      "source": [
        "from sklearn.metrics import f1_score,precision_score, recall_score, accuracy_score\n",
        "f1 = f1_score(y_test, preds_new, average='macro')\n",
        "print(\"F1 score = \",f1)\n",
        "precision = precision_score(y_test, preds_new, average='macro')\n",
        "recall = recall_score(y_test, preds_new, average='macro')\n",
        "print(\"Precision = \", precision)\n",
        "print(\"Recall = \", recall)\n",
        "print(\"Accuracy = \", accuracy_score(y_test, preds_new))"
      ]
    },
    {
      "cell_type": "code",
      "source": [],
      "metadata": {
        "id": "bKMtEA9Im3wJ"
      },
      "execution_count": null,
      "outputs": []
    }
  ],
  "metadata": {
    "colab": {
      "provenance": [],
      "machine_shape": "hm",
      "gpuType": "T4"
    },
    "kernelspec": {
      "display_name": "Python 3",
      "name": "python3"
    },
    "language_info": {
      "name": "python"
    },
    "accelerator": "GPU",
    "gpuClass": "standard"
  },
  "nbformat": 4,
  "nbformat_minor": 0
}