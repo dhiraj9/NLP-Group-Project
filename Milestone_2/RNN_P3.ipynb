{
  "cells": [
    {
      "cell_type": "code",
      "execution_count": null,
      "metadata": {
        "id": "Y9iZ3b5Y97qs"
      },
      "outputs": [],
      "source": [
        "import numpy as np\n",
        "import pandas as pd\n",
        "from sklearn.model_selection import train_test_split"
      ]
    },
    {
      "cell_type": "code",
      "execution_count": null,
      "metadata": {
        "id": "GvO0K-gV-EK5"
      },
      "outputs": [],
      "source": [
        "train = pd.read_csv('p3_train.csv')\n",
        "test = pd.read_csv('p3_test.csv')"
      ]
    },
    {
      "cell_type": "code",
      "execution_count": null,
      "metadata": {
        "id": "KHvq_AqrLBB6"
      },
      "outputs": [],
      "source": [
        "from sklearn.model_selection import train_test_split\n",
        "X_train, X_test, y_train, y_test = train_test_split(train['text'], train['label'], test_size=0.2, random_state=42)"
      ]
    },
    {
      "cell_type": "code",
      "execution_count": null,
      "metadata": {
        "colab": {
          "base_uri": "https://localhost:8080/"
        },
        "id": "uQnEyKThLGMp",
        "outputId": "38beea7e-26e9-45bb-dd5e-981082fb9b28"
      },
      "outputs": [
        {
          "name": "stdout",
          "output_type": "stream",
          "text": [
            "Model: \"sequential\"\n",
            "_________________________________________________________________\n",
            " Layer (type)                Output Shape              Param #   \n",
            "=================================================================\n",
            " embedding (Embedding)       (None, 6547, 32)          1236160   \n",
            "                                                                 \n",
            " bidirectional (Bidirectiona  (None, 6547, 128)        49664     \n",
            " l)                                                              \n",
            "                                                                 \n",
            " dropout (Dropout)           (None, 6547, 128)         0         \n",
            "                                                                 \n",
            " bidirectional_1 (Bidirectio  (None, 64)               41216     \n",
            " nal)                                                            \n",
            "                                                                 \n",
            " dropout_1 (Dropout)         (None, 64)                0         \n",
            "                                                                 \n",
            " dense (Dense)               (None, 32)                2080      \n",
            "                                                                 \n",
            " dense_1 (Dense)             (None, 1)                 33        \n",
            "                                                                 \n",
            "=================================================================\n",
            "Total params: 1,329,153\n",
            "Trainable params: 1,329,153\n",
            "Non-trainable params: 0\n",
            "_________________________________________________________________\n",
            "  4/190 [..............................] - ETA: 1:38:34 - loss: 0.3588 - accuracy: 0.0781"
          ]
        }
      ],
      "source": [
        "from tensorflow.keras.preprocessing.text import Tokenizer\n",
        "from tensorflow.keras.preprocessing.sequence import pad_sequences\n",
        "from tensorflow.keras.models import Sequential\n",
        "from tensorflow.keras.layers import Embedding, SimpleRNN, Dense, Dropout\n",
        "\n",
        "# create a dataset with 1020 rows of T1 and T2\n",
        "# T1 = [\"The cat is sitting on the mat\", \"The dog is chasing the cat\", \"The bird is flying in the sky\"] # list of T1 texts\n",
        "# T2 = [\"A feline is seated on the mat\", \"A canine is pursuing the feline\", \"A feathered creature is soaring in the heavens\"] # list of T2 texts\n",
        "# labels = np.array([1,1,0])\n",
        "\n",
        "# split the data into training and validation sets\n",
        "# X_train, X_val, y_train, y_val = train_test_split(train['text'], train['label'], test_size=0.2, random_state=42)\n",
        "\n",
        "# tokenization and padding\n",
        "tokenizer = Tokenizer()\n",
        "tokenizer.fit_on_texts(X_train)\n",
        "X_train_seq = tokenizer.texts_to_sequences(X_train)\n",
        "X_test_seq = tokenizer.texts_to_sequences(X_test)\n",
        "max_length = max([len(seq) for seq in X_train_seq])\n",
        "max_length = max([len(seq) for seq in X_test_seq])\n",
        "X_train_padded = pad_sequences(X_train_seq, maxlen=max_length, padding='post')\n",
        "X_test_padded = pad_sequences(X_test_seq, maxlen=max_length, padding='post')\n",
        "\n",
        "# LSTM model\n",
        "model = Sequential()\n",
        "model.add(Embedding(input_dim=len(tokenizer.word_index)+1, output_dim=32, input_length=max_length))\n",
        "model.add(SimpleRNN(64, return_sequences=True))\n",
        "model.add(Dropout(0.3))\n",
        "model.add(SimpleRNN(32))\n",
        "model.add(Dropout(0.3))\n",
        "model.add(Dense(32, activation='relu'))\n",
        "model.add(Dense(11, activation='softmax'))\n",
        "model.compile(optimizer='adam', loss='sparse_categorical_crossentropy', metrics=['accuracy'])\n",
        "model.summary()\n",
        "\n",
        "# train the model\n",
        "model.fit(X_train_padded, y_train, epochs=10, batch_size=32)\n"
      ]
    },
    {
      "cell_type": "code",
      "execution_count": null,
      "metadata": {
        "id": "PpI6pNjsLesP"
      },
      "outputs": [],
      "source": [
        "tokenizer.fit_on_texts(X_test)\n",
        "loss, acc = model.evaluate(X_test_padded, y_test)"
      ]
    },
    {
      "cell_type": "code",
      "execution_count": null,
      "metadata": {},
      "outputs": [],
      "source": [
        "preds = model.predict(X_test_padded)"
      ]
    },
    {
      "cell_type": "code",
      "execution_count": null,
      "metadata": {},
      "outputs": [],
      "source": [
        "preds_new = np.argmax(preds, axis = 1)"
      ]
    },
    {
      "cell_type": "code",
      "execution_count": null,
      "metadata": {},
      "outputs": [],
      "source": [
        "preds_new = np.array(preds_new)"
      ]
    },
    {
      "cell_type": "code",
      "execution_count": null,
      "metadata": {},
      "outputs": [],
      "source": [
        "from sklearn.metrics import f1_score,precision_score, recall_score, accuracy_score\n",
        "f1 = f1_score(y_test, preds_new, average='macro')\n",
        "print(\"F1 score = \",f1)\n",
        "precision = precision_score(y_test, preds_new, average='macro')\n",
        "recall = recall_score(y_test, preds_new, average='macro')\n",
        "print(\"Precision = \", precision)\n",
        "print(\"Recall = \", recall)\n",
        "print(\"Accuracy = \", accuracy_score(y_test, preds_new))"
      ]
    }
  ],
  "metadata": {
    "colab": {
      "provenance": []
    },
    "kernelspec": {
      "display_name": "Python 3",
      "name": "python3"
    },
    "language_info": {
      "name": "python"
    }
  },
  "nbformat": 4,
  "nbformat_minor": 0
}
