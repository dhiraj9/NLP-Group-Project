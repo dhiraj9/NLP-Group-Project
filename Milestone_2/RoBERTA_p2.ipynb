{
 "cells": [
  {
   "cell_type": "code",
   "execution_count": 1,
   "id": "20fe9319",
   "metadata": {},
   "outputs": [],
   "source": [
    "import pandas as pd\n",
    "import datasets\n",
    "from transformers import RobertaTokenizerFast, RobertaForSequenceClassification,Trainer, TrainingArguments, PretrainedConfig\n",
    "import torch.nn as nn\n",
    "import torch\n",
    "from torch.utils.data import Dataset, DataLoader\n",
    "import numpy as np\n",
    "from sklearn.metrics import accuracy_score, precision_recall_fscore_support\n",
    "import sklearn.metrics as metric\n",
    "from tqdm import tqdm\n",
    "import wandb\n",
    "import os\n"
   ]
  },
  {
   "cell_type": "code",
   "execution_count": 2,
   "id": "26fd6261",
   "metadata": {},
   "outputs": [],
   "source": [
    "path  = '/home/csgrad/smaranas/STDA/'"
   ]
  },
  {
   "cell_type": "code",
   "execution_count": 3,
   "id": "8c2657ec",
   "metadata": {
    "scrolled": true
   },
   "outputs": [
    {
     "name": "stderr",
     "output_type": "stream",
     "text": [
      "Some weights of the model checkpoint at roberta-base were not used when initializing RobertaForSequenceClassification: ['lm_head.bias', 'lm_head.dense.weight', 'roberta.pooler.dense.bias', 'roberta.pooler.dense.weight', 'lm_head.layer_norm.weight', 'lm_head.decoder.weight', 'lm_head.layer_norm.bias', 'lm_head.dense.bias']\n",
      "- This IS expected if you are initializing RobertaForSequenceClassification from the checkpoint of a model trained on another task or with another architecture (e.g. initializing a BertForSequenceClassification model from a BertForPreTraining model).\n",
      "- This IS NOT expected if you are initializing RobertaForSequenceClassification from the checkpoint of a model that you expect to be exactly identical (initializing a BertForSequenceClassification model from a BertForSequenceClassification model).\n",
      "Some weights of RobertaForSequenceClassification were not initialized from the model checkpoint at roberta-base and are newly initialized: ['classifier.dense.bias', 'classifier.dense.weight', 'classifier.out_proj.bias', 'classifier.out_proj.weight']\n",
      "You should probably TRAIN this model on a down-stream task to be able to use it for predictions and inference.\n"
     ]
    }
   ],
   "source": [
    "# load model and tokenizer and define length of the text sequence\n",
    "model = RobertaForSequenceClassification.from_pretrained('roberta-base', num_labels=2)\n",
    "tokenizer = RobertaTokenizerFast.from_pretrained('roberta-base', max_length = 512)"
   ]
  },
  {
   "cell_type": "code",
   "execution_count": 4,
   "id": "7099b776",
   "metadata": {
    "scrolled": true
   },
   "outputs": [
    {
     "name": "stderr",
     "output_type": "stream",
     "text": [
      "Using custom data configuration default-7c8f520c6348ed4a\n",
      "Reusing dataset csv (/home/csgrad/smaranas/.cache/huggingface/datasets/csv/default-7c8f520c6348ed4a/0.0.0/652c3096f041ee27b04d2232d41f10547a8fecda3e284a79a0ec4053c916ef7a)\n",
      "Using custom data configuration default-62258532d28b83d4\n",
      "Reusing dataset csv (/home/csgrad/smaranas/.cache/huggingface/datasets/csv/default-62258532d28b83d4/0.0.0/652c3096f041ee27b04d2232d41f10547a8fecda3e284a79a0ec4053c916ef7a)\n"
     ]
    }
   ],
   "source": [
    "train_data = datasets.load_dataset('csv', data_files='p2_train.csv', split='train')\n",
    "test_data = datasets.load_dataset('csv', data_files='p2_test.csv', split='train')\n"
   ]
  },
  {
   "cell_type": "code",
   "execution_count": 5,
   "id": "3e71a545",
   "metadata": {},
   "outputs": [
    {
     "name": "stderr",
     "output_type": "stream",
     "text": [
      "Loading cached processed dataset at /home/csgrad/smaranas/.cache/huggingface/datasets/csv/default-7c8f520c6348ed4a/0.0.0/652c3096f041ee27b04d2232d41f10547a8fecda3e284a79a0ec4053c916ef7a/cache-5926909e6b8bf367.arrow\n",
      "Loading cached processed dataset at /home/csgrad/smaranas/.cache/huggingface/datasets/csv/default-62258532d28b83d4/0.0.0/652c3096f041ee27b04d2232d41f10547a8fecda3e284a79a0ec4053c916ef7a/cache-c8222f0855df19d8.arrow\n"
     ]
    }
   ],
   "source": [
    "# define a function that will tokenize the model, and will return the relevant inputs for the model\n",
    "def tokenization(batched_text):\n",
    "  return tokenizer(batched_text['text'], padding = True, truncation=True)\n",
    "\n",
    "\n",
    "train_data = train_data.map(tokenization, batched = True, batch_size = len(train_data))\n",
    "test_data = test_data.map(tokenization, batched = True, batch_size = len(test_data))\n"
   ]
  },
  {
   "cell_type": "code",
   "execution_count": 6,
   "id": "e1499504",
   "metadata": {},
   "outputs": [],
   "source": [
    "train_data.set_format('torch', columns=['input_ids', 'attention_mask', 'label'])\n",
    "test_data.set_format('torch', columns=['input_ids', 'attention_mask', 'label'])\n"
   ]
  },
  {
   "cell_type": "code",
   "execution_count": 7,
   "id": "38a30dba",
   "metadata": {},
   "outputs": [],
   "source": [
    "# define accuracy metrics\n",
    "def compute_metrics(pred):\n",
    "    labels = pred.label_ids\n",
    "    preds = pred.predictions.argmax(-1)\n",
    "    precision, recall, f1, _ = precision_recall_fscore_support(labels, preds, average='macro')\n",
    "    acc = accuracy_score(labels, preds)\n",
    "    # fpr, tpr, threshold = metric.roc_curve(labels, preds, pos_label=1)\n",
    "    # # calibration_loss = metric.brier_score_loss(labels, )\n",
    "\n",
    "    # fnr = 1 - tpr\n",
    "    # eer_threshold = threshold[np.nanargmin(np.absolute((fnr - fpr)))]\n",
    "    # EER = fpr[np.nanargmin(np.absolute((fnr - fpr)))]\n",
    "    # EER1 = fnr[np.nanargmin(np.absolute((fnr - fpr)))]\n",
    "    # if EER == EER1:\n",
    "    #   print('EER sanity check passed')\n",
    "    #   print('fpr : ', fpr)\n",
    "    #   print('tpr : ', tpr)\n",
    "    #   print('threshold : ', threshold)\n",
    "    #   print('EER : ', EER)\n",
    "\n",
    "    return {\n",
    "        'accuracy': acc,\n",
    "        'f1': f1,\n",
    "        'precision': precision,\n",
    "        'recall': recall,\n",
    "        # 'fpr': fpr, \n",
    "        # 'tpr': tpr, \n",
    "        # 'threshold': threshold,\n",
    "        # 'EER': EER,\n",
    "        \n",
    "    }"
   ]
  },
  {
   "cell_type": "code",
   "execution_count": 15,
   "id": "7e6dc08c",
   "metadata": {},
   "outputs": [
    {
     "name": "stderr",
     "output_type": "stream",
     "text": [
      "PyTorch: setting up devices\n",
      "The default value for the training argument `--report_to` will change in v5 (from all installed integrations to none). In v5, you will need to use `--report_to all` to get the same behavior as now. You should start updating your code and make this info disappear :-).\n"
     ]
    }
   ],
   "source": [
    "#  define the training arguments\n",
    "training_args = TrainingArguments(\n",
    "    output_dir = path,\n",
    "    num_train_epochs=1,\n",
    "    per_device_train_batch_size = 3,#4\n",
    "    gradient_accumulation_steps = 16,    \n",
    "    per_device_eval_batch_size= 8,\n",
    "    evaluation_strategy = \"epoch\",\n",
    "    disable_tqdm = False, \n",
    "    save_strategy = \"epoch\",\n",
    "    load_best_model_at_end=True,\n",
    "    warmup_steps=500,\n",
    "    weight_decay=0.01,\n",
    "    logging_steps = 8,\n",
    "    # fp16 = True,\n",
    "    logging_dir=path+'/logs',\n",
    "    dataloader_num_workers = 0,\n",
    "    run_name = 'roberta-classification_titan'\n",
    ")"
   ]
  },
  {
   "cell_type": "code",
   "execution_count": 16,
   "id": "6bd9d96b",
   "metadata": {},
   "outputs": [
    {
     "data": {
      "text/plain": [
       "'cuda'"
      ]
     },
     "execution_count": 16,
     "metadata": {},
     "output_type": "execute_result"
    }
   ],
   "source": [
    "# instantiate the trainer class and check for available devices\n",
    "trainer = Trainer(\n",
    "    model=model,\n",
    "    args=training_args,\n",
    "    compute_metrics=compute_metrics,\n",
    "    train_dataset=train_data,\n",
    "    eval_dataset=test_data\n",
    ")\n",
    "device = 'cuda' if torch.cuda.is_available() else 'cpu'\n",
    "device"
   ]
  },
  {
   "cell_type": "code",
   "execution_count": 10,
   "id": "8b985e51",
   "metadata": {
    "scrolled": true
   },
   "outputs": [
    {
     "name": "stderr",
     "output_type": "stream",
     "text": [
      "The following columns in the training set  don't have a corresponding argument in `RobertaForSequenceClassification.forward` and have been ignored: text, Unnamed: 0. If text, Unnamed: 0 are not expected by `RobertaForSequenceClassification.forward`,  you can safely ignore this message.\n",
      "/home/csgrad/smaranas/.local/lib/python3.6/site-packages/transformers/optimization.py:309: FutureWarning: This implementation of AdamW is deprecated and will be removed in a future version. Use the PyTorch implementation torch.optim.AdamW instead, or set `no_deprecation_warning=True` to disable this warning\n",
      "  FutureWarning,\n",
      "***** Running training *****\n",
      "  Num examples = 1705\n",
      "  Num Epochs = 30\n",
      "  Instantaneous batch size per device = 3\n",
      "  Total train batch size (w. parallel, distributed & accumulation) = 192\n",
      "  Gradient Accumulation steps = 16\n",
      "  Total optimization steps = 240\n",
      "Automatic Weights & Biases logging enabled, to disable set os.environ[\"WANDB_DISABLED\"] = \"true\"\n",
      "\u001b[34m\u001b[1mwandb\u001b[0m: Currently logged in as: \u001b[33mpsmarana\u001b[0m. Use \u001b[1m`wandb login --relogin`\u001b[0m to force relogin\n"
     ]
    },
    {
     "data": {
      "text/html": [
       "Tracking run with wandb version 0.14.0"
      ],
      "text/plain": [
       "<IPython.core.display.HTML object>"
      ]
     },
     "metadata": {},
     "output_type": "display_data"
    },
    {
     "data": {
      "text/html": [
       "Run data is saved locally in <code>/home/csgrad/smaranas/STDA/wandb/run-20230401_095815-wfjqet3z</code>"
      ],
      "text/plain": [
       "<IPython.core.display.HTML object>"
      ]
     },
     "metadata": {},
     "output_type": "display_data"
    },
    {
     "data": {
      "text/html": [
       "Syncing run <strong><a href='https://wandb.ai/psmarana/huggingface/runs/wfjqet3z' target=\"_blank\">roberta-classification_titan</a></strong> to <a href='https://wandb.ai/psmarana/huggingface' target=\"_blank\">Weights & Biases</a> (<a href='https://wandb.me/run' target=\"_blank\">docs</a>)<br/>"
      ],
      "text/plain": [
       "<IPython.core.display.HTML object>"
      ]
     },
     "metadata": {},
     "output_type": "display_data"
    },
    {
     "data": {
      "text/html": [
       " View project at <a href='https://wandb.ai/psmarana/huggingface' target=\"_blank\">https://wandb.ai/psmarana/huggingface</a>"
      ],
      "text/plain": [
       "<IPython.core.display.HTML object>"
      ]
     },
     "metadata": {},
     "output_type": "display_data"
    },
    {
     "data": {
      "text/html": [
       " View run at <a href='https://wandb.ai/psmarana/huggingface/runs/wfjqet3z' target=\"_blank\">https://wandb.ai/psmarana/huggingface/runs/wfjqet3z</a>"
      ],
      "text/plain": [
       "<IPython.core.display.HTML object>"
      ]
     },
     "metadata": {},
     "output_type": "display_data"
    },
    {
     "name": "stderr",
     "output_type": "stream",
     "text": [
      "/home/csgrad/smaranas/.local/lib/python3.6/site-packages/torch/nn/parallel/_functions.py:68: UserWarning: Was asked to gather along dimension 0, but all input tensors were scalars; will instead unsqueeze and return a vector.\n",
      "  warnings.warn('Was asked to gather along dimension 0, but all '\n"
     ]
    },
    {
     "data": {
      "text/html": [
       "\n",
       "    <div>\n",
       "      \n",
       "      <progress value='240' max='240' style='width:300px; height:20px; vertical-align: middle;'></progress>\n",
       "      [240/240 30:50, Epoch 29/30]\n",
       "    </div>\n",
       "    <table border=\"1\" class=\"dataframe\">\n",
       "  <thead>\n",
       " <tr style=\"text-align: left;\">\n",
       "      <th>Epoch</th>\n",
       "      <th>Training Loss</th>\n",
       "      <th>Validation Loss</th>\n",
       "      <th>Accuracy</th>\n",
       "      <th>F1</th>\n",
       "      <th>Precision</th>\n",
       "      <th>Recall</th>\n",
       "    </tr>\n",
       "  </thead>\n",
       "  <tbody>\n",
       "    <tr>\n",
       "      <td>0</td>\n",
       "      <td>0.696400</td>\n",
       "      <td>0.689909</td>\n",
       "      <td>0.544601</td>\n",
       "      <td>0.352584</td>\n",
       "      <td>0.272300</td>\n",
       "      <td>0.500000</td>\n",
       "    </tr>\n",
       "    <tr>\n",
       "      <td>1</td>\n",
       "      <td>0.774800</td>\n",
       "      <td>0.689351</td>\n",
       "      <td>0.697183</td>\n",
       "      <td>0.664479</td>\n",
       "      <td>0.742888</td>\n",
       "      <td>0.674702</td>\n",
       "    </tr>\n",
       "    <tr>\n",
       "      <td>2</td>\n",
       "      <td>0.769300</td>\n",
       "      <td>0.687211</td>\n",
       "      <td>0.464789</td>\n",
       "      <td>0.406018</td>\n",
       "      <td>0.493443</td>\n",
       "      <td>0.496801</td>\n",
       "    </tr>\n",
       "    <tr>\n",
       "      <td>3</td>\n",
       "      <td>0.759600</td>\n",
       "      <td>0.671107</td>\n",
       "      <td>0.507042</td>\n",
       "      <td>0.464555</td>\n",
       "      <td>0.562961</td>\n",
       "      <td>0.536438</td>\n",
       "    </tr>\n",
       "    <tr>\n",
       "      <td>4</td>\n",
       "      <td>0.721900</td>\n",
       "      <td>0.621342</td>\n",
       "      <td>0.629108</td>\n",
       "      <td>0.625109</td>\n",
       "      <td>0.655942</td>\n",
       "      <td>0.643441</td>\n",
       "    </tr>\n",
       "    <tr>\n",
       "      <td>5</td>\n",
       "      <td>0.656700</td>\n",
       "      <td>0.567341</td>\n",
       "      <td>0.753521</td>\n",
       "      <td>0.731891</td>\n",
       "      <td>0.801244</td>\n",
       "      <td>0.734025</td>\n",
       "    </tr>\n",
       "    <tr>\n",
       "      <td>6</td>\n",
       "      <td>0.603600</td>\n",
       "      <td>0.539357</td>\n",
       "      <td>0.755869</td>\n",
       "      <td>0.734827</td>\n",
       "      <td>0.802804</td>\n",
       "      <td>0.736602</td>\n",
       "    </tr>\n",
       "    <tr>\n",
       "      <td>7</td>\n",
       "      <td>0.585100</td>\n",
       "      <td>0.513712</td>\n",
       "      <td>0.755869</td>\n",
       "      <td>0.734827</td>\n",
       "      <td>0.802804</td>\n",
       "      <td>0.736602</td>\n",
       "    </tr>\n",
       "    <tr>\n",
       "      <td>8</td>\n",
       "      <td>0.557800</td>\n",
       "      <td>0.458360</td>\n",
       "      <td>0.748826</td>\n",
       "      <td>0.719852</td>\n",
       "      <td>0.823358</td>\n",
       "      <td>0.725915</td>\n",
       "    </tr>\n",
       "    <tr>\n",
       "      <td>9</td>\n",
       "      <td>0.488600</td>\n",
       "      <td>0.416302</td>\n",
       "      <td>0.755869</td>\n",
       "      <td>0.730799</td>\n",
       "      <td>0.819354</td>\n",
       "      <td>0.734492</td>\n",
       "    </tr>\n",
       "    <tr>\n",
       "      <td>10</td>\n",
       "      <td>0.437700</td>\n",
       "      <td>0.398005</td>\n",
       "      <td>0.816901</td>\n",
       "      <td>0.814132</td>\n",
       "      <td>0.817615</td>\n",
       "      <td>0.812478</td>\n",
       "    </tr>\n",
       "    <tr>\n",
       "      <td>11</td>\n",
       "      <td>0.346100</td>\n",
       "      <td>0.425519</td>\n",
       "      <td>0.833333</td>\n",
       "      <td>0.833259</td>\n",
       "      <td>0.836168</td>\n",
       "      <td>0.838118</td>\n",
       "    </tr>\n",
       "    <tr>\n",
       "      <td>12</td>\n",
       "      <td>0.322400</td>\n",
       "      <td>0.422737</td>\n",
       "      <td>0.823944</td>\n",
       "      <td>0.821774</td>\n",
       "      <td>0.823674</td>\n",
       "      <td>0.820632</td>\n",
       "    </tr>\n",
       "    <tr>\n",
       "      <td>13</td>\n",
       "      <td>0.289500</td>\n",
       "      <td>0.375140</td>\n",
       "      <td>0.861502</td>\n",
       "      <td>0.860450</td>\n",
       "      <td>0.860306</td>\n",
       "      <td>0.860603</td>\n",
       "    </tr>\n",
       "    <tr>\n",
       "      <td>14</td>\n",
       "      <td>0.253200</td>\n",
       "      <td>0.360107</td>\n",
       "      <td>0.880282</td>\n",
       "      <td>0.880202</td>\n",
       "      <td>0.882496</td>\n",
       "      <td>0.885020</td>\n",
       "    </tr>\n",
       "    <tr>\n",
       "      <td>15</td>\n",
       "      <td>0.220800</td>\n",
       "      <td>0.347480</td>\n",
       "      <td>0.884977</td>\n",
       "      <td>0.883168</td>\n",
       "      <td>0.887737</td>\n",
       "      <td>0.880888</td>\n",
       "    </tr>\n",
       "    <tr>\n",
       "      <td>16</td>\n",
       "      <td>0.194800</td>\n",
       "      <td>0.329412</td>\n",
       "      <td>0.894366</td>\n",
       "      <td>0.893065</td>\n",
       "      <td>0.895335</td>\n",
       "      <td>0.891619</td>\n",
       "    </tr>\n",
       "    <tr>\n",
       "      <td>17</td>\n",
       "      <td>0.197900</td>\n",
       "      <td>0.317975</td>\n",
       "      <td>0.922535</td>\n",
       "      <td>0.922123</td>\n",
       "      <td>0.921360</td>\n",
       "      <td>0.923391</td>\n",
       "    </tr>\n",
       "    <tr>\n",
       "      <td>18</td>\n",
       "      <td>0.132500</td>\n",
       "      <td>0.341938</td>\n",
       "      <td>0.908451</td>\n",
       "      <td>0.907755</td>\n",
       "      <td>0.907592</td>\n",
       "      <td>0.907927</td>\n",
       "    </tr>\n",
       "    <tr>\n",
       "      <td>19</td>\n",
       "      <td>0.121800</td>\n",
       "      <td>0.389673</td>\n",
       "      <td>0.908451</td>\n",
       "      <td>0.908268</td>\n",
       "      <td>0.908451</td>\n",
       "      <td>0.911727</td>\n",
       "    </tr>\n",
       "    <tr>\n",
       "      <td>20</td>\n",
       "      <td>0.117700</td>\n",
       "      <td>0.288155</td>\n",
       "      <td>0.924883</td>\n",
       "      <td>0.924145</td>\n",
       "      <td>0.925022</td>\n",
       "      <td>0.923436</td>\n",
       "    </tr>\n",
       "    <tr>\n",
       "      <td>21</td>\n",
       "      <td>0.088200</td>\n",
       "      <td>0.322406</td>\n",
       "      <td>0.908451</td>\n",
       "      <td>0.906782</td>\n",
       "      <td>0.913660</td>\n",
       "      <td>0.903706</td>\n",
       "    </tr>\n",
       "    <tr>\n",
       "      <td>22</td>\n",
       "      <td>0.107700</td>\n",
       "      <td>0.340263</td>\n",
       "      <td>0.915493</td>\n",
       "      <td>0.915126</td>\n",
       "      <td>0.914348</td>\n",
       "      <td>0.916926</td>\n",
       "    </tr>\n",
       "    <tr>\n",
       "      <td>23</td>\n",
       "      <td>0.076800</td>\n",
       "      <td>0.285916</td>\n",
       "      <td>0.927230</td>\n",
       "      <td>0.926791</td>\n",
       "      <td>0.926140</td>\n",
       "      <td>0.927702</td>\n",
       "    </tr>\n",
       "    <tr>\n",
       "      <td>24</td>\n",
       "      <td>0.072400</td>\n",
       "      <td>0.486961</td>\n",
       "      <td>0.875587</td>\n",
       "      <td>0.870920</td>\n",
       "      <td>0.896171</td>\n",
       "      <td>0.865513</td>\n",
       "    </tr>\n",
       "    <tr>\n",
       "      <td>25</td>\n",
       "      <td>0.102800</td>\n",
       "      <td>0.348469</td>\n",
       "      <td>0.920188</td>\n",
       "      <td>0.919327</td>\n",
       "      <td>0.920749</td>\n",
       "      <td>0.918281</td>\n",
       "    </tr>\n",
       "    <tr>\n",
       "      <td>26</td>\n",
       "      <td>0.062300</td>\n",
       "      <td>0.322007</td>\n",
       "      <td>0.929577</td>\n",
       "      <td>0.929226</td>\n",
       "      <td>0.928417</td>\n",
       "      <td>0.930701</td>\n",
       "    </tr>\n",
       "    <tr>\n",
       "      <td>27</td>\n",
       "      <td>0.031100</td>\n",
       "      <td>0.508089</td>\n",
       "      <td>0.882629</td>\n",
       "      <td>0.879178</td>\n",
       "      <td>0.896053</td>\n",
       "      <td>0.874511</td>\n",
       "    </tr>\n",
       "    <tr>\n",
       "      <td>28</td>\n",
       "      <td>0.067500</td>\n",
       "      <td>0.348094</td>\n",
       "      <td>0.920188</td>\n",
       "      <td>0.919073</td>\n",
       "      <td>0.922649</td>\n",
       "      <td>0.917015</td>\n",
       "    </tr>\n",
       "    <tr>\n",
       "      <td>29</td>\n",
       "      <td>0.093400</td>\n",
       "      <td>0.568766</td>\n",
       "      <td>0.894366</td>\n",
       "      <td>0.894319</td>\n",
       "      <td>0.897336</td>\n",
       "      <td>0.899640</td>\n",
       "    </tr>\n",
       "  </tbody>\n",
       "</table><p>"
      ],
      "text/plain": [
       "<IPython.core.display.HTML object>"
      ]
     },
     "metadata": {},
     "output_type": "display_data"
    },
    {
     "name": "stderr",
     "output_type": "stream",
     "text": [
      "The following columns in the evaluation set  don't have a corresponding argument in `RobertaForSequenceClassification.forward` and have been ignored: text, Unnamed: 0. If text, Unnamed: 0 are not expected by `RobertaForSequenceClassification.forward`,  you can safely ignore this message.\n",
      "***** Running Evaluation *****\n",
      "  Num examples = 426\n",
      "  Batch size = 8\n",
      "/usr/local/lib/python3.6/dist-packages/sklearn/metrics/classification.py:1437: UndefinedMetricWarning: Precision and F-score are ill-defined and being set to 0.0 in labels with no predicted samples.\n",
      "  'precision', 'predicted', average, warn_for)\n",
      "Saving model checkpoint to /home/csgrad/smaranas/STDA/checkpoint-8\n",
      "Configuration saved in /home/csgrad/smaranas/STDA/checkpoint-8/config.json\n",
      "Model weights saved in /home/csgrad/smaranas/STDA/checkpoint-8/pytorch_model.bin\n",
      "/home/csgrad/smaranas/.local/lib/python3.6/site-packages/torch/nn/parallel/_functions.py:68: UserWarning: Was asked to gather along dimension 0, but all input tensors were scalars; will instead unsqueeze and return a vector.\n",
      "  warnings.warn('Was asked to gather along dimension 0, but all '\n",
      "The following columns in the evaluation set  don't have a corresponding argument in `RobertaForSequenceClassification.forward` and have been ignored: text, Unnamed: 0. If text, Unnamed: 0 are not expected by `RobertaForSequenceClassification.forward`,  you can safely ignore this message.\n",
      "***** Running Evaluation *****\n",
      "  Num examples = 426\n",
      "  Batch size = 8\n",
      "Saving model checkpoint to /home/csgrad/smaranas/STDA/checkpoint-16\n",
      "Configuration saved in /home/csgrad/smaranas/STDA/checkpoint-16/config.json\n",
      "Model weights saved in /home/csgrad/smaranas/STDA/checkpoint-16/pytorch_model.bin\n",
      "/home/csgrad/smaranas/.local/lib/python3.6/site-packages/torch/nn/parallel/_functions.py:68: UserWarning: Was asked to gather along dimension 0, but all input tensors were scalars; will instead unsqueeze and return a vector.\n",
      "  warnings.warn('Was asked to gather along dimension 0, but all '\n",
      "The following columns in the evaluation set  don't have a corresponding argument in `RobertaForSequenceClassification.forward` and have been ignored: text, Unnamed: 0. If text, Unnamed: 0 are not expected by `RobertaForSequenceClassification.forward`,  you can safely ignore this message.\n",
      "***** Running Evaluation *****\n",
      "  Num examples = 426\n",
      "  Batch size = 8\n",
      "Saving model checkpoint to /home/csgrad/smaranas/STDA/checkpoint-24\n",
      "Configuration saved in /home/csgrad/smaranas/STDA/checkpoint-24/config.json\n",
      "Model weights saved in /home/csgrad/smaranas/STDA/checkpoint-24/pytorch_model.bin\n",
      "/home/csgrad/smaranas/.local/lib/python3.6/site-packages/torch/nn/parallel/_functions.py:68: UserWarning: Was asked to gather along dimension 0, but all input tensors were scalars; will instead unsqueeze and return a vector.\n",
      "  warnings.warn('Was asked to gather along dimension 0, but all '\n",
      "The following columns in the evaluation set  don't have a corresponding argument in `RobertaForSequenceClassification.forward` and have been ignored: text, Unnamed: 0. If text, Unnamed: 0 are not expected by `RobertaForSequenceClassification.forward`,  you can safely ignore this message.\n",
      "***** Running Evaluation *****\n",
      "  Num examples = 426\n",
      "  Batch size = 8\n",
      "Saving model checkpoint to /home/csgrad/smaranas/STDA/checkpoint-32\n",
      "Configuration saved in /home/csgrad/smaranas/STDA/checkpoint-32/config.json\n",
      "Model weights saved in /home/csgrad/smaranas/STDA/checkpoint-32/pytorch_model.bin\n",
      "/home/csgrad/smaranas/.local/lib/python3.6/site-packages/torch/nn/parallel/_functions.py:68: UserWarning: Was asked to gather along dimension 0, but all input tensors were scalars; will instead unsqueeze and return a vector.\n",
      "  warnings.warn('Was asked to gather along dimension 0, but all '\n",
      "The following columns in the evaluation set  don't have a corresponding argument in `RobertaForSequenceClassification.forward` and have been ignored: text, Unnamed: 0. If text, Unnamed: 0 are not expected by `RobertaForSequenceClassification.forward`,  you can safely ignore this message.\n",
      "***** Running Evaluation *****\n",
      "  Num examples = 426\n",
      "  Batch size = 8\n",
      "Saving model checkpoint to /home/csgrad/smaranas/STDA/checkpoint-40\n",
      "Configuration saved in /home/csgrad/smaranas/STDA/checkpoint-40/config.json\n",
      "Model weights saved in /home/csgrad/smaranas/STDA/checkpoint-40/pytorch_model.bin\n",
      "/home/csgrad/smaranas/.local/lib/python3.6/site-packages/torch/nn/parallel/_functions.py:68: UserWarning: Was asked to gather along dimension 0, but all input tensors were scalars; will instead unsqueeze and return a vector.\n",
      "  warnings.warn('Was asked to gather along dimension 0, but all '\n",
      "The following columns in the evaluation set  don't have a corresponding argument in `RobertaForSequenceClassification.forward` and have been ignored: text, Unnamed: 0. If text, Unnamed: 0 are not expected by `RobertaForSequenceClassification.forward`,  you can safely ignore this message.\n",
      "***** Running Evaluation *****\n",
      "  Num examples = 426\n",
      "  Batch size = 8\n",
      "Saving model checkpoint to /home/csgrad/smaranas/STDA/checkpoint-48\n",
      "Configuration saved in /home/csgrad/smaranas/STDA/checkpoint-48/config.json\n",
      "Model weights saved in /home/csgrad/smaranas/STDA/checkpoint-48/pytorch_model.bin\n",
      "/home/csgrad/smaranas/.local/lib/python3.6/site-packages/torch/nn/parallel/_functions.py:68: UserWarning: Was asked to gather along dimension 0, but all input tensors were scalars; will instead unsqueeze and return a vector.\n",
      "  warnings.warn('Was asked to gather along dimension 0, but all '\n",
      "The following columns in the evaluation set  don't have a corresponding argument in `RobertaForSequenceClassification.forward` and have been ignored: text, Unnamed: 0. If text, Unnamed: 0 are not expected by `RobertaForSequenceClassification.forward`,  you can safely ignore this message.\n",
      "***** Running Evaluation *****\n",
      "  Num examples = 426\n",
      "  Batch size = 8\n",
      "Saving model checkpoint to /home/csgrad/smaranas/STDA/checkpoint-56\n",
      "Configuration saved in /home/csgrad/smaranas/STDA/checkpoint-56/config.json\n",
      "Model weights saved in /home/csgrad/smaranas/STDA/checkpoint-56/pytorch_model.bin\n",
      "/home/csgrad/smaranas/.local/lib/python3.6/site-packages/torch/nn/parallel/_functions.py:68: UserWarning: Was asked to gather along dimension 0, but all input tensors were scalars; will instead unsqueeze and return a vector.\n",
      "  warnings.warn('Was asked to gather along dimension 0, but all '\n",
      "The following columns in the evaluation set  don't have a corresponding argument in `RobertaForSequenceClassification.forward` and have been ignored: text, Unnamed: 0. If text, Unnamed: 0 are not expected by `RobertaForSequenceClassification.forward`,  you can safely ignore this message.\n",
      "***** Running Evaluation *****\n",
      "  Num examples = 426\n",
      "  Batch size = 8\n",
      "Saving model checkpoint to /home/csgrad/smaranas/STDA/checkpoint-64\n",
      "Configuration saved in /home/csgrad/smaranas/STDA/checkpoint-64/config.json\n",
      "Model weights saved in /home/csgrad/smaranas/STDA/checkpoint-64/pytorch_model.bin\n",
      "/home/csgrad/smaranas/.local/lib/python3.6/site-packages/torch/nn/parallel/_functions.py:68: UserWarning: Was asked to gather along dimension 0, but all input tensors were scalars; will instead unsqueeze and return a vector.\n",
      "  warnings.warn('Was asked to gather along dimension 0, but all '\n",
      "The following columns in the evaluation set  don't have a corresponding argument in `RobertaForSequenceClassification.forward` and have been ignored: text, Unnamed: 0. If text, Unnamed: 0 are not expected by `RobertaForSequenceClassification.forward`,  you can safely ignore this message.\n",
      "***** Running Evaluation *****\n",
      "  Num examples = 426\n",
      "  Batch size = 8\n",
      "Saving model checkpoint to /home/csgrad/smaranas/STDA/checkpoint-72\n",
      "Configuration saved in /home/csgrad/smaranas/STDA/checkpoint-72/config.json\n",
      "Model weights saved in /home/csgrad/smaranas/STDA/checkpoint-72/pytorch_model.bin\n",
      "/home/csgrad/smaranas/.local/lib/python3.6/site-packages/torch/nn/parallel/_functions.py:68: UserWarning: Was asked to gather along dimension 0, but all input tensors were scalars; will instead unsqueeze and return a vector.\n",
      "  warnings.warn('Was asked to gather along dimension 0, but all '\n",
      "The following columns in the evaluation set  don't have a corresponding argument in `RobertaForSequenceClassification.forward` and have been ignored: text, Unnamed: 0. If text, Unnamed: 0 are not expected by `RobertaForSequenceClassification.forward`,  you can safely ignore this message.\n"
     ]
    },
    {
     "name": "stderr",
     "output_type": "stream",
     "text": [
      "***** Running Evaluation *****\n",
      "  Num examples = 426\n",
      "  Batch size = 8\n",
      "Saving model checkpoint to /home/csgrad/smaranas/STDA/checkpoint-80\n",
      "Configuration saved in /home/csgrad/smaranas/STDA/checkpoint-80/config.json\n",
      "Model weights saved in /home/csgrad/smaranas/STDA/checkpoint-80/pytorch_model.bin\n",
      "/home/csgrad/smaranas/.local/lib/python3.6/site-packages/torch/nn/parallel/_functions.py:68: UserWarning: Was asked to gather along dimension 0, but all input tensors were scalars; will instead unsqueeze and return a vector.\n",
      "  warnings.warn('Was asked to gather along dimension 0, but all '\n",
      "The following columns in the evaluation set  don't have a corresponding argument in `RobertaForSequenceClassification.forward` and have been ignored: text, Unnamed: 0. If text, Unnamed: 0 are not expected by `RobertaForSequenceClassification.forward`,  you can safely ignore this message.\n",
      "***** Running Evaluation *****\n",
      "  Num examples = 426\n",
      "  Batch size = 8\n",
      "Saving model checkpoint to /home/csgrad/smaranas/STDA/checkpoint-88\n",
      "Configuration saved in /home/csgrad/smaranas/STDA/checkpoint-88/config.json\n",
      "Model weights saved in /home/csgrad/smaranas/STDA/checkpoint-88/pytorch_model.bin\n",
      "/home/csgrad/smaranas/.local/lib/python3.6/site-packages/torch/nn/parallel/_functions.py:68: UserWarning: Was asked to gather along dimension 0, but all input tensors were scalars; will instead unsqueeze and return a vector.\n",
      "  warnings.warn('Was asked to gather along dimension 0, but all '\n",
      "The following columns in the evaluation set  don't have a corresponding argument in `RobertaForSequenceClassification.forward` and have been ignored: text, Unnamed: 0. If text, Unnamed: 0 are not expected by `RobertaForSequenceClassification.forward`,  you can safely ignore this message.\n",
      "***** Running Evaluation *****\n",
      "  Num examples = 426\n",
      "  Batch size = 8\n",
      "Saving model checkpoint to /home/csgrad/smaranas/STDA/checkpoint-96\n",
      "Configuration saved in /home/csgrad/smaranas/STDA/checkpoint-96/config.json\n",
      "Model weights saved in /home/csgrad/smaranas/STDA/checkpoint-96/pytorch_model.bin\n",
      "/home/csgrad/smaranas/.local/lib/python3.6/site-packages/torch/nn/parallel/_functions.py:68: UserWarning: Was asked to gather along dimension 0, but all input tensors were scalars; will instead unsqueeze and return a vector.\n",
      "  warnings.warn('Was asked to gather along dimension 0, but all '\n",
      "The following columns in the evaluation set  don't have a corresponding argument in `RobertaForSequenceClassification.forward` and have been ignored: text, Unnamed: 0. If text, Unnamed: 0 are not expected by `RobertaForSequenceClassification.forward`,  you can safely ignore this message.\n",
      "***** Running Evaluation *****\n",
      "  Num examples = 426\n",
      "  Batch size = 8\n",
      "Saving model checkpoint to /home/csgrad/smaranas/STDA/checkpoint-104\n",
      "Configuration saved in /home/csgrad/smaranas/STDA/checkpoint-104/config.json\n",
      "Model weights saved in /home/csgrad/smaranas/STDA/checkpoint-104/pytorch_model.bin\n",
      "/home/csgrad/smaranas/.local/lib/python3.6/site-packages/torch/nn/parallel/_functions.py:68: UserWarning: Was asked to gather along dimension 0, but all input tensors were scalars; will instead unsqueeze and return a vector.\n",
      "  warnings.warn('Was asked to gather along dimension 0, but all '\n",
      "The following columns in the evaluation set  don't have a corresponding argument in `RobertaForSequenceClassification.forward` and have been ignored: text, Unnamed: 0. If text, Unnamed: 0 are not expected by `RobertaForSequenceClassification.forward`,  you can safely ignore this message.\n",
      "***** Running Evaluation *****\n",
      "  Num examples = 426\n",
      "  Batch size = 8\n",
      "Saving model checkpoint to /home/csgrad/smaranas/STDA/checkpoint-112\n",
      "Configuration saved in /home/csgrad/smaranas/STDA/checkpoint-112/config.json\n",
      "Model weights saved in /home/csgrad/smaranas/STDA/checkpoint-112/pytorch_model.bin\n",
      "/home/csgrad/smaranas/.local/lib/python3.6/site-packages/torch/nn/parallel/_functions.py:68: UserWarning: Was asked to gather along dimension 0, but all input tensors were scalars; will instead unsqueeze and return a vector.\n",
      "  warnings.warn('Was asked to gather along dimension 0, but all '\n",
      "The following columns in the evaluation set  don't have a corresponding argument in `RobertaForSequenceClassification.forward` and have been ignored: text, Unnamed: 0. If text, Unnamed: 0 are not expected by `RobertaForSequenceClassification.forward`,  you can safely ignore this message.\n",
      "***** Running Evaluation *****\n",
      "  Num examples = 426\n",
      "  Batch size = 8\n",
      "Saving model checkpoint to /home/csgrad/smaranas/STDA/checkpoint-120\n",
      "Configuration saved in /home/csgrad/smaranas/STDA/checkpoint-120/config.json\n",
      "Model weights saved in /home/csgrad/smaranas/STDA/checkpoint-120/pytorch_model.bin\n",
      "/home/csgrad/smaranas/.local/lib/python3.6/site-packages/torch/nn/parallel/_functions.py:68: UserWarning: Was asked to gather along dimension 0, but all input tensors were scalars; will instead unsqueeze and return a vector.\n",
      "  warnings.warn('Was asked to gather along dimension 0, but all '\n",
      "The following columns in the evaluation set  don't have a corresponding argument in `RobertaForSequenceClassification.forward` and have been ignored: text, Unnamed: 0. If text, Unnamed: 0 are not expected by `RobertaForSequenceClassification.forward`,  you can safely ignore this message.\n",
      "***** Running Evaluation *****\n",
      "  Num examples = 426\n",
      "  Batch size = 8\n",
      "Saving model checkpoint to /home/csgrad/smaranas/STDA/checkpoint-128\n",
      "Configuration saved in /home/csgrad/smaranas/STDA/checkpoint-128/config.json\n",
      "Model weights saved in /home/csgrad/smaranas/STDA/checkpoint-128/pytorch_model.bin\n",
      "/home/csgrad/smaranas/.local/lib/python3.6/site-packages/torch/nn/parallel/_functions.py:68: UserWarning: Was asked to gather along dimension 0, but all input tensors were scalars; will instead unsqueeze and return a vector.\n",
      "  warnings.warn('Was asked to gather along dimension 0, but all '\n",
      "The following columns in the evaluation set  don't have a corresponding argument in `RobertaForSequenceClassification.forward` and have been ignored: text, Unnamed: 0. If text, Unnamed: 0 are not expected by `RobertaForSequenceClassification.forward`,  you can safely ignore this message.\n",
      "***** Running Evaluation *****\n",
      "  Num examples = 426\n",
      "  Batch size = 8\n",
      "Saving model checkpoint to /home/csgrad/smaranas/STDA/checkpoint-136\n",
      "Configuration saved in /home/csgrad/smaranas/STDA/checkpoint-136/config.json\n",
      "Model weights saved in /home/csgrad/smaranas/STDA/checkpoint-136/pytorch_model.bin\n",
      "/home/csgrad/smaranas/.local/lib/python3.6/site-packages/torch/nn/parallel/_functions.py:68: UserWarning: Was asked to gather along dimension 0, but all input tensors were scalars; will instead unsqueeze and return a vector.\n",
      "  warnings.warn('Was asked to gather along dimension 0, but all '\n",
      "The following columns in the evaluation set  don't have a corresponding argument in `RobertaForSequenceClassification.forward` and have been ignored: text, Unnamed: 0. If text, Unnamed: 0 are not expected by `RobertaForSequenceClassification.forward`,  you can safely ignore this message.\n",
      "***** Running Evaluation *****\n",
      "  Num examples = 426\n",
      "  Batch size = 8\n",
      "Saving model checkpoint to /home/csgrad/smaranas/STDA/checkpoint-144\n",
      "Configuration saved in /home/csgrad/smaranas/STDA/checkpoint-144/config.json\n",
      "Model weights saved in /home/csgrad/smaranas/STDA/checkpoint-144/pytorch_model.bin\n",
      "/home/csgrad/smaranas/.local/lib/python3.6/site-packages/torch/nn/parallel/_functions.py:68: UserWarning: Was asked to gather along dimension 0, but all input tensors were scalars; will instead unsqueeze and return a vector.\n",
      "  warnings.warn('Was asked to gather along dimension 0, but all '\n",
      "The following columns in the evaluation set  don't have a corresponding argument in `RobertaForSequenceClassification.forward` and have been ignored: text, Unnamed: 0. If text, Unnamed: 0 are not expected by `RobertaForSequenceClassification.forward`,  you can safely ignore this message.\n",
      "***** Running Evaluation *****\n",
      "  Num examples = 426\n",
      "  Batch size = 8\n",
      "Saving model checkpoint to /home/csgrad/smaranas/STDA/checkpoint-152\n",
      "Configuration saved in /home/csgrad/smaranas/STDA/checkpoint-152/config.json\n",
      "Model weights saved in /home/csgrad/smaranas/STDA/checkpoint-152/pytorch_model.bin\n",
      "/home/csgrad/smaranas/.local/lib/python3.6/site-packages/torch/nn/parallel/_functions.py:68: UserWarning: Was asked to gather along dimension 0, but all input tensors were scalars; will instead unsqueeze and return a vector.\n",
      "  warnings.warn('Was asked to gather along dimension 0, but all '\n"
     ]
    },
    {
     "name": "stderr",
     "output_type": "stream",
     "text": [
      "The following columns in the evaluation set  don't have a corresponding argument in `RobertaForSequenceClassification.forward` and have been ignored: text, Unnamed: 0. If text, Unnamed: 0 are not expected by `RobertaForSequenceClassification.forward`,  you can safely ignore this message.\n",
      "***** Running Evaluation *****\n",
      "  Num examples = 426\n",
      "  Batch size = 8\n",
      "Saving model checkpoint to /home/csgrad/smaranas/STDA/checkpoint-160\n",
      "Configuration saved in /home/csgrad/smaranas/STDA/checkpoint-160/config.json\n",
      "Model weights saved in /home/csgrad/smaranas/STDA/checkpoint-160/pytorch_model.bin\n",
      "/home/csgrad/smaranas/.local/lib/python3.6/site-packages/torch/nn/parallel/_functions.py:68: UserWarning: Was asked to gather along dimension 0, but all input tensors were scalars; will instead unsqueeze and return a vector.\n",
      "  warnings.warn('Was asked to gather along dimension 0, but all '\n",
      "The following columns in the evaluation set  don't have a corresponding argument in `RobertaForSequenceClassification.forward` and have been ignored: text, Unnamed: 0. If text, Unnamed: 0 are not expected by `RobertaForSequenceClassification.forward`,  you can safely ignore this message.\n",
      "***** Running Evaluation *****\n",
      "  Num examples = 426\n",
      "  Batch size = 8\n",
      "Saving model checkpoint to /home/csgrad/smaranas/STDA/checkpoint-168\n",
      "Configuration saved in /home/csgrad/smaranas/STDA/checkpoint-168/config.json\n",
      "Model weights saved in /home/csgrad/smaranas/STDA/checkpoint-168/pytorch_model.bin\n",
      "/home/csgrad/smaranas/.local/lib/python3.6/site-packages/torch/nn/parallel/_functions.py:68: UserWarning: Was asked to gather along dimension 0, but all input tensors were scalars; will instead unsqueeze and return a vector.\n",
      "  warnings.warn('Was asked to gather along dimension 0, but all '\n",
      "The following columns in the evaluation set  don't have a corresponding argument in `RobertaForSequenceClassification.forward` and have been ignored: text, Unnamed: 0. If text, Unnamed: 0 are not expected by `RobertaForSequenceClassification.forward`,  you can safely ignore this message.\n",
      "***** Running Evaluation *****\n",
      "  Num examples = 426\n",
      "  Batch size = 8\n",
      "Saving model checkpoint to /home/csgrad/smaranas/STDA/checkpoint-176\n",
      "Configuration saved in /home/csgrad/smaranas/STDA/checkpoint-176/config.json\n",
      "Model weights saved in /home/csgrad/smaranas/STDA/checkpoint-176/pytorch_model.bin\n",
      "/home/csgrad/smaranas/.local/lib/python3.6/site-packages/torch/nn/parallel/_functions.py:68: UserWarning: Was asked to gather along dimension 0, but all input tensors were scalars; will instead unsqueeze and return a vector.\n",
      "  warnings.warn('Was asked to gather along dimension 0, but all '\n",
      "The following columns in the evaluation set  don't have a corresponding argument in `RobertaForSequenceClassification.forward` and have been ignored: text, Unnamed: 0. If text, Unnamed: 0 are not expected by `RobertaForSequenceClassification.forward`,  you can safely ignore this message.\n",
      "***** Running Evaluation *****\n",
      "  Num examples = 426\n",
      "  Batch size = 8\n",
      "Saving model checkpoint to /home/csgrad/smaranas/STDA/checkpoint-184\n",
      "Configuration saved in /home/csgrad/smaranas/STDA/checkpoint-184/config.json\n",
      "Model weights saved in /home/csgrad/smaranas/STDA/checkpoint-184/pytorch_model.bin\n",
      "/home/csgrad/smaranas/.local/lib/python3.6/site-packages/torch/nn/parallel/_functions.py:68: UserWarning: Was asked to gather along dimension 0, but all input tensors were scalars; will instead unsqueeze and return a vector.\n",
      "  warnings.warn('Was asked to gather along dimension 0, but all '\n",
      "The following columns in the evaluation set  don't have a corresponding argument in `RobertaForSequenceClassification.forward` and have been ignored: text, Unnamed: 0. If text, Unnamed: 0 are not expected by `RobertaForSequenceClassification.forward`,  you can safely ignore this message.\n",
      "***** Running Evaluation *****\n",
      "  Num examples = 426\n",
      "  Batch size = 8\n",
      "Saving model checkpoint to /home/csgrad/smaranas/STDA/checkpoint-192\n",
      "Configuration saved in /home/csgrad/smaranas/STDA/checkpoint-192/config.json\n",
      "Model weights saved in /home/csgrad/smaranas/STDA/checkpoint-192/pytorch_model.bin\n",
      "/home/csgrad/smaranas/.local/lib/python3.6/site-packages/torch/nn/parallel/_functions.py:68: UserWarning: Was asked to gather along dimension 0, but all input tensors were scalars; will instead unsqueeze and return a vector.\n",
      "  warnings.warn('Was asked to gather along dimension 0, but all '\n",
      "The following columns in the evaluation set  don't have a corresponding argument in `RobertaForSequenceClassification.forward` and have been ignored: text, Unnamed: 0. If text, Unnamed: 0 are not expected by `RobertaForSequenceClassification.forward`,  you can safely ignore this message.\n",
      "***** Running Evaluation *****\n",
      "  Num examples = 426\n",
      "  Batch size = 8\n",
      "Saving model checkpoint to /home/csgrad/smaranas/STDA/checkpoint-200\n",
      "Configuration saved in /home/csgrad/smaranas/STDA/checkpoint-200/config.json\n",
      "Model weights saved in /home/csgrad/smaranas/STDA/checkpoint-200/pytorch_model.bin\n",
      "/home/csgrad/smaranas/.local/lib/python3.6/site-packages/torch/nn/parallel/_functions.py:68: UserWarning: Was asked to gather along dimension 0, but all input tensors were scalars; will instead unsqueeze and return a vector.\n",
      "  warnings.warn('Was asked to gather along dimension 0, but all '\n",
      "The following columns in the evaluation set  don't have a corresponding argument in `RobertaForSequenceClassification.forward` and have been ignored: text, Unnamed: 0. If text, Unnamed: 0 are not expected by `RobertaForSequenceClassification.forward`,  you can safely ignore this message.\n",
      "***** Running Evaluation *****\n",
      "  Num examples = 426\n",
      "  Batch size = 8\n",
      "Saving model checkpoint to /home/csgrad/smaranas/STDA/checkpoint-208\n",
      "Configuration saved in /home/csgrad/smaranas/STDA/checkpoint-208/config.json\n",
      "Model weights saved in /home/csgrad/smaranas/STDA/checkpoint-208/pytorch_model.bin\n",
      "/home/csgrad/smaranas/.local/lib/python3.6/site-packages/torch/nn/parallel/_functions.py:68: UserWarning: Was asked to gather along dimension 0, but all input tensors were scalars; will instead unsqueeze and return a vector.\n",
      "  warnings.warn('Was asked to gather along dimension 0, but all '\n",
      "The following columns in the evaluation set  don't have a corresponding argument in `RobertaForSequenceClassification.forward` and have been ignored: text, Unnamed: 0. If text, Unnamed: 0 are not expected by `RobertaForSequenceClassification.forward`,  you can safely ignore this message.\n",
      "***** Running Evaluation *****\n",
      "  Num examples = 426\n",
      "  Batch size = 8\n",
      "Saving model checkpoint to /home/csgrad/smaranas/STDA/checkpoint-216\n",
      "Configuration saved in /home/csgrad/smaranas/STDA/checkpoint-216/config.json\n",
      "Model weights saved in /home/csgrad/smaranas/STDA/checkpoint-216/pytorch_model.bin\n",
      "/home/csgrad/smaranas/.local/lib/python3.6/site-packages/torch/nn/parallel/_functions.py:68: UserWarning: Was asked to gather along dimension 0, but all input tensors were scalars; will instead unsqueeze and return a vector.\n",
      "  warnings.warn('Was asked to gather along dimension 0, but all '\n",
      "The following columns in the evaluation set  don't have a corresponding argument in `RobertaForSequenceClassification.forward` and have been ignored: text, Unnamed: 0. If text, Unnamed: 0 are not expected by `RobertaForSequenceClassification.forward`,  you can safely ignore this message.\n",
      "***** Running Evaluation *****\n",
      "  Num examples = 426\n",
      "  Batch size = 8\n",
      "Saving model checkpoint to /home/csgrad/smaranas/STDA/checkpoint-224\n",
      "Configuration saved in /home/csgrad/smaranas/STDA/checkpoint-224/config.json\n",
      "Model weights saved in /home/csgrad/smaranas/STDA/checkpoint-224/pytorch_model.bin\n",
      "/home/csgrad/smaranas/.local/lib/python3.6/site-packages/torch/nn/parallel/_functions.py:68: UserWarning: Was asked to gather along dimension 0, but all input tensors were scalars; will instead unsqueeze and return a vector.\n",
      "  warnings.warn('Was asked to gather along dimension 0, but all '\n",
      "The following columns in the evaluation set  don't have a corresponding argument in `RobertaForSequenceClassification.forward` and have been ignored: text, Unnamed: 0. If text, Unnamed: 0 are not expected by `RobertaForSequenceClassification.forward`,  you can safely ignore this message.\n",
      "***** Running Evaluation *****\n"
     ]
    },
    {
     "name": "stderr",
     "output_type": "stream",
     "text": [
      "  Num examples = 426\n",
      "  Batch size = 8\n",
      "Saving model checkpoint to /home/csgrad/smaranas/STDA/checkpoint-232\n",
      "Configuration saved in /home/csgrad/smaranas/STDA/checkpoint-232/config.json\n",
      "Model weights saved in /home/csgrad/smaranas/STDA/checkpoint-232/pytorch_model.bin\n",
      "/home/csgrad/smaranas/.local/lib/python3.6/site-packages/torch/nn/parallel/_functions.py:68: UserWarning: Was asked to gather along dimension 0, but all input tensors were scalars; will instead unsqueeze and return a vector.\n",
      "  warnings.warn('Was asked to gather along dimension 0, but all '\n",
      "The following columns in the evaluation set  don't have a corresponding argument in `RobertaForSequenceClassification.forward` and have been ignored: text, Unnamed: 0. If text, Unnamed: 0 are not expected by `RobertaForSequenceClassification.forward`,  you can safely ignore this message.\n",
      "***** Running Evaluation *****\n",
      "  Num examples = 426\n",
      "  Batch size = 8\n",
      "Saving model checkpoint to /home/csgrad/smaranas/STDA/checkpoint-240\n",
      "Configuration saved in /home/csgrad/smaranas/STDA/checkpoint-240/config.json\n",
      "Model weights saved in /home/csgrad/smaranas/STDA/checkpoint-240/pytorch_model.bin\n",
      "\n",
      "\n",
      "Training completed. Do not forget to share your model on huggingface.co/models =)\n",
      "\n",
      "\n",
      "Loading best model from /home/csgrad/smaranas/STDA/checkpoint-192 (score: 0.2859164774417877).\n"
     ]
    },
    {
     "data": {
      "text/plain": [
       "TrainOutput(global_step=240, training_loss=0.33168157742669185, metrics={'train_runtime': 1867.2533, 'train_samples_per_second': 27.393, 'train_steps_per_second': 0.129, 'total_flos': 1.341366471330816e+16, 'train_loss': 0.33168157742669185, 'epoch': 29.9})"
      ]
     },
     "execution_count": 10,
     "metadata": {},
     "output_type": "execute_result"
    }
   ],
   "source": [
    "trainer.train()"
   ]
  },
  {
   "cell_type": "code",
   "execution_count": 11,
   "id": "ca837f88",
   "metadata": {},
   "outputs": [
    {
     "name": "stderr",
     "output_type": "stream",
     "text": [
      "The following columns in the evaluation set  don't have a corresponding argument in `RobertaForSequenceClassification.forward` and have been ignored: text, Unnamed: 0. If text, Unnamed: 0 are not expected by `RobertaForSequenceClassification.forward`,  you can safely ignore this message.\n",
      "***** Running Evaluation *****\n",
      "  Num examples = 426\n",
      "  Batch size = 8\n",
      "/home/csgrad/smaranas/.local/lib/python3.6/site-packages/torch/nn/parallel/_functions.py:68: UserWarning: Was asked to gather along dimension 0, but all input tensors were scalars; will instead unsqueeze and return a vector.\n",
      "  warnings.warn('Was asked to gather along dimension 0, but all '\n"
     ]
    },
    {
     "data": {
      "text/html": [
       "\n",
       "    <div>\n",
       "      \n",
       "      <progress value='28' max='14' style='width:300px; height:20px; vertical-align: middle;'></progress>\n",
       "      [14/14 03:46]\n",
       "    </div>\n",
       "    "
      ],
      "text/plain": [
       "<IPython.core.display.HTML object>"
      ]
     },
     "metadata": {},
     "output_type": "display_data"
    },
    {
     "data": {
      "text/plain": [
       "{'eval_loss': 0.2859164774417877,\n",
       " 'eval_accuracy': 0.9272300469483568,\n",
       " 'eval_f1': 0.9267907332568313,\n",
       " 'eval_precision': 0.9261395081132535,\n",
       " 'eval_recall': 0.9277017419125488,\n",
       " 'eval_runtime': 2.7712,\n",
       " 'eval_samples_per_second': 153.726,\n",
       " 'eval_steps_per_second': 5.052,\n",
       " 'epoch': 29.9}"
      ]
     },
     "execution_count": 11,
     "metadata": {},
     "output_type": "execute_result"
    }
   ],
   "source": [
    "trainer.evaluate()"
   ]
  },
  {
   "cell_type": "code",
   "execution_count": 12,
   "id": "312d00a5",
   "metadata": {},
   "outputs": [
    {
     "name": "stdout",
     "output_type": "stream",
     "text": [
      "GPU 0: GeForce RTX 2080 Ti (UUID: GPU-7f930eb1-7889-010a-7bdc-0af4745b23ee)\r\n",
      "GPU 1: GeForce RTX 2080 Ti (UUID: GPU-fd3ac735-6b86-cb59-2eda-73128446cdc8)\r\n",
      "GPU 2: GeForce RTX 2080 Ti (UUID: GPU-bfee90cf-6b95-364a-9d28-8788cb1154aa)\r\n",
      "GPU 3: GeForce RTX 2080 Ti (UUID: GPU-bff12621-4900-b812-5ba6-c920c1989d0f)\r\n"
     ]
    }
   ],
   "source": [
    "!nvidia-smi -L\n"
   ]
  },
  {
   "cell_type": "code",
   "execution_count": 17,
   "id": "1338521b",
   "metadata": {
    "scrolled": true
   },
   "outputs": [
    {
     "name": "stderr",
     "output_type": "stream",
     "text": [
      "The following columns in the training set  don't have a corresponding argument in `RobertaForSequenceClassification.forward` and have been ignored: text, Unnamed: 0. If text, Unnamed: 0 are not expected by `RobertaForSequenceClassification.forward`,  you can safely ignore this message.\n",
      "/home/csgrad/smaranas/.local/lib/python3.6/site-packages/transformers/optimization.py:309: FutureWarning: This implementation of AdamW is deprecated and will be removed in a future version. Use the PyTorch implementation torch.optim.AdamW instead, or set `no_deprecation_warning=True` to disable this warning\n",
      "  FutureWarning,\n",
      "***** Running training *****\n",
      "  Num examples = 1705\n",
      "  Num Epochs = 1\n",
      "  Instantaneous batch size per device = 3\n",
      "  Total train batch size (w. parallel, distributed & accumulation) = 192\n",
      "  Gradient Accumulation steps = 16\n",
      "  Total optimization steps = 8\n",
      "Automatic Weights & Biases logging enabled, to disable set os.environ[\"WANDB_DISABLED\"] = \"true\"\n"
     ]
    },
    {
     "data": {
      "text/html": [
       "\n",
       "    <div>\n",
       "      \n",
       "      <progress value='8' max='8' style='width:300px; height:20px; vertical-align: middle;'></progress>\n",
       "      [8/8 00:52, Epoch 0/1]\n",
       "    </div>\n",
       "    <table border=\"1\" class=\"dataframe\">\n",
       "  <thead>\n",
       " <tr style=\"text-align: left;\">\n",
       "      <th>Epoch</th>\n",
       "      <th>Training Loss</th>\n",
       "      <th>Validation Loss</th>\n",
       "      <th>Accuracy</th>\n",
       "      <th>F1</th>\n",
       "      <th>Precision</th>\n",
       "      <th>Recall</th>\n",
       "    </tr>\n",
       "  </thead>\n",
       "  <tbody>\n",
       "    <tr>\n",
       "      <td>0</td>\n",
       "      <td>0.068700</td>\n",
       "      <td>0.286982</td>\n",
       "      <td>0.917840</td>\n",
       "      <td>0.916995</td>\n",
       "      <td>0.918123</td>\n",
       "      <td>0.916126</td>\n",
       "    </tr>\n",
       "  </tbody>\n",
       "</table><p>"
      ],
      "text/plain": [
       "<IPython.core.display.HTML object>"
      ]
     },
     "metadata": {},
     "output_type": "display_data"
    },
    {
     "name": "stderr",
     "output_type": "stream",
     "text": [
      "The following columns in the evaluation set  don't have a corresponding argument in `RobertaForSequenceClassification.forward` and have been ignored: text, Unnamed: 0. If text, Unnamed: 0 are not expected by `RobertaForSequenceClassification.forward`,  you can safely ignore this message.\n",
      "***** Running Evaluation *****\n",
      "  Num examples = 426\n",
      "  Batch size = 8\n",
      "Saving model checkpoint to /home/csgrad/smaranas/STDA/checkpoint-8\n",
      "Configuration saved in /home/csgrad/smaranas/STDA/checkpoint-8/config.json\n",
      "Model weights saved in /home/csgrad/smaranas/STDA/checkpoint-8/pytorch_model.bin\n",
      "\n",
      "\n",
      "Training completed. Do not forget to share your model on huggingface.co/models =)\n",
      "\n",
      "\n",
      "Loading best model from /home/csgrad/smaranas/STDA/checkpoint-8 (score: 0.2869824767112732).\n"
     ]
    },
    {
     "data": {
      "text/plain": [
       "TrainOutput(global_step=8, training_loss=0.06871471554040909, metrics={'train_runtime': 57.8432, 'train_samples_per_second': 29.476, 'train_steps_per_second': 0.138, 'total_flos': 404138581032960.0, 'train_loss': 0.06871471554040909, 'epoch': 0.9})"
      ]
     },
     "execution_count": 17,
     "metadata": {},
     "output_type": "execute_result"
    }
   ],
   "source": [
    "trainer.train()"
   ]
  },
  {
   "cell_type": "code",
   "execution_count": 18,
   "id": "c903ba35",
   "metadata": {
    "scrolled": true
   },
   "outputs": [
    {
     "name": "stderr",
     "output_type": "stream",
     "text": [
      "The following columns in the evaluation set  don't have a corresponding argument in `RobertaForSequenceClassification.forward` and have been ignored: text, Unnamed: 0. If text, Unnamed: 0 are not expected by `RobertaForSequenceClassification.forward`,  you can safely ignore this message.\n",
      "***** Running Evaluation *****\n",
      "  Num examples = 426\n",
      "  Batch size = 8\n",
      "/home/csgrad/smaranas/.local/lib/python3.6/site-packages/torch/nn/parallel/_functions.py:68: UserWarning: Was asked to gather along dimension 0, but all input tensors were scalars; will instead unsqueeze and return a vector.\n",
      "  warnings.warn('Was asked to gather along dimension 0, but all '\n"
     ]
    },
    {
     "data": {
      "text/html": [
       "\n",
       "    <div>\n",
       "      \n",
       "      <progress value='28' max='14' style='width:300px; height:20px; vertical-align: middle;'></progress>\n",
       "      [14/14 34:05]\n",
       "    </div>\n",
       "    "
      ],
      "text/plain": [
       "<IPython.core.display.HTML object>"
      ]
     },
     "metadata": {},
     "output_type": "display_data"
    },
    {
     "data": {
      "text/plain": [
       "{'eval_loss': 0.2869824767112732,\n",
       " 'eval_accuracy': 0.9178403755868545,\n",
       " 'eval_f1': 0.9169946611589572,\n",
       " 'eval_precision': 0.9181233674904561,\n",
       " 'eval_recall': 0.9161260220405261,\n",
       " 'eval_runtime': 2.7095,\n",
       " 'eval_samples_per_second': 157.222,\n",
       " 'eval_steps_per_second': 5.167,\n",
       " 'epoch': 0.9}"
      ]
     },
     "execution_count": 18,
     "metadata": {},
     "output_type": "execute_result"
    }
   ],
   "source": [
    "trainer.evaluate()"
   ]
  },
  {
   "cell_type": "code",
   "execution_count": 19,
   "id": "afe596d3",
   "metadata": {
    "scrolled": true
   },
   "outputs": [
    {
     "name": "stderr",
     "output_type": "stream",
     "text": [
      "The following columns in the training set  don't have a corresponding argument in `RobertaForSequenceClassification.forward` and have been ignored: text, Unnamed: 0. If text, Unnamed: 0 are not expected by `RobertaForSequenceClassification.forward`,  you can safely ignore this message.\n",
      "***** Running training *****\n",
      "  Num examples = 1705\n",
      "  Num Epochs = 1\n",
      "  Instantaneous batch size per device = 3\n",
      "  Total train batch size (w. parallel, distributed & accumulation) = 192\n",
      "  Gradient Accumulation steps = 16\n",
      "  Total optimization steps = 8\n",
      "/home/csgrad/smaranas/.local/lib/python3.6/site-packages/torch/nn/parallel/_functions.py:68: UserWarning: Was asked to gather along dimension 0, but all input tensors were scalars; will instead unsqueeze and return a vector.\n",
      "  warnings.warn('Was asked to gather along dimension 0, but all '\n"
     ]
    },
    {
     "data": {
      "text/html": [
       "\n",
       "    <div>\n",
       "      \n",
       "      <progress value='8' max='8' style='width:300px; height:20px; vertical-align: middle;'></progress>\n",
       "      [8/8 00:54, Epoch 0/1]\n",
       "    </div>\n",
       "    <table border=\"1\" class=\"dataframe\">\n",
       "  <thead>\n",
       " <tr style=\"text-align: left;\">\n",
       "      <th>Epoch</th>\n",
       "      <th>Training Loss</th>\n",
       "      <th>Validation Loss</th>\n",
       "      <th>Accuracy</th>\n",
       "      <th>F1</th>\n",
       "      <th>Precision</th>\n",
       "      <th>Recall</th>\n",
       "    </tr>\n",
       "  </thead>\n",
       "  <tbody>\n",
       "    <tr>\n",
       "      <td>0</td>\n",
       "      <td>0.038500</td>\n",
       "      <td>0.336919</td>\n",
       "      <td>0.922535</td>\n",
       "      <td>0.922123</td>\n",
       "      <td>0.921360</td>\n",
       "      <td>0.923391</td>\n",
       "    </tr>\n",
       "  </tbody>\n",
       "</table><p>"
      ],
      "text/plain": [
       "<IPython.core.display.HTML object>"
      ]
     },
     "metadata": {},
     "output_type": "display_data"
    },
    {
     "name": "stderr",
     "output_type": "stream",
     "text": [
      "The following columns in the evaluation set  don't have a corresponding argument in `RobertaForSequenceClassification.forward` and have been ignored: text, Unnamed: 0. If text, Unnamed: 0 are not expected by `RobertaForSequenceClassification.forward`,  you can safely ignore this message.\n",
      "***** Running Evaluation *****\n",
      "  Num examples = 426\n",
      "  Batch size = 8\n",
      "Saving model checkpoint to /home/csgrad/smaranas/STDA/checkpoint-8\n",
      "Configuration saved in /home/csgrad/smaranas/STDA/checkpoint-8/config.json\n",
      "Model weights saved in /home/csgrad/smaranas/STDA/checkpoint-8/pytorch_model.bin\n",
      "\n",
      "\n",
      "Training completed. Do not forget to share your model on huggingface.co/models =)\n",
      "\n",
      "\n",
      "Loading best model from /home/csgrad/smaranas/STDA/checkpoint-8 (score: 0.33691927790641785).\n",
      "The following columns in the evaluation set  don't have a corresponding argument in `RobertaForSequenceClassification.forward` and have been ignored: text, Unnamed: 0. If text, Unnamed: 0 are not expected by `RobertaForSequenceClassification.forward`,  you can safely ignore this message.\n",
      "***** Running Evaluation *****\n",
      "  Num examples = 426\n",
      "  Batch size = 8\n",
      "/home/csgrad/smaranas/.local/lib/python3.6/site-packages/torch/nn/parallel/_functions.py:68: UserWarning: Was asked to gather along dimension 0, but all input tensors were scalars; will instead unsqueeze and return a vector.\n",
      "  warnings.warn('Was asked to gather along dimension 0, but all '\n"
     ]
    },
    {
     "data": {
      "text/html": [
       "\n",
       "    <div>\n",
       "      \n",
       "      <progress value='28' max='14' style='width:300px; height:20px; vertical-align: middle;'></progress>\n",
       "      [14/14 00:44]\n",
       "    </div>\n",
       "    "
      ],
      "text/plain": [
       "<IPython.core.display.HTML object>"
      ]
     },
     "metadata": {},
     "output_type": "display_data"
    },
    {
     "name": "stderr",
     "output_type": "stream",
     "text": [
      "The following columns in the training set  don't have a corresponding argument in `RobertaForSequenceClassification.forward` and have been ignored: text, Unnamed: 0. If text, Unnamed: 0 are not expected by `RobertaForSequenceClassification.forward`,  you can safely ignore this message.\n",
      "***** Running training *****\n",
      "  Num examples = 1705\n",
      "  Num Epochs = 1\n",
      "  Instantaneous batch size per device = 3\n",
      "  Total train batch size (w. parallel, distributed & accumulation) = 192\n",
      "  Gradient Accumulation steps = 16\n",
      "  Total optimization steps = 8\n"
     ]
    },
    {
     "data": {
      "text/html": [
       "\n",
       "    <div>\n",
       "      \n",
       "      <progress value='9' max='8' style='width:300px; height:20px; vertical-align: middle;'></progress>\n",
       "      [8/8 00:34, Epoch 0.90/1]\n",
       "    </div>\n",
       "    <table border=\"1\" class=\"dataframe\">\n",
       "  <thead>\n",
       " <tr style=\"text-align: left;\">\n",
       "      <th>Epoch</th>\n",
       "      <th>Training Loss</th>\n",
       "      <th>Validation Loss</th>\n",
       "      <th>Accuracy</th>\n",
       "      <th>F1</th>\n",
       "      <th>Precision</th>\n",
       "      <th>Recall</th>\n",
       "    </tr>\n",
       "  </thead>\n",
       "  <tbody>\n",
       "    <tr>\n",
       "      <td>0</td>\n",
       "      <td>0.031000</td>\n",
       "      <td>0.339772</td>\n",
       "      <td>0.922535</td>\n",
       "      <td>0.921581</td>\n",
       "      <td>0.923999</td>\n",
       "      <td>0.920014</td>\n",
       "    </tr>\n",
       "    <tr>\n",
       "      <td>0</td>\n",
       "      <td>0.031000</td>\n",
       "      <td>0.339772</td>\n",
       "      <td>0.922535</td>\n",
       "      <td>0.921581</td>\n",
       "      <td>0.923999</td>\n",
       "      <td>0.920014</td>\n",
       "    </tr>\n",
       "  </tbody>\n",
       "</table><p>"
      ],
      "text/plain": [
       "<IPython.core.display.HTML object>"
      ]
     },
     "metadata": {},
     "output_type": "display_data"
    },
    {
     "name": "stderr",
     "output_type": "stream",
     "text": [
      "The following columns in the evaluation set  don't have a corresponding argument in `RobertaForSequenceClassification.forward` and have been ignored: text, Unnamed: 0. If text, Unnamed: 0 are not expected by `RobertaForSequenceClassification.forward`,  you can safely ignore this message.\n",
      "***** Running Evaluation *****\n",
      "  Num examples = 426\n",
      "  Batch size = 8\n",
      "Saving model checkpoint to /home/csgrad/smaranas/STDA/checkpoint-8\n",
      "Configuration saved in /home/csgrad/smaranas/STDA/checkpoint-8/config.json\n",
      "Model weights saved in /home/csgrad/smaranas/STDA/checkpoint-8/pytorch_model.bin\n"
     ]
    },
    {
     "ename": "RuntimeError",
     "evalue": "[enforce fail at inline_container.cc:300] . unexpected pos 478743040 vs 478742928",
     "output_type": "error",
     "traceback": [
      "\u001b[0;31m---------------------------------------------------------------------------\u001b[0m",
      "\u001b[0;31mKeyboardInterrupt\u001b[0m                         Traceback (most recent call last)",
      "\u001b[0;32m~/.local/lib/python3.6/site-packages/torch/serialization.py\u001b[0m in \u001b[0;36msave\u001b[0;34m(obj, f, pickle_module, pickle_protocol, _use_new_zipfile_serialization)\u001b[0m\n\u001b[1;32m    378\u001b[0m             \u001b[0;32mwith\u001b[0m \u001b[0m_open_zipfile_writer\u001b[0m\u001b[0;34m(\u001b[0m\u001b[0mopened_file\u001b[0m\u001b[0;34m)\u001b[0m \u001b[0;32mas\u001b[0m \u001b[0mopened_zipfile\u001b[0m\u001b[0;34m:\u001b[0m\u001b[0;34m\u001b[0m\u001b[0;34m\u001b[0m\u001b[0m\n\u001b[0;32m--> 379\u001b[0;31m                 \u001b[0m_save\u001b[0m\u001b[0;34m(\u001b[0m\u001b[0mobj\u001b[0m\u001b[0;34m,\u001b[0m \u001b[0mopened_zipfile\u001b[0m\u001b[0;34m,\u001b[0m \u001b[0mpickle_module\u001b[0m\u001b[0;34m,\u001b[0m \u001b[0mpickle_protocol\u001b[0m\u001b[0;34m)\u001b[0m\u001b[0;34m\u001b[0m\u001b[0;34m\u001b[0m\u001b[0m\n\u001b[0m\u001b[1;32m    380\u001b[0m                 \u001b[0;32mreturn\u001b[0m\u001b[0;34m\u001b[0m\u001b[0;34m\u001b[0m\u001b[0m\n",
      "\u001b[0;32m~/.local/lib/python3.6/site-packages/torch/serialization.py\u001b[0m in \u001b[0;36m_save\u001b[0;34m(obj, zip_file, pickle_module, pickle_protocol)\u001b[0m\n\u001b[1;32m    498\u001b[0m         \u001b[0mnum_bytes\u001b[0m \u001b[0;34m=\u001b[0m \u001b[0mstorage\u001b[0m\u001b[0;34m.\u001b[0m\u001b[0msize\u001b[0m\u001b[0;34m(\u001b[0m\u001b[0;34m)\u001b[0m \u001b[0;34m*\u001b[0m \u001b[0mstorage\u001b[0m\u001b[0;34m.\u001b[0m\u001b[0melement_size\u001b[0m\u001b[0;34m(\u001b[0m\u001b[0;34m)\u001b[0m\u001b[0;34m\u001b[0m\u001b[0;34m\u001b[0m\u001b[0m\n\u001b[0;32m--> 499\u001b[0;31m         \u001b[0mzip_file\u001b[0m\u001b[0;34m.\u001b[0m\u001b[0mwrite_record\u001b[0m\u001b[0;34m(\u001b[0m\u001b[0mname\u001b[0m\u001b[0;34m,\u001b[0m \u001b[0mstorage\u001b[0m\u001b[0;34m.\u001b[0m\u001b[0mdata_ptr\u001b[0m\u001b[0;34m(\u001b[0m\u001b[0;34m)\u001b[0m\u001b[0;34m,\u001b[0m \u001b[0mnum_bytes\u001b[0m\u001b[0;34m)\u001b[0m\u001b[0;34m\u001b[0m\u001b[0;34m\u001b[0m\u001b[0m\n\u001b[0m\u001b[1;32m    500\u001b[0m \u001b[0;34m\u001b[0m\u001b[0m\n",
      "\u001b[0;31mKeyboardInterrupt\u001b[0m: ",
      "\nDuring handling of the above exception, another exception occurred:\n",
      "\u001b[0;31mRuntimeError\u001b[0m                              Traceback (most recent call last)",
      "\u001b[0;32m<ipython-input-19-f74be9dacc59>\u001b[0m in \u001b[0;36m<module>\u001b[0;34m\u001b[0m\n\u001b[1;32m      1\u001b[0m \u001b[0;32mfor\u001b[0m \u001b[0mi\u001b[0m \u001b[0;32min\u001b[0m \u001b[0mrange\u001b[0m\u001b[0;34m(\u001b[0m\u001b[0;36m30\u001b[0m\u001b[0;34m)\u001b[0m\u001b[0;34m:\u001b[0m\u001b[0;34m\u001b[0m\u001b[0;34m\u001b[0m\u001b[0m\n\u001b[0;32m----> 2\u001b[0;31m     \u001b[0mtrainer\u001b[0m\u001b[0;34m.\u001b[0m\u001b[0mtrain\u001b[0m\u001b[0;34m(\u001b[0m\u001b[0;34m)\u001b[0m\u001b[0;34m\u001b[0m\u001b[0;34m\u001b[0m\u001b[0m\n\u001b[0m\u001b[1;32m      3\u001b[0m     \u001b[0mtrainer\u001b[0m\u001b[0;34m.\u001b[0m\u001b[0mevaluate\u001b[0m\u001b[0;34m(\u001b[0m\u001b[0;34m)\u001b[0m\u001b[0;34m\u001b[0m\u001b[0;34m\u001b[0m\u001b[0m\n",
      "\u001b[0;32m~/.local/lib/python3.6/site-packages/transformers/trainer.py\u001b[0m in \u001b[0;36mtrain\u001b[0;34m(self, resume_from_checkpoint, trial, ignore_keys_for_eval, **kwargs)\u001b[0m\n\u001b[1;32m   1510\u001b[0m \u001b[0;34m\u001b[0m\u001b[0m\n\u001b[1;32m   1511\u001b[0m             \u001b[0mself\u001b[0m\u001b[0;34m.\u001b[0m\u001b[0mcontrol\u001b[0m \u001b[0;34m=\u001b[0m \u001b[0mself\u001b[0m\u001b[0;34m.\u001b[0m\u001b[0mcallback_handler\u001b[0m\u001b[0;34m.\u001b[0m\u001b[0mon_epoch_end\u001b[0m\u001b[0;34m(\u001b[0m\u001b[0margs\u001b[0m\u001b[0;34m,\u001b[0m \u001b[0mself\u001b[0m\u001b[0;34m.\u001b[0m\u001b[0mstate\u001b[0m\u001b[0;34m,\u001b[0m \u001b[0mself\u001b[0m\u001b[0;34m.\u001b[0m\u001b[0mcontrol\u001b[0m\u001b[0;34m)\u001b[0m\u001b[0;34m\u001b[0m\u001b[0;34m\u001b[0m\u001b[0m\n\u001b[0;32m-> 1512\u001b[0;31m             \u001b[0mself\u001b[0m\u001b[0;34m.\u001b[0m\u001b[0m_maybe_log_save_evaluate\u001b[0m\u001b[0;34m(\u001b[0m\u001b[0mtr_loss\u001b[0m\u001b[0;34m,\u001b[0m \u001b[0mmodel\u001b[0m\u001b[0;34m,\u001b[0m \u001b[0mtrial\u001b[0m\u001b[0;34m,\u001b[0m \u001b[0mepoch\u001b[0m\u001b[0;34m,\u001b[0m \u001b[0mignore_keys_for_eval\u001b[0m\u001b[0;34m)\u001b[0m\u001b[0;34m\u001b[0m\u001b[0;34m\u001b[0m\u001b[0m\n\u001b[0m\u001b[1;32m   1513\u001b[0m \u001b[0;34m\u001b[0m\u001b[0m\n\u001b[1;32m   1514\u001b[0m             \u001b[0;32mif\u001b[0m \u001b[0mDebugOption\u001b[0m\u001b[0;34m.\u001b[0m\u001b[0mTPU_METRICS_DEBUG\u001b[0m \u001b[0;32min\u001b[0m \u001b[0mself\u001b[0m\u001b[0;34m.\u001b[0m\u001b[0margs\u001b[0m\u001b[0;34m.\u001b[0m\u001b[0mdebug\u001b[0m\u001b[0;34m:\u001b[0m\u001b[0;34m\u001b[0m\u001b[0;34m\u001b[0m\u001b[0m\n",
      "\u001b[0;32m~/.local/lib/python3.6/site-packages/transformers/trainer.py\u001b[0m in \u001b[0;36m_maybe_log_save_evaluate\u001b[0;34m(self, tr_loss, model, trial, epoch, ignore_keys_for_eval)\u001b[0m\n\u001b[1;32m   1626\u001b[0m \u001b[0;34m\u001b[0m\u001b[0m\n\u001b[1;32m   1627\u001b[0m         \u001b[0;32mif\u001b[0m \u001b[0mself\u001b[0m\u001b[0;34m.\u001b[0m\u001b[0mcontrol\u001b[0m\u001b[0;34m.\u001b[0m\u001b[0mshould_save\u001b[0m\u001b[0;34m:\u001b[0m\u001b[0;34m\u001b[0m\u001b[0;34m\u001b[0m\u001b[0m\n\u001b[0;32m-> 1628\u001b[0;31m             \u001b[0mself\u001b[0m\u001b[0;34m.\u001b[0m\u001b[0m_save_checkpoint\u001b[0m\u001b[0;34m(\u001b[0m\u001b[0mmodel\u001b[0m\u001b[0;34m,\u001b[0m \u001b[0mtrial\u001b[0m\u001b[0;34m,\u001b[0m \u001b[0mmetrics\u001b[0m\u001b[0;34m=\u001b[0m\u001b[0mmetrics\u001b[0m\u001b[0;34m)\u001b[0m\u001b[0;34m\u001b[0m\u001b[0;34m\u001b[0m\u001b[0m\n\u001b[0m\u001b[1;32m   1629\u001b[0m             \u001b[0mself\u001b[0m\u001b[0;34m.\u001b[0m\u001b[0mcontrol\u001b[0m \u001b[0;34m=\u001b[0m \u001b[0mself\u001b[0m\u001b[0;34m.\u001b[0m\u001b[0mcallback_handler\u001b[0m\u001b[0;34m.\u001b[0m\u001b[0mon_save\u001b[0m\u001b[0;34m(\u001b[0m\u001b[0mself\u001b[0m\u001b[0;34m.\u001b[0m\u001b[0margs\u001b[0m\u001b[0;34m,\u001b[0m \u001b[0mself\u001b[0m\u001b[0;34m.\u001b[0m\u001b[0mstate\u001b[0m\u001b[0;34m,\u001b[0m \u001b[0mself\u001b[0m\u001b[0;34m.\u001b[0m\u001b[0mcontrol\u001b[0m\u001b[0;34m)\u001b[0m\u001b[0;34m\u001b[0m\u001b[0;34m\u001b[0m\u001b[0m\n\u001b[1;32m   1630\u001b[0m \u001b[0;34m\u001b[0m\u001b[0m\n",
      "\u001b[0;32m~/.local/lib/python3.6/site-packages/transformers/trainer.py\u001b[0m in \u001b[0;36m_save_checkpoint\u001b[0;34m(self, model, trial, metrics)\u001b[0m\n\u001b[1;32m   1728\u001b[0m         \u001b[0;32melif\u001b[0m \u001b[0mself\u001b[0m\u001b[0;34m.\u001b[0m\u001b[0margs\u001b[0m\u001b[0;34m.\u001b[0m\u001b[0mshould_save\u001b[0m \u001b[0;32mand\u001b[0m \u001b[0;32mnot\u001b[0m \u001b[0mself\u001b[0m\u001b[0;34m.\u001b[0m\u001b[0mdeepspeed\u001b[0m\u001b[0;34m:\u001b[0m\u001b[0;34m\u001b[0m\u001b[0;34m\u001b[0m\u001b[0m\n\u001b[1;32m   1729\u001b[0m             \u001b[0;31m# deepspeed.save_checkpoint above saves model/optim/sched\u001b[0m\u001b[0;34m\u001b[0m\u001b[0;34m\u001b[0m\u001b[0;34m\u001b[0m\u001b[0m\n\u001b[0;32m-> 1730\u001b[0;31m             \u001b[0mtorch\u001b[0m\u001b[0;34m.\u001b[0m\u001b[0msave\u001b[0m\u001b[0;34m(\u001b[0m\u001b[0mself\u001b[0m\u001b[0;34m.\u001b[0m\u001b[0moptimizer\u001b[0m\u001b[0;34m.\u001b[0m\u001b[0mstate_dict\u001b[0m\u001b[0;34m(\u001b[0m\u001b[0;34m)\u001b[0m\u001b[0;34m,\u001b[0m \u001b[0mos\u001b[0m\u001b[0;34m.\u001b[0m\u001b[0mpath\u001b[0m\u001b[0;34m.\u001b[0m\u001b[0mjoin\u001b[0m\u001b[0;34m(\u001b[0m\u001b[0moutput_dir\u001b[0m\u001b[0;34m,\u001b[0m \u001b[0mOPTIMIZER_NAME\u001b[0m\u001b[0;34m)\u001b[0m\u001b[0;34m)\u001b[0m\u001b[0;34m\u001b[0m\u001b[0;34m\u001b[0m\u001b[0m\n\u001b[0m\u001b[1;32m   1731\u001b[0m             \u001b[0;32mwith\u001b[0m \u001b[0mwarnings\u001b[0m\u001b[0;34m.\u001b[0m\u001b[0mcatch_warnings\u001b[0m\u001b[0;34m(\u001b[0m\u001b[0mrecord\u001b[0m\u001b[0;34m=\u001b[0m\u001b[0;32mTrue\u001b[0m\u001b[0;34m)\u001b[0m \u001b[0;32mas\u001b[0m \u001b[0mcaught_warnings\u001b[0m\u001b[0;34m:\u001b[0m\u001b[0;34m\u001b[0m\u001b[0;34m\u001b[0m\u001b[0m\n\u001b[1;32m   1732\u001b[0m                 \u001b[0mtorch\u001b[0m\u001b[0;34m.\u001b[0m\u001b[0msave\u001b[0m\u001b[0;34m(\u001b[0m\u001b[0mself\u001b[0m\u001b[0;34m.\u001b[0m\u001b[0mlr_scheduler\u001b[0m\u001b[0;34m.\u001b[0m\u001b[0mstate_dict\u001b[0m\u001b[0;34m(\u001b[0m\u001b[0;34m)\u001b[0m\u001b[0;34m,\u001b[0m \u001b[0mos\u001b[0m\u001b[0;34m.\u001b[0m\u001b[0mpath\u001b[0m\u001b[0;34m.\u001b[0m\u001b[0mjoin\u001b[0m\u001b[0;34m(\u001b[0m\u001b[0moutput_dir\u001b[0m\u001b[0;34m,\u001b[0m \u001b[0mSCHEDULER_NAME\u001b[0m\u001b[0;34m)\u001b[0m\u001b[0;34m)\u001b[0m\u001b[0;34m\u001b[0m\u001b[0;34m\u001b[0m\u001b[0m\n",
      "\u001b[0;32m~/.local/lib/python3.6/site-packages/torch/serialization.py\u001b[0m in \u001b[0;36msave\u001b[0;34m(obj, f, pickle_module, pickle_protocol, _use_new_zipfile_serialization)\u001b[0m\n\u001b[1;32m    378\u001b[0m             \u001b[0;32mwith\u001b[0m \u001b[0m_open_zipfile_writer\u001b[0m\u001b[0;34m(\u001b[0m\u001b[0mopened_file\u001b[0m\u001b[0;34m)\u001b[0m \u001b[0;32mas\u001b[0m \u001b[0mopened_zipfile\u001b[0m\u001b[0;34m:\u001b[0m\u001b[0;34m\u001b[0m\u001b[0;34m\u001b[0m\u001b[0m\n\u001b[1;32m    379\u001b[0m                 \u001b[0m_save\u001b[0m\u001b[0;34m(\u001b[0m\u001b[0mobj\u001b[0m\u001b[0;34m,\u001b[0m \u001b[0mopened_zipfile\u001b[0m\u001b[0;34m,\u001b[0m \u001b[0mpickle_module\u001b[0m\u001b[0;34m,\u001b[0m \u001b[0mpickle_protocol\u001b[0m\u001b[0;34m)\u001b[0m\u001b[0;34m\u001b[0m\u001b[0;34m\u001b[0m\u001b[0m\n\u001b[0;32m--> 380\u001b[0;31m                 \u001b[0;32mreturn\u001b[0m\u001b[0;34m\u001b[0m\u001b[0;34m\u001b[0m\u001b[0m\n\u001b[0m\u001b[1;32m    381\u001b[0m         \u001b[0m_legacy_save\u001b[0m\u001b[0;34m(\u001b[0m\u001b[0mobj\u001b[0m\u001b[0;34m,\u001b[0m \u001b[0mopened_file\u001b[0m\u001b[0;34m,\u001b[0m \u001b[0mpickle_module\u001b[0m\u001b[0;34m,\u001b[0m \u001b[0mpickle_protocol\u001b[0m\u001b[0;34m)\u001b[0m\u001b[0;34m\u001b[0m\u001b[0;34m\u001b[0m\u001b[0m\n\u001b[1;32m    382\u001b[0m \u001b[0;34m\u001b[0m\u001b[0m\n",
      "\u001b[0;32m~/.local/lib/python3.6/site-packages/torch/serialization.py\u001b[0m in \u001b[0;36m__exit__\u001b[0;34m(self, *args)\u001b[0m\n\u001b[1;32m    257\u001b[0m \u001b[0;34m\u001b[0m\u001b[0m\n\u001b[1;32m    258\u001b[0m     \u001b[0;32mdef\u001b[0m \u001b[0m__exit__\u001b[0m\u001b[0;34m(\u001b[0m\u001b[0mself\u001b[0m\u001b[0;34m,\u001b[0m \u001b[0;34m*\u001b[0m\u001b[0margs\u001b[0m\u001b[0;34m)\u001b[0m \u001b[0;34m->\u001b[0m \u001b[0;32mNone\u001b[0m\u001b[0;34m:\u001b[0m\u001b[0;34m\u001b[0m\u001b[0;34m\u001b[0m\u001b[0m\n\u001b[0;32m--> 259\u001b[0;31m         \u001b[0mself\u001b[0m\u001b[0;34m.\u001b[0m\u001b[0mfile_like\u001b[0m\u001b[0;34m.\u001b[0m\u001b[0mwrite_end_of_file\u001b[0m\u001b[0;34m(\u001b[0m\u001b[0;34m)\u001b[0m\u001b[0;34m\u001b[0m\u001b[0;34m\u001b[0m\u001b[0m\n\u001b[0m\u001b[1;32m    260\u001b[0m         \u001b[0mself\u001b[0m\u001b[0;34m.\u001b[0m\u001b[0mbuffer\u001b[0m\u001b[0;34m.\u001b[0m\u001b[0mflush\u001b[0m\u001b[0;34m(\u001b[0m\u001b[0;34m)\u001b[0m\u001b[0;34m\u001b[0m\u001b[0;34m\u001b[0m\u001b[0m\n\u001b[1;32m    261\u001b[0m \u001b[0;34m\u001b[0m\u001b[0m\n",
      "\u001b[0;31mRuntimeError\u001b[0m: [enforce fail at inline_container.cc:300] . unexpected pos 478743040 vs 478742928"
     ]
    }
   ],
   "source": [
    "for i in range(30):\n",
    "    trainer.train()\n",
    "    trainer.evaluate()"
   ]
  },
  {
   "cell_type": "code",
   "execution_count": 20,
   "id": "9705b224",
   "metadata": {},
   "outputs": [
    {
     "name": "stderr",
     "output_type": "stream",
     "text": [
      "The following columns in the evaluation set  don't have a corresponding argument in `RobertaForSequenceClassification.forward` and have been ignored: text, Unnamed: 0. If text, Unnamed: 0 are not expected by `RobertaForSequenceClassification.forward`,  you can safely ignore this message.\n",
      "***** Running Evaluation *****\n",
      "  Num examples = 426\n",
      "  Batch size = 8\n"
     ]
    },
    {
     "data": {
      "text/plain": [
       "{'eval_loss': 0.33977213501930237,\n",
       " 'eval_accuracy': 0.9225352112676056,\n",
       " 'eval_f1': 0.9215806590169968,\n",
       " 'eval_precision': 0.9239991028372772,\n",
       " 'eval_recall': 0.9200142196942767}"
      ]
     },
     "execution_count": 20,
     "metadata": {},
     "output_type": "execute_result"
    }
   ],
   "source": [
    "trainer.evaluate()"
   ]
  },
  {
   "cell_type": "code",
   "execution_count": 2,
   "id": "ef85be4f",
   "metadata": {},
   "outputs": [],
   "source": [
    "training_loss = [0.696400,\n",
    "0.774800,\n",
    "0.769300,\n",
    "0.759600,\n",
    "0.721900,\n",
    "0.656700,\n",
    "0.603600,\n",
    "0.585100,\n",
    "0.557800,\n",
    "0.488600,\n",
    "0.437700,\n",
    "0.346100,\n",
    "0.322400,\n",
    "0.289500,\n",
    "0.253200,\n",
    "0.220800,\n",
    "0.194800,\n",
    "0.197900,\n",
    "0.132500,\n",
    "0.121800,\n",
    "0.117700,\n",
    "0.088200,\n",
    "0.107700,\n",
    "0.076800,\n",
    "0.072400,\n",
    "0.102800,\n",
    "0.062300,\n",
    "0.031100,\n",
    "0.067500,\n",
    "0.093400,]"
   ]
  },
  {
   "cell_type": "code",
   "execution_count": 3,
   "id": "adf1305d",
   "metadata": {},
   "outputs": [],
   "source": [
    "validation_loss = [0.689909,\n",
    "0.689351,\n",
    "0.687211,\n",
    "0.671107,\n",
    "0.621342,\n",
    "0.567341,\n",
    "0.539357,\n",
    "0.513712,\n",
    "0.458360,\n",
    "0.416302,\n",
    "0.398005,\n",
    "0.425519,\n",
    "0.422737,\n",
    "0.375140,\n",
    "0.360107,\n",
    "0.347480,\n",
    "0.329412,\n",
    "0.317975,\n",
    "0.341938,\n",
    "0.389673,\n",
    "0.288155,\n",
    "0.322406,\n",
    "0.340263,\n",
    "0.285916,\n",
    "0.486961,\n",
    "0.348469,\n",
    "0.322007,\n",
    "0.508089,\n",
    "0.348094,\n",
    "0.568766,]"
   ]
  },
  {
   "cell_type": "code",
   "execution_count": 4,
   "id": "b2137ea2",
   "metadata": {},
   "outputs": [],
   "source": [
    "accuracy = [0.544601,\n",
    "0.697183,\n",
    "0.464789,\n",
    "0.507042,\n",
    "0.629108,\n",
    "0.753521,\n",
    "0.755869,\n",
    "0.755869,\n",
    "0.748826,\n",
    "0.755869,\n",
    "0.816901,\n",
    "0.833333,\n",
    "0.823944,\n",
    "0.861502,\n",
    "0.880282,\n",
    "0.884977,\n",
    "0.894366,\n",
    "0.922535,\n",
    "0.908451,\n",
    "0.908451,\n",
    "0.924883,\n",
    "0.908451,\n",
    "0.915493,\n",
    "0.927230,\n",
    "0.875587,\n",
    "0.920188,\n",
    "0.929577,\n",
    "0.882629,\n",
    "0.920188,\n",
    "0.894366,]"
   ]
  },
  {
   "cell_type": "code",
   "execution_count": 5,
   "id": "f1d157e9",
   "metadata": {},
   "outputs": [],
   "source": [
    "f1 = [0.352584,\n",
    "0.664479,\n",
    "0.406018,\n",
    "0.464555,\n",
    "0.625109,\n",
    "0.731891,\n",
    "0.734827,\n",
    "0.734827,\n",
    "0.719852,\n",
    "0.730799,\n",
    "0.814132,\n",
    "0.833259,\n",
    "0.821774,\n",
    "0.860450,\n",
    "0.880202,\n",
    "0.883168,\n",
    "0.893065,\n",
    "0.922123,\n",
    "0.907755,\n",
    "0.908268,\n",
    "0.924145,\n",
    "0.906782,\n",
    "0.915126,\n",
    "0.926791,\n",
    "0.870920,\n",
    "0.919327,\n",
    "0.929226,\n",
    "0.879178,\n",
    "0.919073,\n",
    "0.894319,]"
   ]
  },
  {
   "cell_type": "code",
   "execution_count": 6,
   "id": "1616a2c2",
   "metadata": {},
   "outputs": [],
   "source": [
    "precision = [0.272300,\n",
    "0.742888,\n",
    "0.493443,\n",
    "0.562961,\n",
    "0.655942,\n",
    "0.801244,\n",
    "0.802804,\n",
    "0.802804,\n",
    "0.823358,\n",
    "0.819354,\n",
    "0.817615,\n",
    "0.836168,\n",
    "0.823674,\n",
    "0.860306,\n",
    "0.882496,\n",
    "0.887737,\n",
    "0.895335,\n",
    "0.921360,\n",
    "0.907592,\n",
    "0.908451,\n",
    "0.925022,\n",
    "0.913660,\n",
    "0.914348,\n",
    "0.926140,\n",
    "0.896171,\n",
    "0.920749,\n",
    "0.928417,\n",
    "0.896053,\n",
    "0.922649,\n",
    "0.897336,]"
   ]
  },
  {
   "cell_type": "code",
   "execution_count": 7,
   "id": "7f212c84",
   "metadata": {},
   "outputs": [],
   "source": [
    "recall = [0.500000,\n",
    "0.674702,\n",
    "0.496801,\n",
    "0.536438,\n",
    "0.643441,\n",
    "0.734025,\n",
    "0.736602,\n",
    "0.736602,\n",
    "0.725915,\n",
    "0.734492,\n",
    "0.812478,\n",
    "0.838118,\n",
    "0.820632,\n",
    "0.860603,\n",
    "0.885020,\n",
    "0.880888,\n",
    "0.891619,\n",
    "0.923391,\n",
    "0.907927,\n",
    "0.911727,\n",
    "0.923436,\n",
    "0.903706,\n",
    "0.916926,\n",
    "0.927702,\n",
    "0.865513,\n",
    "0.918281,\n",
    "0.930701,\n",
    "0.874511,\n",
    "0.917015,\n",
    "0.899640,]"
   ]
  },
  {
   "cell_type": "code",
   "execution_count": 8,
   "id": "13279cf5",
   "metadata": {},
   "outputs": [],
   "source": [
    "epoch = range(1,31)"
   ]
  },
  {
   "cell_type": "code",
   "execution_count": 9,
   "id": "71c5f44a",
   "metadata": {},
   "outputs": [],
   "source": [
    "import matplotlib.pyplot as plt"
   ]
  },
  {
   "cell_type": "code",
   "execution_count": 14,
   "id": "f51e8992",
   "metadata": {},
   "outputs": [
    {
     "data": {
      "image/png": "[encoded data removed]",
      "text/plain": [
       "<Figure size 432x288 with 1 Axes>"
      ]
     },
     "metadata": {
      "needs_background": "light"
     },
     "output_type": "display_data"
    }
   ],
   "source": [
    "plt.plot(epoch, training_loss, label='training_loss')\n",
    "plt.plot(epoch, validation_loss, label='validation_loss')\n",
    "plt.plot(epoch, accuracy, label='accuracy')\n",
    "plt.plot(epoch, f1, label='f1')\n",
    "plt.plot(epoch, precision, label='precision')\n",
    "plt.plot(epoch, recall, label='recall')\n",
    "\n",
    "plt.xlabel('epoch')\n",
    "plt.legend()\n",
    "plt.title('training stats')\n",
    "plt.savefig('training_stats.png')"
   ]
  },
  {
   "cell_type": "code",
   "execution_count": null,
   "id": "ac60c047",
   "metadata": {},
   "outputs": [],
   "source": [
    "# plt.plot(X, y, color='r', label='sin')\n",
    "# plt.plot(X, z, color='g', label='cos')\n",
    "  \n",
    "# # Naming the x-axis, y-axis and the whole graph\n",
    "# plt.xlabel(\"Angle\")\n",
    "# plt.ylabel(\"Magnitude\")\n",
    "# plt.title(\"Sine and Cosine functions\")"
   ]
  }
 ],
 "metadata": {
  "kernelspec": {
   "display_name": "Python 3 (ipykernel)",
   "language": "python",
   "name": "python3"
  },
  "language_info": {
   "codemirror_mode": {
    "name": "ipython",
    "version": 3
   },
   "file_extension": ".py",
   "mimetype": "text/x-python",
   "name": "python",
   "nbconvert_exporter": "python",
   "pygments_lexer": "ipython3",
   "version": "3.8.0"
  }
 },
 "nbformat": 4,
 "nbformat_minor": 5
}
