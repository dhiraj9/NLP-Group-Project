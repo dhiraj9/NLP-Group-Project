{
  "cells": [
    {
      "cell_type": "code",
      "execution_count": 1,
      "metadata": {
        "id": "XsGEPOCgl3It"
      },
      "outputs": [],
      "source": [
        "import pandas as pd\n",
        "import numpy as np\n",
        "from sklearn.model_selection import train_test_split"
      ]
    },
    {
      "attachments": {},
      "cell_type": "markdown",
      "metadata": {
        "id": "iinACgVCl7zX"
      },
      "source": [
        "#Load Dataset"
      ]
    },
    {
      "cell_type": "code",
      "execution_count": 2,
      "metadata": {
        "id": "9gOsIi_ml5sl"
      },
      "outputs": [],
      "source": [
        "ctrl = pd.read_csv('new_ctrl.csv').astype(str)\n",
        "gpt = pd.read_csv('new_gpt.csv').astype(str)\n",
        "gpt2 = pd.read_csv('new_gpt2.csv').astype(str)\n",
        "gpt3 = pd.read_csv('new_gpt3.csv').astype(str)\n",
        "instructgpt = pd.read_csv('new_instructgpt.csv').astype(str)\n",
        "grover = pd.read_csv('new_grover.csv').astype(str)\n",
        "xlm = pd.read_csv('new_xlm.csv').astype(str)\n",
        "xlnet = pd.read_csv('new_xlnet.csv').astype(str)\n",
        "\n",
        "pplm = pd.read_csv('new_pplm.csv').astype(str)\n",
        "human = pd.read_csv('new_human.csv').astype(str)\n",
        "fair = pd.read_csv('new_fair.csv').astype(str)"
      ]
    },
    {
      "cell_type": "code",
      "execution_count": 3,
      "metadata": {
        "colab": {
          "base_uri": "https://localhost:8080/"
        },
        "id": "x1zYqxzjmAiV",
        "outputId": "51aa5b22-47ef-4a8a-b1b8-5221049c633f"
      },
      "outputs": [
        {
          "data": {
            "text/plain": [
              "Index(['Unnamed: 0', 'Generation', 'label'], dtype='object')"
            ]
          },
          "execution_count": 3,
          "metadata": {},
          "output_type": "execute_result"
        }
      ],
      "source": [
        "ctrl.columns"
      ]
    },
    {
      "attachments": {},
      "cell_type": "markdown",
      "metadata": {
        "id": "DHnVLDhAmc-R"
      },
      "source": [
        "#Data Preparation"
      ]
    },
    {
      "cell_type": "code",
      "execution_count": 4,
      "metadata": {
        "id": "kPbqqUVNmfmK"
      },
      "outputs": [],
      "source": [
        "random_binary_t2 = pd.concat([human.sample(1066), ctrl.sample(1066), gpt.sample(1066), gpt2.sample(1066), gpt3.sample(1066), instructgpt.sample(1066), grover.sample(1066), \n",
        "                              xlm.sample(1066), xlnet.sample(1066), pplm.sample(1066), fair.sample(1066), ctrl.sample(1066), \n",
        "                              gpt.sample(1066), gpt2.sample(1066), gpt3.sample(1066), instructgpt.sample(1066), grover.sample(1066), xlm.sample(1066), xlnet.sample(1066), \n",
        "                              pplm.sample(1066), fair.sample(1066), human.sample(1066), ctrl.sample(1066), human.sample(1066), \n",
        "                              gpt2.sample(1066), gpt3.sample(1066), instructgpt.sample(1066), gpt.sample(1066), grover.sample(1066), xlm.sample(1066), xlnet.sample(1066), \n",
        "                              pplm.sample(1066), fair.sample(1066), human.sample(1066), ctrl.sample(1066), gpt.sample(1066), \n",
        "                              gpt2.sample(1066), gpt3.sample(1066), instructgpt.sample(1066), grover.sample(1066), xlm.sample(1066), xlnet.sample(1066), pplm.sample(1066), \n",
        "                              fair.sample(1066), human.sample(1066), ctrl.sample(1066), gpt.sample(1066), gpt2.sample(1066), gpt3.sample(1066), instructgpt.sample(1066), \n",
        "                              grover.sample(1066), xlm.sample(1066), xlnet.sample(1066), pplm.sample(1066), fair.sample(1066), \n",
        "                              human.sample(1066), ctrl.sample(1066), gpt.sample(1066), gpt2.sample(1066), gpt3.sample(1066), instructgpt.sample(1066), grover.sample(1066), \n",
        "                              xlm.sample(1066), xlnet.sample(1066), pplm.sample(1066), fair.sample(1066), human.sample(1066), \n",
        "                              ctrl.sample(1066), gpt.sample(1066), gpt2.sample(1066), gpt3.sample(1066), instructgpt.sample(1066), grover.sample(1066), xlm.sample(1066), xlnet.sample(1066), \n",
        "                              pplm.sample(1066), fair.sample(1066), human.sample(1066), ctrl.sample(1066), \n",
        "                          gpt.sample(1066), gpt2.sample(1066), gpt3.sample(1066), instructgpt.sample(1066), grover.sample(1066), xlm.sample(1066), xlnet.sample(1066), pplm.sample(1066), \n",
        "                              fair.sample(1066), human.sample(1066), ctrl.sample(1066), gpt.sample(1066), gpt2.sample(1066), gpt3.sample(1066), instructgpt.sample(1066), \n",
        "                              grover.sample(1066), xlm.sample(1066), xlnet.sample(1066), pplm.sample(1066), fair.sample(1066), ctrl.sample(1066), gpt.sample(1066), gpt2.sample(1066), gpt3.sample(1066), instructgpt.sample(1066), grover.sample(1066), \n",
        "                              xlm.sample(1066), xlnet.sample(1066), pplm.sample(1066), fair.sample(1066), human.sample(1066), ctrl.sample(1066), gpt.sample(1066), gpt2.sample(1066), gpt3.sample(1066), instructgpt.sample(1066), grover.sample(1066), \n",
        "                              xlm.sample(1066), xlnet.sample(1066), pplm.sample(1066), fair.sample(1066), human.sample(1066)])"
      ]
    },
    {
      "cell_type": "code",
      "execution_count": 5,
      "metadata": {
        "id": "OBXKSI_smiVG"
      },
      "outputs": [],
      "source": [
        "random_binary_t1 = pd.concat([human,human, human, human, human, human, human, human, human, human, human, ctrl, ctrl, ctrl, ctrl, ctrl, ctrl,\n",
        "                             ctrl, ctrl, ctrl, ctrl, ctrl, gpt, gpt, gpt, gpt, gpt, gpt, gpt, gpt, gpt, gpt, gpt, gpt2, gpt2, gpt2, gpt2, gpt2, gpt2,\n",
        "                             gpt2, gpt2, gpt2, gpt2, gpt2, gpt3, gpt3, gpt3, gpt3, gpt3, gpt3, gpt3, gpt3, gpt3, gpt3, gpt3, instructgpt, instructgpt, instructgpt, instructgpt, instructgpt, instructgpt, instructgpt, instructgpt, instructgpt, instructgpt, instructgpt, grover, grover, grover, grover, grover, grover, grover, grover, grover, grover, grover, xlm, xlm, \n",
        "                             xlm, xlm, xlm, xlm, xlm, xlm, xlm, xlm, xlm, xlnet, xlnet, xlnet, xlnet, xlnet, xlnet, xlnet, xlnet, xlnet, xlnet, xlnet, \n",
        "                             pplm, pplm, pplm, pplm, pplm, pplm, pplm, pplm, pplm, pplm, pplm, fair, fair, fair, fair, fair, fair, fair, fair, fair, fair, fair])"
      ]
    },
    {
      "cell_type": "code",
      "execution_count": 6,
      "metadata": {
        "colab": {
          "base_uri": "https://localhost:8080/"
        },
        "id": "SvcGXOJ-ml0h",
        "outputId": "2f53702b-992e-4687-816d-2e2ced79e6af"
      },
      "outputs": [
        {
          "data": {
            "text/plain": [
              "True"
            ]
          },
          "execution_count": 6,
          "metadata": {},
          "output_type": "execute_result"
        }
      ],
      "source": [
        "len(random_binary_t1) == len(random_binary_t2)"
      ]
    },
    {
      "cell_type": "code",
      "execution_count": 7,
      "metadata": {
        "colab": {
          "base_uri": "https://localhost:8080/"
        },
        "id": "SVWZJLyAmnq9",
        "outputId": "33b63481-6ced-4903-c0b1-e28e03573fe3"
      },
      "outputs": [
        {
          "data": {
            "text/plain": [
              "128986"
            ]
          },
          "execution_count": 7,
          "metadata": {},
          "output_type": "execute_result"
        }
      ],
      "source": [
        "len(random_binary_t1)"
      ]
    },
    {
      "cell_type": "code",
      "execution_count": 8,
      "metadata": {
        "colab": {
          "base_uri": "https://localhost:8080/",
          "height": 206
        },
        "id": "9aZf8IWomqgO",
        "outputId": "78de7bc1-a10c-4e73-fc97-e7ef8696cc9f"
      },
      "outputs": [
        {
          "data": {
            "text/html": [
              "\n",
              "  <div id=\"df-8e11ecb8-883a-4c89-9983-fdbd820e5770\">\n",
              "    <div class=\"colab-df-container\">\n",
              "      <div>\n",
              "<style scoped>\n",
              "    .dataframe tbody tr th:only-of-type {\n",
              "        vertical-align: middle;\n",
              "    }\n",
              "\n",
              "    .dataframe tbody tr th {\n",
              "        vertical-align: top;\n",
              "    }\n",
              "\n",
              "    .dataframe thead th {\n",
              "        text-align: right;\n",
              "    }\n",
              "</style>\n",
              "<table border=\"1\" class=\"dataframe\">\n",
              "  <thead>\n",
              "    <tr style=\"text-align: right;\">\n",
              "      <th></th>\n",
              "      <th>Unnamed: 0</th>\n",
              "      <th>Generation</th>\n",
              "      <th>label</th>\n",
              "    </tr>\n",
              "  </thead>\n",
              "  <tbody>\n",
              "    <tr>\n",
              "      <th>307</th>\n",
              "      <td>307</td>\n",
              "      <td>Dunkin' has a plan for better coffee new york ...</td>\n",
              "      <td>human</td>\n",
              "    </tr>\n",
              "    <tr>\n",
              "      <th>937</th>\n",
              "      <td>937</td>\n",
              "      <td>Explainers three reasons why the uk might not ...</td>\n",
              "      <td>human</td>\n",
              "    </tr>\n",
              "    <tr>\n",
              "      <th>67</th>\n",
              "      <td>67</td>\n",
              "      <td>Explore Chernobyl's exclusion zone in 360Â° ch...</td>\n",
              "      <td>human</td>\n",
              "    </tr>\n",
              "    <tr>\n",
              "      <th>775</th>\n",
              "      <td>775</td>\n",
              "      <td>Trump's America: Cartoon views from around the...</td>\n",
              "      <td>human</td>\n",
              "    </tr>\n",
              "    <tr>\n",
              "      <th>835</th>\n",
              "      <td>835</td>\n",
              "      <td>News Quiz: Coronavirus, Joe Biden, Oil Prices ...</td>\n",
              "      <td>human</td>\n",
              "    </tr>\n",
              "  </tbody>\n",
              "</table>\n",
              "</div>\n",
              "      <button class=\"colab-df-convert\" onclick=\"convertToInteractive('df-8e11ecb8-883a-4c89-9983-fdbd820e5770')\"\n",
              "              title=\"Convert this dataframe to an interactive table.\"\n",
              "              style=\"display:none;\">\n",
              "        \n",
              "  <svg xmlns=\"http://www.w3.org/2000/svg\" height=\"24px\"viewBox=\"0 0 24 24\"\n",
              "       width=\"24px\">\n",
              "    <path d=\"M0 0h24v24H0V0z\" fill=\"none\"/>\n",
              "    <path d=\"M18.56 5.44l.94 2.06.94-2.06 2.06-.94-2.06-.94-.94-2.06-.94 2.06-2.06.94zm-11 1L8.5 8.5l.94-2.06 2.06-.94-2.06-.94L8.5 2.5l-.94 2.06-2.06.94zm10 10l.94 2.06.94-2.06 2.06-.94-2.06-.94-.94-2.06-.94 2.06-2.06.94z\"/><path d=\"M17.41 7.96l-1.37-1.37c-.4-.4-.92-.59-1.43-.59-.52 0-1.04.2-1.43.59L10.3 9.45l-7.72 7.72c-.78.78-.78 2.05 0 2.83L4 21.41c.39.39.9.59 1.41.59.51 0 1.02-.2 1.41-.59l7.78-7.78 2.81-2.81c.8-.78.8-2.07 0-2.86zM5.41 20L4 18.59l7.72-7.72 1.47 1.35L5.41 20z\"/>\n",
              "  </svg>\n",
              "      </button>\n",
              "      \n",
              "  <style>\n",
              "    .colab-df-container {\n",
              "      display:flex;\n",
              "      flex-wrap:wrap;\n",
              "      gap: 12px;\n",
              "    }\n",
              "\n",
              "    .colab-df-convert {\n",
              "      background-color: #E8F0FE;\n",
              "      border: none;\n",
              "      border-radius: 50%;\n",
              "      cursor: pointer;\n",
              "      display: none;\n",
              "      fill: #1967D2;\n",
              "      height: 32px;\n",
              "      padding: 0 0 0 0;\n",
              "      width: 32px;\n",
              "    }\n",
              "\n",
              "    .colab-df-convert:hover {\n",
              "      background-color: #E2EBFA;\n",
              "      box-shadow: 0px 1px 2px rgba(60, 64, 67, 0.3), 0px 1px 3px 1px rgba(60, 64, 67, 0.15);\n",
              "      fill: #174EA6;\n",
              "    }\n",
              "\n",
              "    [theme=dark] .colab-df-convert {\n",
              "      background-color: #3B4455;\n",
              "      fill: #D2E3FC;\n",
              "    }\n",
              "\n",
              "    [theme=dark] .colab-df-convert:hover {\n",
              "      background-color: #434B5C;\n",
              "      box-shadow: 0px 1px 3px 1px rgba(0, 0, 0, 0.15);\n",
              "      filter: drop-shadow(0px 1px 2px rgba(0, 0, 0, 0.3));\n",
              "      fill: #FFFFFF;\n",
              "    }\n",
              "  </style>\n",
              "\n",
              "      <script>\n",
              "        const buttonEl =\n",
              "          document.querySelector('#df-8e11ecb8-883a-4c89-9983-fdbd820e5770 button.colab-df-convert');\n",
              "        buttonEl.style.display =\n",
              "          google.colab.kernel.accessAllowed ? 'block' : 'none';\n",
              "\n",
              "        async function convertToInteractive(key) {\n",
              "          const element = document.querySelector('#df-8e11ecb8-883a-4c89-9983-fdbd820e5770');\n",
              "          const dataTable =\n",
              "            await google.colab.kernel.invokeFunction('convertToInteractive',\n",
              "                                                     [key], {});\n",
              "          if (!dataTable) return;\n",
              "\n",
              "          const docLinkHtml = 'Like what you see? Visit the ' +\n",
              "            '<a target=\"_blank\" href=https://colab.research.google.com/notebooks/data_table.ipynb>data table notebook</a>'\n",
              "            + ' to learn more about interactive tables.';\n",
              "          element.innerHTML = '';\n",
              "          dataTable['output_type'] = 'display_data';\n",
              "          await google.colab.output.renderOutput(dataTable, element);\n",
              "          const docLink = document.createElement('div');\n",
              "          docLink.innerHTML = docLinkHtml;\n",
              "          element.appendChild(docLink);\n",
              "        }\n",
              "      </script>\n",
              "    </div>\n",
              "  </div>\n",
              "  "
            ],
            "text/plain": [
              "     Unnamed: 0                                         Generation  label\n",
              "307         307  Dunkin' has a plan for better coffee new york ...  human\n",
              "937         937  Explainers three reasons why the uk might not ...  human\n",
              "67           67  Explore Chernobyl's exclusion zone in 360Â° ch...  human\n",
              "775         775  Trump's America: Cartoon views from around the...  human\n",
              "835         835  News Quiz: Coronavirus, Joe Biden, Oil Prices ...  human"
            ]
          },
          "execution_count": 8,
          "metadata": {},
          "output_type": "execute_result"
        }
      ],
      "source": [
        "random_binary_t2.head()"
      ]
    },
    {
      "cell_type": "code",
      "execution_count": 9,
      "metadata": {
        "id": "NrWIDJNkmza7"
      },
      "outputs": [],
      "source": [
        "new_label = [np.ones(len(human)), \n",
        "             np.zeros(10 * 1066), \n",
        "             np.ones(len(ctrl)), \n",
        "             np.zeros(13 * 1066), \n",
        "             np.ones(len(gpt)), \n",
        "             np.zeros(10 * 1066),\n",
        "             np.ones(len(gpt2)),\n",
        "             np.zeros(11 * 1066),\n",
        "             np.ones(len(gpt3)),\n",
        "             np.zeros(11 * 1066),\n",
        "             np.ones(len(instructgpt)),\n",
        "             np.zeros(11 * 1066),\n",
        "             np.ones(len(grover)),\n",
        "             np.zeros(11 * 1066),\n",
        "             np.ones(len(xlm)),\n",
        "             np.zeros(11 * 1066),\n",
        "             np.ones(len(xlnet)),\n",
        "             np.zeros(11 * 1066),\n",
        "             np.ones(len(pplm)),\n",
        "             np.zeros(11 * 1066),\n",
        "             np.ones(len(fair))\n",
        "            ]"
      ]
    },
    {
      "cell_type": "code",
      "execution_count": 10,
      "metadata": {
        "id": "Qj0rkVPQm1oc"
      },
      "outputs": [],
      "source": [
        "flat_list = [item for sublist in new_label for item in sublist]"
      ]
    },
    {
      "cell_type": "code",
      "execution_count": 11,
      "metadata": {
        "colab": {
          "base_uri": "https://localhost:8080/"
        },
        "id": "gj_ZN08Im3hL",
        "outputId": "617a7e50-c028-44ce-8ee0-eb73346ccc01"
      },
      "outputs": [
        {
          "data": {
            "text/plain": [
              "128986"
            ]
          },
          "execution_count": 11,
          "metadata": {},
          "output_type": "execute_result"
        }
      ],
      "source": [
        "len(flat_list)"
      ]
    },
    {
      "cell_type": "code",
      "execution_count": 12,
      "metadata": {
        "colab": {
          "base_uri": "https://localhost:8080/"
        },
        "id": "oTpRT_O0m47K",
        "outputId": "3b75c0b4-4e9d-46f6-f96c-42b8805c12c8"
      },
      "outputs": [
        {
          "data": {
            "text/plain": [
              "128986"
            ]
          },
          "execution_count": 12,
          "metadata": {},
          "output_type": "execute_result"
        }
      ],
      "source": [
        "len(random_binary_t1)"
      ]
    },
    {
      "cell_type": "code",
      "execution_count": 13,
      "metadata": {
        "colab": {
          "base_uri": "https://localhost:8080/"
        },
        "id": "9BEsS44fm7Az",
        "outputId": "32934849-67f4-493d-8198-d1454e3db3ca"
      },
      "outputs": [
        {
          "data": {
            "text/plain": [
              "128986"
            ]
          },
          "execution_count": 13,
          "metadata": {},
          "output_type": "execute_result"
        }
      ],
      "source": [
        "len(random_binary_t2)"
      ]
    },
    {
      "cell_type": "code",
      "execution_count": 14,
      "metadata": {
        "id": "agnfOTJ1m8is"
      },
      "outputs": [],
      "source": [
        "binary_random = pd.DataFrame({'T1': list(random_binary_t1['Generation']), 'T2': list(random_binary_t2['Generation']), 'class': flat_list})"
      ]
    },
    {
      "cell_type": "code",
      "execution_count": 15,
      "metadata": {
        "id": "zRbUd_kDm-Nl"
      },
      "outputs": [],
      "source": [
        "binary_random.to_csv('binary_random.csv')"
      ]
    },
    {
      "attachments": {},
      "cell_type": "markdown",
      "metadata": {
        "id": "wPFeKBzIv377"
      },
      "source": [
        "#Create A Balanced Dataset"
      ]
    },
    {
      "cell_type": "code",
      "execution_count": 16,
      "metadata": {
        "id": "T3jx-NnBv8Wm"
      },
      "outputs": [],
      "source": [
        "balance_T1 = pd.concat([human.sample(1066), ctrl.sample(106), pplm.sample(106), gpt.sample(106), gpt2.sample(106), gpt3.sample(107), instructgpt.sample(107), grover.sample(107), \n",
        "                     xlm.sample(107), xlnet.sample(107), fair.sample(107), \n",
        "                       ctrl.sample(106), pplm.sample(106), gpt.sample(106), gpt2.sample(106), gpt3.sample(107), instructgpt.sample(107), grover.sample(107), \n",
        "                     xlm.sample(107), xlnet.sample(107), fair.sample(107), human.sample(1066)])\n",
        "balance_T2 = pd.concat([human, human, ctrl.sample(106), pplm.sample(106), gpt.sample(106), gpt2.sample(106), gpt3.sample(107), instructgpt.sample(107), grover.sample(107), \n",
        "                     xlm.sample(107), xlnet.sample(107), fair.sample(107), \n",
        "                       ctrl.sample(106), pplm.sample(106), gpt.sample(106), gpt2.sample(106), gpt3.sample(107), instructgpt.sample(107), grover.sample(107), \n",
        "                     xlm.sample(107), xlnet.sample(107), fair.sample(107)])"
      ]
    },
    {
      "cell_type": "code",
      "execution_count": 17,
      "metadata": {
        "colab": {
          "base_uri": "https://localhost:8080/",
          "height": 206
        },
        "id": "oM7eZJ--v-6G",
        "outputId": "3e8d4b83-2e0e-488a-9d51-c655a82477b2"
      },
      "outputs": [
        {
          "data": {
            "text/html": [
              "\n",
              "  <div id=\"df-cd7ae5ae-0b00-4bc3-bbea-851d26d37af9\">\n",
              "    <div class=\"colab-df-container\">\n",
              "      <div>\n",
              "<style scoped>\n",
              "    .dataframe tbody tr th:only-of-type {\n",
              "        vertical-align: middle;\n",
              "    }\n",
              "\n",
              "    .dataframe tbody tr th {\n",
              "        vertical-align: top;\n",
              "    }\n",
              "\n",
              "    .dataframe thead th {\n",
              "        text-align: right;\n",
              "    }\n",
              "</style>\n",
              "<table border=\"1\" class=\"dataframe\">\n",
              "  <thead>\n",
              "    <tr style=\"text-align: right;\">\n",
              "      <th></th>\n",
              "      <th>Unnamed: 0</th>\n",
              "      <th>Generation</th>\n",
              "      <th>label</th>\n",
              "    </tr>\n",
              "  </thead>\n",
              "  <tbody>\n",
              "    <tr>\n",
              "      <th>0</th>\n",
              "      <td>0</td>\n",
              "      <td>Latest Headlines on CNN Business the great shu...</td>\n",
              "      <td>human</td>\n",
              "    </tr>\n",
              "    <tr>\n",
              "      <th>1</th>\n",
              "      <td>1</td>\n",
              "      <td>China wants to take a victory lap over its han...</td>\n",
              "      <td>human</td>\n",
              "    </tr>\n",
              "    <tr>\n",
              "      <th>2</th>\n",
              "      <td>2</td>\n",
              "      <td>Coronavirus disinformation creates challenges ...</td>\n",
              "      <td>human</td>\n",
              "    </tr>\n",
              "    <tr>\n",
              "      <th>3</th>\n",
              "      <td>3</td>\n",
              "      <td>China coronavirus: Eating wild animals made il...</td>\n",
              "      <td>human</td>\n",
              "    </tr>\n",
              "    <tr>\n",
              "      <th>4</th>\n",
              "      <td>4</td>\n",
              "      <td>China's economy could shrink for the first tim...</td>\n",
              "      <td>human</td>\n",
              "    </tr>\n",
              "  </tbody>\n",
              "</table>\n",
              "</div>\n",
              "      <button class=\"colab-df-convert\" onclick=\"convertToInteractive('df-cd7ae5ae-0b00-4bc3-bbea-851d26d37af9')\"\n",
              "              title=\"Convert this dataframe to an interactive table.\"\n",
              "              style=\"display:none;\">\n",
              "        \n",
              "  <svg xmlns=\"http://www.w3.org/2000/svg\" height=\"24px\"viewBox=\"0 0 24 24\"\n",
              "       width=\"24px\">\n",
              "    <path d=\"M0 0h24v24H0V0z\" fill=\"none\"/>\n",
              "    <path d=\"M18.56 5.44l.94 2.06.94-2.06 2.06-.94-2.06-.94-.94-2.06-.94 2.06-2.06.94zm-11 1L8.5 8.5l.94-2.06 2.06-.94-2.06-.94L8.5 2.5l-.94 2.06-2.06.94zm10 10l.94 2.06.94-2.06 2.06-.94-2.06-.94-.94-2.06-.94 2.06-2.06.94z\"/><path d=\"M17.41 7.96l-1.37-1.37c-.4-.4-.92-.59-1.43-.59-.52 0-1.04.2-1.43.59L10.3 9.45l-7.72 7.72c-.78.78-.78 2.05 0 2.83L4 21.41c.39.39.9.59 1.41.59.51 0 1.02-.2 1.41-.59l7.78-7.78 2.81-2.81c.8-.78.8-2.07 0-2.86zM5.41 20L4 18.59l7.72-7.72 1.47 1.35L5.41 20z\"/>\n",
              "  </svg>\n",
              "      </button>\n",
              "      \n",
              "  <style>\n",
              "    .colab-df-container {\n",
              "      display:flex;\n",
              "      flex-wrap:wrap;\n",
              "      gap: 12px;\n",
              "    }\n",
              "\n",
              "    .colab-df-convert {\n",
              "      background-color: #E8F0FE;\n",
              "      border: none;\n",
              "      border-radius: 50%;\n",
              "      cursor: pointer;\n",
              "      display: none;\n",
              "      fill: #1967D2;\n",
              "      height: 32px;\n",
              "      padding: 0 0 0 0;\n",
              "      width: 32px;\n",
              "    }\n",
              "\n",
              "    .colab-df-convert:hover {\n",
              "      background-color: #E2EBFA;\n",
              "      box-shadow: 0px 1px 2px rgba(60, 64, 67, 0.3), 0px 1px 3px 1px rgba(60, 64, 67, 0.15);\n",
              "      fill: #174EA6;\n",
              "    }\n",
              "\n",
              "    [theme=dark] .colab-df-convert {\n",
              "      background-color: #3B4455;\n",
              "      fill: #D2E3FC;\n",
              "    }\n",
              "\n",
              "    [theme=dark] .colab-df-convert:hover {\n",
              "      background-color: #434B5C;\n",
              "      box-shadow: 0px 1px 3px 1px rgba(0, 0, 0, 0.15);\n",
              "      filter: drop-shadow(0px 1px 2px rgba(0, 0, 0, 0.3));\n",
              "      fill: #FFFFFF;\n",
              "    }\n",
              "  </style>\n",
              "\n",
              "      <script>\n",
              "        const buttonEl =\n",
              "          document.querySelector('#df-cd7ae5ae-0b00-4bc3-bbea-851d26d37af9 button.colab-df-convert');\n",
              "        buttonEl.style.display =\n",
              "          google.colab.kernel.accessAllowed ? 'block' : 'none';\n",
              "\n",
              "        async function convertToInteractive(key) {\n",
              "          const element = document.querySelector('#df-cd7ae5ae-0b00-4bc3-bbea-851d26d37af9');\n",
              "          const dataTable =\n",
              "            await google.colab.kernel.invokeFunction('convertToInteractive',\n",
              "                                                     [key], {});\n",
              "          if (!dataTable) return;\n",
              "\n",
              "          const docLinkHtml = 'Like what you see? Visit the ' +\n",
              "            '<a target=\"_blank\" href=https://colab.research.google.com/notebooks/data_table.ipynb>data table notebook</a>'\n",
              "            + ' to learn more about interactive tables.';\n",
              "          element.innerHTML = '';\n",
              "          dataTable['output_type'] = 'display_data';\n",
              "          await google.colab.output.renderOutput(dataTable, element);\n",
              "          const docLink = document.createElement('div');\n",
              "          docLink.innerHTML = docLinkHtml;\n",
              "          element.appendChild(docLink);\n",
              "        }\n",
              "      </script>\n",
              "    </div>\n",
              "  </div>\n",
              "  "
            ],
            "text/plain": [
              "   Unnamed: 0                                         Generation  label\n",
              "0           0  Latest Headlines on CNN Business the great shu...  human\n",
              "1           1  China wants to take a victory lap over its han...  human\n",
              "2           2  Coronavirus disinformation creates challenges ...  human\n",
              "3           3  China coronavirus: Eating wild animals made il...  human\n",
              "4           4  China's economy could shrink for the first tim...  human"
            ]
          },
          "execution_count": 17,
          "metadata": {},
          "output_type": "execute_result"
        }
      ],
      "source": [
        "balance_T2.head()"
      ]
    },
    {
      "cell_type": "code",
      "execution_count": 18,
      "metadata": {
        "id": "vYSjYIlSwBie"
      },
      "outputs": [],
      "source": [
        "balance_label = [np.ones(1066),\n",
        "                 np.zeros(1066), \n",
        "                 np.ones(1066), \n",
        "                np.zeros(1066)]"
      ]
    },
    {
      "cell_type": "code",
      "execution_count": 19,
      "metadata": {
        "id": "XTOECZwcwD-H"
      },
      "outputs": [],
      "source": [
        "balance_label = [item for sublist in balance_label for item in sublist]"
      ]
    },
    {
      "cell_type": "code",
      "execution_count": 20,
      "metadata": {
        "id": "9LTEzJ6jwEEP"
      },
      "outputs": [],
      "source": [
        "balanced_p1 = pd.DataFrame({'T1': list(balance_T1['Generation']), 'T2': list(balance_T2['Generation']), 'class': balance_label})"
      ]
    },
    {
      "cell_type": "code",
      "execution_count": 21,
      "metadata": {
        "id": "iL0FqOZTwJ74"
      },
      "outputs": [],
      "source": [
        "balanced_p1.to_csv('balanced_p1.csv')"
      ]
    },
    {
      "attachments": {},
      "cell_type": "markdown",
      "metadata": {
        "id": "MWwVI5jkh9Ij"
      },
      "source": [
        "#LSTM"
      ]
    },
    {
      "cell_type": "code",
      "execution_count": 22,
      "metadata": {
        "id": "4HaqELrMFZtS"
      },
      "outputs": [],
      "source": [
        "from sklearn.model_selection import train_test_split\n",
        "X_train, X_test, y_train, y_test = train_test_split(balanced_p1['T1']+ balanced_p1['T2'], balanced_p1['class'], test_size=0.2, random_state=42)"
      ]
    },
    {
      "cell_type": "code",
      "execution_count": null,
      "metadata": {
        "colab": {
          "base_uri": "https://localhost:8080/"
        },
        "id": "bCUjdfrsiBsn",
        "outputId": "f94d90ed-db73-4a8b-d639-e73a0210cce4"
      },
      "outputs": [
        {
          "name": "stdout",
          "output_type": "stream",
          "text": [
            "Model: \"sequential\"\n",
            "_________________________________________________________________\n",
            " Layer (type)                Output Shape              Param #   \n",
            "=================================================================\n",
            " embedding (Embedding)       (None, 14105, 32)         1732160   \n",
            "                                                                 \n",
            " simple_rnn (SimpleRNN)      (None, 14105, 128)        20608     \n",
            "                                                                 \n",
            " dropout (Dropout)           (None, 14105, 128)        0         \n",
            "                                                                 \n",
            " simple_rnn_1 (SimpleRNN)    (None, 64)                12352     \n",
            "                                                                 \n",
            " dropout_1 (Dropout)         (None, 64)                0         \n",
            "                                                                 \n",
            " dense (Dense)               (None, 32)                2080      \n",
            "                                                                 \n",
            " dense_1 (Dense)             (None, 1)                 33        \n",
            "                                                                 \n",
            "=================================================================\n",
            "Total params: 1,767,233\n",
            "Trainable params: 1,767,233\n",
            "Non-trainable params: 0\n",
            "_________________________________________________________________\n",
            " 9/86 [==>...........................] - ETA: 59:14 - loss: 0.7001 - accuracy: 0.4792  "
          ]
        }
      ],
      "source": [
        "import numpy as np\n",
        "import pandas as pd\n",
        "from tensorflow.keras.preprocessing.text import Tokenizer\n",
        "from tensorflow.keras.preprocessing.sequence import pad_sequences\n",
        "from tensorflow.keras.models import Sequential\n",
        "from tensorflow.keras.layers import Bidirectional, Embedding, SimpleRNN, Dense, Dropout\n",
        "\n",
        "# tokenization and padding\n",
        "tokenizer = Tokenizer()\n",
        "tokenizer.fit_on_texts(X_train)\n",
        "X_train_seq = tokenizer.texts_to_sequences(X_train)\n",
        "X_test_seq = tokenizer.texts_to_sequences(X_test)\n",
        "max_length = max([len(seq) for seq in X_train_seq])\n",
        "max_length = max([len(seq) for seq in X_test_seq])\n",
        "X_train_padded = pad_sequences(X_train_seq, maxlen=max_length, padding='post')\n",
        "X_test_padded = pad_sequences(X_test_seq, maxlen=max_length, padding='post')\n",
        "\n",
        "# LSTM model\n",
        "model = Sequential()\n",
        "model.add(Embedding(input_dim=len(tokenizer.word_index)+1, output_dim=32, input_length=max_length))\n",
        "model.add(SimpleRNN(64, return_sequences=True))\n",
        "model.add(Dropout(0.2))\n",
        "model.add(SimpleRNN(32))\n",
        "model.add(Dropout(0.2))\n",
        "model.add(Dense(32, activation='relu'))\n",
        "model.add(Dense(2, activation='sigmoid'))\n",
        "model.compile(optimizer='adam', loss='sparse_categorical_crossentropy', metrics=['accuracy'])\n",
        "model.summary()\n",
        "\n",
        "# train the model\n",
        "model.fit(X_train_padded, y_train, epochs=10, batch_size=32)\n"
      ]
    },
    {
      "cell_type": "code",
      "execution_count": null,
      "metadata": {
        "id": "gOnaFT0AFC38"
      },
      "outputs": [],
      "source": [
        "tokenizer.fit_on_texts(X_test)\n",
        "loss, acc = model.evaluate(X_test_padded, y_test)"
      ]
    },
    {
      "cell_type": "code",
      "execution_count": null,
      "metadata": {
        "id": "1Vf_Ej8dFWpg"
      },
      "outputs": [],
      "source": [
        "preds = model.predict(X_test_padded)"
      ]
    },
    {
      "cell_type": "code",
      "execution_count": null,
      "metadata": {},
      "outputs": [],
      "source": [
        "preds_new = []\n",
        "for i in preds:\n",
        "  if(i[0]>i[1]):\n",
        "    preds_new.append(0.0)\n",
        "  else:\n",
        "    preds_new.append(1.0)"
      ]
    },
    {
      "cell_type": "code",
      "execution_count": null,
      "metadata": {},
      "outputs": [],
      "source": [
        "y_test_array = np.array(y_test)\n",
        "y_test_array[1]"
      ]
    },
    {
      "cell_type": "code",
      "execution_count": null,
      "metadata": {},
      "outputs": [],
      "source": [
        "from sklearn.metrics import f1_score,precision_score, recall_score, accuracy_score\n",
        "f1 = f1_score(y_test, preds_new)\n",
        "print(\"F1 score = \",f1)\n",
        "precision = precision_score(y_test, preds_new)\n",
        "recall = recall_score(y_test, preds_new)\n",
        "print(\"Precision = \", precision)\n",
        "print(\"Recall = \", recall)\n",
        "print(\"Accuracy = \", accuracy_score(y_test, preds_new))"
      ]
    }
  ],
  "metadata": {
    "accelerator": "GPU",
    "colab": {
      "machine_shape": "hm",
      "provenance": []
    },
    "gpuClass": "premium",
    "kernelspec": {
      "display_name": "Python 3",
      "name": "python3"
    },
    "language_info": {
      "name": "python"
    }
  },
  "nbformat": 4,
  "nbformat_minor": 0
}
